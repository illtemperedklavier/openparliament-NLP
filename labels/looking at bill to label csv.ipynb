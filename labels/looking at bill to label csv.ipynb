{
 "cells": [
  {
   "cell_type": "code",
   "execution_count": 1,
   "metadata": {},
   "outputs": [],
   "source": [
    "import pandas as pd"
   ]
  },
  {
   "cell_type": "code",
   "execution_count": 2,
   "metadata": {},
   "outputs": [],
   "source": [
    "%config Completer.use_jedi = False "
   ]
  },
  {
   "cell_type": "code",
   "execution_count": 19,
   "metadata": {},
   "outputs": [],
   "source": [
    "df = pd.read_csv(r\"D:\\data\\openparliament\\statement_id2result.csv\", header=0)"
   ]
  },
  {
   "cell_type": "code",
   "execution_count": 20,
   "metadata": {},
   "outputs": [
    {
     "data": {
      "text/html": [
       "<div>\n",
       "<style scoped>\n",
       "    .dataframe tbody tr th:only-of-type {\n",
       "        vertical-align: middle;\n",
       "    }\n",
       "\n",
       "    .dataframe tbody tr th {\n",
       "        vertical-align: top;\n",
       "    }\n",
       "\n",
       "    .dataframe thead th {\n",
       "        text-align: right;\n",
       "    }\n",
       "</style>\n",
       "<table border=\"1\" class=\"dataframe\">\n",
       "  <thead>\n",
       "    <tr style=\"text-align: right;\">\n",
       "      <th></th>\n",
       "      <th>statement_id</th>\n",
       "      <th>result</th>\n",
       "    </tr>\n",
       "  </thead>\n",
       "  <tbody>\n",
       "    <tr>\n",
       "      <th>0</th>\n",
       "      <td>582228</td>\n",
       "      <td>Y</td>\n",
       "    </tr>\n",
       "    <tr>\n",
       "      <th>1</th>\n",
       "      <td>582228</td>\n",
       "      <td>Y</td>\n",
       "    </tr>\n",
       "    <tr>\n",
       "      <th>2</th>\n",
       "      <td>582228</td>\n",
       "      <td>Y</td>\n",
       "    </tr>\n",
       "    <tr>\n",
       "      <th>3</th>\n",
       "      <td>582228</td>\n",
       "      <td>Y</td>\n",
       "    </tr>\n",
       "    <tr>\n",
       "      <th>4</th>\n",
       "      <td>582228</td>\n",
       "      <td>Y</td>\n",
       "    </tr>\n",
       "  </tbody>\n",
       "</table>\n",
       "</div>"
      ],
      "text/plain": [
       "   statement_id result\n",
       "0        582228      Y\n",
       "1        582228      Y\n",
       "2        582228      Y\n",
       "3        582228      Y\n",
       "4        582228      Y"
      ]
     },
     "execution_count": 20,
     "metadata": {},
     "output_type": "execute_result"
    }
   ],
   "source": [
    "df.head()"
   ]
  },
  {
   "cell_type": "code",
   "execution_count": 5,
   "metadata": {},
   "outputs": [
    {
     "name": "stderr",
     "output_type": "stream",
     "text": [
      "C:\\Users\\alecr\\Anaconda3\\envs\\gensim_env\\lib\\site-packages\\IPython\\core\\interactiveshell.py:3072: DtypeWarning: Columns (2,3,4,8,9,10) have mixed types.Specify dtype option on import or set low_memory=False.\n",
      "  interactivity=interactivity, compiler=compiler, result=result)\n"
     ]
    },
    {
     "data": {
      "text/html": [
       "<div>\n",
       "<style scoped>\n",
       "    .dataframe tbody tr th:only-of-type {\n",
       "        vertical-align: middle;\n",
       "    }\n",
       "\n",
       "    .dataframe tbody tr th {\n",
       "        vertical-align: top;\n",
       "    }\n",
       "\n",
       "    .dataframe thead th {\n",
       "        text-align: right;\n",
       "    }\n",
       "</style>\n",
       "<table border=\"1\" class=\"dataframe\">\n",
       "  <thead>\n",
       "    <tr style=\"text-align: right;\">\n",
       "      <th></th>\n",
       "      <th>0</th>\n",
       "      <th>1</th>\n",
       "      <th>2</th>\n",
       "      <th>3</th>\n",
       "      <th>4</th>\n",
       "      <th>5</th>\n",
       "      <th>6</th>\n",
       "      <th>7</th>\n",
       "      <th>8</th>\n",
       "      <th>9</th>\n",
       "      <th>10</th>\n",
       "    </tr>\n",
       "  </thead>\n",
       "  <tbody>\n",
       "    <tr>\n",
       "      <th>0</th>\n",
       "      <td>time</td>\n",
       "      <td>content_en</td>\n",
       "      <td>speaking_pid</td>\n",
       "      <td>bill_id</td>\n",
       "      <td>statement_id</td>\n",
       "      <td>speech_date</td>\n",
       "      <td>result</td>\n",
       "      <td>date</td>\n",
       "      <td>votequestion_id</td>\n",
       "      <td>yea_total</td>\n",
       "      <td>nay_total</td>\n",
       "    </tr>\n",
       "    <tr>\n",
       "      <th>1</th>\n",
       "      <td>2012-05-30 19:15:00-04</td>\n",
       "      <td>&lt;p data-HoCid=\"2922210\" data-originallang=\"fr\"...</td>\n",
       "      <td>NaN</td>\n",
       "      <td>6546</td>\n",
       "      <td>1692028</td>\n",
       "      <td>2012-06-13</td>\n",
       "      <td>N</td>\n",
       "      <td>2012-06-13</td>\n",
       "      <td>1507</td>\n",
       "      <td>93</td>\n",
       "      <td>131</td>\n",
       "    </tr>\n",
       "    <tr>\n",
       "      <th>2</th>\n",
       "      <td>2012-05-30 19:15:00-04</td>\n",
       "      <td>&lt;p data-HoCid=\"2922210\" data-originallang=\"fr\"...</td>\n",
       "      <td>NaN</td>\n",
       "      <td>6546</td>\n",
       "      <td>1692028</td>\n",
       "      <td>2012-06-13</td>\n",
       "      <td>N</td>\n",
       "      <td>2012-06-13</td>\n",
       "      <td>1506</td>\n",
       "      <td>93</td>\n",
       "      <td>142</td>\n",
       "    </tr>\n",
       "    <tr>\n",
       "      <th>3</th>\n",
       "      <td>2012-05-30 19:15:00-04</td>\n",
       "      <td>&lt;p data-HoCid=\"2922210\" data-originallang=\"fr\"...</td>\n",
       "      <td>NaN</td>\n",
       "      <td>6546</td>\n",
       "      <td>1692028</td>\n",
       "      <td>2012-06-13</td>\n",
       "      <td>N</td>\n",
       "      <td>2012-06-13</td>\n",
       "      <td>1505</td>\n",
       "      <td>29</td>\n",
       "      <td>206</td>\n",
       "    </tr>\n",
       "    <tr>\n",
       "      <th>4</th>\n",
       "      <td>2012-05-30 19:15:00-04</td>\n",
       "      <td>&lt;p data-HoCid=\"2922210\" data-originallang=\"fr\"...</td>\n",
       "      <td>NaN</td>\n",
       "      <td>6546</td>\n",
       "      <td>1692028</td>\n",
       "      <td>2012-06-13</td>\n",
       "      <td>N</td>\n",
       "      <td>2012-06-13</td>\n",
       "      <td>1504</td>\n",
       "      <td>114</td>\n",
       "      <td>142</td>\n",
       "    </tr>\n",
       "  </tbody>\n",
       "</table>\n",
       "</div>"
      ],
      "text/plain": [
       "                       0                                                  1   \\\n",
       "0                    time                                         content_en   \n",
       "1  2012-05-30 19:15:00-04  <p data-HoCid=\"2922210\" data-originallang=\"fr\"...   \n",
       "2  2012-05-30 19:15:00-04  <p data-HoCid=\"2922210\" data-originallang=\"fr\"...   \n",
       "3  2012-05-30 19:15:00-04  <p data-HoCid=\"2922210\" data-originallang=\"fr\"...   \n",
       "4  2012-05-30 19:15:00-04  <p data-HoCid=\"2922210\" data-originallang=\"fr\"...   \n",
       "\n",
       "             2        3             4            5       6           7   \\\n",
       "0  speaking_pid  bill_id  statement_id  speech_date  result        date   \n",
       "1           NaN     6546       1692028   2012-06-13       N  2012-06-13   \n",
       "2           NaN     6546       1692028   2012-06-13       N  2012-06-13   \n",
       "3           NaN     6546       1692028   2012-06-13       N  2012-06-13   \n",
       "4           NaN     6546       1692028   2012-06-13       N  2012-06-13   \n",
       "\n",
       "                8          9          10  \n",
       "0  votequestion_id  yea_total  nay_total  \n",
       "1             1507         93        131  \n",
       "2             1506         93        142  \n",
       "3             1505         29        206  \n",
       "4             1504        114        142  "
      ]
     },
     "execution_count": 5,
     "metadata": {},
     "output_type": "execute_result"
    }
   ],
   "source": [
    "df2 = pd.read_csv(r\"D:\\data\\openparliament\\statement_id2vote_result.csv\", header=None)\n",
    "df2.head()"
   ]
  },
  {
   "cell_type": "code",
   "execution_count": 5,
   "metadata": {},
   "outputs": [
    {
     "name": "stderr",
     "output_type": "stream",
     "text": [
      "C:\\Users\\alecr\\Anaconda3\\envs\\gensim_env\\lib\\site-packages\\IPython\\core\\interactiveshell.py:3072: DtypeWarning: Columns (20,23,28,29,30,31,32,33) have mixed types.Specify dtype option on import or set low_memory=False.\n",
      "  interactivity=interactivity, compiler=compiler, result=result)\n"
     ]
    },
    {
     "data": {
      "text/plain": [
       "Index(['Unnamed: 0', 'id', 'politician_id', 'riding_id', 'party_id',\n",
       "       'end_date', 'start_date', 'id.1', 'document_id', 'time', 'h1_en',\n",
       "       'h2_en', 'member_id', 'who_en', 'content_en', 'sequence_en',\n",
       "       'wordcount', 'politician_id.1', 'procedural', 'h3_en', 'who_hocid',\n",
       "       'content_fr', 'statement_type', 'written_question', 'source_id',\n",
       "       'who_context_en', 'slug', 'urlcache', 'h1_fr', 'h2_fr', 'h3_fr',\n",
       "       'who_fr', 'who_context_fr', 'wordcount_en', 'tokenized_content',\n",
       "       'slug_length'],\n",
       "      dtype='object')"
      ]
     },
     "execution_count": 5,
     "metadata": {},
     "output_type": "execute_result"
    }
   ],
   "source": [
    "df_full = pd.read_csv(r\"D:\\data\\openparliament\\statements_nospeaker_en.csv\", header=0)\n",
    "df_full.columns"
   ]
  },
  {
   "cell_type": "code",
   "execution_count": 15,
   "metadata": {},
   "outputs": [],
   "source": [
    "df_full.rename({'id.1': 'statement_id'},inplace=True, axis=1)"
   ]
  },
  {
   "cell_type": "code",
   "execution_count": 18,
   "metadata": {},
   "outputs": [
    {
     "data": {
      "text/plain": [
       "0          232373\n",
       "1          232373\n",
       "2          645329\n",
       "3          645329\n",
       "4          313253\n",
       "           ...   \n",
       "861393    2917791\n",
       "861394    2917792\n",
       "861395    2917792\n",
       "861396    2917794\n",
       "861397    2917796\n",
       "Name: statement_id, Length: 861398, dtype: int64"
      ]
     },
     "execution_count": 18,
     "metadata": {},
     "output_type": "execute_result"
    }
   ],
   "source": [
    "df_full.statement_id"
   ]
  },
  {
   "cell_type": "code",
   "execution_count": 22,
   "metadata": {},
   "outputs": [],
   "source": [
    "labels = df_full.merge(df, left_on='statement_id', right_on='statement_id')"
   ]
  },
  {
   "cell_type": "code",
   "execution_count": 23,
   "metadata": {},
   "outputs": [
    {
     "data": {
      "text/plain": [
       "Index(['Unnamed: 0', 'id', 'politician_id', 'riding_id', 'party_id',\n",
       "       'end_date', 'start_date', 'statement_id', 'document_id', 'time',\n",
       "       'h1_en', 'h2_en', 'member_id', 'who_en', 'content_en', 'sequence_en',\n",
       "       'wordcount', 'politician_id.1', 'procedural', 'h3_en', 'who_hocid',\n",
       "       'content_fr', 'statement_type', 'written_question', 'source_id',\n",
       "       'who_context_en', 'slug', 'urlcache', 'h1_fr', 'h2_fr', 'h3_fr',\n",
       "       'who_fr', 'who_context_fr', 'wordcount_en', 'tokenized_content',\n",
       "       'slug_length', 'result'],\n",
       "      dtype='object')"
      ]
     },
     "execution_count": 23,
     "metadata": {},
     "output_type": "execute_result"
    }
   ],
   "source": [
    "labels.columns"
   ]
  },
  {
   "cell_type": "code",
   "execution_count": 26,
   "metadata": {},
   "outputs": [],
   "source": [
    "ndf = labels[['statement_id', 'result']]"
   ]
  },
  {
   "cell_type": "code",
   "execution_count": 30,
   "metadata": {},
   "outputs": [
    {
     "data": {
      "text/html": [
       "<div>\n",
       "<style scoped>\n",
       "    .dataframe tbody tr th:only-of-type {\n",
       "        vertical-align: middle;\n",
       "    }\n",
       "\n",
       "    .dataframe tbody tr th {\n",
       "        vertical-align: top;\n",
       "    }\n",
       "\n",
       "    .dataframe thead th {\n",
       "        text-align: right;\n",
       "    }\n",
       "</style>\n",
       "<table border=\"1\" class=\"dataframe\">\n",
       "  <thead>\n",
       "    <tr style=\"text-align: right;\">\n",
       "      <th></th>\n",
       "      <th>statement_id</th>\n",
       "      <th>result</th>\n",
       "    </tr>\n",
       "  </thead>\n",
       "  <tbody>\n",
       "    <tr>\n",
       "      <th>79</th>\n",
       "      <td>688568</td>\n",
       "      <td>N</td>\n",
       "    </tr>\n",
       "    <tr>\n",
       "      <th>82</th>\n",
       "      <td>688568</td>\n",
       "      <td>N</td>\n",
       "    </tr>\n",
       "    <tr>\n",
       "      <th>85</th>\n",
       "      <td>688568</td>\n",
       "      <td>N</td>\n",
       "    </tr>\n",
       "    <tr>\n",
       "      <th>88</th>\n",
       "      <td>688568</td>\n",
       "      <td>N</td>\n",
       "    </tr>\n",
       "    <tr>\n",
       "      <th>91</th>\n",
       "      <td>688568</td>\n",
       "      <td>N</td>\n",
       "    </tr>\n",
       "    <tr>\n",
       "      <th>...</th>\n",
       "      <td>...</td>\n",
       "      <td>...</td>\n",
       "    </tr>\n",
       "    <tr>\n",
       "      <th>14616028</th>\n",
       "      <td>2811023</td>\n",
       "      <td>N</td>\n",
       "    </tr>\n",
       "    <tr>\n",
       "      <th>14616031</th>\n",
       "      <td>2811024</td>\n",
       "      <td>N</td>\n",
       "    </tr>\n",
       "    <tr>\n",
       "      <th>14616033</th>\n",
       "      <td>2811024</td>\n",
       "      <td>N</td>\n",
       "    </tr>\n",
       "    <tr>\n",
       "      <th>14616035</th>\n",
       "      <td>2811024</td>\n",
       "      <td>N</td>\n",
       "    </tr>\n",
       "    <tr>\n",
       "      <th>14616037</th>\n",
       "      <td>2811024</td>\n",
       "      <td>N</td>\n",
       "    </tr>\n",
       "  </tbody>\n",
       "</table>\n",
       "<p>13594857 rows × 2 columns</p>\n",
       "</div>"
      ],
      "text/plain": [
       "          statement_id result\n",
       "79              688568      N\n",
       "82              688568      N\n",
       "85              688568      N\n",
       "88              688568      N\n",
       "91              688568      N\n",
       "...                ...    ...\n",
       "14616028       2811023      N\n",
       "14616031       2811024      N\n",
       "14616033       2811024      N\n",
       "14616035       2811024      N\n",
       "14616037       2811024      N\n",
       "\n",
       "[13594857 rows x 2 columns]"
      ]
     },
     "execution_count": 30,
     "metadata": {},
     "output_type": "execute_result"
    }
   ],
   "source": [
    "ndf[ndf['result'] == 'N']"
   ]
  },
  {
   "cell_type": "code",
   "execution_count": null,
   "metadata": {},
   "outputs": [],
   "source": []
  }
 ],
 "metadata": {
  "kernelspec": {
   "display_name": "Python 3",
   "language": "python",
   "name": "python3"
  },
  "language_info": {
   "codemirror_mode": {
    "name": "ipython",
    "version": 3
   },
   "file_extension": ".py",
   "mimetype": "text/x-python",
   "name": "python",
   "nbconvert_exporter": "python",
   "pygments_lexer": "ipython3",
   "version": "3.6.12"
  }
 },
 "nbformat": 4,
 "nbformat_minor": 4
}
