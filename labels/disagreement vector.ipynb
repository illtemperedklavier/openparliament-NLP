{
 "cells": [
  {
   "cell_type": "code",
   "execution_count": 2,
   "metadata": {},
   "outputs": [],
   "source": [
    "import pandas as pd"
   ]
  },
  {
   "cell_type": "code",
   "execution_count": 3,
   "metadata": {},
   "outputs": [],
   "source": [
    "%config Completer.use_jedi = False"
   ]
  },
  {
   "cell_type": "code",
   "execution_count": 4,
   "metadata": {},
   "outputs": [],
   "source": [
    "df = pd.read_csv(r\"D:\\data\\openparliament\\bills_partyvote.csv\")"
   ]
  },
  {
   "cell_type": "code",
   "execution_count": 7,
   "metadata": {},
   "outputs": [
    {
     "data": {
      "text/html": [
       "<div>\n",
       "<style scoped>\n",
       "    .dataframe tbody tr th:only-of-type {\n",
       "        vertical-align: middle;\n",
       "    }\n",
       "\n",
       "    .dataframe tbody tr th {\n",
       "        vertical-align: top;\n",
       "    }\n",
       "\n",
       "    .dataframe thead th {\n",
       "        text-align: right;\n",
       "    }\n",
       "</style>\n",
       "<table border=\"1\" class=\"dataframe\">\n",
       "  <thead>\n",
       "    <tr style=\"text-align: right;\">\n",
       "      <th></th>\n",
       "      <th>vote</th>\n",
       "      <th>party_id</th>\n",
       "      <th>votequestion_id</th>\n",
       "      <th>id</th>\n",
       "      <th>disagreement</th>\n",
       "    </tr>\n",
       "  </thead>\n",
       "  <tbody>\n",
       "    <tr>\n",
       "      <th>0</th>\n",
       "      <td>N</td>\n",
       "      <td>1</td>\n",
       "      <td>1043</td>\n",
       "      <td>3345</td>\n",
       "      <td>0.000000</td>\n",
       "    </tr>\n",
       "    <tr>\n",
       "      <th>1</th>\n",
       "      <td>F</td>\n",
       "      <td>2</td>\n",
       "      <td>1043</td>\n",
       "      <td>3346</td>\n",
       "      <td>0.400000</td>\n",
       "    </tr>\n",
       "    <tr>\n",
       "      <th>2</th>\n",
       "      <td>Y</td>\n",
       "      <td>3</td>\n",
       "      <td>1043</td>\n",
       "      <td>3347</td>\n",
       "      <td>0.000000</td>\n",
       "    </tr>\n",
       "    <tr>\n",
       "      <th>3</th>\n",
       "      <td>F</td>\n",
       "      <td>4</td>\n",
       "      <td>1043</td>\n",
       "      <td>3348</td>\n",
       "      <td>0.287879</td>\n",
       "    </tr>\n",
       "    <tr>\n",
       "      <th>4</th>\n",
       "      <td>F</td>\n",
       "      <td>1</td>\n",
       "      <td>1042</td>\n",
       "      <td>3349</td>\n",
       "      <td>0.360294</td>\n",
       "    </tr>\n",
       "  </tbody>\n",
       "</table>\n",
       "</div>"
      ],
      "text/plain": [
       "  vote  party_id  votequestion_id    id  disagreement\n",
       "0    N         1             1043  3345      0.000000\n",
       "1    F         2             1043  3346      0.400000\n",
       "2    Y         3             1043  3347      0.000000\n",
       "3    F         4             1043  3348      0.287879\n",
       "4    F         1             1042  3349      0.360294"
      ]
     },
     "execution_count": 7,
     "metadata": {},
     "output_type": "execute_result"
    }
   ],
   "source": [
    "df.head()"
   ]
  },
  {
   "cell_type": "markdown",
   "metadata": {},
   "source": [
    "create pivot table with index=votequestion_id, columns=party_id, values=disagreement"
   ]
  },
  {
   "cell_type": "code",
   "execution_count": 9,
   "metadata": {},
   "outputs": [],
   "source": [
    "disagreement_labels = df.pivot_table(index='votequestion_id', columns='party_id', values='disagreement')"
   ]
  },
  {
   "cell_type": "code",
   "execution_count": 10,
   "metadata": {},
   "outputs": [
    {
     "data": {
      "text/plain": [
       "party_id\n",
       "1     0.000000\n",
       "2     0.400000\n",
       "3     0.000000\n",
       "4     0.287879\n",
       "9          NaN\n",
       "39         NaN\n",
       "46         NaN\n",
       "Name: 1043, dtype: float64"
      ]
     },
     "execution_count": 10,
     "metadata": {},
     "output_type": "execute_result"
    }
   ],
   "source": [
    "disagreement_labels.loc[1043]"
   ]
  },
  {
   "cell_type": "code",
   "execution_count": 14,
   "metadata": {},
   "outputs": [
    {
     "data": {
      "text/plain": [
       "party_id\n",
       "1     0.003521\n",
       "2     0.002292\n",
       "3     0.000896\n",
       "4     0.006075\n",
       "9     0.003412\n",
       "39    0.000000\n",
       "46    0.001261\n",
       "dtype: float64"
      ]
     },
     "execution_count": 14,
     "metadata": {},
     "output_type": "execute_result"
    }
   ],
   "source": [
    "disagreement_labels.mean(axis=0)"
   ]
  },
  {
   "cell_type": "markdown",
   "metadata": {},
   "source": [
    "Conservatives are most likely to vote against their party at .0035 disagreement. That is still an incredibly low number, and speaks to how whipped the parties are into voting with their party's stances. "
   ]
  },
  {
   "cell_type": "code",
   "execution_count": 15,
   "metadata": {},
   "outputs": [
    {
     "data": {
      "text/plain": [
       "8864     0.5\n",
       "16630    0.5\n",
       "7493     0.5\n",
       "9272     0.5\n",
       "7328     0.5\n",
       "        ... \n",
       "11191    0.0\n",
       "11190    0.0\n",
       "11189    0.0\n",
       "11188    0.0\n",
       "0        0.0\n",
       "Name: disagreement, Length: 16771, dtype: float64"
      ]
     },
     "execution_count": 15,
     "metadata": {},
     "output_type": "execute_result"
    }
   ],
   "source": [
    "df.disagreement.sort_values(ascending=False)"
   ]
  },
  {
   "cell_type": "code",
   "execution_count": 26,
   "metadata": {},
   "outputs": [
    {
     "data": {
      "text/html": [
       "<div>\n",
       "<style scoped>\n",
       "    .dataframe tbody tr th:only-of-type {\n",
       "        vertical-align: middle;\n",
       "    }\n",
       "\n",
       "    .dataframe tbody tr th {\n",
       "        vertical-align: top;\n",
       "    }\n",
       "\n",
       "    .dataframe thead th {\n",
       "        text-align: right;\n",
       "    }\n",
       "</style>\n",
       "<table border=\"1\" class=\"dataframe\">\n",
       "  <thead>\n",
       "    <tr style=\"text-align: right;\">\n",
       "      <th></th>\n",
       "      <th>vote</th>\n",
       "      <th>party_id</th>\n",
       "      <th>votequestion_id</th>\n",
       "      <th>id</th>\n",
       "      <th>disagreement</th>\n",
       "    </tr>\n",
       "  </thead>\n",
       "  <tbody>\n",
       "    <tr>\n",
       "      <th>8232</th>\n",
       "      <td>F</td>\n",
       "      <td>4</td>\n",
       "      <td>2194</td>\n",
       "      <td>11610</td>\n",
       "      <td>0.483871</td>\n",
       "    </tr>\n",
       "    <tr>\n",
       "      <th>3085</th>\n",
       "      <td>F</td>\n",
       "      <td>4</td>\n",
       "      <td>399</td>\n",
       "      <td>4080</td>\n",
       "      <td>0.469697</td>\n",
       "    </tr>\n",
       "    <tr>\n",
       "      <th>591</th>\n",
       "      <td>F</td>\n",
       "      <td>4</td>\n",
       "      <td>806</td>\n",
       "      <td>5560</td>\n",
       "      <td>0.468085</td>\n",
       "    </tr>\n",
       "    <tr>\n",
       "      <th>9964</th>\n",
       "      <td>F</td>\n",
       "      <td>4</td>\n",
       "      <td>2507</td>\n",
       "      <td>13342</td>\n",
       "      <td>0.467456</td>\n",
       "    </tr>\n",
       "    <tr>\n",
       "      <th>10189</th>\n",
       "      <td>F</td>\n",
       "      <td>4</td>\n",
       "      <td>2552</td>\n",
       "      <td>13567</td>\n",
       "      <td>0.464706</td>\n",
       "    </tr>\n",
       "    <tr>\n",
       "      <th>...</th>\n",
       "      <td>...</td>\n",
       "      <td>...</td>\n",
       "      <td>...</td>\n",
       "      <td>...</td>\n",
       "      <td>...</td>\n",
       "    </tr>\n",
       "    <tr>\n",
       "      <th>5257</th>\n",
       "      <td>Y</td>\n",
       "      <td>4</td>\n",
       "      <td>1565</td>\n",
       "      <td>8607</td>\n",
       "      <td>0.000000</td>\n",
       "    </tr>\n",
       "    <tr>\n",
       "      <th>5262</th>\n",
       "      <td>Y</td>\n",
       "      <td>4</td>\n",
       "      <td>1566</td>\n",
       "      <td>8612</td>\n",
       "      <td>0.000000</td>\n",
       "    </tr>\n",
       "    <tr>\n",
       "      <th>5267</th>\n",
       "      <td>Y</td>\n",
       "      <td>4</td>\n",
       "      <td>1567</td>\n",
       "      <td>8617</td>\n",
       "      <td>0.000000</td>\n",
       "    </tr>\n",
       "    <tr>\n",
       "      <th>5277</th>\n",
       "      <td>Y</td>\n",
       "      <td>4</td>\n",
       "      <td>1569</td>\n",
       "      <td>8627</td>\n",
       "      <td>0.000000</td>\n",
       "    </tr>\n",
       "    <tr>\n",
       "      <th>16769</th>\n",
       "      <td>Y</td>\n",
       "      <td>4</td>\n",
       "      <td>3890</td>\n",
       "      <td>20152</td>\n",
       "      <td>0.000000</td>\n",
       "    </tr>\n",
       "  </tbody>\n",
       "</table>\n",
       "<p>3374 rows × 5 columns</p>\n",
       "</div>"
      ],
      "text/plain": [
       "      vote  party_id  votequestion_id     id  disagreement\n",
       "8232     F         4             2194  11610      0.483871\n",
       "3085     F         4              399   4080      0.469697\n",
       "591      F         4              806   5560      0.468085\n",
       "9964     F         4             2507  13342      0.467456\n",
       "10189    F         4             2552  13567      0.464706\n",
       "...    ...       ...              ...    ...           ...\n",
       "5257     Y         4             1565   8607      0.000000\n",
       "5262     Y         4             1566   8612      0.000000\n",
       "5267     Y         4             1567   8617      0.000000\n",
       "5277     Y         4             1569   8627      0.000000\n",
       "16769    Y         4             3890  20152      0.000000\n",
       "\n",
       "[3374 rows x 5 columns]"
      ]
     },
     "execution_count": 26,
     "metadata": {},
     "output_type": "execute_result"
    }
   ],
   "source": [
    "df[df.party_id == 4].sort_values(by='disagreement', ascending=False)"
   ]
  },
  {
   "cell_type": "code",
   "execution_count": 20,
   "metadata": {},
   "outputs": [
    {
     "data": {
      "text/plain": [
       "(155, 5)"
      ]
     },
     "execution_count": 20,
     "metadata": {},
     "output_type": "execute_result"
    }
   ],
   "source": [
    "df[df.disagreement>0.1].shape"
   ]
  },
  {
   "cell_type": "code",
   "execution_count": 21,
   "metadata": {},
   "outputs": [
    {
     "data": {
      "text/plain": [
       "(16771, 5)"
      ]
     },
     "execution_count": 21,
     "metadata": {},
     "output_type": "execute_result"
    }
   ],
   "source": [
    "df.shape"
   ]
  },
  {
   "cell_type": "code",
   "execution_count": 22,
   "metadata": {},
   "outputs": [
    {
     "data": {
      "text/plain": [
       "0.009242144177449169"
      ]
     },
     "execution_count": 22,
     "metadata": {},
     "output_type": "execute_result"
    }
   ],
   "source": [
    "155/16771"
   ]
  },
  {
   "cell_type": "markdown",
   "metadata": {},
   "source": [
    "Less than 1% of the party votes since Jan 1st 2000 have had any disagreement between party members in a vote relative to the party's position. This is staggering to me, and the dispiriting implications of this are that nobody's mind can be changed from that of the party whip. "
   ]
  },
  {
   "cell_type": "code",
   "execution_count": 23,
   "metadata": {},
   "outputs": [
    {
     "data": {
      "text/html": [
       "<div>\n",
       "<style scoped>\n",
       "    .dataframe tbody tr th:only-of-type {\n",
       "        vertical-align: middle;\n",
       "    }\n",
       "\n",
       "    .dataframe tbody tr th {\n",
       "        vertical-align: top;\n",
       "    }\n",
       "\n",
       "    .dataframe thead th {\n",
       "        text-align: right;\n",
       "    }\n",
       "</style>\n",
       "<table border=\"1\" class=\"dataframe\">\n",
       "  <thead>\n",
       "    <tr style=\"text-align: right;\">\n",
       "      <th></th>\n",
       "      <th>vote</th>\n",
       "      <th>party_id</th>\n",
       "      <th>votequestion_id</th>\n",
       "      <th>id</th>\n",
       "      <th>disagreement</th>\n",
       "    </tr>\n",
       "  </thead>\n",
       "  <tbody>\n",
       "    <tr>\n",
       "      <th>0</th>\n",
       "      <td>N</td>\n",
       "      <td>1</td>\n",
       "      <td>1043</td>\n",
       "      <td>3345</td>\n",
       "      <td>0.000000</td>\n",
       "    </tr>\n",
       "    <tr>\n",
       "      <th>1</th>\n",
       "      <td>F</td>\n",
       "      <td>2</td>\n",
       "      <td>1043</td>\n",
       "      <td>3346</td>\n",
       "      <td>0.400000</td>\n",
       "    </tr>\n",
       "    <tr>\n",
       "      <th>2</th>\n",
       "      <td>Y</td>\n",
       "      <td>3</td>\n",
       "      <td>1043</td>\n",
       "      <td>3347</td>\n",
       "      <td>0.000000</td>\n",
       "    </tr>\n",
       "    <tr>\n",
       "      <th>3</th>\n",
       "      <td>F</td>\n",
       "      <td>4</td>\n",
       "      <td>1043</td>\n",
       "      <td>3348</td>\n",
       "      <td>0.287879</td>\n",
       "    </tr>\n",
       "    <tr>\n",
       "      <th>4</th>\n",
       "      <td>F</td>\n",
       "      <td>1</td>\n",
       "      <td>1042</td>\n",
       "      <td>3349</td>\n",
       "      <td>0.360294</td>\n",
       "    </tr>\n",
       "  </tbody>\n",
       "</table>\n",
       "</div>"
      ],
      "text/plain": [
       "  vote  party_id  votequestion_id    id  disagreement\n",
       "0    N         1             1043  3345      0.000000\n",
       "1    F         2             1043  3346      0.400000\n",
       "2    Y         3             1043  3347      0.000000\n",
       "3    F         4             1043  3348      0.287879\n",
       "4    F         1             1042  3349      0.360294"
      ]
     },
     "execution_count": 23,
     "metadata": {},
     "output_type": "execute_result"
    }
   ],
   "source": [
    "df.head()"
   ]
  },
  {
   "cell_type": "code",
   "execution_count": 31,
   "metadata": {},
   "outputs": [],
   "source": [
    "disagreed_votes = df[df.disagreement>0.05]"
   ]
  },
  {
   "cell_type": "code",
   "execution_count": 33,
   "metadata": {},
   "outputs": [
    {
     "data": {
      "text/html": [
       "<div>\n",
       "<style scoped>\n",
       "    .dataframe tbody tr th:only-of-type {\n",
       "        vertical-align: middle;\n",
       "    }\n",
       "\n",
       "    .dataframe tbody tr th {\n",
       "        vertical-align: top;\n",
       "    }\n",
       "\n",
       "    .dataframe thead th {\n",
       "        text-align: right;\n",
       "    }\n",
       "</style>\n",
       "<table border=\"1\" class=\"dataframe\">\n",
       "  <thead>\n",
       "    <tr style=\"text-align: right;\">\n",
       "      <th>party_id</th>\n",
       "      <th>1</th>\n",
       "      <th>2</th>\n",
       "      <th>3</th>\n",
       "      <th>4</th>\n",
       "      <th>9</th>\n",
       "      <th>46</th>\n",
       "    </tr>\n",
       "  </thead>\n",
       "  <tbody>\n",
       "    <tr>\n",
       "      <th>disagreement</th>\n",
       "      <td>62</td>\n",
       "      <td>35</td>\n",
       "      <td>10</td>\n",
       "      <td>83</td>\n",
       "      <td>18</td>\n",
       "      <td>2</td>\n",
       "    </tr>\n",
       "  </tbody>\n",
       "</table>\n",
       "</div>"
      ],
      "text/plain": [
       "party_id      1   2   3   4   9   46\n",
       "disagreement  62  35  10  83  18   2"
      ]
     },
     "execution_count": 33,
     "metadata": {},
     "output_type": "execute_result"
    }
   ],
   "source": [
    "disagreed_votes.pivot_table(columns='party_id', values='disagreement',aggfunc='count')"
   ]
  },
  {
   "cell_type": "code",
   "execution_count": null,
   "metadata": {},
   "outputs": [],
   "source": []
  }
 ],
 "metadata": {
  "kernelspec": {
   "display_name": "Python 3",
   "language": "python",
   "name": "python3"
  },
  "language_info": {
   "codemirror_mode": {
    "name": "ipython",
    "version": 3
   },
   "file_extension": ".py",
   "mimetype": "text/x-python",
   "name": "python",
   "nbconvert_exporter": "python",
   "pygments_lexer": "ipython3",
   "version": "3.6.12"
  }
 },
 "nbformat": 4,
 "nbformat_minor": 4
}
