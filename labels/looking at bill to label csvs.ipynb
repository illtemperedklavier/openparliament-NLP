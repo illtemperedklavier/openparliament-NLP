{
 "cells": [
  {
   "cell_type": "code",
   "execution_count": 1,
   "metadata": {},
   "outputs": [],
   "source": [
    "import pandas as pd"
   ]
  },
  {
   "cell_type": "code",
   "execution_count": 2,
   "metadata": {},
   "outputs": [],
   "source": [
    "%config Completer.use_jedi = False "
   ]
  },
  {
   "cell_type": "code",
   "execution_count": 3,
   "metadata": {},
   "outputs": [
    {
     "name": "stderr",
     "output_type": "stream",
     "text": [
      "C:\\Users\\alecr\\Anaconda3\\envs\\gensim_env\\lib\\site-packages\\IPython\\core\\interactiveshell.py:3072: DtypeWarning: Columns (0) have mixed types.Specify dtype option on import or set low_memory=False.\n",
      "  interactivity=interactivity, compiler=compiler, result=result)\n"
     ]
    }
   ],
   "source": [
    "df = pd.read_csv(r\"D:\\data\\openparliament\\statement_id2result.csv\", header=None)"
   ]
  },
  {
   "cell_type": "code",
   "execution_count": 4,
   "metadata": {},
   "outputs": [
    {
     "data": {
      "text/html": [
       "<div>\n",
       "<style scoped>\n",
       "    .dataframe tbody tr th:only-of-type {\n",
       "        vertical-align: middle;\n",
       "    }\n",
       "\n",
       "    .dataframe tbody tr th {\n",
       "        vertical-align: top;\n",
       "    }\n",
       "\n",
       "    .dataframe thead th {\n",
       "        text-align: right;\n",
       "    }\n",
       "</style>\n",
       "<table border=\"1\" class=\"dataframe\">\n",
       "  <thead>\n",
       "    <tr style=\"text-align: right;\">\n",
       "      <th></th>\n",
       "      <th>0</th>\n",
       "      <th>1</th>\n",
       "    </tr>\n",
       "  </thead>\n",
       "  <tbody>\n",
       "    <tr>\n",
       "      <th>0</th>\n",
       "      <td>statement_id</td>\n",
       "      <td>result</td>\n",
       "    </tr>\n",
       "    <tr>\n",
       "      <th>1</th>\n",
       "      <td>582228</td>\n",
       "      <td>Y</td>\n",
       "    </tr>\n",
       "    <tr>\n",
       "      <th>2</th>\n",
       "      <td>582228</td>\n",
       "      <td>Y</td>\n",
       "    </tr>\n",
       "    <tr>\n",
       "      <th>3</th>\n",
       "      <td>582228</td>\n",
       "      <td>Y</td>\n",
       "    </tr>\n",
       "    <tr>\n",
       "      <th>4</th>\n",
       "      <td>582228</td>\n",
       "      <td>Y</td>\n",
       "    </tr>\n",
       "  </tbody>\n",
       "</table>\n",
       "</div>"
      ],
      "text/plain": [
       "              0       1\n",
       "0  statement_id  result\n",
       "1        582228       Y\n",
       "2        582228       Y\n",
       "3        582228       Y\n",
       "4        582228       Y"
      ]
     },
     "execution_count": 4,
     "metadata": {},
     "output_type": "execute_result"
    }
   ],
   "source": [
    "df.head()"
   ]
  },
  {
   "cell_type": "code",
   "execution_count": 5,
   "metadata": {},
   "outputs": [
    {
     "name": "stderr",
     "output_type": "stream",
     "text": [
      "C:\\Users\\alecr\\Anaconda3\\envs\\gensim_env\\lib\\site-packages\\IPython\\core\\interactiveshell.py:3072: DtypeWarning: Columns (2,3,4,8,9,10) have mixed types.Specify dtype option on import or set low_memory=False.\n",
      "  interactivity=interactivity, compiler=compiler, result=result)\n"
     ]
    },
    {
     "data": {
      "text/html": [
       "<div>\n",
       "<style scoped>\n",
       "    .dataframe tbody tr th:only-of-type {\n",
       "        vertical-align: middle;\n",
       "    }\n",
       "\n",
       "    .dataframe tbody tr th {\n",
       "        vertical-align: top;\n",
       "    }\n",
       "\n",
       "    .dataframe thead th {\n",
       "        text-align: right;\n",
       "    }\n",
       "</style>\n",
       "<table border=\"1\" class=\"dataframe\">\n",
       "  <thead>\n",
       "    <tr style=\"text-align: right;\">\n",
       "      <th></th>\n",
       "      <th>0</th>\n",
       "      <th>1</th>\n",
       "      <th>2</th>\n",
       "      <th>3</th>\n",
       "      <th>4</th>\n",
       "      <th>5</th>\n",
       "      <th>6</th>\n",
       "      <th>7</th>\n",
       "      <th>8</th>\n",
       "      <th>9</th>\n",
       "      <th>10</th>\n",
       "    </tr>\n",
       "  </thead>\n",
       "  <tbody>\n",
       "    <tr>\n",
       "      <th>0</th>\n",
       "      <td>time</td>\n",
       "      <td>content_en</td>\n",
       "      <td>speaking_pid</td>\n",
       "      <td>bill_id</td>\n",
       "      <td>statement_id</td>\n",
       "      <td>speech_date</td>\n",
       "      <td>result</td>\n",
       "      <td>date</td>\n",
       "      <td>votequestion_id</td>\n",
       "      <td>yea_total</td>\n",
       "      <td>nay_total</td>\n",
       "    </tr>\n",
       "    <tr>\n",
       "      <th>1</th>\n",
       "      <td>2012-05-30 19:15:00-04</td>\n",
       "      <td>&lt;p data-HoCid=\"2922210\" data-originallang=\"fr\"...</td>\n",
       "      <td>NaN</td>\n",
       "      <td>6546</td>\n",
       "      <td>1692028</td>\n",
       "      <td>2012-06-13</td>\n",
       "      <td>N</td>\n",
       "      <td>2012-06-13</td>\n",
       "      <td>1507</td>\n",
       "      <td>93</td>\n",
       "      <td>131</td>\n",
       "    </tr>\n",
       "    <tr>\n",
       "      <th>2</th>\n",
       "      <td>2012-05-30 19:15:00-04</td>\n",
       "      <td>&lt;p data-HoCid=\"2922210\" data-originallang=\"fr\"...</td>\n",
       "      <td>NaN</td>\n",
       "      <td>6546</td>\n",
       "      <td>1692028</td>\n",
       "      <td>2012-06-13</td>\n",
       "      <td>N</td>\n",
       "      <td>2012-06-13</td>\n",
       "      <td>1506</td>\n",
       "      <td>93</td>\n",
       "      <td>142</td>\n",
       "    </tr>\n",
       "    <tr>\n",
       "      <th>3</th>\n",
       "      <td>2012-05-30 19:15:00-04</td>\n",
       "      <td>&lt;p data-HoCid=\"2922210\" data-originallang=\"fr\"...</td>\n",
       "      <td>NaN</td>\n",
       "      <td>6546</td>\n",
       "      <td>1692028</td>\n",
       "      <td>2012-06-13</td>\n",
       "      <td>N</td>\n",
       "      <td>2012-06-13</td>\n",
       "      <td>1505</td>\n",
       "      <td>29</td>\n",
       "      <td>206</td>\n",
       "    </tr>\n",
       "    <tr>\n",
       "      <th>4</th>\n",
       "      <td>2012-05-30 19:15:00-04</td>\n",
       "      <td>&lt;p data-HoCid=\"2922210\" data-originallang=\"fr\"...</td>\n",
       "      <td>NaN</td>\n",
       "      <td>6546</td>\n",
       "      <td>1692028</td>\n",
       "      <td>2012-06-13</td>\n",
       "      <td>N</td>\n",
       "      <td>2012-06-13</td>\n",
       "      <td>1504</td>\n",
       "      <td>114</td>\n",
       "      <td>142</td>\n",
       "    </tr>\n",
       "  </tbody>\n",
       "</table>\n",
       "</div>"
      ],
      "text/plain": [
       "                       0                                                  1   \\\n",
       "0                    time                                         content_en   \n",
       "1  2012-05-30 19:15:00-04  <p data-HoCid=\"2922210\" data-originallang=\"fr\"...   \n",
       "2  2012-05-30 19:15:00-04  <p data-HoCid=\"2922210\" data-originallang=\"fr\"...   \n",
       "3  2012-05-30 19:15:00-04  <p data-HoCid=\"2922210\" data-originallang=\"fr\"...   \n",
       "4  2012-05-30 19:15:00-04  <p data-HoCid=\"2922210\" data-originallang=\"fr\"...   \n",
       "\n",
       "             2        3             4            5       6           7   \\\n",
       "0  speaking_pid  bill_id  statement_id  speech_date  result        date   \n",
       "1           NaN     6546       1692028   2012-06-13       N  2012-06-13   \n",
       "2           NaN     6546       1692028   2012-06-13       N  2012-06-13   \n",
       "3           NaN     6546       1692028   2012-06-13       N  2012-06-13   \n",
       "4           NaN     6546       1692028   2012-06-13       N  2012-06-13   \n",
       "\n",
       "                8          9          10  \n",
       "0  votequestion_id  yea_total  nay_total  \n",
       "1             1507         93        131  \n",
       "2             1506         93        142  \n",
       "3             1505         29        206  \n",
       "4             1504        114        142  "
      ]
     },
     "execution_count": 5,
     "metadata": {},
     "output_type": "execute_result"
    }
   ],
   "source": [
    "df2 = pd.read_csv(r\"D:\\data\\openparliament\\statement_id2vote_result.csv\", header=None)\n",
    "df2.head()"
   ]
  },
  {
   "cell_type": "code",
   "execution_count": null,
   "metadata": {},
   "outputs": [],
   "source": []
  }
 ],
 "metadata": {
  "kernelspec": {
   "display_name": "Python 3",
   "language": "python",
   "name": "python3"
  },
  "language_info": {
   "codemirror_mode": {
    "name": "ipython",
    "version": 3
   },
   "file_extension": ".py",
   "mimetype": "text/x-python",
   "name": "python",
   "nbconvert_exporter": "python",
   "pygments_lexer": "ipython3",
   "version": "3.6.12"
  }
 },
 "nbformat": 4,
 "nbformat_minor": 4
}
