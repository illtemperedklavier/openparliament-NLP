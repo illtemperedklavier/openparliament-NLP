{
 "cells": [
  {
   "cell_type": "code",
   "execution_count": 4,
   "metadata": {},
   "outputs": [],
   "source": [
    "import pandas as pd\n",
    "import nltk"
   ]
  },
  {
   "cell_type": "code",
   "execution_count": 8,
   "metadata": {},
   "outputs": [],
   "source": [
    "import numpy as np"
   ]
  },
  {
   "cell_type": "code",
   "execution_count": 2,
   "metadata": {},
   "outputs": [],
   "source": [
    "column_names = ['id', 'document_id', 'time', 'h1_en', 'h2_en', 'member_id', 'who_en', 'content_en', 'sequence_en', \n",
    "                'wordcount', 'politician_id', 'procedural', 'h3_en','who_hocid', 'content_fr','statement_type', 'written_question', 'source_id',\n",
    "                'who_context_en', \"slug\", 'urlcache', 'h1_fr', 'h2_fr', 'h3_fr', 'who_fr', 'who_context_fr', 'wordcount_en']\n",
    "            "
   ]
  },
  {
   "cell_type": "code",
   "execution_count": 5,
   "metadata": {
    "scrolled": true
   },
   "outputs": [
    {
     "name": "stderr",
     "output_type": "stream",
     "text": [
      "C:\\Users\\alecr\\Anaconda3\\envs\\openparliament\\lib\\site-packages\\IPython\\core\\interactiveshell.py:3146: DtypeWarning: Columns (3,4,12,16,21,22,23,24,25,26) have mixed types.Specify dtype option on import or set low_memory=False.\n",
      "  has_raised = await self.run_ast_nodes(code_ast.body, cell_name,\n"
     ]
    }
   ],
   "source": [
    "df = pd.read_csv(r\"D:\\data\\openparliament\\time_statements.csv\", sep=\"\\t\", header=None)"
   ]
  },
  {
   "cell_type": "code",
   "execution_count": 14,
   "metadata": {},
   "outputs": [
    {
     "data": {
      "text/html": [
       "<div>\n",
       "<style scoped>\n",
       "    .dataframe tbody tr th:only-of-type {\n",
       "        vertical-align: middle;\n",
       "    }\n",
       "\n",
       "    .dataframe tbody tr th {\n",
       "        vertical-align: top;\n",
       "    }\n",
       "\n",
       "    .dataframe thead th {\n",
       "        text-align: right;\n",
       "    }\n",
       "</style>\n",
       "<table border=\"1\" class=\"dataframe\">\n",
       "  <thead>\n",
       "    <tr style=\"text-align: right;\">\n",
       "      <th></th>\n",
       "      <th>id</th>\n",
       "      <th>document_id</th>\n",
       "      <th>time</th>\n",
       "      <th>h1_en</th>\n",
       "      <th>h2_en</th>\n",
       "      <th>member_id</th>\n",
       "      <th>who_en</th>\n",
       "      <th>content_en</th>\n",
       "      <th>sequence_en</th>\n",
       "      <th>wordcount</th>\n",
       "      <th>...</th>\n",
       "      <th>source_id</th>\n",
       "      <th>who_context_en</th>\n",
       "      <th>slug</th>\n",
       "      <th>urlcache</th>\n",
       "      <th>h1_fr</th>\n",
       "      <th>h2_fr</th>\n",
       "      <th>h3_fr</th>\n",
       "      <th>who_fr</th>\n",
       "      <th>who_context_fr</th>\n",
       "      <th>wordcount_en</th>\n",
       "    </tr>\n",
       "  </thead>\n",
       "  <tbody>\n",
       "    <tr>\n",
       "      <th>0</th>\n",
       "      <td>645328</td>\n",
       "      <td>388</td>\n",
       "      <td>2008-02-14 13:15:00-05</td>\n",
       "      <td>Routine Proceedings</td>\n",
       "      <td>Questions Passed as Orders for Returns</td>\n",
       "      <td>\\N</td>\n",
       "      <td>NaN</td>\n",
       "      <td>&lt;p class=\"procedural\" data-HoCid=\"906765\"&gt;(Ret...</td>\n",
       "      <td>86</td>\n",
       "      <td>2</td>\n",
       "      <td>...</td>\n",
       "      <td>p906765</td>\n",
       "      <td>NaN</td>\n",
       "      <td>procedural-3</td>\n",
       "      <td>/debates/2008/2/14/procedural-3/</td>\n",
       "      <td>NaN</td>\n",
       "      <td>NaN</td>\n",
       "      <td>NaN</td>\n",
       "      <td>NaN</td>\n",
       "      <td>NaN</td>\n",
       "      <td>\\N</td>\n",
       "    </tr>\n",
       "    <tr>\n",
       "      <th>1</th>\n",
       "      <td>232373</td>\n",
       "      <td>1878</td>\n",
       "      <td>2001-05-03 13:50:00-04</td>\n",
       "      <td>Government Orders</td>\n",
       "      <td>Federal-Provincial Fiscal Arrangements Act</td>\n",
       "      <td>2611</td>\n",
       "      <td>Ms. Marlene Catterall</td>\n",
       "      <td>&lt;p&gt;Mr. Speaker, I rise on a point of order. I ...</td>\n",
       "      <td>89</td>\n",
       "      <td>39</td>\n",
       "      <td>...</td>\n",
       "      <td>NaN</td>\n",
       "      <td>NaN</td>\n",
       "      <td>marlene-catterall-1</td>\n",
       "      <td>/debates/2001/5/3/marlene-catterall-1/</td>\n",
       "      <td>NaN</td>\n",
       "      <td>NaN</td>\n",
       "      <td>NaN</td>\n",
       "      <td>NaN</td>\n",
       "      <td>NaN</td>\n",
       "      <td>\\N</td>\n",
       "    </tr>\n",
       "    <tr>\n",
       "      <th>2</th>\n",
       "      <td>645329</td>\n",
       "      <td>388</td>\n",
       "      <td>2008-02-14 13:15:00-05</td>\n",
       "      <td>Routine Proceedings</td>\n",
       "      <td>Questions Passed as Orders for Returns</td>\n",
       "      <td>1534</td>\n",
       "      <td>Mr. Tom Lukiwski</td>\n",
       "      <td>&lt;p data-HoCid=\"906766\" data-originallang=\"en\"&gt;...</td>\n",
       "      <td>87</td>\n",
       "      <td>13</td>\n",
       "      <td>...</td>\n",
       "      <td>2324890</td>\n",
       "      <td>Parliamentary Secretary to the Leader of the G...</td>\n",
       "      <td>tom-lukiwski-7</td>\n",
       "      <td>/debates/2008/2/14/tom-lukiwski-7/</td>\n",
       "      <td>NaN</td>\n",
       "      <td>NaN</td>\n",
       "      <td>NaN</td>\n",
       "      <td>NaN</td>\n",
       "      <td>NaN</td>\n",
       "      <td>\\N</td>\n",
       "    </tr>\n",
       "    <tr>\n",
       "      <th>3</th>\n",
       "      <td>291892</td>\n",
       "      <td>1748</td>\n",
       "      <td>2003-03-25 10:05:00-05</td>\n",
       "      <td>NaN</td>\n",
       "      <td>NaN</td>\n",
       "      <td>\\N</td>\n",
       "      <td>Some hon. members</td>\n",
       "      <td>&lt;p&gt;Agreed.&lt;/p&gt;</td>\n",
       "      <td>1</td>\n",
       "      <td>1</td>\n",
       "      <td>...</td>\n",
       "      <td>NaN</td>\n",
       "      <td>NaN</td>\n",
       "      <td>some-hon-members-1</td>\n",
       "      <td>/debates/2003/3/25/some-hon-members-1/</td>\n",
       "      <td>NaN</td>\n",
       "      <td>NaN</td>\n",
       "      <td>NaN</td>\n",
       "      <td>NaN</td>\n",
       "      <td>NaN</td>\n",
       "      <td>\\N</td>\n",
       "    </tr>\n",
       "    <tr>\n",
       "      <th>4</th>\n",
       "      <td>232374</td>\n",
       "      <td>1878</td>\n",
       "      <td>2001-05-03 13:50:00-04</td>\n",
       "      <td>Government Orders</td>\n",
       "      <td>Federal-Provincial Fiscal Arrangements Act</td>\n",
       "      <td>\\N</td>\n",
       "      <td>The Acting Speaker (Mr. Bélair)</td>\n",
       "      <td>&lt;p&gt;Is that agreed?&lt;/p&gt;</td>\n",
       "      <td>90</td>\n",
       "      <td>3</td>\n",
       "      <td>...</td>\n",
       "      <td>NaN</td>\n",
       "      <td>NaN</td>\n",
       "      <td>the-acting-speaker-mr-belair-9</td>\n",
       "      <td>/debates/2001/5/3/the-acting-speaker-mr-belair-9/</td>\n",
       "      <td>NaN</td>\n",
       "      <td>NaN</td>\n",
       "      <td>NaN</td>\n",
       "      <td>NaN</td>\n",
       "      <td>NaN</td>\n",
       "      <td>\\N</td>\n",
       "    </tr>\n",
       "  </tbody>\n",
       "</table>\n",
       "<p>5 rows × 27 columns</p>\n",
       "</div>"
      ],
      "text/plain": [
       "       id  document_id                    time                h1_en  \\\n",
       "0  645328          388  2008-02-14 13:15:00-05  Routine Proceedings   \n",
       "1  232373         1878  2001-05-03 13:50:00-04    Government Orders   \n",
       "2  645329          388  2008-02-14 13:15:00-05  Routine Proceedings   \n",
       "3  291892         1748  2003-03-25 10:05:00-05                  NaN   \n",
       "4  232374         1878  2001-05-03 13:50:00-04    Government Orders   \n",
       "\n",
       "                                        h2_en member_id  \\\n",
       "0      Questions Passed as Orders for Returns        \\N   \n",
       "1  Federal-Provincial Fiscal Arrangements Act      2611   \n",
       "2      Questions Passed as Orders for Returns      1534   \n",
       "3                                         NaN        \\N   \n",
       "4  Federal-Provincial Fiscal Arrangements Act        \\N   \n",
       "\n",
       "                            who_en  \\\n",
       "0                              NaN   \n",
       "1            Ms. Marlene Catterall   \n",
       "2                 Mr. Tom Lukiwski   \n",
       "3                Some hon. members   \n",
       "4  The Acting Speaker (Mr. Bélair)   \n",
       "\n",
       "                                          content_en  sequence_en  wordcount  \\\n",
       "0  <p class=\"procedural\" data-HoCid=\"906765\">(Ret...           86          2   \n",
       "1  <p>Mr. Speaker, I rise on a point of order. I ...           89         39   \n",
       "2  <p data-HoCid=\"906766\" data-originallang=\"en\">...           87         13   \n",
       "3                                     <p>Agreed.</p>            1          1   \n",
       "4                             <p>Is that agreed?</p>           90          3   \n",
       "\n",
       "   ... source_id                                     who_context_en  \\\n",
       "0  ...   p906765                                                NaN   \n",
       "1  ...       NaN                                                NaN   \n",
       "2  ...   2324890  Parliamentary Secretary to the Leader of the G...   \n",
       "3  ...       NaN                                                NaN   \n",
       "4  ...       NaN                                                NaN   \n",
       "\n",
       "                             slug  \\\n",
       "0                    procedural-3   \n",
       "1             marlene-catterall-1   \n",
       "2                  tom-lukiwski-7   \n",
       "3              some-hon-members-1   \n",
       "4  the-acting-speaker-mr-belair-9   \n",
       "\n",
       "                                            urlcache h1_fr h2_fr h3_fr who_fr  \\\n",
       "0                   /debates/2008/2/14/procedural-3/   NaN   NaN   NaN    NaN   \n",
       "1             /debates/2001/5/3/marlene-catterall-1/   NaN   NaN   NaN    NaN   \n",
       "2                 /debates/2008/2/14/tom-lukiwski-7/   NaN   NaN   NaN    NaN   \n",
       "3             /debates/2003/3/25/some-hon-members-1/   NaN   NaN   NaN    NaN   \n",
       "4  /debates/2001/5/3/the-acting-speaker-mr-belair-9/   NaN   NaN   NaN    NaN   \n",
       "\n",
       "  who_context_fr wordcount_en  \n",
       "0            NaN           \\N  \n",
       "1            NaN           \\N  \n",
       "2            NaN           \\N  \n",
       "3            NaN           \\N  \n",
       "4            NaN           \\N  \n",
       "\n",
       "[5 rows x 27 columns]"
      ]
     },
     "execution_count": 14,
     "metadata": {},
     "output_type": "execute_result"
    }
   ],
   "source": [
    "df.head()"
   ]
  },
  {
   "cell_type": "code",
   "execution_count": 6,
   "metadata": {},
   "outputs": [],
   "source": [
    "d = dict(zip(df.columns, column_names))"
   ]
  },
  {
   "cell_type": "code",
   "execution_count": 7,
   "metadata": {},
   "outputs": [],
   "source": [
    "df.columns = column_names"
   ]
  },
  {
   "cell_type": "code",
   "execution_count": 12,
   "metadata": {},
   "outputs": [
    {
     "data": {
      "text/plain": [
       "str"
      ]
     },
     "execution_count": 12,
     "metadata": {},
     "output_type": "execute_result"
    }
   ],
   "source": [
    "type(df.wordcount_en[0])"
   ]
  },
  {
   "cell_type": "code",
   "execution_count": 20,
   "metadata": {},
   "outputs": [
    {
     "data": {
      "text/plain": [
       "id                   int64\n",
       "document_id          int64\n",
       "time                object\n",
       "h1_en               object\n",
       "h2_en               object\n",
       "member_id           object\n",
       "who_en              object\n",
       "content_en          object\n",
       "sequence_en          int64\n",
       "wordcount            int64\n",
       "politician_id       object\n",
       "procedural          object\n",
       "h3_en               object\n",
       "who_hocid           object\n",
       "content_fr          object\n",
       "statement_type      object\n",
       "written_question    object\n",
       "source_id           object\n",
       "who_context_en      object\n",
       "slug                object\n",
       "urlcache            object\n",
       "h1_fr               object\n",
       "h2_fr               object\n",
       "h3_fr               object\n",
       "who_fr              object\n",
       "who_context_fr      object\n",
       "wordcount_en        object\n",
       "dtype: object"
      ]
     },
     "execution_count": 20,
     "metadata": {},
     "output_type": "execute_result"
    }
   ],
   "source": [
    "df.dtypes"
   ]
  },
  {
   "cell_type": "code",
   "execution_count": 23,
   "metadata": {},
   "outputs": [
    {
     "data": {
      "text/plain": [
       "count    2.496224e+06\n",
       "mean     1.112707e+02\n",
       "std      2.535899e+02\n",
       "min      0.000000e+00\n",
       "25%      1.100000e+01\n",
       "50%      4.400000e+01\n",
       "75%      1.100000e+02\n",
       "max      1.226800e+04\n",
       "Name: wordcount, dtype: float64"
      ]
     },
     "execution_count": 23,
     "metadata": {},
     "output_type": "execute_result"
    }
   ],
   "source": [
    "df.wordcount.astype('int32').describe()"
   ]
  },
  {
   "cell_type": "code",
   "execution_count": 24,
   "metadata": {},
   "outputs": [
    {
     "data": {
      "text/plain": [
       "12268"
      ]
     },
     "execution_count": 24,
     "metadata": {},
     "output_type": "execute_result"
    }
   ],
   "source": [
    "max(df.wordcount.astype('int32'))"
   ]
  },
  {
   "cell_type": "markdown",
   "metadata": {},
   "source": [
    "note to self: since 75% of the utterances post 2000 are less than 110, I can just take those and use them as input to BERT or something"
   ]
  },
  {
   "cell_type": "markdown",
   "metadata": {},
   "source": [
    "id is distinct from bill_id and statement_id, but they're all in hansards_statement_bills"
   ]
  },
  {
   "cell_type": "code",
   "execution_count": 27,
   "metadata": {},
   "outputs": [
    {
     "data": {
      "text/plain": [
       "count    2.496224e+06\n",
       "mean     1.639355e+06\n",
       "std      7.539049e+05\n",
       "min      1.879330e+05\n",
       "25%      1.025002e+06\n",
       "50%      1.649058e+06\n",
       "75%      2.283263e+06\n",
       "max      2.917797e+06\n",
       "Name: id, dtype: float64"
      ]
     },
     "execution_count": 27,
     "metadata": {},
     "output_type": "execute_result"
    }
   ],
   "source": []
  },
  {
   "cell_type": "code",
   "execution_count": null,
   "metadata": {},
   "outputs": [],
   "source": []
  }
 ],
 "metadata": {
  "kernelspec": {
   "display_name": "Python 3",
   "language": "python",
   "name": "python3"
  },
  "language_info": {
   "codemirror_mode": {
    "name": "ipython",
    "version": 3
   },
   "file_extension": ".py",
   "mimetype": "text/x-python",
   "name": "python",
   "nbconvert_exporter": "python",
   "pygments_lexer": "ipython3",
   "version": "3.8.5"
  }
 },
 "nbformat": 4,
 "nbformat_minor": 4
}
