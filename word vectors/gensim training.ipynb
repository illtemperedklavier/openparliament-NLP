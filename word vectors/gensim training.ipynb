{
 "cells": [
  {
   "cell_type": "code",
   "execution_count": 1,
   "metadata": {},
   "outputs": [],
   "source": [
    "import pandas as pd"
   ]
  },
  {
   "cell_type": "code",
   "execution_count": 25,
   "metadata": {},
   "outputs": [],
   "source": [
    "import numpy as np"
   ]
  },
  {
   "cell_type": "code",
   "execution_count": 15,
   "metadata": {},
   "outputs": [],
   "source": [
    "from gensim import models"
   ]
  },
  {
   "cell_type": "code",
   "execution_count": 13,
   "metadata": {},
   "outputs": [],
   "source": [
    "from ast import literal_eval"
   ]
  },
  {
   "cell_type": "code",
   "execution_count": 3,
   "metadata": {},
   "outputs": [],
   "source": [
    "%config Completer.use_jedi = False"
   ]
  },
  {
   "cell_type": "code",
   "execution_count": 5,
   "metadata": {},
   "outputs": [],
   "source": [
    "df = pd.read_csv(r\"D:\\data\\openparliament\\sentences_tokenized.csv\",index_col='Unnamed: 0')"
   ]
  },
  {
   "cell_type": "code",
   "execution_count": 37,
   "metadata": {},
   "outputs": [
    {
     "data": {
      "text/html": [
       "<div>\n",
       "<style scoped>\n",
       "    .dataframe tbody tr th:only-of-type {\n",
       "        vertical-align: middle;\n",
       "    }\n",
       "\n",
       "    .dataframe tbody tr th {\n",
       "        vertical-align: top;\n",
       "    }\n",
       "\n",
       "    .dataframe thead th {\n",
       "        text-align: right;\n",
       "    }\n",
       "</style>\n",
       "<table border=\"1\" class=\"dataframe\">\n",
       "  <thead>\n",
       "    <tr style=\"text-align: right;\">\n",
       "      <th></th>\n",
       "      <th>sentences</th>\n",
       "      <th>num_s</th>\n",
       "    </tr>\n",
       "  </thead>\n",
       "  <tbody>\n",
       "    <tr>\n",
       "      <th>0</th>\n",
       "      <td>[[mr, speaker, rise, on, point, of, order], [b...</td>\n",
       "      <td>2</td>\n",
       "    </tr>\n",
       "    <tr>\n",
       "      <th>1</th>\n",
       "      <td>[[mr, speaker, rise, on, point, of, order], [b...</td>\n",
       "      <td>2</td>\n",
       "    </tr>\n",
       "    <tr>\n",
       "      <th>2</th>\n",
       "      <td>[[finally, mr, speaker, ask, that, all, remain...</td>\n",
       "      <td>1</td>\n",
       "    </tr>\n",
       "    <tr>\n",
       "      <th>3</th>\n",
       "      <td>[[finally, mr, speaker, ask, that, all, remain...</td>\n",
       "      <td>1</td>\n",
       "    </tr>\n",
       "    <tr>\n",
       "      <th>4</th>\n",
       "      <td>[[mr, speaker, rise, today, on, question, of, ...</td>\n",
       "      <td>31</td>\n",
       "    </tr>\n",
       "  </tbody>\n",
       "</table>\n",
       "</div>"
      ],
      "text/plain": [
       "                                           sentences  num_s\n",
       "0  [[mr, speaker, rise, on, point, of, order], [b...      2\n",
       "1  [[mr, speaker, rise, on, point, of, order], [b...      2\n",
       "2  [[finally, mr, speaker, ask, that, all, remain...      1\n",
       "3  [[finally, mr, speaker, ask, that, all, remain...      1\n",
       "4  [[mr, speaker, rise, today, on, question, of, ...     31"
      ]
     },
     "execution_count": 37,
     "metadata": {},
     "output_type": "execute_result"
    }
   ],
   "source": [
    "df.head()"
   ]
  },
  {
   "cell_type": "code",
   "execution_count": 14,
   "metadata": {},
   "outputs": [],
   "source": [
    "df['sentences'] = df.sentences.apply(literal_eval)"
   ]
  },
  {
   "cell_type": "code",
   "execution_count": 36,
   "metadata": {},
   "outputs": [],
   "source": [
    "df['num_s'] = df.sentences.apply(len)"
   ]
  },
  {
   "cell_type": "code",
   "execution_count": 39,
   "metadata": {},
   "outputs": [
    {
     "data": {
      "text/plain": [
       "7857380"
      ]
     },
     "execution_count": 39,
     "metadata": {},
     "output_type": "execute_result"
    }
   ],
   "source": [
    "df.num_s.sum()"
   ]
  },
  {
   "cell_type": "code",
   "execution_count": 18,
   "metadata": {},
   "outputs": [],
   "source": [
    "sentences = sentences.values"
   ]
  },
  {
   "cell_type": "code",
   "execution_count": 19,
   "metadata": {},
   "outputs": [],
   "source": [
    "sentences = sentences.flatten()"
   ]
  },
  {
   "cell_type": "code",
   "execution_count": 34,
   "metadata": {},
   "outputs": [
    {
     "name": "stderr",
     "output_type": "stream",
     "text": [
      "C:\\Users\\alecr\\Anaconda3\\envs\\gensim_env\\lib\\site-packages\\numpy\\core\\_asarray.py:83: VisibleDeprecationWarning: Creating an ndarray from ragged nested sequences (which is a list-or-tuple of lists-or-tuples-or ndarrays with different lengths or shapes) is deprecated. If you meant to do this, you must specify 'dtype=object' when creating the ndarray\n",
      "  return array(a, dtype, copy=False, order=order)\n"
     ]
    }
   ],
   "source": [
    "sentence_list = np.asarray([np.array(x, dtype=\"object\") for x in sentences])"
   ]
  },
  {
   "cell_type": "code",
   "execution_count": 40,
   "metadata": {},
   "outputs": [],
   "source": [
    "sentence_list = np.ones(df.num_s.sum())"
   ]
  },
  {
   "cell_type": "code",
   "execution_count": 44,
   "metadata": {},
   "outputs": [
    {
     "name": "stdout",
     "output_type": "stream",
     "text": [
      "[['mr', 'speaker', 'rise', 'on', 'point', 'of', 'order'], ['believe', 'you', 'would', 'find', 'unanimous', 'consent', 'following', 'consultation', 'among', 'all', 'parties', 'to', 'further', 'defer', 'the', 'vote', 'just', 'deferred', 'until', 'monday', 'to', 'next', 'tuesday', 'at', 'the', 'end', 'of', 'government', 'orders']]\n",
      "[['mr', 'speaker', 'rise', 'on', 'point', 'of', 'order'], ['believe', 'you', 'would', 'find', 'unanimous', 'consent', 'following', 'consultation', 'among', 'all', 'parties', 'to', 'further', 'defer', 'the', 'vote', 'just', 'deferred', 'until', 'monday', 'to', 'next', 'tuesday', 'at', 'the', 'end', 'of', 'government', 'orders']]\n",
      "[['finally', 'mr', 'speaker', 'ask', 'that', 'all', 'remaining', 'questions', 'be', 'allowed', 'to', 'stand']]\n",
      "[['finally', 'mr', 'speaker', 'ask', 'that', 'all', 'remaining', 'questions', 'be', 'allowed', 'to', 'stand']]\n",
      "[['mr', 'speaker', 'rise', 'today', 'on', 'question', 'of', 'privilege', 'regarding', 'matter', 'that', 'was', 'raised', 'in', 'previous', 'session'], ['on', 'may', 'and', 'may', 'the', 'former', 'government', 'house', 'leader', 'raised', 'the', 'issue', 'of', 'parliamentary', 'privilege', 'exempting', 'members', 'from', 'being', 'called', 'as', 'witnesses', 'in', 'any', 'court', 'when', 'the', 'house', 'is', 'in', 'session', 'specifically', 'the', 'decision', 'of', 'the', 'british', 'columbia', 'court', 'of', 'appeal', 'on', 'april', 'in', 'what', 'is', 'known', 'as', 'the', 'ainsworth', 'case', 'nthe', 'issue', 'raised', 'in', 'that', 'case', 'was', 'whether', 'the', 'prime', 'minister', 'could', 'claim', 'parliamentary', 'privilege', 'to', 'provide', 'legal', 'protection', 'against', 'any', 'action', 'against', 'him', 'from', 'the', 'court', 'for', 'failing', 'to', 'attend', 'an', 'examination', 'for', 'discovery'], ['he', 'also', 'raised', 'the', 'matter', 'of', 'decision', 'of', 'the', 'ontario', 'superior', 'court', 'with', 'respect', 'to', 'another', 'member', 'involving', 'telezone', 'inc', 'nthe', 'latter', 'was', 'dealt', 'with', 'on', 'january', 'when', 'the', 'ontario', 'court', 'of', 'appeal', 'made', 'decision', 'with', 'respect', 'to', 'telezone', 'inc'], ['believe', 'that', 'its', 'decision', 'satisfies', 'the', 'former', 'government', 'house', 'leader', 'although', 'number', 'of', 'questions', 'remain'], ['the', 'ontario', 'court', 'of', 'appeal', 'ruled', 'that', 'the', 'parliamentary', 'privilege', 'of', 'member', 'of', 'parliament', 'not', 'to', 'attend', 'as', 'witness', 'in', 'civil', 'action', 'applies', 'throughout', 'session', 'of', 'parliament', 'and', 'extends', 'days', 'after', 'the', 'prorogation', 'or', 'dissolution', 'of', 'parliament', 'and', 'days', 'before', 'the', 'commencement', 'of', 'new', 'session', 'nthe', 'case', 'of', 'the', 'prime', 'minister', 'remains', 'unresolved', 'because', 'the', 'two', 'cases', 'are', 'different'], ['in', 'the', 'case', 'of', 'attorney', 'general', 'of', 'canada', 'et', 'al'], ['ainsworth', 'lumber', 'co', 'ltd'], [], ['the', 'supreme', 'court', 'dismissed', 'the', 'application', 'for', 'leave', 'to', 'appeal'], ['the', 'prime', 'minister', 'still', 'does', 'not', 'have', 'the', 'right', 'to', 'claim', 'this', 'privilege'], ['the', 'issue', 'of', 'whether', 'or', 'not', 'he', 'can', 'claim', 'this', 'privilege', 'remains', 'unresolved'], ['it', 'is', 'not', 'clear', 'whether', 'or', 'not', 'the', 'house', 'agrees', 'with', 'the', 'former', 'government', 'house', 'leader', 'in', 'that', 'the', 'prime', 'minister', 'should', 'be', 'able', 'to', 'claim', 'this', 'privilege', 'nin', 'his', 'submission', 'the', 'former', 'government', 'house', 'leader', 'on', 'may', 'argued', 'that', 'in', 'the', 'ainsworth', 'decision', 'the'], ['court', 'confirmed', 'the', 'existence', 'of', 'parliamentary', 'privilege', 'of', 'members', 'against', 'participating', 'in', 'legal', 'proceedings', 'when', 'parliament', 'was', 'in', 'session'], ['the', 'court', 'recognized', 'that', 'this', 'applied', 'throughout', 'the', 'parliamentary', 'session', 'including', 'adjournments', 'and', 'other', 'periods', 'when', 'the', 'houses', 'were', 'not', 'sitting'], ['however', 'the', 'court', 'ruled', 'that', 'there', 'was', 'no', 'legal', 'support', 'for', 'extending', 'this', 'privilege', 'for', 'days', 'before', 'or', 'after', 'parliamentary', 'session', 'nthe', 'then', 'government', 'house', 'leader', 'felt', 'the', 'court', 'ruling', 'raised', 'an', 'important', 'issue'], ['this', 'is', 'the', 'question', 'of', 'whether', 'it', 'is', 'the', 'role', 'of', 'parliament', 'or', 'the', 'role', 'of', 'the', 'courts', 'to', 'define', 'what', 'parliamentary', 'privilege', 'is', 'non', 'may', 'the', 'speaker', 'ruled', 'the', 'matter', 'was', 'prima', 'facie', 'question', 'of', 'privilege'], ['he', 'also', 'agreed', 'with', 'some', 'members', 'that', 'there', 'was', 'need', 'for', 'an', 'even', 'handed', 'application', 'of', 'privilege', 'with', 'respect', 'to', 'the', 'rights', 'of', 'other', 'canadians'], ['he', 'pointed', 'to', 'suggestion', 'that', 'it', 'might', 'be', 'appropriate', 'for', 'the', 'house', 'to', 'revisit', 'its', 'current', 'interpretation', 'of', 'the', 'immunity', 'that', 'its', 'privileges', 'provide'], ['he', 'concluded', 'by', 'recognizing', 'the', 'special', 'requirements', 'of', 'the', 'house', 'which', 'make', 'privilege', 'necessary', 'that', 'there', 'is', 'need', 'to', 'ensure', 'that', 'other', 'citizens', 'are', 'not', 'adversely', 'affected', 'by', 'those', 'privileges', 'nin', 'particular', 'members', 'had', 'expressed', 'concern', 'during', 'the', 'debate', 'on', 'the', 'question', 'of', 'privilege', 'that', 'the', 'blind', 'application', 'of', 'the', 'rights', 'of', 'members', 'such', 'as', 'the', 'right', 'not', 'to', 'be', 'compelled', 'to', 'appear', 'before', 'court', 'as', 'witness', 'might', 'interfere', 'unduly', 'with', 'the', 'rights', 'of', 'others', 'nthe', 'matter', 'was', 'referred', 'to', 'the', 'standing', 'committee', 'on', 'procedure', 'and', 'house', 'affairs'], ['the', 'committee', 'initial', 'research', 'revealed', 'that', 'there', 'were', 'two', 'types', 'of', 'situations', 'that', 'can', 'arise', 'one', 'where', 'member', 'is', 'party', 'to', 'civil', 'action', 'the', 'case', 'involving', 'the', 'prime', 'minister', 'and', 'one', 'where', 'the', 'member', 'is', 'merely', 'being', 'asked', 'to', 'attend', 'as', 'witness', 'the', 'case', 'involving', 'the', 'former', 'member', 'for', 'ottawa', 'south', 'nthe', 'research', 'claimed', 'that', 'while', 'the', 'parliamentary', 'privilege', 'to', 'avoid', 'appearing', 'in', 'court', 'as', 'witness', 'does', 'not', 'apply', 'to', 'the', 'prime', 'minister', 'because', 'he', 'is', 'named', 'as', 'defendant', 'in', 'civil', 'action', 'the', 'privilege', 'can', 'be', 'claimed', 'by', 'mr', 'manley', 'because', 'he', 'was', 'not', 'named', 'as', 'party', 'in', 'the', 'case', 'and', 'was', 'simply', 'asked', 'to', 'appear', 'as', 'witness', 'in', 'the', 'court'], ['the', 'recent', 'decision', 'from', 'the', 'ontario', 'court', 'of', 'appeal', 'would', 'confirm', 'that', 'finding', 'nthe', 'research', 'also', 'left', 'many', 'questions', 'to', 'be', 'answered', 'such', 'as', 'whether', 'the', 'distinction', 'between', 'being', 'party', 'to', 'civil', 'action', 'and', 'being', 'witness', 'is', 'reasonable', 'and', 'should', 'be', 'reviewed'], ['should', 'one', 'privilege', 'be', 'extended', 'or', 'the', 'other', 'limited'], ['how', 'should', 'these', 'privileges', 'relate', 'to', 'criminal', 'matters'], ['what', 'is', 'the', 'privilege', 'procedure', 'for', 'member', 'to', 'claim', 'these', 'privileges'], ['given', 'the', 'privileges', 'belong', 'to', 'the', 'house', 'of', 'commons', 'is', 'the', 'day', 'rule', 'an', 'appropriate', 'length', 'of', 'time', 'for', 'the', 'immunity', 'of', 'being', 'witness', 'and', 'from', 'arrest', 'especially', 'given', 'that', 'the', 'parliamentary', 'sessions', 'in', 'the', 'canadian', 'parliament', 'are', 'typically', 'quite', 'lengthy'], ['should', 'the', 'fact', 'that', 'there', 'is', 'fixed', 'parliamentary', 'calendar', 'for', 'the', 'house', 'make', 'difference', 'nthe', 'day', 'rule', 'arose', 'at', 'time', 'when', 'parliamentary', 'sessions', 'were', 'short'], ['the', 'members', 'could', 'not', 'really', 'leave', 'the', 'capital', 'before', 'during', 'or', 'after', 'session'], ['should', 'the', 'ease', 'of', 'modern', 'transportation', 'be', 'relevant'], ['should', 'the', 'day', 'rule', 'be', 'retained', 'or', 'shortened', 'nmr'], ['speaker', 'as', 'result', 'of', 'prorogation', 'the', 'terms', 'of', 'reference', 'to', 'the', 'standing', 'committee', 'on', 'procedure', 'and', 'house', 'affairs', 'has', 'lapsed'], ['since', 'committee', 'cannot', 'on', 'its', 'own', 'consider', 'matter', 'of', 'privilege', 'without', 'reference', 'from', 'the', 'house', 'ask', 'that', 'you', 'rule', 'this', 'to', 'be', 'prima', 'facie', 'question', 'of', 'privilege', 'to', 'allow', 'me', 'to', 'move', 'the', 'motion', 'referring', 'this', 'matter', 'to', 'the', 'standing', 'committee', 'on', 'procedure', 'and', 'house', 'affairs']]\n",
      "[['mr', 'speaker', 'rise', 'today', 'on', 'question', 'of', 'privilege', 'regarding', 'matter', 'that', 'was', 'raised', 'in', 'previous', 'session'], ['on', 'may', 'and', 'may', 'the', 'former', 'government', 'house', 'leader', 'raised', 'the', 'issue', 'of', 'parliamentary', 'privilege', 'exempting', 'members', 'from', 'being', 'called', 'as', 'witnesses', 'in', 'any', 'court', 'when', 'the', 'house', 'is', 'in', 'session', 'specifically', 'the', 'decision', 'of', 'the', 'british', 'columbia', 'court', 'of', 'appeal', 'on', 'april', 'in', 'what', 'is', 'known', 'as', 'the', 'ainsworth', 'case', 'nthe', 'issue', 'raised', 'in', 'that', 'case', 'was', 'whether', 'the', 'prime', 'minister', 'could', 'claim', 'parliamentary', 'privilege', 'to', 'provide', 'legal', 'protection', 'against', 'any', 'action', 'against', 'him', 'from', 'the', 'court', 'for', 'failing', 'to', 'attend', 'an', 'examination', 'for', 'discovery'], ['he', 'also', 'raised', 'the', 'matter', 'of', 'decision', 'of', 'the', 'ontario', 'superior', 'court', 'with', 'respect', 'to', 'another', 'member', 'involving', 'telezone', 'inc', 'nthe', 'latter', 'was', 'dealt', 'with', 'on', 'january', 'when', 'the', 'ontario', 'court', 'of', 'appeal', 'made', 'decision', 'with', 'respect', 'to', 'telezone', 'inc'], ['believe', 'that', 'its', 'decision', 'satisfies', 'the', 'former', 'government', 'house', 'leader', 'although', 'number', 'of', 'questions', 'remain'], ['the', 'ontario', 'court', 'of', 'appeal', 'ruled', 'that', 'the', 'parliamentary', 'privilege', 'of', 'member', 'of', 'parliament', 'not', 'to', 'attend', 'as', 'witness', 'in', 'civil', 'action', 'applies', 'throughout', 'session', 'of', 'parliament', 'and', 'extends', 'days', 'after', 'the', 'prorogation', 'or', 'dissolution', 'of', 'parliament', 'and', 'days', 'before', 'the', 'commencement', 'of', 'new', 'session', 'nthe', 'case', 'of', 'the', 'prime', 'minister', 'remains', 'unresolved', 'because', 'the', 'two', 'cases', 'are', 'different'], ['in', 'the', 'case', 'of', 'attorney', 'general', 'of', 'canada', 'et', 'al'], ['ainsworth', 'lumber', 'co', 'ltd'], [], ['the', 'supreme', 'court', 'dismissed', 'the', 'application', 'for', 'leave', 'to', 'appeal'], ['the', 'prime', 'minister', 'still', 'does', 'not', 'have', 'the', 'right', 'to', 'claim', 'this', 'privilege'], ['the', 'issue', 'of', 'whether', 'or', 'not', 'he', 'can', 'claim', 'this', 'privilege', 'remains', 'unresolved'], ['it', 'is', 'not', 'clear', 'whether', 'or', 'not', 'the', 'house', 'agrees', 'with', 'the', 'former', 'government', 'house', 'leader', 'in', 'that', 'the', 'prime', 'minister', 'should', 'be', 'able', 'to', 'claim', 'this', 'privilege', 'nin', 'his', 'submission', 'the', 'former', 'government', 'house', 'leader', 'on', 'may', 'argued', 'that', 'in', 'the', 'ainsworth', 'decision', 'the'], ['court', 'confirmed', 'the', 'existence', 'of', 'parliamentary', 'privilege', 'of', 'members', 'against', 'participating', 'in', 'legal', 'proceedings', 'when', 'parliament', 'was', 'in', 'session'], ['the', 'court', 'recognized', 'that', 'this', 'applied', 'throughout', 'the', 'parliamentary', 'session', 'including', 'adjournments', 'and', 'other', 'periods', 'when', 'the', 'houses', 'were', 'not', 'sitting'], ['however', 'the', 'court', 'ruled', 'that', 'there', 'was', 'no', 'legal', 'support', 'for', 'extending', 'this', 'privilege', 'for', 'days', 'before', 'or', 'after', 'parliamentary', 'session', 'nthe', 'then', 'government', 'house', 'leader', 'felt', 'the', 'court', 'ruling', 'raised', 'an', 'important', 'issue'], ['this', 'is', 'the', 'question', 'of', 'whether', 'it', 'is', 'the', 'role', 'of', 'parliament', 'or', 'the', 'role', 'of', 'the', 'courts', 'to', 'define', 'what', 'parliamentary', 'privilege', 'is', 'non', 'may', 'the', 'speaker', 'ruled', 'the', 'matter', 'was', 'prima', 'facie', 'question', 'of', 'privilege'], ['he', 'also', 'agreed', 'with', 'some', 'members', 'that', 'there', 'was', 'need', 'for', 'an', 'even', 'handed', 'application', 'of', 'privilege', 'with', 'respect', 'to', 'the', 'rights', 'of', 'other', 'canadians'], ['he', 'pointed', 'to', 'suggestion', 'that', 'it', 'might', 'be', 'appropriate', 'for', 'the', 'house', 'to', 'revisit', 'its', 'current', 'interpretation', 'of', 'the', 'immunity', 'that', 'its', 'privileges', 'provide'], ['he', 'concluded', 'by', 'recognizing', 'the', 'special', 'requirements', 'of', 'the', 'house', 'which', 'make', 'privilege', 'necessary', 'that', 'there', 'is', 'need', 'to', 'ensure', 'that', 'other', 'citizens', 'are', 'not', 'adversely', 'affected', 'by', 'those', 'privileges', 'nin', 'particular', 'members', 'had', 'expressed', 'concern', 'during', 'the', 'debate', 'on', 'the', 'question', 'of', 'privilege', 'that', 'the', 'blind', 'application', 'of', 'the', 'rights', 'of', 'members', 'such', 'as', 'the', 'right', 'not', 'to', 'be', 'compelled', 'to', 'appear', 'before', 'court', 'as', 'witness', 'might', 'interfere', 'unduly', 'with', 'the', 'rights', 'of', 'others', 'nthe', 'matter', 'was', 'referred', 'to', 'the', 'standing', 'committee', 'on', 'procedure', 'and', 'house', 'affairs'], ['the', 'committee', 'initial', 'research', 'revealed', 'that', 'there', 'were', 'two', 'types', 'of', 'situations', 'that', 'can', 'arise', 'one', 'where', 'member', 'is', 'party', 'to', 'civil', 'action', 'the', 'case', 'involving', 'the', 'prime', 'minister', 'and', 'one', 'where', 'the', 'member', 'is', 'merely', 'being', 'asked', 'to', 'attend', 'as', 'witness', 'the', 'case', 'involving', 'the', 'former', 'member', 'for', 'ottawa', 'south', 'nthe', 'research', 'claimed', 'that', 'while', 'the', 'parliamentary', 'privilege', 'to', 'avoid', 'appearing', 'in', 'court', 'as', 'witness', 'does', 'not', 'apply', 'to', 'the', 'prime', 'minister', 'because', 'he', 'is', 'named', 'as', 'defendant', 'in', 'civil', 'action', 'the', 'privilege', 'can', 'be', 'claimed', 'by', 'mr', 'manley', 'because', 'he', 'was', 'not', 'named', 'as', 'party', 'in', 'the', 'case', 'and', 'was', 'simply', 'asked', 'to', 'appear', 'as', 'witness', 'in', 'the', 'court'], ['the', 'recent', 'decision', 'from', 'the', 'ontario', 'court', 'of', 'appeal', 'would', 'confirm', 'that', 'finding', 'nthe', 'research', 'also', 'left', 'many', 'questions', 'to', 'be', 'answered', 'such', 'as', 'whether', 'the', 'distinction', 'between', 'being', 'party', 'to', 'civil', 'action', 'and', 'being', 'witness', 'is', 'reasonable', 'and', 'should', 'be', 'reviewed'], ['should', 'one', 'privilege', 'be', 'extended', 'or', 'the', 'other', 'limited'], ['how', 'should', 'these', 'privileges', 'relate', 'to', 'criminal', 'matters'], ['what', 'is', 'the', 'privilege', 'procedure', 'for', 'member', 'to', 'claim', 'these', 'privileges'], ['given', 'the', 'privileges', 'belong', 'to', 'the', 'house', 'of', 'commons', 'is', 'the', 'day', 'rule', 'an', 'appropriate', 'length', 'of', 'time', 'for', 'the', 'immunity', 'of', 'being', 'witness', 'and', 'from', 'arrest', 'especially', 'given', 'that', 'the', 'parliamentary', 'sessions', 'in', 'the', 'canadian', 'parliament', 'are', 'typically', 'quite', 'lengthy'], ['should', 'the', 'fact', 'that', 'there', 'is', 'fixed', 'parliamentary', 'calendar', 'for', 'the', 'house', 'make', 'difference', 'nthe', 'day', 'rule', 'arose', 'at', 'time', 'when', 'parliamentary', 'sessions', 'were', 'short'], ['the', 'members', 'could', 'not', 'really', 'leave', 'the', 'capital', 'before', 'during', 'or', 'after', 'session'], ['should', 'the', 'ease', 'of', 'modern', 'transportation', 'be', 'relevant'], ['should', 'the', 'day', 'rule', 'be', 'retained', 'or', 'shortened', 'nmr'], ['speaker', 'as', 'result', 'of', 'prorogation', 'the', 'terms', 'of', 'reference', 'to', 'the', 'standing', 'committee', 'on', 'procedure', 'and', 'house', 'affairs', 'has', 'lapsed'], ['since', 'committee', 'cannot', 'on', 'its', 'own', 'consider', 'matter', 'of', 'privilege', 'without', 'reference', 'from', 'the', 'house', 'ask', 'that', 'you', 'rule', 'this', 'to', 'be', 'prima', 'facie', 'question', 'of', 'privilege', 'to', 'allow', 'me', 'to', 'move', 'the', 'motion', 'referring', 'this', 'matter', 'to', 'the', 'standing', 'committee', 'on', 'procedure', 'and', 'house', 'affairs']]\n",
      "[['mr', 'speaker', 'rise', 'today', 'on', 'question', 'of', 'privilege', 'regarding', 'matter', 'that', 'was', 'raised', 'in', 'previous', 'session'], ['on', 'may', 'and', 'may', 'the', 'former', 'government', 'house', 'leader', 'raised', 'the', 'issue', 'of', 'parliamentary', 'privilege', 'exempting', 'members', 'from', 'being', 'called', 'as', 'witnesses', 'in', 'any', 'court', 'when', 'the', 'house', 'is', 'in', 'session', 'specifically', 'the', 'decision', 'of', 'the', 'british', 'columbia', 'court', 'of', 'appeal', 'on', 'april', 'in', 'what', 'is', 'known', 'as', 'the', 'ainsworth', 'case', 'nthe', 'issue', 'raised', 'in', 'that', 'case', 'was', 'whether', 'the', 'prime', 'minister', 'could', 'claim', 'parliamentary', 'privilege', 'to', 'provide', 'legal', 'protection', 'against', 'any', 'action', 'against', 'him', 'from', 'the', 'court', 'for', 'failing', 'to', 'attend', 'an', 'examination', 'for', 'discovery'], ['he', 'also', 'raised', 'the', 'matter', 'of', 'decision', 'of', 'the', 'ontario', 'superior', 'court', 'with', 'respect', 'to', 'another', 'member', 'involving', 'telezone', 'inc', 'nthe', 'latter', 'was', 'dealt', 'with', 'on', 'january', 'when', 'the', 'ontario', 'court', 'of', 'appeal', 'made', 'decision', 'with', 'respect', 'to', 'telezone', 'inc'], ['believe', 'that', 'its', 'decision', 'satisfies', 'the', 'former', 'government', 'house', 'leader', 'although', 'number', 'of', 'questions', 'remain'], ['the', 'ontario', 'court', 'of', 'appeal', 'ruled', 'that', 'the', 'parliamentary', 'privilege', 'of', 'member', 'of', 'parliament', 'not', 'to', 'attend', 'as', 'witness', 'in', 'civil', 'action', 'applies', 'throughout', 'session', 'of', 'parliament', 'and', 'extends', 'days', 'after', 'the', 'prorogation', 'or', 'dissolution', 'of', 'parliament', 'and', 'days', 'before', 'the', 'commencement', 'of', 'new', 'session', 'nthe', 'case', 'of', 'the', 'prime', 'minister', 'remains', 'unresolved', 'because', 'the', 'two', 'cases', 'are', 'different'], ['in', 'the', 'case', 'of', 'attorney', 'general', 'of', 'canada', 'et', 'al'], ['ainsworth', 'lumber', 'co', 'ltd'], [], ['the', 'supreme', 'court', 'dismissed', 'the', 'application', 'for', 'leave', 'to', 'appeal'], ['the', 'prime', 'minister', 'still', 'does', 'not', 'have', 'the', 'right', 'to', 'claim', 'this', 'privilege'], ['the', 'issue', 'of', 'whether', 'or', 'not', 'he', 'can', 'claim', 'this', 'privilege', 'remains', 'unresolved'], ['it', 'is', 'not', 'clear', 'whether', 'or', 'not', 'the', 'house', 'agrees', 'with', 'the', 'former', 'government', 'house', 'leader', 'in', 'that', 'the', 'prime', 'minister', 'should', 'be', 'able', 'to', 'claim', 'this', 'privilege', 'nin', 'his', 'submission', 'the', 'former', 'government', 'house', 'leader', 'on', 'may', 'argued', 'that', 'in', 'the', 'ainsworth', 'decision', 'the'], ['court', 'confirmed', 'the', 'existence', 'of', 'parliamentary', 'privilege', 'of', 'members', 'against', 'participating', 'in', 'legal', 'proceedings', 'when', 'parliament', 'was', 'in', 'session'], ['the', 'court', 'recognized', 'that', 'this', 'applied', 'throughout', 'the', 'parliamentary', 'session', 'including', 'adjournments', 'and', 'other', 'periods', 'when', 'the', 'houses', 'were', 'not', 'sitting'], ['however', 'the', 'court', 'ruled', 'that', 'there', 'was', 'no', 'legal', 'support', 'for', 'extending', 'this', 'privilege', 'for', 'days', 'before', 'or', 'after', 'parliamentary', 'session', 'nthe', 'then', 'government', 'house', 'leader', 'felt', 'the', 'court', 'ruling', 'raised', 'an', 'important', 'issue'], ['this', 'is', 'the', 'question', 'of', 'whether', 'it', 'is', 'the', 'role', 'of', 'parliament', 'or', 'the', 'role', 'of', 'the', 'courts', 'to', 'define', 'what', 'parliamentary', 'privilege', 'is', 'non', 'may', 'the', 'speaker', 'ruled', 'the', 'matter', 'was', 'prima', 'facie', 'question', 'of', 'privilege'], ['he', 'also', 'agreed', 'with', 'some', 'members', 'that', 'there', 'was', 'need', 'for', 'an', 'even', 'handed', 'application', 'of', 'privilege', 'with', 'respect', 'to', 'the', 'rights', 'of', 'other', 'canadians'], ['he', 'pointed', 'to', 'suggestion', 'that', 'it', 'might', 'be', 'appropriate', 'for', 'the', 'house', 'to', 'revisit', 'its', 'current', 'interpretation', 'of', 'the', 'immunity', 'that', 'its', 'privileges', 'provide'], ['he', 'concluded', 'by', 'recognizing', 'the', 'special', 'requirements', 'of', 'the', 'house', 'which', 'make', 'privilege', 'necessary', 'that', 'there', 'is', 'need', 'to', 'ensure', 'that', 'other', 'citizens', 'are', 'not', 'adversely', 'affected', 'by', 'those', 'privileges', 'nin', 'particular', 'members', 'had', 'expressed', 'concern', 'during', 'the', 'debate', 'on', 'the', 'question', 'of', 'privilege', 'that', 'the', 'blind', 'application', 'of', 'the', 'rights', 'of', 'members', 'such', 'as', 'the', 'right', 'not', 'to', 'be', 'compelled', 'to', 'appear', 'before', 'court', 'as', 'witness', 'might', 'interfere', 'unduly', 'with', 'the', 'rights', 'of', 'others', 'nthe', 'matter', 'was', 'referred', 'to', 'the', 'standing', 'committee', 'on', 'procedure', 'and', 'house', 'affairs'], ['the', 'committee', 'initial', 'research', 'revealed', 'that', 'there', 'were', 'two', 'types', 'of', 'situations', 'that', 'can', 'arise', 'one', 'where', 'member', 'is', 'party', 'to', 'civil', 'action', 'the', 'case', 'involving', 'the', 'prime', 'minister', 'and', 'one', 'where', 'the', 'member', 'is', 'merely', 'being', 'asked', 'to', 'attend', 'as', 'witness', 'the', 'case', 'involving', 'the', 'former', 'member', 'for', 'ottawa', 'south', 'nthe', 'research', 'claimed', 'that', 'while', 'the', 'parliamentary', 'privilege', 'to', 'avoid', 'appearing', 'in', 'court', 'as', 'witness', 'does', 'not', 'apply', 'to', 'the', 'prime', 'minister', 'because', 'he', 'is', 'named', 'as', 'defendant', 'in', 'civil', 'action', 'the', 'privilege', 'can', 'be', 'claimed', 'by', 'mr', 'manley', 'because', 'he', 'was', 'not', 'named', 'as', 'party', 'in', 'the', 'case', 'and', 'was', 'simply', 'asked', 'to', 'appear', 'as', 'witness', 'in', 'the', 'court'], ['the', 'recent', 'decision', 'from', 'the', 'ontario', 'court', 'of', 'appeal', 'would', 'confirm', 'that', 'finding', 'nthe', 'research', 'also', 'left', 'many', 'questions', 'to', 'be', 'answered', 'such', 'as', 'whether', 'the', 'distinction', 'between', 'being', 'party', 'to', 'civil', 'action', 'and', 'being', 'witness', 'is', 'reasonable', 'and', 'should', 'be', 'reviewed'], ['should', 'one', 'privilege', 'be', 'extended', 'or', 'the', 'other', 'limited'], ['how', 'should', 'these', 'privileges', 'relate', 'to', 'criminal', 'matters'], ['what', 'is', 'the', 'privilege', 'procedure', 'for', 'member', 'to', 'claim', 'these', 'privileges'], ['given', 'the', 'privileges', 'belong', 'to', 'the', 'house', 'of', 'commons', 'is', 'the', 'day', 'rule', 'an', 'appropriate', 'length', 'of', 'time', 'for', 'the', 'immunity', 'of', 'being', 'witness', 'and', 'from', 'arrest', 'especially', 'given', 'that', 'the', 'parliamentary', 'sessions', 'in', 'the', 'canadian', 'parliament', 'are', 'typically', 'quite', 'lengthy'], ['should', 'the', 'fact', 'that', 'there', 'is', 'fixed', 'parliamentary', 'calendar', 'for', 'the', 'house', 'make', 'difference', 'nthe', 'day', 'rule', 'arose', 'at', 'time', 'when', 'parliamentary', 'sessions', 'were', 'short'], ['the', 'members', 'could', 'not', 'really', 'leave', 'the', 'capital', 'before', 'during', 'or', 'after', 'session'], ['should', 'the', 'ease', 'of', 'modern', 'transportation', 'be', 'relevant'], ['should', 'the', 'day', 'rule', 'be', 'retained', 'or', 'shortened', 'nmr'], ['speaker', 'as', 'result', 'of', 'prorogation', 'the', 'terms', 'of', 'reference', 'to', 'the', 'standing', 'committee', 'on', 'procedure', 'and', 'house', 'affairs', 'has', 'lapsed'], ['since', 'committee', 'cannot', 'on', 'its', 'own', 'consider', 'matter', 'of', 'privilege', 'without', 'reference', 'from', 'the', 'house', 'ask', 'that', 'you', 'rule', 'this', 'to', 'be', 'prima', 'facie', 'question', 'of', 'privilege', 'to', 'allow', 'me', 'to', 'move', 'the', 'motion', 'referring', 'this', 'matter', 'to', 'the', 'standing', 'committee', 'on', 'procedure', 'and', 'house', 'affairs']]\n",
      "[['mr', 'speaker', 'would', 'like', 'to', 'commend', 'my', 'colleague', 'from', 'lethbridge', 'who', 'has', 'brought', 'forward', 'this', 'private', 'member', 'bill', 'bill', 'an', 'act', 'to', 'amend', 'the', 'income', 'tax', 'act', 'deduction', 'for', 'volunteer', 'emergency', 'service', 'nfor', 'my', 'good', 'friend', 'my', 'colleague', 'from', 'lethbridge', 'whose', 'riding', 'encompasses', 'lot', 'of', 'rural', 'areas', 'this', 'is', 'extremely', 'important'], ['volunteers', 'are', 'extremely', 'important', 'in', 'rural', 'areas', 'as', 'they', 'man', 'emergency', 'services', 'and', 'are', 'providing', 'the', 'quality', 'of', 'life', 'and', 'that', 'valuable', 'service', 'which', 'otherwise', 'would', 'be', 'extremely', 'costly', 'for', 'canadian', 'taxpayers'], ['these', 'individuals', 'are', 'volunteers', 'in', 'our', 'rural', 'communities', 'who', 'are', 'manning', 'emergency', 'services'], ['my', 'colleague', 'and', 'everybody', 'who', 'lives', 'in', 'rural', 'canada', 'recognize', 'the', 'importance', 'of', 'these', 'individuals', 'to', 'their', 'well', 'being', 'and', 'safety', 'nmy', 'colleague', 'introduced', 'bill', 'because', 'first', 'he', 'feels', 'there', 'is', 'need', 'to', 'recognize', 'these', 'people', 'and', 'he', 'actually', 'wants', 'to', 'recognize', 'the', 'importance', 'of', 'the', 'volunteer', 'men', 'and', 'women', 'in', 'emergency', 'services', 'and', 'our', 'dependency', 'on', 'their', 'services'], ['second', 'he', 'wants', 'to', 'attract', 'and', 'retain', 'volunteers', 'in', 'time', 'in', 'which', 'they', 'are', 'increasingly', 'difficult', 'to', 'recruit'], ['third', 'he', 'wants', 'to', 'compensate', 'these', 'courageous', 'individuals', 'for', 'their', 'efforts', 'in', 'providing', 'safe', 'environment', 'for', 'people', 'in', 'rural', 'canada', 'nlet', 'us', 'talk', 'about', 'these', 'three', 'points', 'in', 'detail'], ['let', 'us', 'talk', 'about', 'the', 'importance', 'of', 'volunteer', 'men', 'and', 'women', 'in', 'emergency', 'services'], ['as', 'said', 'in', 'my', 'earlier', 'remarks', 'emergency', 'services', 'are', 'very', 'costly', 'services', 'to', 'provide', 'in', 'small', 'rural', 'communities'], ['these', 'individuals', 'who', 'have', 'dedicated', 'their', 'time', 'and', 'training', 'and', 'who', 'work', 'in', 'emergency', 'services', 'which', 'we', 'all', 'know', 'adds', 'an', 'element', 'of', 'danger', 'to', 'their', 'lives', 'as', 'well', 'are', 'unsung', 'heroes', 'in', 'their', 'communities', 'nit', 'is', 'time', 'for', 'us', 'to', 'recognize', 'them'], ['it', 'is', 'time', 'for', 'us', 'to', 'stop', 'look', 'and', 'see', 'what', 'they', 'are', 'doing'], ['volunteerism', 'is', 'very', 'important', 'factor', 'in', 'canada'], ['this', 'afternoon', 'in', 'an'], ['also', 'will', 'speak', 'about', 'volunteers', 'in', 'canada'], ['canada', 'is', 'considered', 'the', 'number', 'one', 'country', 'in', 'the', 'world', 'because', 'of', 'volunteers'], ['volunteers', 'span', 'the', 'whole', 'country', 'from', 'east', 'to', 'west', 'every', 'community', 'has', 'its', 'volunteers'], ['it', 'is', 'very', 'important', 'that', 'we', 'as', 'public', 'policy', 'makers', 'recognize', 'that', 'those', 'who', 'volunteer', 'their', 'time', 'for', 'the', 'betterment', 'of', 'others', 'should', 'receive', 'recognition', 'and', 'our', 'thanks'], ['we', 'recognize', 'their', 'contributions', 'and', 'this', 'is', 'very', 'small', 'way', 'of', 'recognizing', 'their', 'contributions', 'nall', 'we', 'are', 'asking', 'is', 'that', 'the', 'workers', 'be', 'allowed', 'to', 'deduct', 'from', 'their', 'taxable', 'incomes', 'from', 'any', 'source'], ['it', 'would', 'help', 'them', 'in', 'many', 'aspects'], ['it', 'would', 'help', 'them', 'in', 'regard', 'to', 'recognition'], ['it', 'would', 'be', 'small', 'token', 'of', 'appreciation', 'from', 'canada'], ['it', 'would', 'be', 'little', 'extra', 'money', 'for', 'their', 'services', 'so', 'that', 'they', 'would', 'feel', 'important', 'because', 'they', 'are', 'important', 'and', 'they', 'would', 'recognize', 'that', 'we', 'have', 'not', 'forgotten', 'them', 'nit', 'is', 'important', 'for', 'us', 'to', 'recognize', 'our', 'volunteers'], ['volunteerism', 'is', 'the', 'essence', 'of', 'canadian', 'society'], ['it', 'is', 'the', 'stronghold', 'and', 'foundation', 'of', 'our', 'society'], ['it', 'is', 'what', 'brings', 'us', 'the', 'quality', 'of', 'life', 'such', 'that', 'we', 'are', 'recognized', 'around', 'the', 'globe', 'as', 'the', 'number', 'one', 'country', 'in', 'the', 'world', 'nin', 'these', 'difficult', 'times', 'we', 'must', 'also', 'look', 'at', 'retaining', 'volunteers'], ['there', 'are', 'pressures', 'of', 'time', 'at', 'their', 'work', 'and', 'for', 'their', 'children'], ['all', 'these', 'things', 'put', 'extra', 'pressure', 'on', 'people', 'who', 'find', 'that', 'they', 'now', 'have', 'less', 'free', 'time', 'on', 'their', 'hands', 'in', 'which', 'to', 'volunteer', 'ntherefore', 'the', 'first', 'thing', 'they', 'will', 'drop', 'is', 'volunteerism', 'because', 'at', 'the', 'end', 'of', 'the', 'day', 'nobody', 'wants', 'to', 'be', 'burnt', 'out'], ['those', 'of', 'us', 'who', 'come', 'in', 'daily', 'contact', 'with', 'volunteers', 'know', 'that', 'many', 'of', 'them', 'are', 'already', 'burnt', 'out', 'but', 'they', 'keep', 'on', 'working', 'for', 'that', 'quality', 'of', 'life', 'nwe', 'must', 'ensure', 'that', 'we', 'do', 'not', 'lose', 'this', 'vital', 'component', 'of', 'our', 'society', 'in', 'canada', 'volunteerism', 'and', 'the', 'best', 'way', 'to', 'do', 'that', 'is', 'to', 'ensure', 'that', 'volunteers', 'feel', 'important', 'feel', 'that', 'they', 'are', 'part', 'of', 'society', 'and', 'feel', 'recognized'], ['giving', 'them', 'tax', 'deduction', 'is', 'an', 'aspect', 'of', 'letting', 'them', 'know', 'that', 'they', 'are', 'very', 'vital', 'part', 'of', 'the', 'community', 'nas', 'we', 'have', 'stated', 'emergency', 'services', 'are', 'considered', 'essential', 'services'], ['our', 'laws', 'ensure', 'that', 'people', 'in', 'emergency', 'services', 'are', 'always', 'available', 'to', 'provide', 'those', 'very', 'needed', 'services', 'and', 'safety', 'features'], ['so', 'it', 'is', 'with', 'volunteers', 'too'], ['we', 'must', 'make', 'sure', 'that', 'is', 'recognized'], ['we', 'must', 'work', 'to', 'ensure', 'that', 'volunteers', 'are', 'available', 'because', 'if', 'they', 'are', 'not', 'then', 'what', 'do', 'we', 'do'], ['would', 'it', 'mean', 'that', 'these', 'services', 'would', 'be', 'reduced'], ['that', 'is', 'not', 'an', 'acceptable', 'option'], ['otherwise', 'it', 'would', 'be', 'very', 'expensive', 'situation', 'for', 'us'], ['tax', 'deduction', 'is', 'not', 'very', 'big', 'sum', 'of', 'money'], ['it', 'would', 'be', 'very', 'small', 'token', 'of', 'appreciation', 'for', 'these', 'people', 'nthird', 'these', 'are', 'courageous', 'people', 'who', 'have', 'families', 'and', 'other', 'work'], ['they', 'take', 'time', 'off', 'from', 'their', 'work', 'and', 'their', 'families', 'to', 'perform', 'these', 'services', 'as', 'well'], ['they', 'would', 'welcome', 'this', 'reward', 'which', 'would', 'recognize', 'those', 'who', 'volunteer', 'their', 'time', 'and', 'would', 'make', 'sure', 'that', 'those', 'who', 'live', 'in', 'rural', 'communities', 'or', 'anywhere', 'else', 'have', 'that', 'level', 'of', 'comfort', 'in', 'knowing', 'that', 'emergency', 'services', 'are', 'available', 'in', 'times', 'of', 'difficult', 'situations', 'ngiving', 'tax', 'benefits', 'is', 'one', 'of', 'the', 'small', 'ways', 'in', 'which', 'we', 'can', 'recognize', 'those', 'who', 'provide', 'services', 'for', 'society'], ['we', 'as', 'politicians', 'have', 'given', 'tax', 'deductions', 'and', 'generous', 'tax', 'deductions', 'as', 'matter', 'of', 'fact', 'to', 'those', 'who', 'contribute', 'to', 'political', 'parties', 'because', 'we', 'recognize', 'the', 'importance', 'of', 'political', 'parties', 'to', 'the', 'democratic', 'system', 'of', 'our', 'country'], ['hence', 'we', 'have', 'system', 'where', 'we', 'recognize', 'quite', 'generously', 'those', 'who', 'donate', 'to', 'political', 'parties'], ['do', 'not', 'see', 'anything', 'wrong', 'with', 'it'], ['as', 'matter', 'of', 'fact', 'developing', 'the', 'system', 'through', 'bill', 'which', 'is', 'coming', 'out', 'where', 'the', 'taxpayer', 'now', 'will', 'foot', 'the', 'bill', 'is', 'recognition', 'of', 'the', 'value', 'of', 'democracy', 'in', 'our', 'country', 'nhere', 'is', 'one', 'of', 'the', 'essential', 'elements', 'providing', 'volunteers', 'vital', 'service', 'at', 'no', 'cost', 'to', 'the', 'taxpayer'], ['so', 'the', 'recognition', 'of', 'tax', 'deduction', 'of', 'would', 'go', 'long', 'way'], ['we', 'all', 'know', 'that', 'to', 'get', 'tax', 'deduction', 'based', 'on', 'one', 'income', 'it', 'starts', 'from', 'and', 'goes', 'up'], ['it', 'is', 'not', 'very', 'generous', 'amount', 'that', 'would', 'cost', 'the', 'government', 'of', 'canada', 'lot', 'of', 'money'], ['the', 'alternative', 'is', 'more', 'expensive', 'ntherefore', 'do', 'not', 'see', 'why', 'we', 'would', 'have', 'difficulty', 'in', 'agreeing', 'to', 'the', 'bill'], ['it', 'is', 'not', 'big', 'sum', 'of', 'money'], ['it', 'is', 'not', 'going', 'to', 'impact', 'the', 'finance', 'minister', 'books'], ['as', 'matter', 'of', 'fact', 'the', 'government', 'wastes', 'more', 'money', 'on', 'other', 'things', 'like', 'the', 'hrdc', 'boondoggle', 'and', 'the', 'gun', 'registry'], ['they', 'have', 'spent', 'more', 'money', 'wasting', 'it', 'on', 'those', 'things', 'so', 'why', 'can', 'we', 'not', 'recognize', 'the', 'people', 'who', 'really', 'count', 'who', 'make', 'our', 'country', 'number', 'one', 'with', 'this', 'small', 'token', 'of', 'appreciation', 'nit', 'is', 'my', 'pleasure', 'to', 'support', 'my', 'colleague', 'bill', 'recognizing', 'these', 'individuals']]\n",
      "[['mr', 'speaker', 'would', 'like', 'to', 'commend', 'my', 'colleague', 'from', 'lethbridge', 'who', 'has', 'brought', 'forward', 'this', 'private', 'member', 'bill', 'bill', 'an', 'act', 'to', 'amend', 'the', 'income', 'tax', 'act', 'deduction', 'for', 'volunteer', 'emergency', 'service', 'nfor', 'my', 'good', 'friend', 'my', 'colleague', 'from', 'lethbridge', 'whose', 'riding', 'encompasses', 'lot', 'of', 'rural', 'areas', 'this', 'is', 'extremely', 'important'], ['volunteers', 'are', 'extremely', 'important', 'in', 'rural', 'areas', 'as', 'they', 'man', 'emergency', 'services', 'and', 'are', 'providing', 'the', 'quality', 'of', 'life', 'and', 'that', 'valuable', 'service', 'which', 'otherwise', 'would', 'be', 'extremely', 'costly', 'for', 'canadian', 'taxpayers'], ['these', 'individuals', 'are', 'volunteers', 'in', 'our', 'rural', 'communities', 'who', 'are', 'manning', 'emergency', 'services'], ['my', 'colleague', 'and', 'everybody', 'who', 'lives', 'in', 'rural', 'canada', 'recognize', 'the', 'importance', 'of', 'these', 'individuals', 'to', 'their', 'well', 'being', 'and', 'safety', 'nmy', 'colleague', 'introduced', 'bill', 'because', 'first', 'he', 'feels', 'there', 'is', 'need', 'to', 'recognize', 'these', 'people', 'and', 'he', 'actually', 'wants', 'to', 'recognize', 'the', 'importance', 'of', 'the', 'volunteer', 'men', 'and', 'women', 'in', 'emergency', 'services', 'and', 'our', 'dependency', 'on', 'their', 'services'], ['second', 'he', 'wants', 'to', 'attract', 'and', 'retain', 'volunteers', 'in', 'time', 'in', 'which', 'they', 'are', 'increasingly', 'difficult', 'to', 'recruit'], ['third', 'he', 'wants', 'to', 'compensate', 'these', 'courageous', 'individuals', 'for', 'their', 'efforts', 'in', 'providing', 'safe', 'environment', 'for', 'people', 'in', 'rural', 'canada', 'nlet', 'us', 'talk', 'about', 'these', 'three', 'points', 'in', 'detail'], ['let', 'us', 'talk', 'about', 'the', 'importance', 'of', 'volunteer', 'men', 'and', 'women', 'in', 'emergency', 'services'], ['as', 'said', 'in', 'my', 'earlier', 'remarks', 'emergency', 'services', 'are', 'very', 'costly', 'services', 'to', 'provide', 'in', 'small', 'rural', 'communities'], ['these', 'individuals', 'who', 'have', 'dedicated', 'their', 'time', 'and', 'training', 'and', 'who', 'work', 'in', 'emergency', 'services', 'which', 'we', 'all', 'know', 'adds', 'an', 'element', 'of', 'danger', 'to', 'their', 'lives', 'as', 'well', 'are', 'unsung', 'heroes', 'in', 'their', 'communities', 'nit', 'is', 'time', 'for', 'us', 'to', 'recognize', 'them'], ['it', 'is', 'time', 'for', 'us', 'to', 'stop', 'look', 'and', 'see', 'what', 'they', 'are', 'doing'], ['volunteerism', 'is', 'very', 'important', 'factor', 'in', 'canada'], ['this', 'afternoon', 'in', 'an'], ['also', 'will', 'speak', 'about', 'volunteers', 'in', 'canada'], ['canada', 'is', 'considered', 'the', 'number', 'one', 'country', 'in', 'the', 'world', 'because', 'of', 'volunteers'], ['volunteers', 'span', 'the', 'whole', 'country', 'from', 'east', 'to', 'west', 'every', 'community', 'has', 'its', 'volunteers'], ['it', 'is', 'very', 'important', 'that', 'we', 'as', 'public', 'policy', 'makers', 'recognize', 'that', 'those', 'who', 'volunteer', 'their', 'time', 'for', 'the', 'betterment', 'of', 'others', 'should', 'receive', 'recognition', 'and', 'our', 'thanks'], ['we', 'recognize', 'their', 'contributions', 'and', 'this', 'is', 'very', 'small', 'way', 'of', 'recognizing', 'their', 'contributions', 'nall', 'we', 'are', 'asking', 'is', 'that', 'the', 'workers', 'be', 'allowed', 'to', 'deduct', 'from', 'their', 'taxable', 'incomes', 'from', 'any', 'source'], ['it', 'would', 'help', 'them', 'in', 'many', 'aspects'], ['it', 'would', 'help', 'them', 'in', 'regard', 'to', 'recognition'], ['it', 'would', 'be', 'small', 'token', 'of', 'appreciation', 'from', 'canada'], ['it', 'would', 'be', 'little', 'extra', 'money', 'for', 'their', 'services', 'so', 'that', 'they', 'would', 'feel', 'important', 'because', 'they', 'are', 'important', 'and', 'they', 'would', 'recognize', 'that', 'we', 'have', 'not', 'forgotten', 'them', 'nit', 'is', 'important', 'for', 'us', 'to', 'recognize', 'our', 'volunteers'], ['volunteerism', 'is', 'the', 'essence', 'of', 'canadian', 'society'], ['it', 'is', 'the', 'stronghold', 'and', 'foundation', 'of', 'our', 'society'], ['it', 'is', 'what', 'brings', 'us', 'the', 'quality', 'of', 'life', 'such', 'that', 'we', 'are', 'recognized', 'around', 'the', 'globe', 'as', 'the', 'number', 'one', 'country', 'in', 'the', 'world', 'nin', 'these', 'difficult', 'times', 'we', 'must', 'also', 'look', 'at', 'retaining', 'volunteers'], ['there', 'are', 'pressures', 'of', 'time', 'at', 'their', 'work', 'and', 'for', 'their', 'children'], ['all', 'these', 'things', 'put', 'extra', 'pressure', 'on', 'people', 'who', 'find', 'that', 'they', 'now', 'have', 'less', 'free', 'time', 'on', 'their', 'hands', 'in', 'which', 'to', 'volunteer', 'ntherefore', 'the', 'first', 'thing', 'they', 'will', 'drop', 'is', 'volunteerism', 'because', 'at', 'the', 'end', 'of', 'the', 'day', 'nobody', 'wants', 'to', 'be', 'burnt', 'out'], ['those', 'of', 'us', 'who', 'come', 'in', 'daily', 'contact', 'with', 'volunteers', 'know', 'that', 'many', 'of', 'them', 'are', 'already', 'burnt', 'out', 'but', 'they', 'keep', 'on', 'working', 'for', 'that', 'quality', 'of', 'life', 'nwe', 'must', 'ensure', 'that', 'we', 'do', 'not', 'lose', 'this', 'vital', 'component', 'of', 'our', 'society', 'in', 'canada', 'volunteerism', 'and', 'the', 'best', 'way', 'to', 'do', 'that', 'is', 'to', 'ensure', 'that', 'volunteers', 'feel', 'important', 'feel', 'that', 'they', 'are', 'part', 'of', 'society', 'and', 'feel', 'recognized'], ['giving', 'them', 'tax', 'deduction', 'is', 'an', 'aspect', 'of', 'letting', 'them', 'know', 'that', 'they', 'are', 'very', 'vital', 'part', 'of', 'the', 'community', 'nas', 'we', 'have', 'stated', 'emergency', 'services', 'are', 'considered', 'essential', 'services'], ['our', 'laws', 'ensure', 'that', 'people', 'in', 'emergency', 'services', 'are', 'always', 'available', 'to', 'provide', 'those', 'very', 'needed', 'services', 'and', 'safety', 'features'], ['so', 'it', 'is', 'with', 'volunteers', 'too'], ['we', 'must', 'make', 'sure', 'that', 'is', 'recognized'], ['we', 'must', 'work', 'to', 'ensure', 'that', 'volunteers', 'are', 'available', 'because', 'if', 'they', 'are', 'not', 'then', 'what', 'do', 'we', 'do'], ['would', 'it', 'mean', 'that', 'these', 'services', 'would', 'be', 'reduced'], ['that', 'is', 'not', 'an', 'acceptable', 'option'], ['otherwise', 'it', 'would', 'be', 'very', 'expensive', 'situation', 'for', 'us'], ['tax', 'deduction', 'is', 'not', 'very', 'big', 'sum', 'of', 'money'], ['it', 'would', 'be', 'very', 'small', 'token', 'of', 'appreciation', 'for', 'these', 'people', 'nthird', 'these', 'are', 'courageous', 'people', 'who', 'have', 'families', 'and', 'other', 'work'], ['they', 'take', 'time', 'off', 'from', 'their', 'work', 'and', 'their', 'families', 'to', 'perform', 'these', 'services', 'as', 'well'], ['they', 'would', 'welcome', 'this', 'reward', 'which', 'would', 'recognize', 'those', 'who', 'volunteer', 'their', 'time', 'and', 'would', 'make', 'sure', 'that', 'those', 'who', 'live', 'in', 'rural', 'communities', 'or', 'anywhere', 'else', 'have', 'that', 'level', 'of', 'comfort', 'in', 'knowing', 'that', 'emergency', 'services', 'are', 'available', 'in', 'times', 'of', 'difficult', 'situations', 'ngiving', 'tax', 'benefits', 'is', 'one', 'of', 'the', 'small', 'ways', 'in', 'which', 'we', 'can', 'recognize', 'those', 'who', 'provide', 'services', 'for', 'society'], ['we', 'as', 'politicians', 'have', 'given', 'tax', 'deductions', 'and', 'generous', 'tax', 'deductions', 'as', 'matter', 'of', 'fact', 'to', 'those', 'who', 'contribute', 'to', 'political', 'parties', 'because', 'we', 'recognize', 'the', 'importance', 'of', 'political', 'parties', 'to', 'the', 'democratic', 'system', 'of', 'our', 'country'], ['hence', 'we', 'have', 'system', 'where', 'we', 'recognize', 'quite', 'generously', 'those', 'who', 'donate', 'to', 'political', 'parties'], ['do', 'not', 'see', 'anything', 'wrong', 'with', 'it'], ['as', 'matter', 'of', 'fact', 'developing', 'the', 'system', 'through', 'bill', 'which', 'is', 'coming', 'out', 'where', 'the', 'taxpayer', 'now', 'will', 'foot', 'the', 'bill', 'is', 'recognition', 'of', 'the', 'value', 'of', 'democracy', 'in', 'our', 'country', 'nhere', 'is', 'one', 'of', 'the', 'essential', 'elements', 'providing', 'volunteers', 'vital', 'service', 'at', 'no', 'cost', 'to', 'the', 'taxpayer'], ['so', 'the', 'recognition', 'of', 'tax', 'deduction', 'of', 'would', 'go', 'long', 'way'], ['we', 'all', 'know', 'that', 'to', 'get', 'tax', 'deduction', 'based', 'on', 'one', 'income', 'it', 'starts', 'from', 'and', 'goes', 'up'], ['it', 'is', 'not', 'very', 'generous', 'amount', 'that', 'would', 'cost', 'the', 'government', 'of', 'canada', 'lot', 'of', 'money'], ['the', 'alternative', 'is', 'more', 'expensive', 'ntherefore', 'do', 'not', 'see', 'why', 'we', 'would', 'have', 'difficulty', 'in', 'agreeing', 'to', 'the', 'bill'], ['it', 'is', 'not', 'big', 'sum', 'of', 'money'], ['it', 'is', 'not', 'going', 'to', 'impact', 'the', 'finance', 'minister', 'books'], ['as', 'matter', 'of', 'fact', 'the', 'government', 'wastes', 'more', 'money', 'on', 'other', 'things', 'like', 'the', 'hrdc', 'boondoggle', 'and', 'the', 'gun', 'registry'], ['they', 'have', 'spent', 'more', 'money', 'wasting', 'it', 'on', 'those', 'things', 'so', 'why', 'can', 'we', 'not', 'recognize', 'the', 'people', 'who', 'really', 'count', 'who', 'make', 'our', 'country', 'number', 'one', 'with', 'this', 'small', 'token', 'of', 'appreciation', 'nit', 'is', 'my', 'pleasure', 'to', 'support', 'my', 'colleague', 'bill', 'recognizing', 'these', 'individuals']]\n",
      "[['mr', 'speaker', 'would', 'like', 'to', 'commend', 'my', 'colleague', 'from', 'lethbridge', 'who', 'has', 'brought', 'forward', 'this', 'private', 'member', 'bill', 'bill', 'an', 'act', 'to', 'amend', 'the', 'income', 'tax', 'act', 'deduction', 'for', 'volunteer', 'emergency', 'service', 'nfor', 'my', 'good', 'friend', 'my', 'colleague', 'from', 'lethbridge', 'whose', 'riding', 'encompasses', 'lot', 'of', 'rural', 'areas', 'this', 'is', 'extremely', 'important'], ['volunteers', 'are', 'extremely', 'important', 'in', 'rural', 'areas', 'as', 'they', 'man', 'emergency', 'services', 'and', 'are', 'providing', 'the', 'quality', 'of', 'life', 'and', 'that', 'valuable', 'service', 'which', 'otherwise', 'would', 'be', 'extremely', 'costly', 'for', 'canadian', 'taxpayers'], ['these', 'individuals', 'are', 'volunteers', 'in', 'our', 'rural', 'communities', 'who', 'are', 'manning', 'emergency', 'services'], ['my', 'colleague', 'and', 'everybody', 'who', 'lives', 'in', 'rural', 'canada', 'recognize', 'the', 'importance', 'of', 'these', 'individuals', 'to', 'their', 'well', 'being', 'and', 'safety', 'nmy', 'colleague', 'introduced', 'bill', 'because', 'first', 'he', 'feels', 'there', 'is', 'need', 'to', 'recognize', 'these', 'people', 'and', 'he', 'actually', 'wants', 'to', 'recognize', 'the', 'importance', 'of', 'the', 'volunteer', 'men', 'and', 'women', 'in', 'emergency', 'services', 'and', 'our', 'dependency', 'on', 'their', 'services'], ['second', 'he', 'wants', 'to', 'attract', 'and', 'retain', 'volunteers', 'in', 'time', 'in', 'which', 'they', 'are', 'increasingly', 'difficult', 'to', 'recruit'], ['third', 'he', 'wants', 'to', 'compensate', 'these', 'courageous', 'individuals', 'for', 'their', 'efforts', 'in', 'providing', 'safe', 'environment', 'for', 'people', 'in', 'rural', 'canada', 'nlet', 'us', 'talk', 'about', 'these', 'three', 'points', 'in', 'detail'], ['let', 'us', 'talk', 'about', 'the', 'importance', 'of', 'volunteer', 'men', 'and', 'women', 'in', 'emergency', 'services'], ['as', 'said', 'in', 'my', 'earlier', 'remarks', 'emergency', 'services', 'are', 'very', 'costly', 'services', 'to', 'provide', 'in', 'small', 'rural', 'communities'], ['these', 'individuals', 'who', 'have', 'dedicated', 'their', 'time', 'and', 'training', 'and', 'who', 'work', 'in', 'emergency', 'services', 'which', 'we', 'all', 'know', 'adds', 'an', 'element', 'of', 'danger', 'to', 'their', 'lives', 'as', 'well', 'are', 'unsung', 'heroes', 'in', 'their', 'communities', 'nit', 'is', 'time', 'for', 'us', 'to', 'recognize', 'them'], ['it', 'is', 'time', 'for', 'us', 'to', 'stop', 'look', 'and', 'see', 'what', 'they', 'are', 'doing'], ['volunteerism', 'is', 'very', 'important', 'factor', 'in', 'canada'], ['this', 'afternoon', 'in', 'an'], ['also', 'will', 'speak', 'about', 'volunteers', 'in', 'canada'], ['canada', 'is', 'considered', 'the', 'number', 'one', 'country', 'in', 'the', 'world', 'because', 'of', 'volunteers'], ['volunteers', 'span', 'the', 'whole', 'country', 'from', 'east', 'to', 'west', 'every', 'community', 'has', 'its', 'volunteers'], ['it', 'is', 'very', 'important', 'that', 'we', 'as', 'public', 'policy', 'makers', 'recognize', 'that', 'those', 'who', 'volunteer', 'their', 'time', 'for', 'the', 'betterment', 'of', 'others', 'should', 'receive', 'recognition', 'and', 'our', 'thanks'], ['we', 'recognize', 'their', 'contributions', 'and', 'this', 'is', 'very', 'small', 'way', 'of', 'recognizing', 'their', 'contributions', 'nall', 'we', 'are', 'asking', 'is', 'that', 'the', 'workers', 'be', 'allowed', 'to', 'deduct', 'from', 'their', 'taxable', 'incomes', 'from', 'any', 'source'], ['it', 'would', 'help', 'them', 'in', 'many', 'aspects'], ['it', 'would', 'help', 'them', 'in', 'regard', 'to', 'recognition'], ['it', 'would', 'be', 'small', 'token', 'of', 'appreciation', 'from', 'canada'], ['it', 'would', 'be', 'little', 'extra', 'money', 'for', 'their', 'services', 'so', 'that', 'they', 'would', 'feel', 'important', 'because', 'they', 'are', 'important', 'and', 'they', 'would', 'recognize', 'that', 'we', 'have', 'not', 'forgotten', 'them', 'nit', 'is', 'important', 'for', 'us', 'to', 'recognize', 'our', 'volunteers'], ['volunteerism', 'is', 'the', 'essence', 'of', 'canadian', 'society'], ['it', 'is', 'the', 'stronghold', 'and', 'foundation', 'of', 'our', 'society'], ['it', 'is', 'what', 'brings', 'us', 'the', 'quality', 'of', 'life', 'such', 'that', 'we', 'are', 'recognized', 'around', 'the', 'globe', 'as', 'the', 'number', 'one', 'country', 'in', 'the', 'world', 'nin', 'these', 'difficult', 'times', 'we', 'must', 'also', 'look', 'at', 'retaining', 'volunteers'], ['there', 'are', 'pressures', 'of', 'time', 'at', 'their', 'work', 'and', 'for', 'their', 'children'], ['all', 'these', 'things', 'put', 'extra', 'pressure', 'on', 'people', 'who', 'find', 'that', 'they', 'now', 'have', 'less', 'free', 'time', 'on', 'their', 'hands', 'in', 'which', 'to', 'volunteer', 'ntherefore', 'the', 'first', 'thing', 'they', 'will', 'drop', 'is', 'volunteerism', 'because', 'at', 'the', 'end', 'of', 'the', 'day', 'nobody', 'wants', 'to', 'be', 'burnt', 'out'], ['those', 'of', 'us', 'who', 'come', 'in', 'daily', 'contact', 'with', 'volunteers', 'know', 'that', 'many', 'of', 'them', 'are', 'already', 'burnt', 'out', 'but', 'they', 'keep', 'on', 'working', 'for', 'that', 'quality', 'of', 'life', 'nwe', 'must', 'ensure', 'that', 'we', 'do', 'not', 'lose', 'this', 'vital', 'component', 'of', 'our', 'society', 'in', 'canada', 'volunteerism', 'and', 'the', 'best', 'way', 'to', 'do', 'that', 'is', 'to', 'ensure', 'that', 'volunteers', 'feel', 'important', 'feel', 'that', 'they', 'are', 'part', 'of', 'society', 'and', 'feel', 'recognized'], ['giving', 'them', 'tax', 'deduction', 'is', 'an', 'aspect', 'of', 'letting', 'them', 'know', 'that', 'they', 'are', 'very', 'vital', 'part', 'of', 'the', 'community', 'nas', 'we', 'have', 'stated', 'emergency', 'services', 'are', 'considered', 'essential', 'services'], ['our', 'laws', 'ensure', 'that', 'people', 'in', 'emergency', 'services', 'are', 'always', 'available', 'to', 'provide', 'those', 'very', 'needed', 'services', 'and', 'safety', 'features'], ['so', 'it', 'is', 'with', 'volunteers', 'too'], ['we', 'must', 'make', 'sure', 'that', 'is', 'recognized'], ['we', 'must', 'work', 'to', 'ensure', 'that', 'volunteers', 'are', 'available', 'because', 'if', 'they', 'are', 'not', 'then', 'what', 'do', 'we', 'do'], ['would', 'it', 'mean', 'that', 'these', 'services', 'would', 'be', 'reduced'], ['that', 'is', 'not', 'an', 'acceptable', 'option'], ['otherwise', 'it', 'would', 'be', 'very', 'expensive', 'situation', 'for', 'us'], ['tax', 'deduction', 'is', 'not', 'very', 'big', 'sum', 'of', 'money'], ['it', 'would', 'be', 'very', 'small', 'token', 'of', 'appreciation', 'for', 'these', 'people', 'nthird', 'these', 'are', 'courageous', 'people', 'who', 'have', 'families', 'and', 'other', 'work'], ['they', 'take', 'time', 'off', 'from', 'their', 'work', 'and', 'their', 'families', 'to', 'perform', 'these', 'services', 'as', 'well'], ['they', 'would', 'welcome', 'this', 'reward', 'which', 'would', 'recognize', 'those', 'who', 'volunteer', 'their', 'time', 'and', 'would', 'make', 'sure', 'that', 'those', 'who', 'live', 'in', 'rural', 'communities', 'or', 'anywhere', 'else', 'have', 'that', 'level', 'of', 'comfort', 'in', 'knowing', 'that', 'emergency', 'services', 'are', 'available', 'in', 'times', 'of', 'difficult', 'situations', 'ngiving', 'tax', 'benefits', 'is', 'one', 'of', 'the', 'small', 'ways', 'in', 'which', 'we', 'can', 'recognize', 'those', 'who', 'provide', 'services', 'for', 'society'], ['we', 'as', 'politicians', 'have', 'given', 'tax', 'deductions', 'and', 'generous', 'tax', 'deductions', 'as', 'matter', 'of', 'fact', 'to', 'those', 'who', 'contribute', 'to', 'political', 'parties', 'because', 'we', 'recognize', 'the', 'importance', 'of', 'political', 'parties', 'to', 'the', 'democratic', 'system', 'of', 'our', 'country'], ['hence', 'we', 'have', 'system', 'where', 'we', 'recognize', 'quite', 'generously', 'those', 'who', 'donate', 'to', 'political', 'parties'], ['do', 'not', 'see', 'anything', 'wrong', 'with', 'it'], ['as', 'matter', 'of', 'fact', 'developing', 'the', 'system', 'through', 'bill', 'which', 'is', 'coming', 'out', 'where', 'the', 'taxpayer', 'now', 'will', 'foot', 'the', 'bill', 'is', 'recognition', 'of', 'the', 'value', 'of', 'democracy', 'in', 'our', 'country', 'nhere', 'is', 'one', 'of', 'the', 'essential', 'elements', 'providing', 'volunteers', 'vital', 'service', 'at', 'no', 'cost', 'to', 'the', 'taxpayer'], ['so', 'the', 'recognition', 'of', 'tax', 'deduction', 'of', 'would', 'go', 'long', 'way'], ['we', 'all', 'know', 'that', 'to', 'get', 'tax', 'deduction', 'based', 'on', 'one', 'income', 'it', 'starts', 'from', 'and', 'goes', 'up'], ['it', 'is', 'not', 'very', 'generous', 'amount', 'that', 'would', 'cost', 'the', 'government', 'of', 'canada', 'lot', 'of', 'money'], ['the', 'alternative', 'is', 'more', 'expensive', 'ntherefore', 'do', 'not', 'see', 'why', 'we', 'would', 'have', 'difficulty', 'in', 'agreeing', 'to', 'the', 'bill'], ['it', 'is', 'not', 'big', 'sum', 'of', 'money'], ['it', 'is', 'not', 'going', 'to', 'impact', 'the', 'finance', 'minister', 'books'], ['as', 'matter', 'of', 'fact', 'the', 'government', 'wastes', 'more', 'money', 'on', 'other', 'things', 'like', 'the', 'hrdc', 'boondoggle', 'and', 'the', 'gun', 'registry'], ['they', 'have', 'spent', 'more', 'money', 'wasting', 'it', 'on', 'those', 'things', 'so', 'why', 'can', 'we', 'not', 'recognize', 'the', 'people', 'who', 'really', 'count', 'who', 'make', 'our', 'country', 'number', 'one', 'with', 'this', 'small', 'token', 'of', 'appreciation', 'nit', 'is', 'my', 'pleasure', 'to', 'support', 'my', 'colleague', 'bill', 'recognizing', 'these', 'individuals']]\n"
     ]
    }
   ],
   "source": [
    "i=0\n",
    "for s in df.sentences:\n",
    "    if i<10:\n",
    "        print(s)\n",
    "    i+=1"
   ]
  },
  {
   "cell_type": "code",
   "execution_count": 45,
   "metadata": {},
   "outputs": [],
   "source": [
    "sentence_list = []"
   ]
  },
  {
   "cell_type": "code",
   "execution_count": 54,
   "metadata": {},
   "outputs": [],
   "source": [
    "col = df.sentences.values"
   ]
  },
  {
   "cell_type": "code",
   "execution_count": 56,
   "metadata": {},
   "outputs": [
    {
     "name": "stdout",
     "output_type": "stream",
     "text": [
      "Wall time: 445 ms\n"
     ]
    }
   ],
   "source": [
    "%%time\n",
    "for s in col:\n",
    "    sentence_list.extend(s)"
   ]
  },
  {
   "cell_type": "code",
   "execution_count": 62,
   "metadata": {},
   "outputs": [],
   "source": [
    "small_s = sentence_list[:10]"
   ]
  },
  {
   "cell_type": "code",
   "execution_count": 65,
   "metadata": {},
   "outputs": [],
   "source": [
    "model = models.Word2Vec (sentence_list, size=50, window=10, min_count=2, workers=10)"
   ]
  },
  {
   "cell_type": "code",
   "execution_count": 66,
   "metadata": {},
   "outputs": [
    {
     "data": {
      "text/plain": [
       "(2143640157, 2904791490)"
      ]
     },
     "execution_count": 66,
     "metadata": {},
     "output_type": "execute_result"
    }
   ],
   "source": [
    "model.train(sentence_list,total_examples=len(sentences),epochs=15) "
   ]
  },
  {
   "cell_type": "code",
   "execution_count": 68,
   "metadata": {},
   "outputs": [],
   "source": [
    "filepath = \"D:\\data\\openparliament\\models\\gensim\\word2vec50.pkl\""
   ]
  },
  {
   "cell_type": "code",
   "execution_count": 69,
   "metadata": {},
   "outputs": [],
   "source": [
    "model.save(filepath)"
   ]
  },
  {
   "cell_type": "code",
   "execution_count": null,
   "metadata": {},
   "outputs": [],
   "source": []
  }
 ],
 "metadata": {
  "kernelspec": {
   "display_name": "Python 3",
   "language": "python",
   "name": "python3"
  },
  "language_info": {
   "codemirror_mode": {
    "name": "ipython",
    "version": 3
   },
   "file_extension": ".py",
   "mimetype": "text/x-python",
   "name": "python",
   "nbconvert_exporter": "python",
   "pygments_lexer": "ipython3",
   "version": "3.6.12"
  }
 },
 "nbformat": 4,
 "nbformat_minor": 4
}
