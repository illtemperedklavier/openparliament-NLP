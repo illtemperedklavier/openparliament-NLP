{
 "cells": [
  {
   "cell_type": "code",
   "execution_count": 1,
   "metadata": {},
   "outputs": [],
   "source": [
    "import pandas as pd\n",
    "\n",
    "from bs4 import BeautifulSoup\n",
    "\n",
    "from nltk import word_tokenize"
   ]
  },
  {
   "cell_type": "code",
   "execution_count": 4,
   "metadata": {},
   "outputs": [
    {
     "name": "stderr",
     "output_type": "stream",
     "text": [
      "C:\\Users\\alecr\\Anaconda3\\envs\\openparliament\\lib\\site-packages\\IPython\\core\\interactiveshell.py:3146: DtypeWarning: Columns (4,5,13,17,22) have mixed types.Specify dtype option on import or set low_memory=False.\n",
      "  has_raised = await self.run_ast_nodes(code_ast.body, cell_name,\n"
     ]
    }
   ],
   "source": [
    "df = pd.read_csv(r\"D:\\data\\openparliament\\parliamentary_statements_en.csv\")"
   ]
  },
  {
   "cell_type": "code",
   "execution_count": 6,
   "metadata": {},
   "outputs": [],
   "source": [
    "df.drop('Unnamed: 0',axis=1, inplace=True)"
   ]
  },
  {
   "cell_type": "code",
   "execution_count": 8,
   "metadata": {},
   "outputs": [],
   "source": [
    "df.to_csv(r\"D:\\data\\openparliament\\parliamentary_statements_en.csv\")"
   ]
  },
  {
   "cell_type": "code",
   "execution_count": 7,
   "metadata": {},
   "outputs": [
    {
     "data": {
      "text/html": [
       "<div>\n",
       "<style scoped>\n",
       "    .dataframe tbody tr th:only-of-type {\n",
       "        vertical-align: middle;\n",
       "    }\n",
       "\n",
       "    .dataframe tbody tr th {\n",
       "        vertical-align: top;\n",
       "    }\n",
       "\n",
       "    .dataframe thead th {\n",
       "        text-align: right;\n",
       "    }\n",
       "</style>\n",
       "<table border=\"1\" class=\"dataframe\">\n",
       "  <thead>\n",
       "    <tr style=\"text-align: right;\">\n",
       "      <th></th>\n",
       "      <th>id</th>\n",
       "      <th>document_id</th>\n",
       "      <th>time</th>\n",
       "      <th>h1_en</th>\n",
       "      <th>h2_en</th>\n",
       "      <th>member_id</th>\n",
       "      <th>who_en</th>\n",
       "      <th>content_en</th>\n",
       "      <th>sequence_en</th>\n",
       "      <th>wordcount</th>\n",
       "      <th>...</th>\n",
       "      <th>who_hocid</th>\n",
       "      <th>content_fr</th>\n",
       "      <th>statement_type</th>\n",
       "      <th>written_question</th>\n",
       "      <th>source_id</th>\n",
       "      <th>who_context_en</th>\n",
       "      <th>slug</th>\n",
       "      <th>urlcache</th>\n",
       "      <th>wordcount_en</th>\n",
       "      <th>tokenized_content</th>\n",
       "    </tr>\n",
       "  </thead>\n",
       "  <tbody>\n",
       "    <tr>\n",
       "      <th>0</th>\n",
       "      <td>645328</td>\n",
       "      <td>388</td>\n",
       "      <td>2008-02-14 13:15:00-05</td>\n",
       "      <td>Routine Proceedings</td>\n",
       "      <td>Questions Passed as Orders for Returns</td>\n",
       "      <td>\\N</td>\n",
       "      <td>NaN</td>\n",
       "      <td>&lt;p class=\"procedural\" data-HoCid=\"906765\"&gt;(Ret...</td>\n",
       "      <td>86</td>\n",
       "      <td>2</td>\n",
       "      <td>...</td>\n",
       "      <td>\\N</td>\n",
       "      <td>&lt;p class=\"procedural\" data-HoCid=\"906765\"&gt;(Le ...</td>\n",
       "      <td>NaN</td>\n",
       "      <td>R</td>\n",
       "      <td>p906765</td>\n",
       "      <td>NaN</td>\n",
       "      <td>procedural-3</td>\n",
       "      <td>/debates/2008/2/14/procedural-3/</td>\n",
       "      <td>\\N</td>\n",
       "      <td>['(', 'return', 'tabled', ')']</td>\n",
       "    </tr>\n",
       "    <tr>\n",
       "      <th>1</th>\n",
       "      <td>232373</td>\n",
       "      <td>1878</td>\n",
       "      <td>2001-05-03 13:50:00-04</td>\n",
       "      <td>Government Orders</td>\n",
       "      <td>Federal-Provincial Fiscal Arrangements Act</td>\n",
       "      <td>2611</td>\n",
       "      <td>Ms. Marlene Catterall</td>\n",
       "      <td>&lt;p&gt;Mr. Speaker, I rise on a point of order. I ...</td>\n",
       "      <td>89</td>\n",
       "      <td>39</td>\n",
       "      <td>...</td>\n",
       "      <td>\\N</td>\n",
       "      <td>NaN</td>\n",
       "      <td>NaN</td>\n",
       "      <td>NaN</td>\n",
       "      <td>NaN</td>\n",
       "      <td>NaN</td>\n",
       "      <td>marlene-catterall-1</td>\n",
       "      <td>/debates/2001/5/3/marlene-catterall-1/</td>\n",
       "      <td>\\N</td>\n",
       "      <td>['mr.', 'speaker', ',', 'i', 'rise', 'on', 'a'...</td>\n",
       "    </tr>\n",
       "    <tr>\n",
       "      <th>2</th>\n",
       "      <td>645329</td>\n",
       "      <td>388</td>\n",
       "      <td>2008-02-14 13:15:00-05</td>\n",
       "      <td>Routine Proceedings</td>\n",
       "      <td>Questions Passed as Orders for Returns</td>\n",
       "      <td>1534</td>\n",
       "      <td>Mr. Tom Lukiwski</td>\n",
       "      <td>&lt;p data-HoCid=\"906766\" data-originallang=\"en\"&gt;...</td>\n",
       "      <td>87</td>\n",
       "      <td>13</td>\n",
       "      <td>...</td>\n",
       "      <td>78722</td>\n",
       "      <td>&lt;p data-HoCid=\"906766\" data-originallang=\"en\"&gt;...</td>\n",
       "      <td>interjection</td>\n",
       "      <td>NaN</td>\n",
       "      <td>2324890</td>\n",
       "      <td>Parliamentary Secretary to the Leader of the G...</td>\n",
       "      <td>tom-lukiwski-7</td>\n",
       "      <td>/debates/2008/2/14/tom-lukiwski-7/</td>\n",
       "      <td>\\N</td>\n",
       "      <td>['finally', ',', 'mr.', 'speaker', ',', 'i', '...</td>\n",
       "    </tr>\n",
       "    <tr>\n",
       "      <th>3</th>\n",
       "      <td>291892</td>\n",
       "      <td>1748</td>\n",
       "      <td>2003-03-25 10:05:00-05</td>\n",
       "      <td>NaN</td>\n",
       "      <td>NaN</td>\n",
       "      <td>\\N</td>\n",
       "      <td>Some hon. members</td>\n",
       "      <td>&lt;p&gt;Agreed.&lt;/p&gt;</td>\n",
       "      <td>1</td>\n",
       "      <td>1</td>\n",
       "      <td>...</td>\n",
       "      <td>\\N</td>\n",
       "      <td>NaN</td>\n",
       "      <td>NaN</td>\n",
       "      <td>NaN</td>\n",
       "      <td>NaN</td>\n",
       "      <td>NaN</td>\n",
       "      <td>some-hon-members-1</td>\n",
       "      <td>/debates/2003/3/25/some-hon-members-1/</td>\n",
       "      <td>\\N</td>\n",
       "      <td>['agreed', '.']</td>\n",
       "    </tr>\n",
       "    <tr>\n",
       "      <th>4</th>\n",
       "      <td>232374</td>\n",
       "      <td>1878</td>\n",
       "      <td>2001-05-03 13:50:00-04</td>\n",
       "      <td>Government Orders</td>\n",
       "      <td>Federal-Provincial Fiscal Arrangements Act</td>\n",
       "      <td>\\N</td>\n",
       "      <td>The Acting Speaker (Mr. Bélair)</td>\n",
       "      <td>&lt;p&gt;Is that agreed?&lt;/p&gt;</td>\n",
       "      <td>90</td>\n",
       "      <td>3</td>\n",
       "      <td>...</td>\n",
       "      <td>\\N</td>\n",
       "      <td>NaN</td>\n",
       "      <td>NaN</td>\n",
       "      <td>NaN</td>\n",
       "      <td>NaN</td>\n",
       "      <td>NaN</td>\n",
       "      <td>the-acting-speaker-mr-belair-9</td>\n",
       "      <td>/debates/2001/5/3/the-acting-speaker-mr-belair-9/</td>\n",
       "      <td>\\N</td>\n",
       "      <td>['is', 'that', 'agreed', '?']</td>\n",
       "    </tr>\n",
       "  </tbody>\n",
       "</table>\n",
       "<p>5 rows × 23 columns</p>\n",
       "</div>"
      ],
      "text/plain": [
       "       id  document_id                    time                h1_en  \\\n",
       "0  645328          388  2008-02-14 13:15:00-05  Routine Proceedings   \n",
       "1  232373         1878  2001-05-03 13:50:00-04    Government Orders   \n",
       "2  645329          388  2008-02-14 13:15:00-05  Routine Proceedings   \n",
       "3  291892         1748  2003-03-25 10:05:00-05                  NaN   \n",
       "4  232374         1878  2001-05-03 13:50:00-04    Government Orders   \n",
       "\n",
       "                                        h2_en member_id  \\\n",
       "0      Questions Passed as Orders for Returns        \\N   \n",
       "1  Federal-Provincial Fiscal Arrangements Act      2611   \n",
       "2      Questions Passed as Orders for Returns      1534   \n",
       "3                                         NaN        \\N   \n",
       "4  Federal-Provincial Fiscal Arrangements Act        \\N   \n",
       "\n",
       "                            who_en  \\\n",
       "0                              NaN   \n",
       "1            Ms. Marlene Catterall   \n",
       "2                 Mr. Tom Lukiwski   \n",
       "3                Some hon. members   \n",
       "4  The Acting Speaker (Mr. Bélair)   \n",
       "\n",
       "                                          content_en  sequence_en  wordcount  \\\n",
       "0  <p class=\"procedural\" data-HoCid=\"906765\">(Ret...           86          2   \n",
       "1  <p>Mr. Speaker, I rise on a point of order. I ...           89         39   \n",
       "2  <p data-HoCid=\"906766\" data-originallang=\"en\">...           87         13   \n",
       "3                                     <p>Agreed.</p>            1          1   \n",
       "4                             <p>Is that agreed?</p>           90          3   \n",
       "\n",
       "   ... who_hocid                                         content_fr  \\\n",
       "0  ...        \\N  <p class=\"procedural\" data-HoCid=\"906765\">(Le ...   \n",
       "1  ...        \\N                                                NaN   \n",
       "2  ...     78722  <p data-HoCid=\"906766\" data-originallang=\"en\">...   \n",
       "3  ...        \\N                                                NaN   \n",
       "4  ...        \\N                                                NaN   \n",
       "\n",
       "  statement_type written_question source_id  \\\n",
       "0            NaN                R   p906765   \n",
       "1            NaN              NaN       NaN   \n",
       "2   interjection              NaN   2324890   \n",
       "3            NaN              NaN       NaN   \n",
       "4            NaN              NaN       NaN   \n",
       "\n",
       "                                      who_context_en  \\\n",
       "0                                                NaN   \n",
       "1                                                NaN   \n",
       "2  Parliamentary Secretary to the Leader of the G...   \n",
       "3                                                NaN   \n",
       "4                                                NaN   \n",
       "\n",
       "                             slug  \\\n",
       "0                    procedural-3   \n",
       "1             marlene-catterall-1   \n",
       "2                  tom-lukiwski-7   \n",
       "3              some-hon-members-1   \n",
       "4  the-acting-speaker-mr-belair-9   \n",
       "\n",
       "                                            urlcache wordcount_en  \\\n",
       "0                   /debates/2008/2/14/procedural-3/           \\N   \n",
       "1             /debates/2001/5/3/marlene-catterall-1/           \\N   \n",
       "2                 /debates/2008/2/14/tom-lukiwski-7/           \\N   \n",
       "3             /debates/2003/3/25/some-hon-members-1/           \\N   \n",
       "4  /debates/2001/5/3/the-acting-speaker-mr-belair-9/           \\N   \n",
       "\n",
       "                                   tokenized_content  \n",
       "0                     ['(', 'return', 'tabled', ')']  \n",
       "1  ['mr.', 'speaker', ',', 'i', 'rise', 'on', 'a'...  \n",
       "2  ['finally', ',', 'mr.', 'speaker', ',', 'i', '...  \n",
       "3                                    ['agreed', '.']  \n",
       "4                      ['is', 'that', 'agreed', '?']  \n",
       "\n",
       "[5 rows x 23 columns]"
      ]
     },
     "execution_count": 7,
     "metadata": {},
     "output_type": "execute_result"
    }
   ],
   "source": [
    "df.head()"
   ]
  },
  {
   "cell_type": "code",
   "execution_count": 13,
   "metadata": {},
   "outputs": [],
   "source": [
    "c = df.content_en[10]"
   ]
  },
  {
   "cell_type": "code",
   "execution_count": 14,
   "metadata": {},
   "outputs": [
    {
     "data": {
      "text/plain": [
       "'<p>I thank the hon. member.</p>'"
      ]
     },
     "execution_count": 14,
     "metadata": {},
     "output_type": "execute_result"
    }
   ],
   "source": [
    "c"
   ]
  },
  {
   "cell_type": "code",
   "execution_count": 20,
   "metadata": {},
   "outputs": [],
   "source": [
    "soop = BeautifulSoup(c)"
   ]
  },
  {
   "cell_type": "code",
   "execution_count": 21,
   "metadata": {},
   "outputs": [
    {
     "data": {
      "text/plain": [
       "'I thank the hon. member.'"
      ]
     },
     "execution_count": 21,
     "metadata": {},
     "output_type": "execute_result"
    }
   ],
   "source": [
    "soop.text"
   ]
  },
  {
   "cell_type": "code",
   "execution_count": 31,
   "metadata": {},
   "outputs": [],
   "source": [
    "def tokenize_column (row):\n",
    "    soup = BeautifulSoup(row)\n",
    "    text = soup.text.lower()\n",
    "    words = word_tokenize(text)\n",
    "    return words"
   ]
  },
  {
   "cell_type": "code",
   "execution_count": 32,
   "metadata": {},
   "outputs": [
    {
     "data": {
      "text/plain": [
       "['i', 'thank', 'the', 'hon', '.', 'member', '.']"
      ]
     },
     "execution_count": 32,
     "metadata": {},
     "output_type": "execute_result"
    }
   ],
   "source": [
    "tokenize_column(df.content_en[10])"
   ]
  },
  {
   "cell_type": "code",
   "execution_count": 33,
   "metadata": {},
   "outputs": [],
   "source": [
    "df[\"tokenized_content\"] = df.content_en.apply(tokenize_column)"
   ]
  },
  {
   "cell_type": "code",
   "execution_count": 34,
   "metadata": {},
   "outputs": [],
   "source": [
    "df.to_csv(r\"D:\\data\\openparliament\\parliamentary_statements_en.csv\")"
   ]
  },
  {
   "cell_type": "code",
   "execution_count": 35,
   "metadata": {},
   "outputs": [
    {
     "data": {
      "text/plain": [
       "0                               [(, return, tabled, )]\n",
       "1    [mr., speaker, ,, i, rise, on, a, point, of, o...\n",
       "2    [finally, ,, mr., speaker, ,, i, ask, that, al...\n",
       "3                                          [agreed, .]\n",
       "4                                [is, that, agreed, ?]\n",
       "Name: tokenized_content, dtype: object"
      ]
     },
     "execution_count": 35,
     "metadata": {},
     "output_type": "execute_result"
    }
   ],
   "source": [
    "df.tokenized_content.head()"
   ]
  },
  {
   "cell_type": "code",
   "execution_count": 36,
   "metadata": {},
   "outputs": [],
   "source": [
    "from nltk.corpus import stopwords"
   ]
  },
  {
   "cell_type": "code",
   "execution_count": 38,
   "metadata": {},
   "outputs": [],
   "source": [
    "stop_words = set(stopwords.words('english'))"
   ]
  },
  {
   "cell_type": "code",
   "execution_count": 40,
   "metadata": {},
   "outputs": [],
   "source": [
    "tokens = df.tokenized_content[2]"
   ]
  },
  {
   "cell_type": "code",
   "execution_count": 43,
   "metadata": {},
   "outputs": [],
   "source": [
    "def remove_stopwords(word_tokens):\n",
    "    words = [w for w in word_tokens if not w in stop_words]\n",
    "    return words"
   ]
  },
  {
   "cell_type": "code",
   "execution_count": 44,
   "metadata": {},
   "outputs": [
    {
     "data": {
      "text/plain": [
       "['finally',\n",
       " ',',\n",
       " 'mr.',\n",
       " 'speaker',\n",
       " ',',\n",
       " 'ask',\n",
       " 'remaining',\n",
       " 'questions',\n",
       " 'allowed',\n",
       " 'stand',\n",
       " '.']"
      ]
     },
     "execution_count": 44,
     "metadata": {},
     "output_type": "execute_result"
    }
   ],
   "source": [
    "remove_stopwords(word_tokens=tokens)"
   ]
  },
  {
   "cell_type": "code",
   "execution_count": 45,
   "metadata": {},
   "outputs": [
    {
     "data": {
      "text/plain": [
       "['finally',\n",
       " ',',\n",
       " 'mr.',\n",
       " 'speaker',\n",
       " ',',\n",
       " 'i',\n",
       " 'ask',\n",
       " 'that',\n",
       " 'all',\n",
       " 'remaining',\n",
       " 'questions',\n",
       " 'be',\n",
       " 'allowed',\n",
       " 'to',\n",
       " 'stand',\n",
       " '.']"
      ]
     },
     "execution_count": 45,
     "metadata": {},
     "output_type": "execute_result"
    }
   ],
   "source": [
    "tokens"
   ]
  },
  {
   "cell_type": "code",
   "execution_count": 12,
   "metadata": {},
   "outputs": [
    {
     "data": {
      "text/plain": [
       "'\\\\N'"
      ]
     },
     "execution_count": 12,
     "metadata": {},
     "output_type": "execute_result"
    }
   ],
   "source": []
  },
  {
   "cell_type": "code",
   "execution_count": null,
   "metadata": {},
   "outputs": [],
   "source": []
  }
 ],
 "metadata": {
  "kernelspec": {
   "display_name": "Python 3",
   "language": "python",
   "name": "python3"
  },
  "language_info": {
   "codemirror_mode": {
    "name": "ipython",
    "version": 3
   },
   "file_extension": ".py",
   "mimetype": "text/x-python",
   "name": "python",
   "nbconvert_exporter": "python",
   "pygments_lexer": "ipython3",
   "version": "3.8.5"
  }
 },
 "nbformat": 4,
 "nbformat_minor": 4
}
