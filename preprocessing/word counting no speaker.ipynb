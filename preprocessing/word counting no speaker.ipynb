{
 "cells": [
  {
   "cell_type": "code",
   "execution_count": 1,
   "metadata": {},
   "outputs": [],
   "source": [
    "import pandas as pd"
   ]
  },
  {
   "cell_type": "code",
   "execution_count": 26,
   "metadata": {},
   "outputs": [],
   "source": [
    "import nltk\n",
    "from nltk.corpus import stopwords"
   ]
  },
  {
   "cell_type": "code",
   "execution_count": 2,
   "metadata": {},
   "outputs": [
    {
     "name": "stderr",
     "output_type": "stream",
     "text": [
      "C:\\Users\\alecr\\Anaconda3\\envs\\openparliament\\lib\\site-packages\\IPython\\core\\interactiveshell.py:3146: DtypeWarning: Columns (20,23,28,29,30,31,32,33) have mixed types.Specify dtype option on import or set low_memory=False.\n",
      "  has_raised = await self.run_ast_nodes(code_ast.body, cell_name,\n"
     ]
    }
   ],
   "source": [
    "df = pd.read_csv(r\"D:\\data\\openparliament\\statements_nospeaker_en.csv\")"
   ]
  },
  {
   "cell_type": "code",
   "execution_count": 3,
   "metadata": {},
   "outputs": [
    {
     "data": {
      "text/plain": [
       "Index(['id', 'politician_id', 'riding_id', 'party_id', 'end_date',\n",
       "       'start_date', 'id.1', 'document_id', 'time', 'h1_en', 'h2_en',\n",
       "       'member_id', 'who_en', 'content_en', 'sequence_en', 'wordcount',\n",
       "       'politician_id.1', 'procedural', 'h3_en', 'who_hocid', 'content_fr',\n",
       "       'statement_type', 'written_question', 'source_id', 'who_context_en',\n",
       "       'slug', 'urlcache', 'h1_fr', 'h2_fr', 'h3_fr', 'who_fr',\n",
       "       'who_context_fr', 'wordcount_en', 'tokenized_content', 'slug_length'],\n",
       "      dtype='object')"
      ]
     },
     "execution_count": 3,
     "metadata": {},
     "output_type": "execute_result"
    }
   ],
   "source": [
    "df.drop(['Unnamed: 0'], axis=1, inplace=True)\n",
    "df.columns"
   ]
  },
  {
   "cell_type": "code",
   "execution_count": 4,
   "metadata": {},
   "outputs": [],
   "source": [
    "politician_df = pd.read_csv(r\"D:\\data\\openparliament\\core_politician.csv\", sep='\\t',header=None)"
   ]
  },
  {
   "cell_type": "code",
   "execution_count": 5,
   "metadata": {},
   "outputs": [],
   "source": [
    "party_df = pd.read_csv(r\"D:\\data\\openparliament\\core_party.csv\", sep='\\t',header=None)"
   ]
  },
  {
   "cell_type": "code",
   "execution_count": 6,
   "metadata": {},
   "outputs": [],
   "source": [
    "party_df.columns = ['id', 'name_en', 'slug', 'short_name_en', 'name_fr', 'short_name_fr']"
   ]
  },
  {
   "cell_type": "code",
   "execution_count": 7,
   "metadata": {},
   "outputs": [
    {
     "data": {
      "text/html": [
       "<div>\n",
       "<style scoped>\n",
       "    .dataframe tbody tr th:only-of-type {\n",
       "        vertical-align: middle;\n",
       "    }\n",
       "\n",
       "    .dataframe tbody tr th {\n",
       "        vertical-align: top;\n",
       "    }\n",
       "\n",
       "    .dataframe thead th {\n",
       "        text-align: right;\n",
       "    }\n",
       "</style>\n",
       "<table border=\"1\" class=\"dataframe\">\n",
       "  <thead>\n",
       "    <tr style=\"text-align: right;\">\n",
       "      <th></th>\n",
       "      <th>id</th>\n",
       "      <th>name_en</th>\n",
       "      <th>slug</th>\n",
       "      <th>short_name_en</th>\n",
       "      <th>name_fr</th>\n",
       "      <th>short_name_fr</th>\n",
       "    </tr>\n",
       "  </thead>\n",
       "  <tbody>\n",
       "    <tr>\n",
       "      <th>0</th>\n",
       "      <td>32</td>\n",
       "      <td>Abolitionist Party of Canada</td>\n",
       "      <td>NaN</td>\n",
       "      <td>Abolitionist Party of Canada</td>\n",
       "      <td>Abolitionist Party of Canada</td>\n",
       "      <td>Abolitionist Party of Canada</td>\n",
       "    </tr>\n",
       "    <tr>\n",
       "      <th>1</th>\n",
       "      <td>24</td>\n",
       "      <td>Animal Alliance Environment Voters Party of Ca...</td>\n",
       "      <td>NaN</td>\n",
       "      <td>Animal Alliance Environment Voters Party of Ca...</td>\n",
       "      <td>Animal Alliance Environment Voters Party of Ca...</td>\n",
       "      <td>Animal Alliance Environment Voters Party of Ca...</td>\n",
       "    </tr>\n",
       "    <tr>\n",
       "      <th>2</th>\n",
       "      <td>30</td>\n",
       "      <td>Canada Party</td>\n",
       "      <td>NaN</td>\n",
       "      <td>Canada Party</td>\n",
       "      <td>Canada Party</td>\n",
       "      <td>Canada Party</td>\n",
       "    </tr>\n",
       "    <tr>\n",
       "      <th>3</th>\n",
       "      <td>16</td>\n",
       "      <td>Canadian Action Party</td>\n",
       "      <td>NaN</td>\n",
       "      <td>Canadian Action Party</td>\n",
       "      <td>Canadian Action Party</td>\n",
       "      <td>Canadian Action Party</td>\n",
       "    </tr>\n",
       "    <tr>\n",
       "      <th>4</th>\n",
       "      <td>10</td>\n",
       "      <td>Christian Heritage Party of Canada</td>\n",
       "      <td>NaN</td>\n",
       "      <td>Christian Heritage Party of Canada</td>\n",
       "      <td>Christian Heritage Party of Canada</td>\n",
       "      <td>Christian Heritage Party of Canada</td>\n",
       "    </tr>\n",
       "  </tbody>\n",
       "</table>\n",
       "</div>"
      ],
      "text/plain": [
       "   id                                            name_en slug  \\\n",
       "0  32                       Abolitionist Party of Canada  NaN   \n",
       "1  24  Animal Alliance Environment Voters Party of Ca...  NaN   \n",
       "2  30                                       Canada Party  NaN   \n",
       "3  16                              Canadian Action Party  NaN   \n",
       "4  10                 Christian Heritage Party of Canada  NaN   \n",
       "\n",
       "                                       short_name_en  \\\n",
       "0                       Abolitionist Party of Canada   \n",
       "1  Animal Alliance Environment Voters Party of Ca...   \n",
       "2                                       Canada Party   \n",
       "3                              Canadian Action Party   \n",
       "4                 Christian Heritage Party of Canada   \n",
       "\n",
       "                                             name_fr  \\\n",
       "0                       Abolitionist Party of Canada   \n",
       "1  Animal Alliance Environment Voters Party of Ca...   \n",
       "2                                       Canada Party   \n",
       "3                              Canadian Action Party   \n",
       "4                 Christian Heritage Party of Canada   \n",
       "\n",
       "                                       short_name_fr  \n",
       "0                       Abolitionist Party of Canada  \n",
       "1  Animal Alliance Environment Voters Party of Ca...  \n",
       "2                                       Canada Party  \n",
       "3                              Canadian Action Party  \n",
       "4                 Christian Heritage Party of Canada  "
      ]
     },
     "execution_count": 7,
     "metadata": {},
     "output_type": "execute_result"
    }
   ],
   "source": [
    "party_df.head()"
   ]
  },
  {
   "cell_type": "code",
   "execution_count": 8,
   "metadata": {},
   "outputs": [
    {
     "data": {
      "text/plain": [
       "Int64Index([0, 1, 2, 3, 4, 5, 6, 7], dtype='int64')"
      ]
     },
     "execution_count": 8,
     "metadata": {},
     "output_type": "execute_result"
    }
   ],
   "source": [
    "politician_df.columns"
   ]
  },
  {
   "cell_type": "code",
   "execution_count": 9,
   "metadata": {},
   "outputs": [],
   "source": [
    "columns = [\"id\", \"name\", \"name_given\", \"name_family\", \"dob\", \"headshot\", \"gender\", \"slug\"]"
   ]
  },
  {
   "cell_type": "code",
   "execution_count": 10,
   "metadata": {},
   "outputs": [],
   "source": [
    "politician_df.columns = columns"
   ]
  },
  {
   "cell_type": "code",
   "execution_count": 11,
   "metadata": {},
   "outputs": [
    {
     "data": {
      "text/html": [
       "<div>\n",
       "<style scoped>\n",
       "    .dataframe tbody tr th:only-of-type {\n",
       "        vertical-align: middle;\n",
       "    }\n",
       "\n",
       "    .dataframe tbody tr th {\n",
       "        vertical-align: top;\n",
       "    }\n",
       "\n",
       "    .dataframe thead th {\n",
       "        text-align: right;\n",
       "    }\n",
       "</style>\n",
       "<table border=\"1\" class=\"dataframe\">\n",
       "  <thead>\n",
       "    <tr style=\"text-align: right;\">\n",
       "      <th></th>\n",
       "      <th>id</th>\n",
       "      <th>name</th>\n",
       "      <th>name_given</th>\n",
       "      <th>name_family</th>\n",
       "      <th>dob</th>\n",
       "      <th>headshot</th>\n",
       "      <th>gender</th>\n",
       "      <th>slug</th>\n",
       "    </tr>\n",
       "  </thead>\n",
       "  <tbody>\n",
       "    <tr>\n",
       "      <th>0</th>\n",
       "      <td>7042</td>\n",
       "      <td>A. David H. Bailie</td>\n",
       "      <td>A. David H.</td>\n",
       "      <td>Bailie</td>\n",
       "      <td>\\N</td>\n",
       "      <td>NaN</td>\n",
       "      <td>\\N</td>\n",
       "      <td>NaN</td>\n",
       "    </tr>\n",
       "    <tr>\n",
       "      <th>1</th>\n",
       "      <td>7153</td>\n",
       "      <td>A. James Donahue</td>\n",
       "      <td>A. James</td>\n",
       "      <td>Donahue</td>\n",
       "      <td>\\N</td>\n",
       "      <td>NaN</td>\n",
       "      <td>\\N</td>\n",
       "      <td>NaN</td>\n",
       "    </tr>\n",
       "    <tr>\n",
       "      <th>2</th>\n",
       "      <td>8191</td>\n",
       "      <td>A.B. Short Tompkins</td>\n",
       "      <td>A.B. Short</td>\n",
       "      <td>Tompkins</td>\n",
       "      <td>\\N</td>\n",
       "      <td>NaN</td>\n",
       "      <td>\\N</td>\n",
       "      <td>NaN</td>\n",
       "    </tr>\n",
       "    <tr>\n",
       "      <th>3</th>\n",
       "      <td>7144</td>\n",
       "      <td>A.R. Art Canning</td>\n",
       "      <td>A.R. Art</td>\n",
       "      <td>Canning</td>\n",
       "      <td>\\N</td>\n",
       "      <td>NaN</td>\n",
       "      <td>\\N</td>\n",
       "      <td>NaN</td>\n",
       "    </tr>\n",
       "    <tr>\n",
       "      <th>4</th>\n",
       "      <td>7347</td>\n",
       "      <td>Aaron G. De Meester</td>\n",
       "      <td>Aaron G.</td>\n",
       "      <td>De Meester</td>\n",
       "      <td>\\N</td>\n",
       "      <td>NaN</td>\n",
       "      <td>\\N</td>\n",
       "      <td>NaN</td>\n",
       "    </tr>\n",
       "  </tbody>\n",
       "</table>\n",
       "</div>"
      ],
      "text/plain": [
       "     id                 name   name_given name_family dob headshot gender slug\n",
       "0  7042   A. David H. Bailie  A. David H.      Bailie  \\N      NaN     \\N  NaN\n",
       "1  7153     A. James Donahue     A. James     Donahue  \\N      NaN     \\N  NaN\n",
       "2  8191  A.B. Short Tompkins   A.B. Short    Tompkins  \\N      NaN     \\N  NaN\n",
       "3  7144     A.R. Art Canning     A.R. Art     Canning  \\N      NaN     \\N  NaN\n",
       "4  7347  Aaron G. De Meester     Aaron G.  De Meester  \\N      NaN     \\N  NaN"
      ]
     },
     "execution_count": 11,
     "metadata": {},
     "output_type": "execute_result"
    }
   ],
   "source": [
    "politician_df.head()"
   ]
  },
  {
   "cell_type": "code",
   "execution_count": 12,
   "metadata": {},
   "outputs": [
    {
     "data": {
      "text/plain": [
       "(861398, 35)"
      ]
     },
     "execution_count": 12,
     "metadata": {},
     "output_type": "execute_result"
    }
   ],
   "source": [
    "df.shape"
   ]
  },
  {
   "cell_type": "code",
   "execution_count": 13,
   "metadata": {},
   "outputs": [
    {
     "data": {
      "text/plain": [
       "(11510, 8)"
      ]
     },
     "execution_count": 13,
     "metadata": {},
     "output_type": "execute_result"
    }
   ],
   "source": [
    "politician_df.shape"
   ]
  },
  {
   "cell_type": "code",
   "execution_count": 14,
   "metadata": {},
   "outputs": [],
   "source": [
    "speech_pivot = df.pivot_table(index='who_en', values='wordcount', aggfunc='mean')"
   ]
  },
  {
   "cell_type": "code",
   "execution_count": 15,
   "metadata": {},
   "outputs": [
    {
     "data": {
      "text/html": [
       "<div>\n",
       "<style scoped>\n",
       "    .dataframe tbody tr th:only-of-type {\n",
       "        vertical-align: middle;\n",
       "    }\n",
       "\n",
       "    .dataframe tbody tr th {\n",
       "        vertical-align: top;\n",
       "    }\n",
       "\n",
       "    .dataframe thead th {\n",
       "        text-align: right;\n",
       "    }\n",
       "</style>\n",
       "<table border=\"1\" class=\"dataframe\">\n",
       "  <thead>\n",
       "    <tr style=\"text-align: right;\">\n",
       "      <th></th>\n",
       "      <th>wordcount</th>\n",
       "    </tr>\n",
       "    <tr>\n",
       "      <th>who_en</th>\n",
       "      <th></th>\n",
       "    </tr>\n",
       "  </thead>\n",
       "  <tbody>\n",
       "    <tr>\n",
       "      <th>Hon. Mauril Bélanger (for the President of the Treasury Board)</th>\n",
       "      <td>2975.000000</td>\n",
       "    </tr>\n",
       "    <tr>\n",
       "      <th>Hon. Allan Rock (for the President of the Treasury Board)</th>\n",
       "      <td>2855.000000</td>\n",
       "    </tr>\n",
       "    <tr>\n",
       "      <th>Mr. Gurmant Grewal (Newton—North Delta, CPC),</th>\n",
       "      <td>2532.000000</td>\n",
       "    </tr>\n",
       "    <tr>\n",
       "      <th>Hon. Ethel Blondin-Andrew (Minister of State (Children and Youth), Lib.)</th>\n",
       "      <td>2510.333333</td>\n",
       "    </tr>\n",
       "    <tr>\n",
       "      <th>Right Hon. Jean Chrétien (for the Minister of State and Leader of the Government in the House of Commons)</th>\n",
       "      <td>2252.000000</td>\n",
       "    </tr>\n",
       "    <tr>\n",
       "      <th>...</th>\n",
       "      <td>...</td>\n",
       "    </tr>\n",
       "    <tr>\n",
       "      <th>Mr. Jean R. Rioux (Parliamentary Secretary to the Minister of National Defence, Lib.)</th>\n",
       "      <td>0.000000</td>\n",
       "    </tr>\n",
       "    <tr>\n",
       "      <th>Mr. Shipley</th>\n",
       "      <td>0.000000</td>\n",
       "    </tr>\n",
       "    <tr>\n",
       "      <th>Hon. Amerjeet Sohi (Minister of Natural Resources, Lib.)</th>\n",
       "      <td>0.000000</td>\n",
       "    </tr>\n",
       "    <tr>\n",
       "      <th>Bob Saroya</th>\n",
       "      <td>0.000000</td>\n",
       "    </tr>\n",
       "    <tr>\n",
       "      <th>Mr. Terry Dowdall</th>\n",
       "      <td>0.000000</td>\n",
       "    </tr>\n",
       "  </tbody>\n",
       "</table>\n",
       "<p>4648 rows × 1 columns</p>\n",
       "</div>"
      ],
      "text/plain": [
       "                                                      wordcount\n",
       "who_en                                                         \n",
       "Hon. Mauril Bélanger (for the President of the ...  2975.000000\n",
       "Hon. Allan Rock (for the President of the Treas...  2855.000000\n",
       "Mr. Gurmant Grewal (Newton—North Delta, CPC),       2532.000000\n",
       "Hon. Ethel Blondin-Andrew (Minister of State (C...  2510.333333\n",
       "Right Hon. Jean Chrétien (for the Minister of S...  2252.000000\n",
       "...                                                         ...\n",
       "Mr. Jean R. Rioux (Parliamentary Secretary to t...     0.000000\n",
       "Mr. Shipley                                            0.000000\n",
       "Hon. Amerjeet Sohi (Minister of Natural Resourc...     0.000000\n",
       "Bob Saroya                                             0.000000\n",
       "Mr. Terry Dowdall                                      0.000000\n",
       "\n",
       "[4648 rows x 1 columns]"
      ]
     },
     "execution_count": 15,
     "metadata": {},
     "output_type": "execute_result"
    }
   ],
   "source": [
    "speech_pivot.sort_values(by='wordcount', ascending=False)"
   ]
  },
  {
   "cell_type": "code",
   "execution_count": 16,
   "metadata": {},
   "outputs": [],
   "source": [
    "party_talkers = df.pivot_table(index='party_id', values='wordcount', aggfunc='mean')"
   ]
  },
  {
   "cell_type": "code",
   "execution_count": 17,
   "metadata": {},
   "outputs": [],
   "source": [
    "core_party = pd.read_csv(\"D:\\data\\openparliament\\core_party.csv\", sep='\\t',header=None)"
   ]
  },
  {
   "cell_type": "code",
   "execution_count": 18,
   "metadata": {},
   "outputs": [],
   "source": [
    "core_party.columns = ['id', 'name_en', 'slug', 'short_name_en', 'name_fr', 'short_name_fr']"
   ]
  },
  {
   "cell_type": "code",
   "execution_count": 19,
   "metadata": {},
   "outputs": [],
   "source": [
    "party_talkers = pd.merge(party_talkers, core_party, left_on='party_id', right_on='id')"
   ]
  },
  {
   "cell_type": "code",
   "execution_count": 20,
   "metadata": {},
   "outputs": [
    {
     "data": {
      "text/html": [
       "<div>\n",
       "<style scoped>\n",
       "    .dataframe tbody tr th:only-of-type {\n",
       "        vertical-align: middle;\n",
       "    }\n",
       "\n",
       "    .dataframe tbody tr th {\n",
       "        vertical-align: top;\n",
       "    }\n",
       "\n",
       "    .dataframe thead th {\n",
       "        text-align: right;\n",
       "    }\n",
       "</style>\n",
       "<table border=\"1\" class=\"dataframe\">\n",
       "  <thead>\n",
       "    <tr style=\"text-align: right;\">\n",
       "      <th></th>\n",
       "      <th>wordcount</th>\n",
       "      <th>id</th>\n",
       "      <th>name_en</th>\n",
       "      <th>slug</th>\n",
       "      <th>short_name_en</th>\n",
       "      <th>name_fr</th>\n",
       "      <th>short_name_fr</th>\n",
       "    </tr>\n",
       "  </thead>\n",
       "  <tbody>\n",
       "    <tr>\n",
       "      <th>10</th>\n",
       "      <td>177.296552</td>\n",
       "      <td>46</td>\n",
       "      <td>Québec debout</td>\n",
       "      <td>NaN</td>\n",
       "      <td>Québec debout</td>\n",
       "      <td>Québec debout</td>\n",
       "      <td>Québec debout</td>\n",
       "    </tr>\n",
       "    <tr>\n",
       "      <th>9</th>\n",
       "      <td>188.890052</td>\n",
       "      <td>39</td>\n",
       "      <td>Forces et Démocratie</td>\n",
       "      <td>forces</td>\n",
       "      <td>Forces et Démocratie</td>\n",
       "      <td>Forces et Démocratie</td>\n",
       "      <td>Forces et Démocratie</td>\n",
       "    </tr>\n",
       "    <tr>\n",
       "      <th>5</th>\n",
       "      <td>191.939678</td>\n",
       "      <td>9</td>\n",
       "      <td>Green Party of Canada</td>\n",
       "      <td>green</td>\n",
       "      <td>Green</td>\n",
       "      <td>Parti verti du Canada</td>\n",
       "      <td>Vert</td>\n",
       "    </tr>\n",
       "    <tr>\n",
       "      <th>3</th>\n",
       "      <td>209.804103</td>\n",
       "      <td>4</td>\n",
       "      <td>Liberal Party of Canada</td>\n",
       "      <td>liberal</td>\n",
       "      <td>Liberal</td>\n",
       "      <td>Parti libéral du Canada</td>\n",
       "      <td>Libéral</td>\n",
       "    </tr>\n",
       "    <tr>\n",
       "      <th>0</th>\n",
       "      <td>212.956709</td>\n",
       "      <td>1</td>\n",
       "      <td>Conservative Party of Canada</td>\n",
       "      <td>cpc</td>\n",
       "      <td>Conservative</td>\n",
       "      <td>Parti conservateur du Canada</td>\n",
       "      <td>Conservateur</td>\n",
       "    </tr>\n",
       "    <tr>\n",
       "      <th>4</th>\n",
       "      <td>251.271591</td>\n",
       "      <td>5</td>\n",
       "      <td>Independent</td>\n",
       "      <td>IND</td>\n",
       "      <td>Independent</td>\n",
       "      <td>Indépendant</td>\n",
       "      <td>Indépendant</td>\n",
       "    </tr>\n",
       "    <tr>\n",
       "      <th>1</th>\n",
       "      <td>259.170914</td>\n",
       "      <td>2</td>\n",
       "      <td>New Democratic Party</td>\n",
       "      <td>NDP</td>\n",
       "      <td>NDP</td>\n",
       "      <td>Nouveau Parti démocratique</td>\n",
       "      <td>NPD</td>\n",
       "    </tr>\n",
       "    <tr>\n",
       "      <th>7</th>\n",
       "      <td>262.885154</td>\n",
       "      <td>26</td>\n",
       "      <td>Progressive Conservative</td>\n",
       "      <td>pc</td>\n",
       "      <td>Progressive Conservative</td>\n",
       "      <td>Progressive Conservative</td>\n",
       "      <td>Progressive Conservative</td>\n",
       "    </tr>\n",
       "    <tr>\n",
       "      <th>6</th>\n",
       "      <td>264.015200</td>\n",
       "      <td>25</td>\n",
       "      <td>Canadian Alliance</td>\n",
       "      <td>alliance</td>\n",
       "      <td>Canadian Alliance</td>\n",
       "      <td>Canadian Alliance</td>\n",
       "      <td>Canadian Alliance</td>\n",
       "    </tr>\n",
       "    <tr>\n",
       "      <th>8</th>\n",
       "      <td>266.838369</td>\n",
       "      <td>28</td>\n",
       "      <td>Reform Party of Canada</td>\n",
       "      <td>reform</td>\n",
       "      <td>Reform</td>\n",
       "      <td>Reform Party of Canada</td>\n",
       "      <td>Reform</td>\n",
       "    </tr>\n",
       "    <tr>\n",
       "      <th>2</th>\n",
       "      <td>286.647871</td>\n",
       "      <td>3</td>\n",
       "      <td>Bloc Québécois</td>\n",
       "      <td>bloc</td>\n",
       "      <td>Bloc</td>\n",
       "      <td>Bloc Québécois</td>\n",
       "      <td>Bloc</td>\n",
       "    </tr>\n",
       "  </tbody>\n",
       "</table>\n",
       "</div>"
      ],
      "text/plain": [
       "     wordcount  id                       name_en      slug  \\\n",
       "10  177.296552  46                 Québec debout       NaN   \n",
       "9   188.890052  39          Forces et Démocratie    forces   \n",
       "5   191.939678   9         Green Party of Canada     green   \n",
       "3   209.804103   4       Liberal Party of Canada   liberal   \n",
       "0   212.956709   1  Conservative Party of Canada       cpc   \n",
       "4   251.271591   5                   Independent       IND   \n",
       "1   259.170914   2          New Democratic Party       NDP   \n",
       "7   262.885154  26      Progressive Conservative        pc   \n",
       "6   264.015200  25             Canadian Alliance  alliance   \n",
       "8   266.838369  28        Reform Party of Canada    reform   \n",
       "2   286.647871   3                Bloc Québécois      bloc   \n",
       "\n",
       "               short_name_en                       name_fr  \\\n",
       "10             Québec debout                 Québec debout   \n",
       "9       Forces et Démocratie          Forces et Démocratie   \n",
       "5                      Green         Parti verti du Canada   \n",
       "3                    Liberal       Parti libéral du Canada   \n",
       "0               Conservative  Parti conservateur du Canada   \n",
       "4                Independent                   Indépendant   \n",
       "1                        NDP    Nouveau Parti démocratique   \n",
       "7   Progressive Conservative      Progressive Conservative   \n",
       "6          Canadian Alliance             Canadian Alliance   \n",
       "8                     Reform        Reform Party of Canada   \n",
       "2                       Bloc                Bloc Québécois   \n",
       "\n",
       "               short_name_fr  \n",
       "10             Québec debout  \n",
       "9       Forces et Démocratie  \n",
       "5                       Vert  \n",
       "3                    Libéral  \n",
       "0               Conservateur  \n",
       "4                Indépendant  \n",
       "1                        NPD  \n",
       "7   Progressive Conservative  \n",
       "6          Canadian Alliance  \n",
       "8                     Reform  \n",
       "2                       Bloc  "
      ]
     },
     "execution_count": 20,
     "metadata": {},
     "output_type": "execute_result"
    }
   ],
   "source": [
    "party_talkers.sort_values(by='wordcount', ascending=True)"
   ]
  },
  {
   "cell_type": "markdown",
   "metadata": {},
   "source": [
    "The analysis here is that Liberals don't talk very much, which is surprising to the degree of feeling wrong - I wonder how much that distribution is skewed by the liberal back-benchers. There are also many more registered parties than this, but these got elected. "
   ]
  },
  {
   "cell_type": "code",
   "execution_count": null,
   "metadata": {},
   "outputs": [],
   "source": []
  },
  {
   "cell_type": "code",
   "execution_count": 21,
   "metadata": {},
   "outputs": [],
   "source": [
    "s = 'word'"
   ]
  },
  {
   "cell_type": "code",
   "execution_count": 22,
   "metadata": {},
   "outputs": [
    {
     "data": {
      "text/plain": [
       "'Word'"
      ]
     },
     "execution_count": 22,
     "metadata": {},
     "output_type": "execute_result"
    }
   ],
   "source": [
    "s.capitalize()"
   ]
  },
  {
   "cell_type": "code",
   "execution_count": null,
   "metadata": {},
   "outputs": [],
   "source": []
  },
  {
   "cell_type": "code",
   "execution_count": 23,
   "metadata": {},
   "outputs": [],
   "source": [
    "utterances_by_party = df.pivot_table(index='party_id', values='wordcount', aggfunc='count')"
   ]
  },
  {
   "cell_type": "code",
   "execution_count": 24,
   "metadata": {},
   "outputs": [
    {
     "data": {
      "text/html": [
       "<div>\n",
       "<style scoped>\n",
       "    .dataframe tbody tr th:only-of-type {\n",
       "        vertical-align: middle;\n",
       "    }\n",
       "\n",
       "    .dataframe tbody tr th {\n",
       "        vertical-align: top;\n",
       "    }\n",
       "\n",
       "    .dataframe thead th {\n",
       "        text-align: right;\n",
       "    }\n",
       "</style>\n",
       "<table border=\"1\" class=\"dataframe\">\n",
       "  <thead>\n",
       "    <tr style=\"text-align: right;\">\n",
       "      <th></th>\n",
       "      <th>wordcount</th>\n",
       "    </tr>\n",
       "    <tr>\n",
       "      <th>party_id</th>\n",
       "      <th></th>\n",
       "    </tr>\n",
       "  </thead>\n",
       "  <tbody>\n",
       "    <tr>\n",
       "      <th>1</th>\n",
       "      <td>256080</td>\n",
       "    </tr>\n",
       "    <tr>\n",
       "      <th>4</th>\n",
       "      <td>245537</td>\n",
       "    </tr>\n",
       "    <tr>\n",
       "      <th>2</th>\n",
       "      <td>142575</td>\n",
       "    </tr>\n",
       "    <tr>\n",
       "      <th>3</th>\n",
       "      <td>77341</td>\n",
       "    </tr>\n",
       "    <tr>\n",
       "      <th>25</th>\n",
       "      <td>53883</td>\n",
       "    </tr>\n",
       "    <tr>\n",
       "      <th>28</th>\n",
       "      <td>45177</td>\n",
       "    </tr>\n",
       "    <tr>\n",
       "      <th>5</th>\n",
       "      <td>17276</td>\n",
       "    </tr>\n",
       "    <tr>\n",
       "      <th>26</th>\n",
       "      <td>16065</td>\n",
       "    </tr>\n",
       "    <tr>\n",
       "      <th>9</th>\n",
       "      <td>4907</td>\n",
       "    </tr>\n",
       "    <tr>\n",
       "      <th>46</th>\n",
       "      <td>2175</td>\n",
       "    </tr>\n",
       "    <tr>\n",
       "      <th>39</th>\n",
       "      <td>382</td>\n",
       "    </tr>\n",
       "  </tbody>\n",
       "</table>\n",
       "</div>"
      ],
      "text/plain": [
       "          wordcount\n",
       "party_id           \n",
       "1            256080\n",
       "4            245537\n",
       "2            142575\n",
       "3             77341\n",
       "25            53883\n",
       "28            45177\n",
       "5             17276\n",
       "26            16065\n",
       "9              4907\n",
       "46             2175\n",
       "39              382"
      ]
     },
     "execution_count": 24,
     "metadata": {},
     "output_type": "execute_result"
    }
   ],
   "source": [
    "utterances_by_party.sort_values(by='wordcount', ascending=False)"
   ]
  },
  {
   "cell_type": "code",
   "execution_count": 32,
   "metadata": {},
   "outputs": [],
   "source": [
    "utterances_by_party = pd.merge(utterances_by_party, core_party, left_on='party_id', right_on='id')"
   ]
  },
  {
   "cell_type": "code",
   "execution_count": 34,
   "metadata": {},
   "outputs": [
    {
     "data": {
      "text/html": [
       "<div>\n",
       "<style scoped>\n",
       "    .dataframe tbody tr th:only-of-type {\n",
       "        vertical-align: middle;\n",
       "    }\n",
       "\n",
       "    .dataframe tbody tr th {\n",
       "        vertical-align: top;\n",
       "    }\n",
       "\n",
       "    .dataframe thead th {\n",
       "        text-align: right;\n",
       "    }\n",
       "</style>\n",
       "<table border=\"1\" class=\"dataframe\">\n",
       "  <thead>\n",
       "    <tr style=\"text-align: right;\">\n",
       "      <th></th>\n",
       "      <th>wordcount</th>\n",
       "      <th>id</th>\n",
       "      <th>name_en</th>\n",
       "      <th>slug</th>\n",
       "      <th>short_name_en</th>\n",
       "      <th>name_fr</th>\n",
       "      <th>short_name_fr</th>\n",
       "    </tr>\n",
       "  </thead>\n",
       "  <tbody>\n",
       "    <tr>\n",
       "      <th>0</th>\n",
       "      <td>256080</td>\n",
       "      <td>1</td>\n",
       "      <td>Conservative Party of Canada</td>\n",
       "      <td>cpc</td>\n",
       "      <td>Conservative</td>\n",
       "      <td>Parti conservateur du Canada</td>\n",
       "      <td>Conservateur</td>\n",
       "    </tr>\n",
       "    <tr>\n",
       "      <th>3</th>\n",
       "      <td>245537</td>\n",
       "      <td>4</td>\n",
       "      <td>Liberal Party of Canada</td>\n",
       "      <td>liberal</td>\n",
       "      <td>Liberal</td>\n",
       "      <td>Parti libéral du Canada</td>\n",
       "      <td>Libéral</td>\n",
       "    </tr>\n",
       "    <tr>\n",
       "      <th>1</th>\n",
       "      <td>142575</td>\n",
       "      <td>2</td>\n",
       "      <td>New Democratic Party</td>\n",
       "      <td>NDP</td>\n",
       "      <td>NDP</td>\n",
       "      <td>Nouveau Parti démocratique</td>\n",
       "      <td>NPD</td>\n",
       "    </tr>\n",
       "    <tr>\n",
       "      <th>2</th>\n",
       "      <td>77341</td>\n",
       "      <td>3</td>\n",
       "      <td>Bloc Québécois</td>\n",
       "      <td>bloc</td>\n",
       "      <td>Bloc</td>\n",
       "      <td>Bloc Québécois</td>\n",
       "      <td>Bloc</td>\n",
       "    </tr>\n",
       "    <tr>\n",
       "      <th>6</th>\n",
       "      <td>53883</td>\n",
       "      <td>25</td>\n",
       "      <td>Canadian Alliance</td>\n",
       "      <td>alliance</td>\n",
       "      <td>Canadian Alliance</td>\n",
       "      <td>Canadian Alliance</td>\n",
       "      <td>Canadian Alliance</td>\n",
       "    </tr>\n",
       "    <tr>\n",
       "      <th>8</th>\n",
       "      <td>45177</td>\n",
       "      <td>28</td>\n",
       "      <td>Reform Party of Canada</td>\n",
       "      <td>reform</td>\n",
       "      <td>Reform</td>\n",
       "      <td>Reform Party of Canada</td>\n",
       "      <td>Reform</td>\n",
       "    </tr>\n",
       "    <tr>\n",
       "      <th>4</th>\n",
       "      <td>17276</td>\n",
       "      <td>5</td>\n",
       "      <td>Independent</td>\n",
       "      <td>IND</td>\n",
       "      <td>Independent</td>\n",
       "      <td>Indépendant</td>\n",
       "      <td>Indépendant</td>\n",
       "    </tr>\n",
       "    <tr>\n",
       "      <th>7</th>\n",
       "      <td>16065</td>\n",
       "      <td>26</td>\n",
       "      <td>Progressive Conservative</td>\n",
       "      <td>pc</td>\n",
       "      <td>Progressive Conservative</td>\n",
       "      <td>Progressive Conservative</td>\n",
       "      <td>Progressive Conservative</td>\n",
       "    </tr>\n",
       "    <tr>\n",
       "      <th>5</th>\n",
       "      <td>4907</td>\n",
       "      <td>9</td>\n",
       "      <td>Green Party of Canada</td>\n",
       "      <td>green</td>\n",
       "      <td>Green</td>\n",
       "      <td>Parti verti du Canada</td>\n",
       "      <td>Vert</td>\n",
       "    </tr>\n",
       "    <tr>\n",
       "      <th>10</th>\n",
       "      <td>2175</td>\n",
       "      <td>46</td>\n",
       "      <td>Québec debout</td>\n",
       "      <td>NaN</td>\n",
       "      <td>Québec debout</td>\n",
       "      <td>Québec debout</td>\n",
       "      <td>Québec debout</td>\n",
       "    </tr>\n",
       "    <tr>\n",
       "      <th>9</th>\n",
       "      <td>382</td>\n",
       "      <td>39</td>\n",
       "      <td>Forces et Démocratie</td>\n",
       "      <td>forces</td>\n",
       "      <td>Forces et Démocratie</td>\n",
       "      <td>Forces et Démocratie</td>\n",
       "      <td>Forces et Démocratie</td>\n",
       "    </tr>\n",
       "  </tbody>\n",
       "</table>\n",
       "</div>"
      ],
      "text/plain": [
       "    wordcount  id                       name_en      slug  \\\n",
       "0      256080   1  Conservative Party of Canada       cpc   \n",
       "3      245537   4       Liberal Party of Canada   liberal   \n",
       "1      142575   2          New Democratic Party       NDP   \n",
       "2       77341   3                Bloc Québécois      bloc   \n",
       "6       53883  25             Canadian Alliance  alliance   \n",
       "8       45177  28        Reform Party of Canada    reform   \n",
       "4       17276   5                   Independent       IND   \n",
       "7       16065  26      Progressive Conservative        pc   \n",
       "5        4907   9         Green Party of Canada     green   \n",
       "10       2175  46                 Québec debout       NaN   \n",
       "9         382  39          Forces et Démocratie    forces   \n",
       "\n",
       "               short_name_en                       name_fr  \\\n",
       "0               Conservative  Parti conservateur du Canada   \n",
       "3                    Liberal       Parti libéral du Canada   \n",
       "1                        NDP    Nouveau Parti démocratique   \n",
       "2                       Bloc                Bloc Québécois   \n",
       "6          Canadian Alliance             Canadian Alliance   \n",
       "8                     Reform        Reform Party of Canada   \n",
       "4                Independent                   Indépendant   \n",
       "7   Progressive Conservative      Progressive Conservative   \n",
       "5                      Green         Parti verti du Canada   \n",
       "10             Québec debout                 Québec debout   \n",
       "9       Forces et Démocratie          Forces et Démocratie   \n",
       "\n",
       "               short_name_fr  \n",
       "0               Conservateur  \n",
       "3                    Libéral  \n",
       "1                        NPD  \n",
       "2                       Bloc  \n",
       "6          Canadian Alliance  \n",
       "8                     Reform  \n",
       "4                Indépendant  \n",
       "7   Progressive Conservative  \n",
       "5                       Vert  \n",
       "10             Québec debout  \n",
       "9       Forces et Démocratie  "
      ]
     },
     "execution_count": 34,
     "metadata": {},
     "output_type": "execute_result"
    }
   ],
   "source": [
    "utterances_by_party.sort_values(by='wordcount', ascending=False)"
   ]
  },
  {
   "cell_type": "code",
   "execution_count": 28,
   "metadata": {},
   "outputs": [],
   "source": [
    "stop_words = set(stopwords.words('english'))  "
   ]
  },
  {
   "cell_type": "code",
   "execution_count": 29,
   "metadata": {},
   "outputs": [
    {
     "data": {
      "text/plain": [
       "Index(['id', 'politician_id', 'riding_id', 'party_id', 'end_date',\n",
       "       'start_date', 'id.1', 'document_id', 'time', 'h1_en', 'h2_en',\n",
       "       'member_id', 'who_en', 'content_en', 'sequence_en', 'wordcount',\n",
       "       'politician_id.1', 'procedural', 'h3_en', 'who_hocid', 'content_fr',\n",
       "       'statement_type', 'written_question', 'source_id', 'who_context_en',\n",
       "       'slug', 'urlcache', 'h1_fr', 'h2_fr', 'h3_fr', 'who_fr',\n",
       "       'who_context_fr', 'wordcount_en', 'tokenized_content', 'slug_length'],\n",
       "      dtype='object')"
      ]
     },
     "execution_count": 29,
     "metadata": {},
     "output_type": "execute_result"
    }
   ],
   "source": [
    "df.columns"
   ]
  },
  {
   "cell_type": "code",
   "execution_count": null,
   "metadata": {},
   "outputs": [],
   "source": [
    "filtered_sentence = [w for w in word_tokens if not w in stop_words]  "
   ]
  },
  {
   "cell_type": "code",
   "execution_count": 32,
   "metadata": {},
   "outputs": [
    {
     "data": {
      "text/plain": [
       "0    ['mr.', 'speaker', ',', 'i', 'rise', 'on', 'a'...\n",
       "1    ['mr.', 'speaker', ',', 'i', 'rise', 'on', 'a'...\n",
       "2    ['finally', ',', 'mr.', 'speaker', ',', 'i', '...\n",
       "3    ['finally', ',', 'mr.', 'speaker', ',', 'i', '...\n",
       "4    ['mr.', 'speaker', ',', 'i', 'rise', 'today', ...\n",
       "Name: tokenized_content, dtype: object"
      ]
     },
     "execution_count": 32,
     "metadata": {},
     "output_type": "execute_result"
    }
   ],
   "source": [
    "df.tokenized_content[:5]"
   ]
  },
  {
   "cell_type": "code",
   "execution_count": 34,
   "metadata": {},
   "outputs": [],
   "source": [
    "t = set(tokens)"
   ]
  },
  {
   "cell_type": "code",
   "execution_count": 35,
   "metadata": {},
   "outputs": [],
   "source": [
    "speaker_tokens = set()"
   ]
  },
  {
   "cell_type": "code",
   "execution_count": 36,
   "metadata": {},
   "outputs": [
    {
     "data": {
      "text/plain": [
       "set()"
      ]
     },
     "execution_count": 36,
     "metadata": {},
     "output_type": "execute_result"
    }
   ],
   "source": [
    "speaker_tokens"
   ]
  },
  {
   "cell_type": "code",
   "execution_count": 37,
   "metadata": {},
   "outputs": [],
   "source": [
    "speaker_tokens.update(t)"
   ]
  },
  {
   "cell_type": "code",
   "execution_count": 42,
   "metadata": {},
   "outputs": [],
   "source": [
    "a = ['.',  'Care',  'He',  'Intensive',  'Neonatal']"
   ]
  },
  {
   "cell_type": "code",
   "execution_count": 44,
   "metadata": {},
   "outputs": [],
   "source": [
    "df_small = df[:10000]"
   ]
  },
  {
   "cell_type": "code",
   "execution_count": 45,
   "metadata": {},
   "outputs": [],
   "source": [
    "df_small = df.to_csv(r\"D:\\data\\openparliament\\statements_nospeaker_en_small.csv\")"
   ]
  },
  {
   "cell_type": "code",
   "execution_count": null,
   "metadata": {},
   "outputs": [],
   "source": []
  }
 ],
 "metadata": {
  "kernelspec": {
   "display_name": "Python 3",
   "language": "python",
   "name": "python3"
  },
  "language_info": {
   "codemirror_mode": {
    "name": "ipython",
    "version": 3
   },
   "file_extension": ".py",
   "mimetype": "text/x-python",
   "name": "python",
   "nbconvert_exporter": "python",
   "pygments_lexer": "ipython3",
   "version": "3.6.12"
  }
 },
 "nbformat": 4,
 "nbformat_minor": 4
}
