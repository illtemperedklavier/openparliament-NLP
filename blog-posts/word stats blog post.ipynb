{
 "cells": [
  {
   "cell_type": "markdown",
   "metadata": {},
   "source": [
    "## Words in politics"
   ]
  },
  {
   "cell_type": "markdown",
   "metadata": {},
   "source": [
    "intro part 1 "
   ]
  },
  {
   "cell_type": "markdown",
   "metadata": {},
   "source": [
    "Combating the climate crisis is the definitive existential challenge of this time, and the 2018 Nobel Prize in economics was won by Nordhaus and Romer (US), who proved that carbon pricing would be an effective strategy for combatting climate change. Since that is a matter of federal policy, there are public transcripts of government proceedings, and I specialize in NLP, I'm seeing what I can see with the government and political data I have access to. This is a very perfunctory initial look at what I found. The data I'm using here is from openparliament.ca, which makes tracking the progress of bills through government easy, and provides the Hansard transcipts of House sittings*. "
   ]
  },
  {
   "cell_type": "markdown",
   "metadata": {},
   "source": [
    "*Hansard transcripts are lightly edited public-information transcripts of the proceedings of the House of Commons of Canada, the UK, New Zealand, and other Westminister-system governments, named after a British parlimentarian who published the proceedings of the British Parliament in a newpaper. (Americans: pretend I said Congress. I didn't, and it isn't, but it'll make enough sense for this) "
   ]
  },
  {
   "cell_type": "markdown",
   "metadata": {},
   "source": [
    "For this, I used proceedings from sessions between Jan 1 2000, and August 2020. Since the Canadian parliament has statements in both official languages, I isolated the English statements. Statements made by the Speaker in the capacity as the Speaker tend to be very standardized and are just part of the procedure, so I removed them. "
   ]
  },
  {
   "cell_type": "markdown",
   "metadata": {},
   "source": []
  },
  {
   "cell_type": "markdown",
   "metadata": {},
   "source": [
    "https://www.lingo-ninja.com/RepsVsDems"
   ]
  },
  {
   "cell_type": "markdown",
   "metadata": {},
   "source": [
    "This is an interesting article that shows how and why it's important to actually look at the data before you make any conclusions. They claim that for US politicians, contrary to what you'd expect, Republicans tend to use larger vocabularies, Sarah Palin has the biggest vocabulary of all, and Trump has a bigger vocabulary than Joe Biden. While I am amenable to statistics, I find those conclusions very surprising, to say the least. Glancing at their methodology, they don't do any form of lemmatizing, spelling correction, punctuation, or stopword removal, they just use a tokenizer. That means it's possible for Trump to have a large vocabulary through hamberders and variably-sized ellipses....."
   ]
  },
  {
   "cell_type": "markdown",
   "metadata": {},
   "source": [
    "In order to avoid accusing MPs who list street names of having large vocabularies, I used the en-core-web-sm POS tagger from spaCy, and eliminated stopwords, punctuation, and proper nouns. There are over 1000 MPs who have had a seat in those years, and those MPs spoke [find actual number] about 860000 times.   \n",
    "\n",
    "As the number of words spoken by an individual MP can range quite a bit (7 to 2615448, to be more precise), a raw vocabulary comparison would hardly by fair. Since stopword usage and the presence of punctuation is more or less a constant, I divided their range of meaningful words by their total tokens uttered. Because I'm curious about whether vocabularies have changed over time, I plotted the normalized vocabulary size against the start dates of MPs in office. "
   ]
  },
  {
   "cell_type": "markdown",
   "metadata": {},
   "source": [
    "<img src=\"files/images/vocab_size_estimate_over_time.png\">  "
   ]
  },
  {
   "cell_type": "markdown",
   "metadata": {},
   "source": [
    "[Flesch reading ease score]"
   ]
  },
  {
   "cell_type": "markdown",
   "metadata": {},
   "source": [
    "The Flesch reading ease score is a metric made of a combination of sentence length and vocabulary used. This graph below was a bit surprising to me, but makes sense upon research. An important thing to note with the Flesch score is that the higher the score, the easier something is to read. As you can see below, the MPs with the most difficult statements to read come from the Forces et Démocratie (Strength In Democracy) party formed by members of the Bloc Québécois and New Democratic Party. As Forces was formed by highly educated former MPs (one founding member was a university professor), it is unsurprising that their language is more academic than what is seen with the Liberals or Conservatives, since those parties have a very broad base."
   ]
  },
  {
   "cell_type": "markdown",
   "metadata": {},
   "source": [
    "Flesch reading ease"
   ]
  },
  {
   "cell_type": "markdown",
   "metadata": {},
   "source": [
    "## Finding common phrases:\n",
    "\n",
    "I took two approaches here. One of them was manually counting the ngrams used, and one was using TextBlob, a Python library that does noun phrase chunking. I used the nltk tokenizer and eliminated stop words, and the bigrams that I found per party were essentially useless. \n",
    "\n",
    "\n",
    "[list]\n",
    "\n",
    "The 4-grams that I found were a little bit more illuminating, the most striking common phrase that came up was \"job killing carbon tax\", from the Conservatives. \n",
    "[list]\n",
    "\n",
    "\n",
    "I decided to use TextBlob, because in their built-in functionality, they identify noun phrases of variable length. I identified the noun phrases, and then used a counter object to identify the most frequent: "
   ]
  },
  {
   "cell_type": "markdown",
   "metadata": {},
   "source": [
    "party:  liberal\n",
    "\n",
    "[('canada', 3134), ('canadians', 1946), ('prime', 1132), ('kyoto', 910), ('environment', 909), ('conservatives', 779), ('yukon', 555), ('conservative', 520), ('quebec', 481), ('will', 362)]\n",
    "\n",
    "party:  conservative\n",
    "\n",
    "[('canada', 4035), ('canadians', 2891), ('carbon tax', 1608), ('greenhouse gas emissions', 1202), ('prime', 1163), ('kyoto', 1017), ('ndp', 931), ('environment', 655), ('greenhouse gases', 611), ('quebec', 579)]\n",
    "\n",
    "party:  conservative\n",
    "\n",
    "[('canada', 454), ('kyoto', 346), ('canadians', 304), ('ndp', 153), ('yukon', 116), ('greenhouse gas emissions', 115), ('environment', 110), ('prime', 88), ('carbon tax', 83), ('liberal party', 82)]\n",
    "\n",
    "party:  conservative\n",
    "\n",
    "[('canada', 366), ('kyoto', 332), ('canadians', 208), ('ndp', 110), ('greenhouse gas emissions', 109), ('environment', 101), ('liberal party', 75), ('greenhouse gases', 69), ('yukon', 64), ('prime', 61)]\n",
    "\n",
    "party:  NDP\n",
    "\n",
    "[('canada', 1822), ('conservatives', 1284), ('canadians', 1161), ('prime', 748), ('environment', 539), ('will', 497), ('conservative', 458), ('kyoto', 378), ('ndp', 312), ('greenhouse gas emissions', 286)]\n",
    "\n",
    "party:  bloc\n",
    "\n",
    "[('quebec', 3487), ('canada', 1416), ('kyoto', 1341), ('environment', 1128), ('prime', 1019), ('federal government', 719), ('greenhouse gas emissions', 677), ('will', 560), ('oil companies', 492), ('does', 407)]\n",
    "\n",
    "party:  conservative\n",
    "\n",
    "[('canada', 95), ('kyoto', 47), ('environment', 35), ('canadians', 35), ('progressive conservative', 28), ('prime', 28), ('federal government', 25), ('ceaa', 25), ('environmental assessment', 21), ('sydney', 21)]\n",
    "\n",
    "party:  independent\n",
    "\n",
    "[('canada', 262), ('canadians', 116), ('conservatives', 74), ('quebec', 72), ('environment', 64), ('ela', 55), ('conservative', 49), ('prime', 45), ('will', 37), ('carbon fee', 36)]\n",
    "\n",
    "party:  quebec\n",
    "\n",
    "[('quebec', 14), ('harry', 11), ('oil spill', 7), ('will', 7), ('quebeckers', 6), ('lawrence', 5), ('magdalen', 4), ('environment', 4), ('transcanada', 4), ('cacouna', 4)]\n",
    "\n",
    "party:  green\n",
    "\n",
    "[('canada', 345), ('prime', 156), ('canadians', 84), ('environment', 75), ('paris', 75), ('conservatives', 74), ('climate', 57), ('arctic', 57), ('copenhagen', 57), ('ela', 55)]\n",
    "\n",
    "party:  quebec\n",
    "\n",
    "[('quebec', 70), ('canada', 32), ('prime', 27), ('quebeckers', 26), ('ottawa', 20), ('will', 18), ('greenhouse gas emissions', 16), ('paris', 14), ('conservatives', 13), ('environment', 12)]\n"
   ]
  },
  {
   "cell_type": "markdown",
   "metadata": {},
   "source": [
    "## Heuristic-Based Topic Modelling:\n",
    "\n",
    "I wanted to take another look at what kinds of topics of discussion are in the transcripts, so I used the gensim LSI and LDA topic modellers. Here are the words associated with 5 topics found by LDA:"
   ]
  },
  {
   "cell_type": "markdown",
   "metadata": {},
   "source": [
    "The LDA topics look slightly better to me, but they basically just show that the parliamentarians talked about the environment, climate, carbon, Yukon, Quebec, and Alberta."
   ]
  },
  {
   "cell_type": "code",
   "execution_count": null,
   "metadata": {},
   "outputs": [],
   "source": []
  }
 ],
 "metadata": {
  "kernelspec": {
   "display_name": "Python 3",
   "language": "python",
   "name": "python3"
  },
  "language_info": {
   "codemirror_mode": {
    "name": "ipython",
    "version": 3
   },
   "file_extension": ".py",
   "mimetype": "text/x-python",
   "name": "python",
   "nbconvert_exporter": "python",
   "pygments_lexer": "ipython3",
   "version": "3.6.12"
  }
 },
 "nbformat": 4,
 "nbformat_minor": 4
}
