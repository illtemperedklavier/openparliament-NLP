{
 "cells": [
  {
   "cell_type": "markdown",
   "metadata": {},
   "source": [
    "## Words in politics"
   ]
  },
  {
   "cell_type": "markdown",
   "metadata": {},
   "source": [
    "intro part 1 "
   ]
  },
  {
   "cell_type": "markdown",
   "metadata": {},
   "source": [
    "Combating the climate crisis is something that I'm passionate about, and I agree with the many economists who say that carbon pricing is the best strategy. Since that is a matter of federal policy, there are public transcripts of government proceedings, and I specialize in NLP, I'm seeing what I can do with the government and political data I have access to. This is a very perfunctory initial look at what I found. The data I'm using here is from openparliament.ca, which makes tracking the progress of bills through government easy, and provides the Hansard transcipts of House sittings*. "
   ]
  },
  {
   "cell_type": "markdown",
   "metadata": {},
   "source": [
    "*Hansard transcripts are lightly edited public-information transcripts of the proceedings of the House of Commons of Canada, the UK, New Zealand, and other Westminister-system governments, named after a British parlimentarian who published the proceedings of the British Parliament in a newpaper. (Americans: pretend I said Congress. I didn't, and it isn't, but it'll make enough sense for this) "
   ]
  },
  {
   "cell_type": "markdown",
   "metadata": {},
   "source": [
    "For this, I used proceedings from sessions between Jan 1 2000, and August 2020. Since the Canadian parliament has statements in both official languages, I isolated the English statements. Statements made by the Speaker in the capacity as the Speaker tend to be very standardized and are just part of the procedure, so I removed them. "
   ]
  },
  {
   "cell_type": "markdown",
   "metadata": {},
   "source": []
  },
  {
   "cell_type": "markdown",
   "metadata": {},
   "source": [
    "https://www.lingo-ninja.com/RepsVsDems"
   ]
  },
  {
   "cell_type": "markdown",
   "metadata": {},
   "source": [
    "This is an interesting article that shows how and why it's important to actually look at the data before you make any conclusions. They claim that for US politicians, contrary to what you'd expect, Republicans tend to use larger vocabularies, Sarah Palin has the biggest vocabulary of all, and Trump has a bigger vocabulary than Joe Biden. While I am amenable to statistics, I find those conclusions very surprising, to say the least. Glancing at their methodology, they don't do any form of lemmatizing, spelling correction, punctuation, or stopword removal, they just use a tokenizer. That means it's possible for Trump to have a large vocabulary through hamberders and variably-sized ellipses...."
   ]
  },
  {
   "cell_type": "markdown",
   "metadata": {},
   "source": [
    "In order to avoid accusing MPs who list street names of having large vocabularies, I used the en-core-web-sm POS tagger from spaCy, and eliminated stopwords, punctuation, and proper nouns. Since by nature, the Speaker of the House speaks much more often than other MPs, and gives a lot of boilerplate statements, I eliminated statements made by the Speaker. Since there were 5 Speakers since 2000, though that is a large portion of statements made, there are over 1000 MPs who have had a seat in those years.  \n",
    "\n",
    "As the number of words spoken by an individual MP can range quite a bit (7 to 2615448, to be more precise), a raw vocabulary comparison would hardly by fair. Since stopword usage and the presence of punctuation is more or less a constant, I divided their range of meaningful words by their total tokens uttered. Because I'm curious about whether vocabularies have changed over time, I plotted the normalized vocabulary size against the start dates of MPs in office. "
   ]
  },
  {
   "cell_type": "markdown",
   "metadata": {},
   "source": [
    "<img src=\"files/images/vocab_size_estimate_over_time.png\">  "
   ]
  },
  {
   "cell_type": "markdown",
   "metadata": {},
   "source": [
    "The Flesch reading ease score is a metric made of a combination of sentence length and vocabulary used. This graph below was a bit surprising to me, but makes sense upon research. An important thing to note with the Flesch score is that the higher the score, the easier something is to read. As you can see below, the MPs with the most difficult statements to read come from the Forces et Démocratie (Strength In Democracy) party formed by members of the Bloc Quebecois and New Democratic Party. As Forces was formed by highly educated former MPs (one founding member was a university professor), it is unsurprising that their language is more academic than what is seen with the Liberals or Conservatives, since those parties have a very broad base."
   ]
  },
  {
   "cell_type": "code",
   "execution_count": null,
   "metadata": {},
   "outputs": [],
   "source": []
  }
 ],
 "metadata": {
  "kernelspec": {
   "display_name": "Python 3",
   "language": "python",
   "name": "python3"
  },
  "language_info": {
   "codemirror_mode": {
    "name": "ipython",
    "version": 3
   },
   "file_extension": ".py",
   "mimetype": "text/x-python",
   "name": "python",
   "nbconvert_exporter": "python",
   "pygments_lexer": "ipython3",
   "version": "3.6.12"
  }
 },
 "nbformat": 4,
 "nbformat_minor": 4
}
