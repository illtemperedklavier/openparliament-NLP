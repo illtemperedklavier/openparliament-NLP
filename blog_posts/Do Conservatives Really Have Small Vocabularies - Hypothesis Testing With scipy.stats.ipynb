{
 "cells": [
  {
   "cell_type": "markdown",
   "metadata": {},
   "source": [
    "# Hypothesis Testing with scipy.stats"
   ]
  },
  {
   "cell_type": "markdown",
   "metadata": {},
   "source": [
    "This will be item 2 in what will be a series of posts on mining information from a psql dump of openparliament.ca. "
   ]
  },
  {
   "cell_type": "markdown",
   "metadata": {},
   "source": [
    "It's easy enough and informative enough to graph data and then draw a conclusion from eyeballing your graph. That wouldn't pass muster in any empirical context, however, so an important skill for any kind of scientist or individual seeking funding or publishing results in a journal is testing their hypotheses. "
   ]
  },
  {
   "cell_type": "markdown",
   "metadata": {},
   "source": [
    "https://www.lingo-ninja.com/RepsVsDems This article contradicts the claim that in the US, Democrats tend to have a larger vocabulary than Republicans, with an analysis of words tweeted. In my earlier post, I commented on their methodological choices, and explained how in contrast, for my analysis, I use the pre-trained SpaCy POS tagger to remove named entities, stopwords, and punctuation, and then save the lemmas to a Counter object. Another benefit of this is that it avoids overcounting different forms of a word with the same root, but in contrast to stemming, lemmatization maintains the distinction between homographs - words that share spellings, but have different meanings. An example is \"tear\", as in \"he had a **tear** in his eye\", or \"tear\" (verb) - \"he plans to **tear** that fabric\".   "
   ]
  },
  {
   "cell_type": "code",
   "execution_count": 2,
   "metadata": {},
   "outputs": [],
   "source": [
    "import pandas as pd\n",
    "import numpy as np"
   ]
  },
  {
   "cell_type": "code",
   "execution_count": 3,
   "metadata": {},
   "outputs": [],
   "source": [
    "%config Completer.use_jedi = False "
   ]
  },
  {
   "cell_type": "code",
   "execution_count": 4,
   "metadata": {},
   "outputs": [],
   "source": [
    "pol_vocab = pd.read_csv(r\"D:\\data\\openparliament\\politician_vocab.csv\",index_col='Unnamed: 0')"
   ]
  },
  {
   "cell_type": "code",
   "execution_count": 5,
   "metadata": {},
   "outputs": [
    {
     "data": {
      "text/html": [
       "<div>\n",
       "<style scoped>\n",
       "    .dataframe tbody tr th:only-of-type {\n",
       "        vertical-align: middle;\n",
       "    }\n",
       "\n",
       "    .dataframe tbody tr th {\n",
       "        vertical-align: top;\n",
       "    }\n",
       "\n",
       "    .dataframe thead th {\n",
       "        text-align: right;\n",
       "    }\n",
       "</style>\n",
       "<table border=\"1\" class=\"dataframe\">\n",
       "  <thead>\n",
       "    <tr style=\"text-align: right;\">\n",
       "      <th></th>\n",
       "      <th>politician_id</th>\n",
       "      <th>riding_id</th>\n",
       "      <th>party_id</th>\n",
       "      <th>end_date</th>\n",
       "      <th>start_date</th>\n",
       "      <th>vocab_size</th>\n",
       "      <th>token_count</th>\n",
       "    </tr>\n",
       "  </thead>\n",
       "  <tbody>\n",
       "    <tr>\n",
       "      <th>0</th>\n",
       "      <td>2693</td>\n",
       "      <td>70159</td>\n",
       "      <td>5</td>\n",
       "      <td>2000-09-11</td>\n",
       "      <td>2000-04-02</td>\n",
       "      <td>3340</td>\n",
       "      <td>161660</td>\n",
       "    </tr>\n",
       "    <tr>\n",
       "      <th>1</th>\n",
       "      <td>2693</td>\n",
       "      <td>70159</td>\n",
       "      <td>4</td>\n",
       "      <td>2001-01-28</td>\n",
       "      <td>2000-09-12</td>\n",
       "      <td>3340</td>\n",
       "      <td>161660</td>\n",
       "    </tr>\n",
       "    <tr>\n",
       "      <th>2</th>\n",
       "      <td>2693</td>\n",
       "      <td>70159</td>\n",
       "      <td>26</td>\n",
       "      <td>2000-04-01</td>\n",
       "      <td>1997-09-22</td>\n",
       "      <td>3340</td>\n",
       "      <td>161660</td>\n",
       "    </tr>\n",
       "    <tr>\n",
       "      <th>3</th>\n",
       "      <td>2693</td>\n",
       "      <td>24016</td>\n",
       "      <td>4</td>\n",
       "      <td>2004-05-23</td>\n",
       "      <td>2001-01-29</td>\n",
       "      <td>3340</td>\n",
       "      <td>161660</td>\n",
       "    </tr>\n",
       "    <tr>\n",
       "      <th>4</th>\n",
       "      <td>4136</td>\n",
       "      <td>59023</td>\n",
       "      <td>4</td>\n",
       "      <td>2005-05-23</td>\n",
       "      <td>2002-01-28</td>\n",
       "      <td>2545</td>\n",
       "      <td>53121</td>\n",
       "    </tr>\n",
       "  </tbody>\n",
       "</table>\n",
       "</div>"
      ],
      "text/plain": [
       "   politician_id  riding_id  party_id    end_date  start_date  vocab_size  \\\n",
       "0           2693      70159         5  2000-09-11  2000-04-02        3340   \n",
       "1           2693      70159         4  2001-01-28  2000-09-12        3340   \n",
       "2           2693      70159        26  2000-04-01  1997-09-22        3340   \n",
       "3           2693      24016         4  2004-05-23  2001-01-29        3340   \n",
       "4           4136      59023         4  2005-05-23  2002-01-28        2545   \n",
       "\n",
       "   token_count  \n",
       "0       161660  \n",
       "1       161660  \n",
       "2       161660  \n",
       "3       161660  \n",
       "4        53121  "
      ]
     },
     "execution_count": 5,
     "metadata": {},
     "output_type": "execute_result"
    }
   ],
   "source": [
    "##don't copy\n",
    "pol_vocab.drop(['member_id', 'log_words', 'scaled'], axis=1, inplace=True)\n",
    "pol_vocab.head()"
   ]
  },
  {
   "cell_type": "markdown",
   "metadata": {},
   "source": [
    "The first thing to note is this isn't a comparison of vocabulary sizes as counted by the previous methodology, because it wouldn't be fair to compare the vocab sizes for an MP without context for how many words they've spoken in general. "
   ]
  },
  {
   "cell_type": "markdown",
   "metadata": {},
   "source": [
    "In order to get that statistic, I loaded in the original text data, split into tokens by *nltk.word_tokenizer*.This does not have the stopword removal, POS-tagging, and lemmatization mentioned earlier, but as these are all of the statements made in that time frame, I'm making the assumption that they all use about the same number of stopwords, and there aren't huge differences in naming names. I sincerely doubt there's an MP who only goes on the floor to list street names. "
   ]
  },
  {
   "cell_type": "code",
   "execution_count": 6,
   "metadata": {},
   "outputs": [
    {
     "name": "stderr",
     "output_type": "stream",
     "text": [
      "C:\\Users\\alecr\\Anaconda3\\envs\\gensim_env\\lib\\site-packages\\IPython\\core\\interactiveshell.py:3072: DtypeWarning: Columns (20,23,28,29,30,31,32,33) have mixed types.Specify dtype option on import or set low_memory=False.\n",
      "  interactivity=interactivity, compiler=compiler, result=result)\n"
     ]
    }
   ],
   "source": [
    "df = pd.read_csv(r\"D:\\data\\openparliament\\text_en.csv\",index_col='Unnamed: 0')"
   ]
  },
  {
   "cell_type": "code",
   "execution_count": 7,
   "metadata": {},
   "outputs": [],
   "source": [
    "from ast import literal_eval\n",
    "df['tokens'] = df.tokens.apply(literal_eval)\n",
    "df['token_count'] = df.tokens.apply(lambda x: len(x))"
   ]
  },
  {
   "cell_type": "code",
   "execution_count": 8,
   "metadata": {},
   "outputs": [],
   "source": [
    "words_spoken = df.pivot_table(index='politician_id', values='token_count', aggfunc=sum)\n",
    "words_spoken.reset_index(inplace=True)"
   ]
  },
  {
   "cell_type": "code",
   "execution_count": 29,
   "metadata": {},
   "outputs": [
    {
     "data": {
      "text/plain": [
       "count    1.051000e+03\n",
       "mean     1.138286e+05\n",
       "std      1.755304e+05\n",
       "min      4.000000e+00\n",
       "25%      1.892550e+04\n",
       "50%      5.104100e+04\n",
       "75%      1.289090e+05\n",
       "max      1.414664e+06\n",
       "Name: token_count, dtype: float64"
      ]
     },
     "execution_count": 29,
     "metadata": {},
     "output_type": "execute_result"
    }
   ],
   "source": [
    "words_spoken.token_count.describe()"
   ]
  },
  {
   "cell_type": "markdown",
   "metadata": {},
   "source": [
    "As you can see here, there are six orders of magnitude between the most and least locquacious members by number of raw tokens spoken ever(remember Python's scientific notation). For this, I'm going to scale the sum of tokens spoken with a natural log."
   ]
  },
  {
   "cell_type": "code",
   "execution_count": 9,
   "metadata": {},
   "outputs": [],
   "source": [
    "words_spoken['log_words'] = words_spoken.token_count.apply(np.log)"
   ]
  },
  {
   "cell_type": "code",
   "execution_count": 10,
   "metadata": {},
   "outputs": [
    {
     "data": {
      "text/plain": [
       "count    1051.000000\n",
       "mean       10.681356\n",
       "std         1.602146\n",
       "min         1.386294\n",
       "25%         9.848248\n",
       "50%        10.840385\n",
       "75%        11.766860\n",
       "max        14.162403\n",
       "Name: log_words, dtype: float64"
      ]
     },
     "execution_count": 10,
     "metadata": {},
     "output_type": "execute_result"
    }
   ],
   "source": [
    "words_spoken.log_words.describe()"
   ]
  },
  {
   "cell_type": "code",
   "execution_count": 11,
   "metadata": {},
   "outputs": [],
   "source": [
    "pol_vocab = pol_vocab.merge(words_spoken,how='inner',left_on='politician_id',right_on='politician_id')"
   ]
  },
  {
   "cell_type": "code",
   "execution_count": 12,
   "metadata": {},
   "outputs": [
    {
     "data": {
      "text/html": [
       "<div>\n",
       "<style scoped>\n",
       "    .dataframe tbody tr th:only-of-type {\n",
       "        vertical-align: middle;\n",
       "    }\n",
       "\n",
       "    .dataframe tbody tr th {\n",
       "        vertical-align: top;\n",
       "    }\n",
       "\n",
       "    .dataframe thead th {\n",
       "        text-align: right;\n",
       "    }\n",
       "</style>\n",
       "<table border=\"1\" class=\"dataframe\">\n",
       "  <thead>\n",
       "    <tr style=\"text-align: right;\">\n",
       "      <th></th>\n",
       "      <th>politician_id</th>\n",
       "      <th>riding_id</th>\n",
       "      <th>party_id</th>\n",
       "      <th>end_date</th>\n",
       "      <th>start_date</th>\n",
       "      <th>vocab_size</th>\n",
       "      <th>token_count_x</th>\n",
       "      <th>token_count_y</th>\n",
       "      <th>log_words</th>\n",
       "    </tr>\n",
       "  </thead>\n",
       "  <tbody>\n",
       "    <tr>\n",
       "      <th>0</th>\n",
       "      <td>2693</td>\n",
       "      <td>70159</td>\n",
       "      <td>5</td>\n",
       "      <td>2000-09-11</td>\n",
       "      <td>2000-04-02</td>\n",
       "      <td>3340</td>\n",
       "      <td>161660</td>\n",
       "      <td>161660</td>\n",
       "      <td>11.993251</td>\n",
       "    </tr>\n",
       "    <tr>\n",
       "      <th>1</th>\n",
       "      <td>2693</td>\n",
       "      <td>70159</td>\n",
       "      <td>4</td>\n",
       "      <td>2001-01-28</td>\n",
       "      <td>2000-09-12</td>\n",
       "      <td>3340</td>\n",
       "      <td>161660</td>\n",
       "      <td>161660</td>\n",
       "      <td>11.993251</td>\n",
       "    </tr>\n",
       "    <tr>\n",
       "      <th>2</th>\n",
       "      <td>2693</td>\n",
       "      <td>70159</td>\n",
       "      <td>26</td>\n",
       "      <td>2000-04-01</td>\n",
       "      <td>1997-09-22</td>\n",
       "      <td>3340</td>\n",
       "      <td>161660</td>\n",
       "      <td>161660</td>\n",
       "      <td>11.993251</td>\n",
       "    </tr>\n",
       "    <tr>\n",
       "      <th>3</th>\n",
       "      <td>2693</td>\n",
       "      <td>24016</td>\n",
       "      <td>4</td>\n",
       "      <td>2004-05-23</td>\n",
       "      <td>2001-01-29</td>\n",
       "      <td>3340</td>\n",
       "      <td>161660</td>\n",
       "      <td>161660</td>\n",
       "      <td>11.993251</td>\n",
       "    </tr>\n",
       "    <tr>\n",
       "      <th>4</th>\n",
       "      <td>4136</td>\n",
       "      <td>59023</td>\n",
       "      <td>4</td>\n",
       "      <td>2005-05-23</td>\n",
       "      <td>2002-01-28</td>\n",
       "      <td>2545</td>\n",
       "      <td>53121</td>\n",
       "      <td>53121</td>\n",
       "      <td>10.880328</td>\n",
       "    </tr>\n",
       "  </tbody>\n",
       "</table>\n",
       "</div>"
      ],
      "text/plain": [
       "   politician_id  riding_id  party_id    end_date  start_date  vocab_size  \\\n",
       "0           2693      70159         5  2000-09-11  2000-04-02        3340   \n",
       "1           2693      70159         4  2001-01-28  2000-09-12        3340   \n",
       "2           2693      70159        26  2000-04-01  1997-09-22        3340   \n",
       "3           2693      24016         4  2004-05-23  2001-01-29        3340   \n",
       "4           4136      59023         4  2005-05-23  2002-01-28        2545   \n",
       "\n",
       "   token_count_x  token_count_y  log_words  \n",
       "0         161660         161660  11.993251  \n",
       "1         161660         161660  11.993251  \n",
       "2         161660         161660  11.993251  \n",
       "3         161660         161660  11.993251  \n",
       "4          53121          53121  10.880328  "
      ]
     },
     "execution_count": 12,
     "metadata": {},
     "output_type": "execute_result"
    }
   ],
   "source": [
    "pol_vocab.head()"
   ]
  },
  {
   "cell_type": "markdown",
   "metadata": {},
   "source": [
    "At this point, this scaled vocabulary index can hardly be described as a vocabulary metric, so henceforth, I'm called it a vocabulary index."
   ]
  },
  {
   "cell_type": "code",
   "execution_count": 42,
   "metadata": {},
   "outputs": [],
   "source": [
    "pol_vocab['vocab_index'] = pol_vocab['vocab_size']/pol_vocab['log_words']"
   ]
  },
  {
   "cell_type": "code",
   "execution_count": 43,
   "metadata": {},
   "outputs": [
    {
     "data": {
      "text/plain": [
       "count    1499.000000\n",
       "mean      339.769742\n",
       "std       150.701900\n",
       "min         0.227560\n",
       "25%       229.792183\n",
       "50%       337.468426\n",
       "75%       441.582375\n",
       "max       856.785195\n",
       "Name: vocab_index, dtype: float64"
      ]
     },
     "execution_count": 43,
     "metadata": {},
     "output_type": "execute_result"
    }
   ],
   "source": [
    "pol_vocab.vocab_index.describe()"
   ]
  },
  {
   "cell_type": "code",
   "execution_count": 15,
   "metadata": {},
   "outputs": [],
   "source": [
    "party_dict = {1:'con',2:'lib',4:'lib',10: 'con', 3:'quebec', 28:'con', 25:'con', 5:'ind',26:'con', 46:'quebec',9:'lib', 39:'quebec'}"
   ]
  },
  {
   "cell_type": "markdown",
   "metadata": {},
   "source": [
    "Note: this bit of consolidation partially happened elsewhere, and I can imagine Quebec people, Green Party,NDP,and various flavours of piqued conservative party* voters protesting in rage that they can't be divided so casually into liberal, conservative, and quebec. Well, this is for the sake of a hypothesis testing demonstration, and there have been many iterations, fractures, and mergers of the Conservative party, but they consist of the same people. Here, for the sake of this analysis, the Conservative Party of Canada, Progressive Conservatives, Canadian Alliance, Reform Party of Canada, and the Canadian Reform Alliance Party (that name didn't last long) shall be treated as just one party. "
   ]
  },
  {
   "cell_type": "code",
   "execution_count": 16,
   "metadata": {},
   "outputs": [],
   "source": [
    "pol_vocab['party'] = pol_vocab.party_id.replace(party_dict)"
   ]
  },
  {
   "cell_type": "markdown",
   "metadata": {},
   "source": [
    "## The Null Hypothesis"
   ]
  },
  {
   "cell_type": "markdown",
   "metadata": {},
   "source": [
    "The first thing to do with any hypothesis testing is to decide upon a null hypothesis. That's what you would assume to be true in the simplest version of reality. In this case, I'll assume that since the people who work in the offices of MPs and prepare their speeches are by and large educated in the same places, they more or less write the same. The alternate hypothesis then must be that they're not the same. Remember that with hypothesis testing, the results of your testing will never *prove* your alternate hypothesis. You can only disprove a hypothesis, and the alternate hypothesis then becomes your next best conclusion. "
   ]
  },
  {
   "cell_type": "markdown",
   "metadata": {},
   "source": [
    "**H0**: VOCAB^conservatives = VOCAB^liberals\n",
    "\n",
    "**H1**: Vocab^conservatives != VOCAB^liberals"
   ]
  },
  {
   "cell_type": "code",
   "execution_count": 45,
   "metadata": {},
   "outputs": [],
   "source": [
    "party_means = pol_vocab.groupby('party').mean()"
   ]
  },
  {
   "cell_type": "code",
   "execution_count": 46,
   "metadata": {},
   "outputs": [
    {
     "data": {
      "text/plain": [
       "party\n",
       "con       376.690728\n",
       "ind       324.219212\n",
       "lib       320.684699\n",
       "quebec    312.969374\n",
       "Name: vocab_index, dtype: float64"
      ]
     },
     "execution_count": 46,
     "metadata": {},
     "output_type": "execute_result"
    }
   ],
   "source": [
    "party_means['vocab_index']"
   ]
  },
  {
   "cell_type": "code",
   "execution_count": 32,
   "metadata": {},
   "outputs": [],
   "source": [
    "import matplotlib.pyplot as plt"
   ]
  },
  {
   "cell_type": "code",
   "execution_count": 48,
   "metadata": {},
   "outputs": [
    {
     "data": {
      "image/png": "[encoded data removed]",
      "text/plain": [
       "<Figure size 432x288 with 1 Axes>"
      ]
     },
     "metadata": {
      "needs_background": "light"
     },
     "output_type": "display_data"
    }
   ],
   "source": [
    "plt.bar(['con', 'ind','lib','quebec'],party_means['vocab_index'],color=['blue','red','gray','black'])\n",
    "plt.ylabel('normalized mean vocab size')\n",
    "plt.xlabel('party group')\n",
    "plt.title('Mean normalized vocabulary size by major party group')\n",
    "plt.show()"
   ]
  },
  {
   "cell_type": "code",
   "execution_count": 49,
   "metadata": {},
   "outputs": [],
   "source": [
    "party_stds = pol_vocab.groupby('party').std()"
   ]
  },
  {
   "cell_type": "code",
   "execution_count": 50,
   "metadata": {},
   "outputs": [
    {
     "data": {
      "text/plain": [
       "party\n",
       "con       144.237433\n",
       "ind       134.225549\n",
       "lib       154.384062\n",
       "quebec    137.955541\n",
       "Name: vocab_index, dtype: float64"
      ]
     },
     "execution_count": 50,
     "metadata": {},
     "output_type": "execute_result"
    }
   ],
   "source": [
    "party_stds['vocab_index']"
   ]
  },
  {
   "cell_type": "markdown",
   "metadata": {},
   "source": [
    "The goal of hypothesis testing is to test whether these two means come from the same distribution. Initially, I planned on going through the calculation by hand - but if you're any kind of programmer, not reinventing the wheel should be your maxim. There are many great libraries for doing all manner of statistical tests, and unless you're using methodology that was just published (and even so!), your first task is to look for a library that will do it for you. "
   ]
  },
  {
   "cell_type": "code",
   "execution_count": 37,
   "metadata": {},
   "outputs": [],
   "source": [
    "from scipy.stats import ttest_ind"
   ]
  },
  {
   "cell_type": "markdown",
   "metadata": {},
   "source": [
    "Since the significance value always has to be decided upon ahead of time, I'm going to choose 0.05 as the P value, as that's the most common value used in experimentation in any field involving biological organisms or psychology."
   ]
  },
  {
   "cell_type": "code",
   "execution_count": 51,
   "metadata": {},
   "outputs": [],
   "source": [
    "conservative_vocab = pol_vocab[pol_vocab.party == 'con']['vocab_index']"
   ]
  },
  {
   "cell_type": "code",
   "execution_count": 52,
   "metadata": {},
   "outputs": [],
   "source": [
    "liberal_vocab = pol_vocab[pol_vocab.party == 'lib']['vocab_index']"
   ]
  },
  {
   "cell_type": "code",
   "execution_count": 53,
   "metadata": {},
   "outputs": [],
   "source": [
    "stat, p = ttest_ind(conservative_vocab,liberal_vocab)"
   ]
  },
  {
   "cell_type": "markdown",
   "metadata": {},
   "source": [
    "The ttest_ind function from scipy acts on two array-like structures (arrays or pandas series objects), and gives you the t-score and the p-value. In this case, since we've decided that if p <= 0.05, that is sufficient evidence to reject the null hypothesis, now it's time to see:"
   ]
  },
  {
   "cell_type": "code",
   "execution_count": 54,
   "metadata": {},
   "outputs": [
    {
     "data": {
      "text/plain": [
       "7.926164444339309e-11"
      ]
     },
     "execution_count": 54,
     "metadata": {},
     "output_type": "execute_result"
    }
   ],
   "source": [
    "p"
   ]
  },
  {
   "cell_type": "markdown",
   "metadata": {},
   "source": [
    "This is in scientific notation, so the p value is ~0.0000000000079, which is a *very* small number. This is sufficient to reject the null hypothesis, that conservatives and liberals have the same vocabulary usage. Now, I'll admit disappointment at first, there's nothing like running an experiment and missing significance, but this is a reminder to always look at the magnitude indicated by python's scientific notation, even if you're sure you know well to do that. That goes double when you're testing a conclusion that you don't expect.\n",
    "\n",
    "An alternate hypothesis must be true. While you can't reject the null hypothesis and then claim that whatever alternate hypothesis you have *must* be true, something else must true. Tied to reality as we are, going back to the mean values earlier, the mean adjusted vocabulary index for conservative speeches is 377, in contrast to 321 for the liberals. "
   ]
  },
  {
   "cell_type": "markdown",
   "metadata": {},
   "source": [
    "The necessary caveat here is that the specific numbers don't mean much here at all - so long as they were arrived at in the same way for all groups. The vocab sizes are adjusted by dividing by the log of total words spoken, and stopwords and proper names were removed from the words in the original vocab size count. "
   ]
  },
  {
   "cell_type": "markdown",
   "metadata": {},
   "source": [
    "This is also a reminder to not take this as proof of the blanket statement \"conservatives have larger vocabularies than liberals\". This is a very specific dataset - speeches on the floor of the house of commons, not the habits, literacy, or skills of people with those political affiliations in general. But, though a hypothesis cannot be proven, exactly, I take this as evidence in support of the somewhat counterintuitive conclusion that conservative MPs use larger vocabularies than liberals. "
   ]
  },
  {
   "cell_type": "code",
   "execution_count": null,
   "metadata": {},
   "outputs": [],
   "source": []
  }
 ],
 "metadata": {
  "kernelspec": {
   "display_name": "Python 3",
   "language": "python",
   "name": "python3"
  },
  "language_info": {
   "codemirror_mode": {
    "name": "ipython",
    "version": 3
   },
   "file_extension": ".py",
   "mimetype": "text/x-python",
   "name": "python",
   "nbconvert_exporter": "python",
   "pygments_lexer": "ipython3",
   "version": "3.6.12"
  }
 },
 "nbformat": 4,
 "nbformat_minor": 4
}
