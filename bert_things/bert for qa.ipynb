{
 "cells": [
  {
   "cell_type": "markdown",
   "id": "conventional-adams",
   "metadata": {},
   "source": [
    "informational quote indexing"
   ]
  },
  {
   "cell_type": "markdown",
   "id": "complete-cartridge",
   "metadata": {},
   "source": [
    "note: this requires pytorch and hugging-face (transformers), use bert_book or pytorch_env"
   ]
  },
  {
   "cell_type": "code",
   "execution_count": 4,
   "id": "identified-cruise",
   "metadata": {},
   "outputs": [],
   "source": [
    "import torch\n",
    "from transformers import BertForQuestionAnswering, BertTokenizer"
   ]
  },
  {
   "cell_type": "code",
   "execution_count": 5,
   "id": "aggressive-timothy",
   "metadata": {},
   "outputs": [],
   "source": [
    "model = BertForQuestionAnswering.from_pretrained('bert-large-uncased-whole-word-masking-finetuned-squad')"
   ]
  },
  {
   "cell_type": "code",
   "execution_count": 6,
   "id": "civil-locking",
   "metadata": {},
   "outputs": [],
   "source": [
    "tokenizer = BertTokenizer.from_pretrained('bert-large-uncased-whole-word-masking-finetuned-squad')"
   ]
  },
  {
   "cell_type": "code",
   "execution_count": null,
   "id": "threaded-chance",
   "metadata": {},
   "outputs": [],
   "source": []
  }
 ],
 "metadata": {
  "kernelspec": {
   "display_name": "Python 3",
   "language": "python",
   "name": "python3"
  },
  "language_info": {
   "codemirror_mode": {
    "name": "ipython",
    "version": 3
   },
   "file_extension": ".py",
   "mimetype": "text/x-python",
   "name": "python",
   "nbconvert_exporter": "python",
   "pygments_lexer": "ipython3",
   "version": "3.8.8"
  }
 },
 "nbformat": 4,
 "nbformat_minor": 5
}
