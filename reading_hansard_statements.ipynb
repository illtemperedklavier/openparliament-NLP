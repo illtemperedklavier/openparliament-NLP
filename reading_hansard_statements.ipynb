{
 "cells": [
  {
   "cell_type": "code",
   "execution_count": 2,
   "metadata": {},
   "outputs": [],
   "source": [
    "import pandas as pd"
   ]
  },
  {
   "cell_type": "markdown",
   "metadata": {},
   "source": [
    "in general, column names for this type of data"
   ]
  },
  {
   "cell_type": "code",
   "execution_count": 12,
   "metadata": {},
   "outputs": [],
   "source": [
    "column_names = ['id', 'document_id', 'time', 'h1_en', 'h2_en', 'member_id', 'who_en', 'content_en', 'sequence_en', \n",
    "                'wordcount', 'politician_id', 'procedural', 'h3_en','who_hocid', 'content_fr','statement_type', 'written_question', 'source_id',\n",
    "                'who_context_en', \"slug\", 'urlcache', 'h1_fr', 'h2_fr', 'h3_fr', 'who_fr', 'who_context_fr', 'wordcount_en',\n",
    "            \n",
    "    \n",
    "               ]"
   ]
  },
  {
   "cell_type": "code",
   "execution_count": 23,
   "metadata": {
    "scrolled": true
   },
   "outputs": [
    {
     "name": "stderr",
     "output_type": "stream",
     "text": [
      "C:\\Users\\alecr\\Anaconda3\\envs\\openparliament\\lib\\site-packages\\IPython\\core\\interactiveshell.py:3146: DtypeWarning: Columns (3,4,12,16,21,22,23,24,25,26) have mixed types.Specify dtype option on import or set low_memory=False.\n",
      "  has_raised = await self.run_ast_nodes(code_ast.body, cell_name,\n"
     ]
    }
   ],
   "source": [
    "df = pd.read_csv(r\"D:\\data\\openparliament\\time_statements.csv\", sep=\"\\t\", header=None)"
   ]
  },
  {
   "cell_type": "code",
   "execution_count": 28,
   "metadata": {},
   "outputs": [
    {
     "data": {
      "text/html": [
       "<div>\n",
       "<style scoped>\n",
       "    .dataframe tbody tr th:only-of-type {\n",
       "        vertical-align: middle;\n",
       "    }\n",
       "\n",
       "    .dataframe tbody tr th {\n",
       "        vertical-align: top;\n",
       "    }\n",
       "\n",
       "    .dataframe thead th {\n",
       "        text-align: right;\n",
       "    }\n",
       "</style>\n",
       "<table border=\"1\" class=\"dataframe\">\n",
       "  <thead>\n",
       "    <tr style=\"text-align: right;\">\n",
       "      <th></th>\n",
       "      <th>id</th>\n",
       "      <th>document_id</th>\n",
       "      <th>time</th>\n",
       "      <th>h1_en</th>\n",
       "      <th>h2_en</th>\n",
       "      <th>member_id</th>\n",
       "      <th>who_en</th>\n",
       "      <th>content_en</th>\n",
       "      <th>sequence_en</th>\n",
       "      <th>wordcount</th>\n",
       "      <th>...</th>\n",
       "      <th>source_id</th>\n",
       "      <th>who_context_en</th>\n",
       "      <th>slug</th>\n",
       "      <th>urlcache</th>\n",
       "      <th>h1_fr</th>\n",
       "      <th>h2_fr</th>\n",
       "      <th>h3_fr</th>\n",
       "      <th>who_fr</th>\n",
       "      <th>who_context_fr</th>\n",
       "      <th>wordcount_en</th>\n",
       "    </tr>\n",
       "  </thead>\n",
       "  <tbody>\n",
       "    <tr>\n",
       "      <th>0</th>\n",
       "      <td>645328</td>\n",
       "      <td>388</td>\n",
       "      <td>2008-02-14 13:15:00-05</td>\n",
       "      <td>Routine Proceedings</td>\n",
       "      <td>Questions Passed as Orders for Returns</td>\n",
       "      <td>\\N</td>\n",
       "      <td>NaN</td>\n",
       "      <td>&lt;p class=\"procedural\" data-HoCid=\"906765\"&gt;(Ret...</td>\n",
       "      <td>86</td>\n",
       "      <td>2</td>\n",
       "      <td>...</td>\n",
       "      <td>p906765</td>\n",
       "      <td>NaN</td>\n",
       "      <td>procedural-3</td>\n",
       "      <td>/debates/2008/2/14/procedural-3/</td>\n",
       "      <td>NaN</td>\n",
       "      <td>NaN</td>\n",
       "      <td>NaN</td>\n",
       "      <td>NaN</td>\n",
       "      <td>NaN</td>\n",
       "      <td>\\N</td>\n",
       "    </tr>\n",
       "    <tr>\n",
       "      <th>1</th>\n",
       "      <td>232373</td>\n",
       "      <td>1878</td>\n",
       "      <td>2001-05-03 13:50:00-04</td>\n",
       "      <td>Government Orders</td>\n",
       "      <td>Federal-Provincial Fiscal Arrangements Act</td>\n",
       "      <td>2611</td>\n",
       "      <td>Ms. Marlene Catterall</td>\n",
       "      <td>&lt;p&gt;Mr. Speaker, I rise on a point of order. I ...</td>\n",
       "      <td>89</td>\n",
       "      <td>39</td>\n",
       "      <td>...</td>\n",
       "      <td>NaN</td>\n",
       "      <td>NaN</td>\n",
       "      <td>marlene-catterall-1</td>\n",
       "      <td>/debates/2001/5/3/marlene-catterall-1/</td>\n",
       "      <td>NaN</td>\n",
       "      <td>NaN</td>\n",
       "      <td>NaN</td>\n",
       "      <td>NaN</td>\n",
       "      <td>NaN</td>\n",
       "      <td>\\N</td>\n",
       "    </tr>\n",
       "    <tr>\n",
       "      <th>2</th>\n",
       "      <td>645329</td>\n",
       "      <td>388</td>\n",
       "      <td>2008-02-14 13:15:00-05</td>\n",
       "      <td>Routine Proceedings</td>\n",
       "      <td>Questions Passed as Orders for Returns</td>\n",
       "      <td>1534</td>\n",
       "      <td>Mr. Tom Lukiwski</td>\n",
       "      <td>&lt;p data-HoCid=\"906766\" data-originallang=\"en\"&gt;...</td>\n",
       "      <td>87</td>\n",
       "      <td>13</td>\n",
       "      <td>...</td>\n",
       "      <td>2324890</td>\n",
       "      <td>Parliamentary Secretary to the Leader of the G...</td>\n",
       "      <td>tom-lukiwski-7</td>\n",
       "      <td>/debates/2008/2/14/tom-lukiwski-7/</td>\n",
       "      <td>NaN</td>\n",
       "      <td>NaN</td>\n",
       "      <td>NaN</td>\n",
       "      <td>NaN</td>\n",
       "      <td>NaN</td>\n",
       "      <td>\\N</td>\n",
       "    </tr>\n",
       "    <tr>\n",
       "      <th>3</th>\n",
       "      <td>291892</td>\n",
       "      <td>1748</td>\n",
       "      <td>2003-03-25 10:05:00-05</td>\n",
       "      <td>NaN</td>\n",
       "      <td>NaN</td>\n",
       "      <td>\\N</td>\n",
       "      <td>Some hon. members</td>\n",
       "      <td>&lt;p&gt;Agreed.&lt;/p&gt;</td>\n",
       "      <td>1</td>\n",
       "      <td>1</td>\n",
       "      <td>...</td>\n",
       "      <td>NaN</td>\n",
       "      <td>NaN</td>\n",
       "      <td>some-hon-members-1</td>\n",
       "      <td>/debates/2003/3/25/some-hon-members-1/</td>\n",
       "      <td>NaN</td>\n",
       "      <td>NaN</td>\n",
       "      <td>NaN</td>\n",
       "      <td>NaN</td>\n",
       "      <td>NaN</td>\n",
       "      <td>\\N</td>\n",
       "    </tr>\n",
       "    <tr>\n",
       "      <th>4</th>\n",
       "      <td>232374</td>\n",
       "      <td>1878</td>\n",
       "      <td>2001-05-03 13:50:00-04</td>\n",
       "      <td>Government Orders</td>\n",
       "      <td>Federal-Provincial Fiscal Arrangements Act</td>\n",
       "      <td>\\N</td>\n",
       "      <td>The Acting Speaker (Mr. Bélair)</td>\n",
       "      <td>&lt;p&gt;Is that agreed?&lt;/p&gt;</td>\n",
       "      <td>90</td>\n",
       "      <td>3</td>\n",
       "      <td>...</td>\n",
       "      <td>NaN</td>\n",
       "      <td>NaN</td>\n",
       "      <td>the-acting-speaker-mr-belair-9</td>\n",
       "      <td>/debates/2001/5/3/the-acting-speaker-mr-belair-9/</td>\n",
       "      <td>NaN</td>\n",
       "      <td>NaN</td>\n",
       "      <td>NaN</td>\n",
       "      <td>NaN</td>\n",
       "      <td>NaN</td>\n",
       "      <td>\\N</td>\n",
       "    </tr>\n",
       "  </tbody>\n",
       "</table>\n",
       "<p>5 rows × 27 columns</p>\n",
       "</div>"
      ],
      "text/plain": [
       "       id  document_id                    time                h1_en  \\\n",
       "0  645328          388  2008-02-14 13:15:00-05  Routine Proceedings   \n",
       "1  232373         1878  2001-05-03 13:50:00-04    Government Orders   \n",
       "2  645329          388  2008-02-14 13:15:00-05  Routine Proceedings   \n",
       "3  291892         1748  2003-03-25 10:05:00-05                  NaN   \n",
       "4  232374         1878  2001-05-03 13:50:00-04    Government Orders   \n",
       "\n",
       "                                        h2_en member_id  \\\n",
       "0      Questions Passed as Orders for Returns        \\N   \n",
       "1  Federal-Provincial Fiscal Arrangements Act      2611   \n",
       "2      Questions Passed as Orders for Returns      1534   \n",
       "3                                         NaN        \\N   \n",
       "4  Federal-Provincial Fiscal Arrangements Act        \\N   \n",
       "\n",
       "                            who_en  \\\n",
       "0                              NaN   \n",
       "1            Ms. Marlene Catterall   \n",
       "2                 Mr. Tom Lukiwski   \n",
       "3                Some hon. members   \n",
       "4  The Acting Speaker (Mr. Bélair)   \n",
       "\n",
       "                                          content_en  sequence_en  wordcount  \\\n",
       "0  <p class=\"procedural\" data-HoCid=\"906765\">(Ret...           86          2   \n",
       "1  <p>Mr. Speaker, I rise on a point of order. I ...           89         39   \n",
       "2  <p data-HoCid=\"906766\" data-originallang=\"en\">...           87         13   \n",
       "3                                     <p>Agreed.</p>            1          1   \n",
       "4                             <p>Is that agreed?</p>           90          3   \n",
       "\n",
       "   ... source_id                                     who_context_en  \\\n",
       "0  ...   p906765                                                NaN   \n",
       "1  ...       NaN                                                NaN   \n",
       "2  ...   2324890  Parliamentary Secretary to the Leader of the G...   \n",
       "3  ...       NaN                                                NaN   \n",
       "4  ...       NaN                                                NaN   \n",
       "\n",
       "                             slug  \\\n",
       "0                    procedural-3   \n",
       "1             marlene-catterall-1   \n",
       "2                  tom-lukiwski-7   \n",
       "3              some-hon-members-1   \n",
       "4  the-acting-speaker-mr-belair-9   \n",
       "\n",
       "                                            urlcache h1_fr h2_fr h3_fr who_fr  \\\n",
       "0                   /debates/2008/2/14/procedural-3/   NaN   NaN   NaN    NaN   \n",
       "1             /debates/2001/5/3/marlene-catterall-1/   NaN   NaN   NaN    NaN   \n",
       "2                 /debates/2008/2/14/tom-lukiwski-7/   NaN   NaN   NaN    NaN   \n",
       "3             /debates/2003/3/25/some-hon-members-1/   NaN   NaN   NaN    NaN   \n",
       "4  /debates/2001/5/3/the-acting-speaker-mr-belair-9/   NaN   NaN   NaN    NaN   \n",
       "\n",
       "  who_context_fr wordcount_en  \n",
       "0            NaN           \\N  \n",
       "1            NaN           \\N  \n",
       "2            NaN           \\N  \n",
       "3            NaN           \\N  \n",
       "4            NaN           \\N  \n",
       "\n",
       "[5 rows x 27 columns]"
      ]
     },
     "execution_count": 28,
     "metadata": {},
     "output_type": "execute_result"
    }
   ],
   "source": [
    "df.head()"
   ]
  },
  {
   "cell_type": "code",
   "execution_count": 18,
   "metadata": {
    "scrolled": true
   },
   "outputs": [
    {
     "data": {
      "text/plain": [
       "27"
      ]
     },
     "execution_count": 18,
     "metadata": {},
     "output_type": "execute_result"
    }
   ],
   "source": [
    "len(df.columns)"
   ]
  },
  {
   "cell_type": "code",
   "execution_count": 19,
   "metadata": {
    "scrolled": true
   },
   "outputs": [
    {
     "data": {
      "text/plain": [
       "27"
      ]
     },
     "execution_count": 19,
     "metadata": {},
     "output_type": "execute_result"
    }
   ],
   "source": [
    "len(column_names)"
   ]
  },
  {
   "cell_type": "code",
   "execution_count": 21,
   "metadata": {},
   "outputs": [],
   "source": [
    "d = dict(zip(df.columns, column_names))"
   ]
  },
  {
   "cell_type": "code",
   "execution_count": 26,
   "metadata": {},
   "outputs": [],
   "source": [
    "df.columns = column_names"
   ]
  },
  {
   "cell_type": "code",
   "execution_count": 29,
   "metadata": {},
   "outputs": [],
   "source": [
    "who_c_fr = df.who_context_fr"
   ]
  },
  {
   "cell_type": "code",
   "execution_count": 30,
   "metadata": {},
   "outputs": [
    {
     "data": {
      "text/plain": [
       "1552134"
      ]
     },
     "execution_count": 30,
     "metadata": {},
     "output_type": "execute_result"
    }
   ],
   "source": [
    "who_c_fr.isna().sum()"
   ]
  },
  {
   "cell_type": "code",
   "execution_count": 31,
   "metadata": {},
   "outputs": [
    {
     "data": {
      "text/plain": [
       "(2496224, 27)"
      ]
     },
     "execution_count": 31,
     "metadata": {},
     "output_type": "execute_result"
    }
   ],
   "source": [
    "df.shape"
   ]
  },
  {
   "cell_type": "markdown",
   "metadata": {},
   "source": [
    "big question - if who_context_fr is NA,is who_context_en NA?"
   ]
  },
  {
   "cell_type": "code",
   "execution_count": 32,
   "metadata": {},
   "outputs": [],
   "source": [
    "newdf = df.loc[df.who_context_fr.isna()]"
   ]
  },
  {
   "cell_type": "code",
   "execution_count": 33,
   "metadata": {},
   "outputs": [
    {
     "data": {
      "text/plain": [
       "(1552134, 27)"
      ]
     },
     "execution_count": 33,
     "metadata": {},
     "output_type": "execute_result"
    }
   ],
   "source": [
    "newdf.shape"
   ]
  },
  {
   "cell_type": "code",
   "execution_count": 36,
   "metadata": {},
   "outputs": [],
   "source": [
    "newestdf = newdf.loc[df.who_context_en.isna()]"
   ]
  },
  {
   "cell_type": "code",
   "execution_count": 37,
   "metadata": {},
   "outputs": [
    {
     "data": {
      "text/plain": [
       "(326674, 27)"
      ]
     },
     "execution_count": 37,
     "metadata": {},
     "output_type": "execute_result"
    }
   ],
   "source": [
    "newestdf.shape"
   ]
  },
  {
   "cell_type": "code",
   "execution_count": 38,
   "metadata": {},
   "outputs": [
    {
     "data": {
      "text/html": [
       "<div>\n",
       "<style scoped>\n",
       "    .dataframe tbody tr th:only-of-type {\n",
       "        vertical-align: middle;\n",
       "    }\n",
       "\n",
       "    .dataframe tbody tr th {\n",
       "        vertical-align: top;\n",
       "    }\n",
       "\n",
       "    .dataframe thead th {\n",
       "        text-align: right;\n",
       "    }\n",
       "</style>\n",
       "<table border=\"1\" class=\"dataframe\">\n",
       "  <thead>\n",
       "    <tr style=\"text-align: right;\">\n",
       "      <th></th>\n",
       "      <th>id</th>\n",
       "      <th>document_id</th>\n",
       "      <th>time</th>\n",
       "      <th>h1_en</th>\n",
       "      <th>h2_en</th>\n",
       "      <th>member_id</th>\n",
       "      <th>who_en</th>\n",
       "      <th>content_en</th>\n",
       "      <th>sequence_en</th>\n",
       "      <th>wordcount</th>\n",
       "      <th>...</th>\n",
       "      <th>source_id</th>\n",
       "      <th>who_context_en</th>\n",
       "      <th>slug</th>\n",
       "      <th>urlcache</th>\n",
       "      <th>h1_fr</th>\n",
       "      <th>h2_fr</th>\n",
       "      <th>h3_fr</th>\n",
       "      <th>who_fr</th>\n",
       "      <th>who_context_fr</th>\n",
       "      <th>wordcount_en</th>\n",
       "    </tr>\n",
       "  </thead>\n",
       "  <tbody>\n",
       "    <tr>\n",
       "      <th>0</th>\n",
       "      <td>645328</td>\n",
       "      <td>388</td>\n",
       "      <td>2008-02-14 13:15:00-05</td>\n",
       "      <td>Routine Proceedings</td>\n",
       "      <td>Questions Passed as Orders for Returns</td>\n",
       "      <td>\\N</td>\n",
       "      <td>NaN</td>\n",
       "      <td>&lt;p class=\"procedural\" data-HoCid=\"906765\"&gt;(Ret...</td>\n",
       "      <td>86</td>\n",
       "      <td>2</td>\n",
       "      <td>...</td>\n",
       "      <td>p906765</td>\n",
       "      <td>NaN</td>\n",
       "      <td>procedural-3</td>\n",
       "      <td>/debates/2008/2/14/procedural-3/</td>\n",
       "      <td>NaN</td>\n",
       "      <td>NaN</td>\n",
       "      <td>NaN</td>\n",
       "      <td>NaN</td>\n",
       "      <td>NaN</td>\n",
       "      <td>\\N</td>\n",
       "    </tr>\n",
       "    <tr>\n",
       "      <th>1</th>\n",
       "      <td>232373</td>\n",
       "      <td>1878</td>\n",
       "      <td>2001-05-03 13:50:00-04</td>\n",
       "      <td>Government Orders</td>\n",
       "      <td>Federal-Provincial Fiscal Arrangements Act</td>\n",
       "      <td>2611</td>\n",
       "      <td>Ms. Marlene Catterall</td>\n",
       "      <td>&lt;p&gt;Mr. Speaker, I rise on a point of order. I ...</td>\n",
       "      <td>89</td>\n",
       "      <td>39</td>\n",
       "      <td>...</td>\n",
       "      <td>NaN</td>\n",
       "      <td>NaN</td>\n",
       "      <td>marlene-catterall-1</td>\n",
       "      <td>/debates/2001/5/3/marlene-catterall-1/</td>\n",
       "      <td>NaN</td>\n",
       "      <td>NaN</td>\n",
       "      <td>NaN</td>\n",
       "      <td>NaN</td>\n",
       "      <td>NaN</td>\n",
       "      <td>\\N</td>\n",
       "    </tr>\n",
       "    <tr>\n",
       "      <th>3</th>\n",
       "      <td>291892</td>\n",
       "      <td>1748</td>\n",
       "      <td>2003-03-25 10:05:00-05</td>\n",
       "      <td>NaN</td>\n",
       "      <td>NaN</td>\n",
       "      <td>\\N</td>\n",
       "      <td>Some hon. members</td>\n",
       "      <td>&lt;p&gt;Agreed.&lt;/p&gt;</td>\n",
       "      <td>1</td>\n",
       "      <td>1</td>\n",
       "      <td>...</td>\n",
       "      <td>NaN</td>\n",
       "      <td>NaN</td>\n",
       "      <td>some-hon-members-1</td>\n",
       "      <td>/debates/2003/3/25/some-hon-members-1/</td>\n",
       "      <td>NaN</td>\n",
       "      <td>NaN</td>\n",
       "      <td>NaN</td>\n",
       "      <td>NaN</td>\n",
       "      <td>NaN</td>\n",
       "      <td>\\N</td>\n",
       "    </tr>\n",
       "    <tr>\n",
       "      <th>4</th>\n",
       "      <td>232374</td>\n",
       "      <td>1878</td>\n",
       "      <td>2001-05-03 13:50:00-04</td>\n",
       "      <td>Government Orders</td>\n",
       "      <td>Federal-Provincial Fiscal Arrangements Act</td>\n",
       "      <td>\\N</td>\n",
       "      <td>The Acting Speaker (Mr. Bélair)</td>\n",
       "      <td>&lt;p&gt;Is that agreed?&lt;/p&gt;</td>\n",
       "      <td>90</td>\n",
       "      <td>3</td>\n",
       "      <td>...</td>\n",
       "      <td>NaN</td>\n",
       "      <td>NaN</td>\n",
       "      <td>the-acting-speaker-mr-belair-9</td>\n",
       "      <td>/debates/2001/5/3/the-acting-speaker-mr-belair-9/</td>\n",
       "      <td>NaN</td>\n",
       "      <td>NaN</td>\n",
       "      <td>NaN</td>\n",
       "      <td>NaN</td>\n",
       "      <td>NaN</td>\n",
       "      <td>\\N</td>\n",
       "    </tr>\n",
       "    <tr>\n",
       "      <th>5</th>\n",
       "      <td>232375</td>\n",
       "      <td>1878</td>\n",
       "      <td>2001-05-03 13:50:00-04</td>\n",
       "      <td>Government Orders</td>\n",
       "      <td>Federal-Provincial Fiscal Arrangements Act</td>\n",
       "      <td>\\N</td>\n",
       "      <td>Some hon. members</td>\n",
       "      <td>&lt;p&gt;Agreed.&lt;/p&gt;</td>\n",
       "      <td>91</td>\n",
       "      <td>1</td>\n",
       "      <td>...</td>\n",
       "      <td>NaN</td>\n",
       "      <td>NaN</td>\n",
       "      <td>some-hon-members-13</td>\n",
       "      <td>/debates/2001/5/3/some-hon-members-13/</td>\n",
       "      <td>NaN</td>\n",
       "      <td>NaN</td>\n",
       "      <td>NaN</td>\n",
       "      <td>NaN</td>\n",
       "      <td>NaN</td>\n",
       "      <td>\\N</td>\n",
       "    </tr>\n",
       "  </tbody>\n",
       "</table>\n",
       "<p>5 rows × 27 columns</p>\n",
       "</div>"
      ],
      "text/plain": [
       "       id  document_id                    time                h1_en  \\\n",
       "0  645328          388  2008-02-14 13:15:00-05  Routine Proceedings   \n",
       "1  232373         1878  2001-05-03 13:50:00-04    Government Orders   \n",
       "3  291892         1748  2003-03-25 10:05:00-05                  NaN   \n",
       "4  232374         1878  2001-05-03 13:50:00-04    Government Orders   \n",
       "5  232375         1878  2001-05-03 13:50:00-04    Government Orders   \n",
       "\n",
       "                                        h2_en member_id  \\\n",
       "0      Questions Passed as Orders for Returns        \\N   \n",
       "1  Federal-Provincial Fiscal Arrangements Act      2611   \n",
       "3                                         NaN        \\N   \n",
       "4  Federal-Provincial Fiscal Arrangements Act        \\N   \n",
       "5  Federal-Provincial Fiscal Arrangements Act        \\N   \n",
       "\n",
       "                            who_en  \\\n",
       "0                              NaN   \n",
       "1            Ms. Marlene Catterall   \n",
       "3                Some hon. members   \n",
       "4  The Acting Speaker (Mr. Bélair)   \n",
       "5                Some hon. members   \n",
       "\n",
       "                                          content_en  sequence_en  wordcount  \\\n",
       "0  <p class=\"procedural\" data-HoCid=\"906765\">(Ret...           86          2   \n",
       "1  <p>Mr. Speaker, I rise on a point of order. I ...           89         39   \n",
       "3                                     <p>Agreed.</p>            1          1   \n",
       "4                             <p>Is that agreed?</p>           90          3   \n",
       "5                                     <p>Agreed.</p>           91          1   \n",
       "\n",
       "   ... source_id who_context_en                            slug  \\\n",
       "0  ...   p906765            NaN                    procedural-3   \n",
       "1  ...       NaN            NaN             marlene-catterall-1   \n",
       "3  ...       NaN            NaN              some-hon-members-1   \n",
       "4  ...       NaN            NaN  the-acting-speaker-mr-belair-9   \n",
       "5  ...       NaN            NaN             some-hon-members-13   \n",
       "\n",
       "                                            urlcache h1_fr h2_fr h3_fr who_fr  \\\n",
       "0                   /debates/2008/2/14/procedural-3/   NaN   NaN   NaN    NaN   \n",
       "1             /debates/2001/5/3/marlene-catterall-1/   NaN   NaN   NaN    NaN   \n",
       "3             /debates/2003/3/25/some-hon-members-1/   NaN   NaN   NaN    NaN   \n",
       "4  /debates/2001/5/3/the-acting-speaker-mr-belair-9/   NaN   NaN   NaN    NaN   \n",
       "5             /debates/2001/5/3/some-hon-members-13/   NaN   NaN   NaN    NaN   \n",
       "\n",
       "  who_context_fr wordcount_en  \n",
       "0            NaN           \\N  \n",
       "1            NaN           \\N  \n",
       "3            NaN           \\N  \n",
       "4            NaN           \\N  \n",
       "5            NaN           \\N  \n",
       "\n",
       "[5 rows x 27 columns]"
      ]
     },
     "execution_count": 38,
     "metadata": {},
     "output_type": "execute_result"
    }
   ],
   "source": [
    "newestdf.head()"
   ]
  },
  {
   "cell_type": "markdown",
   "metadata": {},
   "source": [
    "this is just trying to get the data to a more manageable size - I think I could throw out rows where who_context_en and ...fr is both null, since that usually just means that the speaker is \"some honourable members\", and they're probably jeering or something."
   ]
  },
  {
   "cell_type": "code",
   "execution_count": 41,
   "metadata": {},
   "outputs": [],
   "source": [
    "df_to_save = df[ df.loc[ :,['who_context_en','who_context_fr'] ].isnull().sum(axis=1) == 2]"
   ]
  },
  {
   "cell_type": "code",
   "execution_count": 42,
   "metadata": {},
   "outputs": [
    {
     "data": {
      "text/plain": [
       "(326674, 27)"
      ]
     },
     "execution_count": 42,
     "metadata": {},
     "output_type": "execute_result"
    }
   ],
   "source": [
    "df_to_save.shape"
   ]
  },
  {
   "cell_type": "code",
   "execution_count": 43,
   "metadata": {},
   "outputs": [],
   "source": [
    "df_to_save.to_csv('D:\\data\\openparliament\\only_speakers.csv')"
   ]
  },
  {
   "cell_type": "markdown",
   "metadata": {},
   "source": [
    "At 378 mb, that file is certainly more manageable, I picked dates after Jan 2000, since I needed to cut the sizes down and be working on more current data, and 2000 is about when Al Gore ran for the presidency, so global warming had an increasing presence in discourse (albeit still not enough!)"
   ]
  },
  {
   "cell_type": "code",
   "execution_count": null,
   "metadata": {},
   "outputs": [],
   "source": []
  }
 ],
 "metadata": {
  "kernelspec": {
   "display_name": "Python 3",
   "language": "python",
   "name": "python3"
  },
  "language_info": {
   "codemirror_mode": {
    "name": "ipython",
    "version": 3
   },
   "file_extension": ".py",
   "mimetype": "text/x-python",
   "name": "python",
   "nbconvert_exporter": "python",
   "pygments_lexer": "ipython3",
   "version": "3.8.5"
  }
 },
 "nbformat": 4,
 "nbformat_minor": 4
}
