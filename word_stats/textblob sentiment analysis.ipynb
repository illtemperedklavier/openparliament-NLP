{
 "cells": [
  {
   "cell_type": "code",
   "execution_count": 1,
   "metadata": {},
   "outputs": [],
   "source": [
    "import pandas as pd"
   ]
  },
  {
   "cell_type": "code",
   "execution_count": 2,
   "metadata": {},
   "outputs": [],
   "source": [
    "%config Completer.use_jedi = False"
   ]
  },
  {
   "cell_type": "code",
   "execution_count": 34,
   "metadata": {},
   "outputs": [
    {
     "name": "stderr",
     "output_type": "stream",
     "text": [
      "C:\\Users\\alecr\\Anaconda3\\envs\\gensim_env\\lib\\site-packages\\ipykernel_launcher.py:1: TqdmDeprecationWarning: This function will be removed in tqdm==5.0.0\n",
      "Please use `tqdm.notebook.*` instead of `tqdm._tqdm_notebook.*`\n",
      "  \"\"\"Entry point for launching an IPython kernel.\n"
     ]
    }
   ],
   "source": [
    "from tqdm._tqdm_notebook import tqdm_notebook"
   ]
  },
  {
   "cell_type": "code",
   "execution_count": 3,
   "metadata": {},
   "outputs": [],
   "source": [
    "from ast import literal_eval\n",
    "from nltk.corpus import stopwords"
   ]
  },
  {
   "cell_type": "code",
   "execution_count": 4,
   "metadata": {},
   "outputs": [],
   "source": [
    "from collections import Counter"
   ]
  },
  {
   "cell_type": "code",
   "execution_count": 5,
   "metadata": {},
   "outputs": [],
   "source": [
    "from utils.basic_tokenize import tokenize"
   ]
  },
  {
   "cell_type": "code",
   "execution_count": 6,
   "metadata": {},
   "outputs": [],
   "source": [
    "from gensim.utils import simple_preprocess"
   ]
  },
  {
   "cell_type": "code",
   "execution_count": 7,
   "metadata": {},
   "outputs": [],
   "source": [
    "import spacy\n",
    "nlp = spacy.load('en_core_web_sm')"
   ]
  },
  {
   "cell_type": "code",
   "execution_count": 33,
   "metadata": {},
   "outputs": [],
   "source": [
    "party_dict = {28:'conservative',25: 'conservative', 1:'conservative', 46:'quebec', 26: 'conservative',2: 'NDP',5: 'independent',\n",
    "                4: 'liberal', 9: 'green', 3: 'bloc', 39: 'quebec'}"
   ]
  },
  {
   "cell_type": "code",
   "execution_count": 8,
   "metadata": {},
   "outputs": [],
   "source": [
    "df = pd.read_csv(r\"D:\\data\\openparliament\\df_climate.csv\")\n",
    "df.drop('Unnamed: 0', axis=1, inplace=True)"
   ]
  },
  {
   "cell_type": "code",
   "execution_count": 9,
   "metadata": {},
   "outputs": [],
   "source": [
    "df['text_en']= df.text_en.apply(lambda x: x.replace('Mr. Speaker,',' '))"
   ]
  },
  {
   "cell_type": "code",
   "execution_count": 10,
   "metadata": {},
   "outputs": [],
   "source": [
    "df['tokens'] = df.tokenized_content.apply(literal_eval)"
   ]
  },
  {
   "cell_type": "code",
   "execution_count": 11,
   "metadata": {},
   "outputs": [
    {
     "name": "stdout",
     "output_type": "stream",
     "text": [
      "Wall time: 5.31 s\n"
     ]
    }
   ],
   "source": [
    "%%time\n",
    "df['tokens'] = df.text_en.apply(lambda x: simple_preprocess(x, deacc=True))"
   ]
  },
  {
   "cell_type": "code",
   "execution_count": 12,
   "metadata": {},
   "outputs": [],
   "source": [
    "stop_words = set(stopwords.words('english'))"
   ]
  },
  {
   "cell_type": "code",
   "execution_count": 13,
   "metadata": {},
   "outputs": [],
   "source": [
    "df['tokens'] = df.tokens.apply(lambda x: [w for w in x if not w in stop_words])"
   ]
  },
  {
   "cell_type": "code",
   "execution_count": 15,
   "metadata": {},
   "outputs": [
    {
     "data": {
      "text/plain": [
       "0    [last, week, six, million, canadians, across, ...\n",
       "1    [last, week, six, million, canadians, across, ...\n",
       "2    [last, week, six, million, canadians, across, ...\n",
       "3    [privilege, able, speak, amendments, bill, pro...\n",
       "4    [privilege, able, speak, amendments, bill, pro...\n",
       "Name: tokens, dtype: object"
      ]
     },
     "execution_count": 15,
     "metadata": {},
     "output_type": "execute_result"
    }
   ],
   "source": [
    "df.tokens.head()"
   ]
  },
  {
   "cell_type": "code",
   "execution_count": 16,
   "metadata": {},
   "outputs": [],
   "source": [
    "from textblob import TextBlob"
   ]
  },
  {
   "cell_type": "code",
   "execution_count": 17,
   "metadata": {},
   "outputs": [],
   "source": [
    "blob = TextBlob(df.text_en.iloc[0])"
   ]
  },
  {
   "cell_type": "code",
   "execution_count": 18,
   "metadata": {},
   "outputs": [
    {
     "data": {
      "text/plain": [
       "Sentiment(polarity=0.3375, subjectivity=0.5791666666666666)"
      ]
     },
     "execution_count": 18,
     "metadata": {},
     "output_type": "execute_result"
    }
   ],
   "source": [
    "blob.sentiment"
   ]
  },
  {
   "cell_type": "code",
   "execution_count": 19,
   "metadata": {},
   "outputs": [],
   "source": [
    "blob.classifier"
   ]
  },
  {
   "cell_type": "code",
   "execution_count": 29,
   "metadata": {
    "scrolled": false
   },
   "outputs": [
    {
     "data": {
      "text/plain": [
       "WordList(['canadians', \"planet 's environment\", 'earth', 'bramalea—gore—malton—springdale', 'alternative energies', 'canada', \"'s environment\", 'federal government', 'sustainable development', 'canada'])"
      ]
     },
     "execution_count": 29,
     "metadata": {},
     "output_type": "execute_result"
    }
   ],
   "source": [
    "blob.noun_phrases"
   ]
  },
  {
   "cell_type": "code",
   "execution_count": 27,
   "metadata": {},
   "outputs": [],
   "source": [
    "import nltk"
   ]
  },
  {
   "cell_type": "code",
   "execution_count": 28,
   "metadata": {},
   "outputs": [
    {
     "name": "stderr",
     "output_type": "stream",
     "text": [
      "[nltk_data] Downloading package brown to\n",
      "[nltk_data]     C:\\Users\\alecr\\AppData\\Roaming\\nltk_data...\n",
      "[nltk_data]   Unzipping corpora\\brown.zip.\n"
     ]
    },
    {
     "data": {
      "text/plain": [
       "True"
      ]
     },
     "execution_count": 28,
     "metadata": {},
     "output_type": "execute_result"
    }
   ],
   "source": [
    "nltk.download('brown')"
   ]
  },
  {
   "cell_type": "code",
   "execution_count": 30,
   "metadata": {},
   "outputs": [],
   "source": [
    "conservatives = df.politician_id.unique."
   ]
  },
  {
   "cell_type": "code",
   "execution_count": 32,
   "metadata": {},
   "outputs": [
    {
     "data": {
      "text/plain": [
       "Index(['index', 'id', 'politician_id', 'riding_id', 'party_id', 'end_date',\n",
       "       'start_date', 'id.1', 'document_id', 'time', 'h1_en', 'h2_en',\n",
       "       'member_id', 'who_en', 'content_en', 'sequence_en', 'wordcount',\n",
       "       'procedural', 'h3_en', 'who_hocid', 'statement_type',\n",
       "       'written_question', 'source_id', 'who_context_en', 'slug', 'urlcache',\n",
       "       'wordcount_en', 'tokenized_content', 'slug_length', 'text_en',\n",
       "       'tokens'],\n",
       "      dtype='object')"
      ]
     },
     "execution_count": 32,
     "metadata": {},
     "output_type": "execute_result"
    }
   ],
   "source": [
    "df.columns"
   ]
  },
  {
   "cell_type": "code",
   "execution_count": 36,
   "metadata": {},
   "outputs": [
    {
     "name": "stdout",
     "output_type": "stream",
     "text": [
      "Wall time: 44.5 s\n"
     ]
    }
   ],
   "source": [
    "%%time\n",
    "df['noun_phrases'] = df.text_en.apply(lambda x: TextBlob(x).noun_phrases)"
   ]
  },
  {
   "cell_type": "code",
   "execution_count": 38,
   "metadata": {},
   "outputs": [],
   "source": [
    "conservative_nps = df[df.party_id==1].noun_phrases"
   ]
  },
  {
   "cell_type": "code",
   "execution_count": 39,
   "metadata": {},
   "outputs": [
    {
     "data": {
      "text/plain": [
       "3     [bill c-19, environment, environment critic, o...\n",
       "19    [bush, mid-east oil, north american oil, prime...\n",
       "25    [president 's, vice-president 's comments, ene...\n",
       "42    [priorities consist, canadians, canadians, aut...\n",
       "47    [environmental assessment, constructive sugges...\n",
       "50    [ndp, canadian jobs, environmental assessment,...\n",
       "52    [lower churchill, hydro-electric generation pr...\n",
       "53    [resources, lower churchill, environmental ass...\n",
       "56               [environmental stewardship, member 's]\n",
       "57               [environmental stewardship, member 's]\n",
       "Name: noun_phrases, dtype: object"
      ]
     },
     "execution_count": 39,
     "metadata": {},
     "output_type": "execute_result"
    }
   ],
   "source": [
    "conservative_nps[:10]"
   ]
  },
  {
   "cell_type": "code",
   "execution_count": 50,
   "metadata": {},
   "outputs": [],
   "source": [
    "np_dict = dict()\n",
    "template_counter = Counter()"
   ]
  },
  {
   "cell_type": "code",
   "execution_count": 46,
   "metadata": {},
   "outputs": [],
   "source": [
    "parties = df.party_id.unique()"
   ]
  },
  {
   "cell_type": "code",
   "execution_count": 48,
   "metadata": {},
   "outputs": [
    {
     "data": {
      "text/plain": [
       "array([ 4,  1, 25, 28,  2,  3, 26,  5, 39,  9, 46], dtype=int64)"
      ]
     },
     "execution_count": 48,
     "metadata": {},
     "output_type": "execute_result"
    }
   ],
   "source": [
    "parties"
   ]
  },
  {
   "cell_type": "code",
   "execution_count": 51,
   "metadata": {},
   "outputs": [],
   "source": [
    "def update_np(row):\n",
    "    if np_dict.get(row.loc['party_id'])==None:\n",
    "        np_dict[row.loc['party_id']] = template_counter.copy()\n",
    "        np_dict[row.loc['party_id']].update(row.loc['noun_phrases'])\n",
    "    else:\n",
    "        np_dict[row.loc['party_id']].update(row.loc['noun_phrases'])"
   ]
  },
  {
   "cell_type": "code",
   "execution_count": 52,
   "metadata": {},
   "outputs": [
    {
     "data": {
      "text/plain": [
       "0        None\n",
       "1        None\n",
       "2        None\n",
       "3        None\n",
       "4        None\n",
       "         ... \n",
       "19655    None\n",
       "19656    None\n",
       "19657    None\n",
       "19658    None\n",
       "19659    None\n",
       "Length: 19660, dtype: object"
      ]
     },
     "execution_count": 52,
     "metadata": {},
     "output_type": "execute_result"
    }
   ],
   "source": [
    "df.apply(update_np, axis=1)"
   ]
  },
  {
   "cell_type": "code",
   "execution_count": 59,
   "metadata": {},
   "outputs": [
    {
     "name": "stdout",
     "output_type": "stream",
     "text": [
      "party:  liberal\n",
      "[('canada', 3134), ('canadians', 1946), ('prime', 1132), ('kyoto', 910), ('environment', 909), ('conservatives', 779), ('yukon', 555), ('conservative', 520), ('quebec', 481), ('will', 362)]\n",
      "party:  conservative\n",
      "[('canada', 4035), ('canadians', 2891), ('carbon tax', 1608), ('greenhouse gas emissions', 1202), ('prime', 1163), ('kyoto', 1017), ('ndp', 931), ('environment', 655), ('greenhouse gases', 611), ('quebec', 579)]\n",
      "party:  conservative\n",
      "[('canada', 454), ('kyoto', 346), ('canadians', 304), ('ndp', 153), ('yukon', 116), ('greenhouse gas emissions', 115), ('environment', 110), ('prime', 88), ('carbon tax', 83), ('liberal party', 82)]\n",
      "party:  conservative\n",
      "[('canada', 366), ('kyoto', 332), ('canadians', 208), ('ndp', 110), ('greenhouse gas emissions', 109), ('environment', 101), ('liberal party', 75), ('greenhouse gases', 69), ('yukon', 64), ('prime', 61)]\n",
      "party:  NDP\n",
      "[('canada', 1822), ('conservatives', 1284), ('canadians', 1161), ('prime', 748), ('environment', 539), ('will', 497), ('conservative', 458), ('kyoto', 378), ('ndp', 312), ('greenhouse gas emissions', 286)]\n",
      "party:  bloc\n",
      "[('quebec', 3487), ('canada', 1416), ('kyoto', 1341), ('environment', 1128), ('prime', 1019), ('federal government', 719), ('greenhouse gas emissions', 677), ('will', 560), ('oil companies', 492), ('does', 407)]\n",
      "party:  conservative\n",
      "[('canada', 95), ('kyoto', 47), ('environment', 35), ('canadians', 35), ('progressive conservative', 28), ('prime', 28), ('federal government', 25), ('ceaa', 25), ('environmental assessment', 21), ('sydney', 21)]\n",
      "party:  independent\n",
      "[('canada', 262), ('canadians', 116), ('conservatives', 74), ('quebec', 72), ('environment', 64), ('ela', 55), ('conservative', 49), ('prime', 45), ('will', 37), ('carbon fee', 36)]\n",
      "party:  quebec\n",
      "[('quebec', 14), ('harry', 11), ('oil spill', 7), ('will', 7), ('quebeckers', 6), ('lawrence', 5), ('magdalen', 4), ('environment', 4), ('transcanada', 4), ('cacouna', 4)]\n",
      "party:  green\n",
      "[('canada', 345), ('prime', 156), ('canadians', 84), ('environment', 75), ('paris', 75), ('conservatives', 74), ('climate', 57), ('arctic', 57), ('copenhagen', 57), ('ela', 55)]\n",
      "party:  quebec\n",
      "[('quebec', 70), ('canada', 32), ('prime', 27), ('quebeckers', 26), ('ottawa', 20), ('will', 18), ('greenhouse gas emissions', 16), ('paris', 14), ('conservatives', 13), ('environment', 12)]\n"
     ]
    }
   ],
   "source": [
    "for key,value in np_dict.items():\n",
    "    print('party: ',party_dict[key])\n",
    "    print(value.most_common(10))"
   ]
  },
  {
   "cell_type": "code",
   "execution_count": 54,
   "metadata": {},
   "outputs": [],
   "source": [
    "row = df.iloc[0]"
   ]
  },
  {
   "cell_type": "code",
   "execution_count": 55,
   "metadata": {},
   "outputs": [],
   "source": [
    "np_dict[row.loc['party_id']].update(row.loc['noun_phrases'])"
   ]
  },
  {
   "cell_type": "code",
   "execution_count": null,
   "metadata": {},
   "outputs": [],
   "source": []
  }
 ],
 "metadata": {
  "kernelspec": {
   "display_name": "Python 3",
   "language": "python",
   "name": "python3"
  },
  "language_info": {
   "codemirror_mode": {
    "name": "ipython",
    "version": 3
   },
   "file_extension": ".py",
   "mimetype": "text/x-python",
   "name": "python",
   "nbconvert_exporter": "python",
   "pygments_lexer": "ipython3",
   "version": "3.6.12"
  }
 },
 "nbformat": 4,
 "nbformat_minor": 4
}
