{
 "cells": [
  {
   "cell_type": "code",
   "execution_count": 1,
   "metadata": {},
   "outputs": [],
   "source": [
    "import pandas as pd"
   ]
  },
  {
   "cell_type": "code",
   "execution_count": 2,
   "metadata": {},
   "outputs": [],
   "source": [
    "%config Completer.use_jedi = False"
   ]
  },
  {
   "cell_type": "code",
   "execution_count": 3,
   "metadata": {},
   "outputs": [],
   "source": [
    "from ast import literal_eval"
   ]
  },
  {
   "cell_type": "code",
   "execution_count": 4,
   "metadata": {},
   "outputs": [],
   "source": [
    "from gensim import models,corpora"
   ]
  },
  {
   "cell_type": "code",
   "execution_count": 5,
   "metadata": {},
   "outputs": [],
   "source": [
    "df= pd.read_csv(r\"D:\\data\\openparliament\\df_climate.csv\",index_col=\"Unnamed: 0\")"
   ]
  },
  {
   "cell_type": "code",
   "execution_count": 6,
   "metadata": {},
   "outputs": [],
   "source": [
    "df.drop(['index'],axis=1,inplace=True)"
   ]
  },
  {
   "cell_type": "code",
   "execution_count": 7,
   "metadata": {},
   "outputs": [
    {
     "name": "stdout",
     "output_type": "stream",
     "text": [
      "Wall time: 3.51 s\n"
     ]
    }
   ],
   "source": [
    "%%time\n",
    "df['tokens'] = df.tokenized_content.apply(literal_eval)"
   ]
  },
  {
   "cell_type": "code",
   "execution_count": 8,
   "metadata": {},
   "outputs": [],
   "source": [
    "from nltk.corpus import stopwords"
   ]
  },
  {
   "cell_type": "code",
   "execution_count": 9,
   "metadata": {},
   "outputs": [],
   "source": [
    "stop_words = set(stopwords.words('english'))"
   ]
  },
  {
   "cell_type": "code",
   "execution_count": 10,
   "metadata": {},
   "outputs": [],
   "source": [
    "df['tokens'] = df.tokens.apply(lambda x: [w for w in x if not w in stop_words])"
   ]
  },
  {
   "cell_type": "code",
   "execution_count": 44,
   "metadata": {},
   "outputs": [],
   "source": [
    "NUM_TOPICS = 5\n",
    "MAX_TERMS = 50"
   ]
  },
  {
   "cell_type": "code",
   "execution_count": 27,
   "metadata": {},
   "outputs": [],
   "source": [
    "dictionary = corpora.Dictionary(df.tokens)"
   ]
  },
  {
   "cell_type": "code",
   "execution_count": 28,
   "metadata": {},
   "outputs": [],
   "source": [
    "corpus = [dictionary.doc2bow(text) for text in df.tokens]"
   ]
  },
  {
   "cell_type": "code",
   "execution_count": 45,
   "metadata": {},
   "outputs": [
    {
     "name": "stdout",
     "output_type": "stream",
     "text": [
      "Wall time: 10 s\n"
     ]
    }
   ],
   "source": [
    "%%time\n",
    "lda_model = models.LdaModel(corpus=corpus, num_topics=NUM_TOPICS, id2word=dictionary)"
   ]
  },
  {
   "cell_type": "code",
   "execution_count": 46,
   "metadata": {},
   "outputs": [],
   "source": [
    "lsi_model = models.LsiModel(corpus=corpus, num_topics=NUM_TOPICS, id2word=dictionary)"
   ]
  },
  {
   "cell_type": "code",
   "execution_count": 31,
   "metadata": {},
   "outputs": [],
   "source": [
    "def get_term_lists(model, num_topics, max_terms):\n",
    "    term_list = []\n",
    "    for idx in range(num_topics):\n",
    "        # Print the first 10 most representative topics\n",
    "        s = model.print_topic(idx, max_terms)\n",
    "        terms = s.split('\"')[1::2]\n",
    "        term_list.append(terms)\n",
    "        #print(\"Topic #%s:\" % idx, s.split('\"')[1::2])\n",
    "        #print(term_list[idx])\n",
    "    return term_list"
   ]
  },
  {
   "cell_type": "code",
   "execution_count": 47,
   "metadata": {},
   "outputs": [],
   "source": [
    "lda_lists = get_term_lists(lda_model,NUM_TOPICS, MAX_TERMS)"
   ]
  },
  {
   "cell_type": "code",
   "execution_count": 48,
   "metadata": {},
   "outputs": [],
   "source": [
    "lsi_lists = get_term_lists(lsi_model,NUM_TOPICS,MAX_TERMS)"
   ]
  },
  {
   "cell_type": "code",
   "execution_count": 49,
   "metadata": {},
   "outputs": [
    {
     "name": "stdout",
     "output_type": "stream",
     "text": [
      "TOPIC # 1 :\n",
      "['bill', 'government', 'motion', 'would', 'quebec', 'environmental', 'house', 'federal', 'act', 'speaker', 'mr', 'committee', 'member', 'time', 'liberal', 'order', 'members', 'environment', 'assessment', 'emergency', 'canadian', 'one', 'like', 'party', 'years', 'process', 'ndp', 'also', 'public', 'new']\n",
      "TOPIC # 2 :\n",
      "['minister', 'oil', 'speaker', 'mr', 'gas', 'government', 'carbon', 'canada', 'would', 'emissions', 'tax', 'pay', 'environment', 'greenhouse', 'year', 'companies', 'climate', 'cost', 'industry', 'prime', 'alberta', 'change', 'per', 'sector', 'price', 'canadian', 'one', 'canadians', 'increase', 'natural']\n",
      "TOPIC # 3 :\n",
      "['would', 'government', 'bill', 'people', 'first', 'one', 'yukon', 'time', 'want', 'need', 'canada', 'make', 'member', 'also', 'indigenous', 'nations', 'world', 'process', 'change', 'speaker', 'like', 'get', 'climate', 'us', 'years', 'work', 'going', 'many', 'however', 'mr']\n",
      "TOPIC # 4 :\n",
      "['government', 'canada', 'environment', 'speaker', 'environmental', 'mr', 'canadians', 'member', 'would', 'act', 'people', 'canadian', 'one', 'protect', 'minister', 'bill', 'protection', 'work', 'communities', 'national', 'also', 'water', 'important', 'time', 'house', 'know', 'us', 'hon', 'development', 'federal']\n",
      "TOPIC # 5 :\n",
      "['climate', 'government', 'change', 'speaker', 'carbon', 'mr', 'tax', 'canada', 'minister', 'plan', 'canadians', 'emissions', 'environment', 'greenhouse', 'targets', 'prime', 'gas', 'liberal', 'liberals', 'action', 'economy', 'would', 'us', 'reduce', 'kyoto', 'canadian', 'going', 'said', 'conservatives', 'energy']\n"
     ]
    }
   ],
   "source": [
    "for i in range(NUM_TOPICS):\n",
    "    print('TOPIC #',i+1,\":\")\n",
    "    print (lda_lists[i][:30])"
   ]
  },
  {
   "cell_type": "code",
   "execution_count": 50,
   "metadata": {},
   "outputs": [
    {
     "name": "stdout",
     "output_type": "stream",
     "text": [
      "TOPIC # 1 :\n",
      "['government', 'environmental', 'bill', 'would', 'canada', 'quebec', 'federal', 'assessment', 'environment', 'minister', 'climate', 'process', 'change', 'one', 'act', 'canadian', 'also', 'people', 'time', 'first', 'speaker', 'development', 'canadians', 'years', 'us', 'mr', 'yukon', 'projects', 'legislation', 'emissions']\n",
      "TOPIC # 2 :\n",
      "['quebec', 'environmental', 'climate', 'assessment', 'federal', 'change', 'process', 'canada', 'emissions', 'bill', 'carbon', 'projects', 'canadians', 'gas', 'plan', 'greenhouse', 'speaker', 'mr', 'tax', 'project', 'act', 'energy', 'world', 'targets', 'legislation', 'action', 'yukon', 'going', 'economy', 'us']\n",
      "TOPIC # 3 :\n",
      "['quebec', 'yukon', 'bill', 'would', 'federal', 'first', 'government', 'climate', 'nations', 'development', 'people', 'change', 'environmental', 'board', 'emissions', 'mr', 'committee', 'environment', 'speaker', 'plan', 'carbon', 'minister', 'review', 'greenhouse', 'project', 'economic', 'gas', 'tax', 'regulations', 'make']\n",
      "TOPIC # 4 :\n",
      "['climate', 'change', 'government', 'tax', 'carbon', 'minister', 'mr', 'speaker', 'assessment', 'bill', 'ethanol', 'canada', 'act', 'oil', 'action', 'environmental', 'food', 'process', 'liberal', 'liberals', 'first', 'environment', 'biofuels', 'production', 'would', 'fuel', 'canadians', 'use', 'nations', 'going']\n",
      "TOPIC # 5 :\n",
      "['minister', 'yukon', 'ethanol', 'mr', 'speaker', 'quebec', 'energy', 'environment', 'food', 'government', 'oil', 'production', 'tax', 'biofuels', 'use', 'prime', 'fuel', 'carbon', 'canadians', 'would', 'plan', 'assessment', 'first', 'world', 'need', 'nations', 'biofuel', 'liberal', 'liberals', 'reduce']\n"
     ]
    }
   ],
   "source": [
    "for i in range(NUM_TOPICS):\n",
    "    print('TOPIC #',i+1,\":\")\n",
    "    print (lsi_lists[i][:30])"
   ]
  },
  {
   "cell_type": "markdown",
   "metadata": {},
   "source": []
  }
 ],
 "metadata": {
  "kernelspec": {
   "display_name": "Python 3",
   "language": "python",
   "name": "python3"
  },
  "language_info": {
   "codemirror_mode": {
    "name": "ipython",
    "version": 3
   },
   "file_extension": ".py",
   "mimetype": "text/x-python",
   "name": "python",
   "nbconvert_exporter": "python",
   "pygments_lexer": "ipython3",
   "version": "3.6.12"
  }
 },
 "nbformat": 4,
 "nbformat_minor": 4
}
