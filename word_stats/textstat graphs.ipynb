{
 "cells": [
  {
   "cell_type": "code",
   "execution_count": 1,
   "metadata": {},
   "outputs": [],
   "source": [
    "import pandas as pd\n",
    "import textstat"
   ]
  },
  {
   "cell_type": "code",
   "execution_count": 2,
   "metadata": {},
   "outputs": [],
   "source": [
    "from bs4 import BeautifulSoup"
   ]
  },
  {
   "cell_type": "code",
   "execution_count": 3,
   "metadata": {
    "scrolled": true
   },
   "outputs": [
    {
     "name": "stderr",
     "output_type": "stream",
     "text": [
      "C:\\Users\\alecr\\Anaconda3\\envs\\gensim_env\\lib\\site-packages\\ipykernel_launcher.py:1: TqdmDeprecationWarning: This function will be removed in tqdm==5.0.0\n",
      "Please use `tqdm.notebook.*` instead of `tqdm._tqdm_notebook.*`\n",
      "  \"\"\"Entry point for launching an IPython kernel.\n"
     ]
    }
   ],
   "source": [
    "from tqdm._tqdm_notebook import tqdm_notebook"
   ]
  },
  {
   "cell_type": "code",
   "execution_count": 4,
   "metadata": {},
   "outputs": [],
   "source": [
    "from langdetect import detect"
   ]
  },
  {
   "cell_type": "code",
   "execution_count": 5,
   "metadata": {},
   "outputs": [],
   "source": [
    "%config Completer.use_jedi = False"
   ]
  },
  {
   "cell_type": "code",
   "execution_count": 6,
   "metadata": {},
   "outputs": [
    {
     "name": "stderr",
     "output_type": "stream",
     "text": [
      "C:\\Users\\alecr\\Anaconda3\\envs\\gensim_env\\lib\\site-packages\\IPython\\core\\interactiveshell.py:3072: DtypeWarning: Columns (20,23,28,29,30,31,32,33) have mixed types.Specify dtype option on import or set low_memory=False.\n",
      "  interactivity=interactivity, compiler=compiler, result=result)\n"
     ]
    }
   ],
   "source": [
    "df = pd.read_csv(r\"D:\\data\\openparliament\\statements_nospeaker_en.csv\")\n",
    "\n",
    "df.drop(['Unnamed: 0'], axis=1, inplace=True)"
   ]
  },
  {
   "cell_type": "code",
   "execution_count": 7,
   "metadata": {},
   "outputs": [
    {
     "data": {
      "text/html": [
       "<div>\n",
       "<style scoped>\n",
       "    .dataframe tbody tr th:only-of-type {\n",
       "        vertical-align: middle;\n",
       "    }\n",
       "\n",
       "    .dataframe tbody tr th {\n",
       "        vertical-align: top;\n",
       "    }\n",
       "\n",
       "    .dataframe thead th {\n",
       "        text-align: right;\n",
       "    }\n",
       "</style>\n",
       "<table border=\"1\" class=\"dataframe\">\n",
       "  <thead>\n",
       "    <tr style=\"text-align: right;\">\n",
       "      <th></th>\n",
       "      <th>id</th>\n",
       "      <th>politician_id</th>\n",
       "      <th>riding_id</th>\n",
       "      <th>party_id</th>\n",
       "      <th>end_date</th>\n",
       "      <th>start_date</th>\n",
       "      <th>id.1</th>\n",
       "      <th>document_id</th>\n",
       "      <th>time</th>\n",
       "      <th>h1_en</th>\n",
       "      <th>...</th>\n",
       "      <th>slug</th>\n",
       "      <th>urlcache</th>\n",
       "      <th>h1_fr</th>\n",
       "      <th>h2_fr</th>\n",
       "      <th>h3_fr</th>\n",
       "      <th>who_fr</th>\n",
       "      <th>who_context_fr</th>\n",
       "      <th>wordcount_en</th>\n",
       "      <th>tokenized_content</th>\n",
       "      <th>slug_length</th>\n",
       "    </tr>\n",
       "  </thead>\n",
       "  <tbody>\n",
       "    <tr>\n",
       "      <th>0</th>\n",
       "      <td>2611</td>\n",
       "      <td>3465</td>\n",
       "      <td>35066</td>\n",
       "      <td>4</td>\n",
       "      <td>2005-11-29</td>\n",
       "      <td>1997-09-22</td>\n",
       "      <td>232373</td>\n",
       "      <td>1878</td>\n",
       "      <td>2001-05-03 13:50:00-04</td>\n",
       "      <td>Government Orders</td>\n",
       "      <td>...</td>\n",
       "      <td>marlene-catterall-1</td>\n",
       "      <td>/debates/2001/5/3/marlene-catterall-1/</td>\n",
       "      <td>NaN</td>\n",
       "      <td>NaN</td>\n",
       "      <td>NaN</td>\n",
       "      <td>NaN</td>\n",
       "      <td>NaN</td>\n",
       "      <td>\\N</td>\n",
       "      <td>['mr.', 'speaker', ',', 'i', 'rise', 'on', 'a'...</td>\n",
       "      <td>3</td>\n",
       "    </tr>\n",
       "    <tr>\n",
       "      <th>1</th>\n",
       "      <td>3210</td>\n",
       "      <td>3465</td>\n",
       "      <td>70224</td>\n",
       "      <td>4</td>\n",
       "      <td>1997-04-27</td>\n",
       "      <td>1994-01-17</td>\n",
       "      <td>232373</td>\n",
       "      <td>1878</td>\n",
       "      <td>2001-05-03 13:50:00-04</td>\n",
       "      <td>Government Orders</td>\n",
       "      <td>...</td>\n",
       "      <td>marlene-catterall-1</td>\n",
       "      <td>/debates/2001/5/3/marlene-catterall-1/</td>\n",
       "      <td>NaN</td>\n",
       "      <td>NaN</td>\n",
       "      <td>NaN</td>\n",
       "      <td>NaN</td>\n",
       "      <td>NaN</td>\n",
       "      <td>\\N</td>\n",
       "      <td>['mr.', 'speaker', ',', 'i', 'rise', 'on', 'a'...</td>\n",
       "      <td>3</td>\n",
       "    </tr>\n",
       "    <tr>\n",
       "      <th>2</th>\n",
       "      <td>4305</td>\n",
       "      <td>173</td>\n",
       "      <td>70358</td>\n",
       "      <td>1</td>\n",
       "      <td>\\N</td>\n",
       "      <td>2015-10-19</td>\n",
       "      <td>645329</td>\n",
       "      <td>388</td>\n",
       "      <td>2008-02-14 13:15:00-05</td>\n",
       "      <td>Routine Proceedings</td>\n",
       "      <td>...</td>\n",
       "      <td>tom-lukiwski-7</td>\n",
       "      <td>/debates/2008/2/14/tom-lukiwski-7/</td>\n",
       "      <td>NaN</td>\n",
       "      <td>NaN</td>\n",
       "      <td>NaN</td>\n",
       "      <td>NaN</td>\n",
       "      <td>NaN</td>\n",
       "      <td>\\N</td>\n",
       "      <td>['finally', ',', 'mr.', 'speaker', ',', 'i', '...</td>\n",
       "      <td>3</td>\n",
       "    </tr>\n",
       "    <tr>\n",
       "      <th>3</th>\n",
       "      <td>1534</td>\n",
       "      <td>173</td>\n",
       "      <td>47007</td>\n",
       "      <td>1</td>\n",
       "      <td>2015-10-19</td>\n",
       "      <td>2004-10-04</td>\n",
       "      <td>645329</td>\n",
       "      <td>388</td>\n",
       "      <td>2008-02-14 13:15:00-05</td>\n",
       "      <td>Routine Proceedings</td>\n",
       "      <td>...</td>\n",
       "      <td>tom-lukiwski-7</td>\n",
       "      <td>/debates/2008/2/14/tom-lukiwski-7/</td>\n",
       "      <td>NaN</td>\n",
       "      <td>NaN</td>\n",
       "      <td>NaN</td>\n",
       "      <td>NaN</td>\n",
       "      <td>NaN</td>\n",
       "      <td>\\N</td>\n",
       "      <td>['finally', ',', 'mr.', 'speaker', ',', 'i', '...</td>\n",
       "      <td>3</td>\n",
       "    </tr>\n",
       "    <tr>\n",
       "      <th>4</th>\n",
       "      <td>1541</td>\n",
       "      <td>43</td>\n",
       "      <td>47014</td>\n",
       "      <td>1</td>\n",
       "      <td>2015-10-19</td>\n",
       "      <td>2004-10-04</td>\n",
       "      <td>313253</td>\n",
       "      <td>1621</td>\n",
       "      <td>2004-02-06 10:05:00-05</td>\n",
       "      <td>NaN</td>\n",
       "      <td>...</td>\n",
       "      <td>garry-breitkreuz-1</td>\n",
       "      <td>/debates/2004/2/6/garry-breitkreuz-1/</td>\n",
       "      <td>NaN</td>\n",
       "      <td>NaN</td>\n",
       "      <td>NaN</td>\n",
       "      <td>NaN</td>\n",
       "      <td>NaN</td>\n",
       "      <td>\\N</td>\n",
       "      <td>['mr.', 'speaker', ',', 'i', 'rise', 'today', ...</td>\n",
       "      <td>3</td>\n",
       "    </tr>\n",
       "  </tbody>\n",
       "</table>\n",
       "<p>5 rows × 35 columns</p>\n",
       "</div>"
      ],
      "text/plain": [
       "     id  politician_id  riding_id  party_id    end_date  start_date    id.1  \\\n",
       "0  2611           3465      35066         4  2005-11-29  1997-09-22  232373   \n",
       "1  3210           3465      70224         4  1997-04-27  1994-01-17  232373   \n",
       "2  4305            173      70358         1          \\N  2015-10-19  645329   \n",
       "3  1534            173      47007         1  2015-10-19  2004-10-04  645329   \n",
       "4  1541             43      47014         1  2015-10-19  2004-10-04  313253   \n",
       "\n",
       "   document_id                    time                h1_en  ...  \\\n",
       "0         1878  2001-05-03 13:50:00-04    Government Orders  ...   \n",
       "1         1878  2001-05-03 13:50:00-04    Government Orders  ...   \n",
       "2          388  2008-02-14 13:15:00-05  Routine Proceedings  ...   \n",
       "3          388  2008-02-14 13:15:00-05  Routine Proceedings  ...   \n",
       "4         1621  2004-02-06 10:05:00-05                  NaN  ...   \n",
       "\n",
       "                  slug                                urlcache h1_fr h2_fr  \\\n",
       "0  marlene-catterall-1  /debates/2001/5/3/marlene-catterall-1/   NaN   NaN   \n",
       "1  marlene-catterall-1  /debates/2001/5/3/marlene-catterall-1/   NaN   NaN   \n",
       "2       tom-lukiwski-7      /debates/2008/2/14/tom-lukiwski-7/   NaN   NaN   \n",
       "3       tom-lukiwski-7      /debates/2008/2/14/tom-lukiwski-7/   NaN   NaN   \n",
       "4   garry-breitkreuz-1   /debates/2004/2/6/garry-breitkreuz-1/   NaN   NaN   \n",
       "\n",
       "   h3_fr  who_fr  who_context_fr wordcount_en  \\\n",
       "0    NaN     NaN             NaN           \\N   \n",
       "1    NaN     NaN             NaN           \\N   \n",
       "2    NaN     NaN             NaN           \\N   \n",
       "3    NaN     NaN             NaN           \\N   \n",
       "4    NaN     NaN             NaN           \\N   \n",
       "\n",
       "                                   tokenized_content slug_length  \n",
       "0  ['mr.', 'speaker', ',', 'i', 'rise', 'on', 'a'...           3  \n",
       "1  ['mr.', 'speaker', ',', 'i', 'rise', 'on', 'a'...           3  \n",
       "2  ['finally', ',', 'mr.', 'speaker', ',', 'i', '...           3  \n",
       "3  ['finally', ',', 'mr.', 'speaker', ',', 'i', '...           3  \n",
       "4  ['mr.', 'speaker', ',', 'i', 'rise', 'today', ...           3  \n",
       "\n",
       "[5 rows x 35 columns]"
      ]
     },
     "execution_count": 7,
     "metadata": {},
     "output_type": "execute_result"
    }
   ],
   "source": [
    "df.head()"
   ]
  },
  {
   "cell_type": "code",
   "execution_count": 8,
   "metadata": {},
   "outputs": [
    {
     "data": {
      "text/plain": [
       "Index(['id', 'politician_id', 'riding_id', 'party_id', 'end_date',\n",
       "       'start_date', 'id.1', 'document_id', 'time', 'h1_en', 'h2_en',\n",
       "       'member_id', 'who_en', 'content_en', 'sequence_en', 'wordcount',\n",
       "       'politician_id.1', 'procedural', 'h3_en', 'who_hocid', 'content_fr',\n",
       "       'statement_type', 'written_question', 'source_id', 'who_context_en',\n",
       "       'slug', 'urlcache', 'h1_fr', 'h2_fr', 'h3_fr', 'who_fr',\n",
       "       'who_context_fr', 'wordcount_en', 'tokenized_content', 'slug_length'],\n",
       "      dtype='object')"
      ]
     },
     "execution_count": 8,
     "metadata": {},
     "output_type": "execute_result"
    }
   ],
   "source": [
    "df.columns"
   ]
  },
  {
   "cell_type": "code",
   "execution_count": 9,
   "metadata": {},
   "outputs": [],
   "source": [
    "content = df.tokenized_content"
   ]
  },
  {
   "cell_type": "code",
   "execution_count": 10,
   "metadata": {},
   "outputs": [
    {
     "name": "stdout",
     "output_type": "stream",
     "text": [
      "Wall time: 3min 19s\n"
     ]
    }
   ],
   "source": [
    "%%time\n",
    "df['soup'] = df.content_en.apply(lambda x: BeautifulSoup(x).text)"
   ]
  },
  {
   "cell_type": "code",
   "execution_count": 11,
   "metadata": {},
   "outputs": [],
   "source": [
    "df['text_len'] = df.soup.apply(len)"
   ]
  },
  {
   "cell_type": "code",
   "execution_count": 12,
   "metadata": {},
   "outputs": [],
   "source": [
    "df = df[df.text_len>2]"
   ]
  },
  {
   "cell_type": "code",
   "execution_count": 13,
   "metadata": {},
   "outputs": [
    {
     "data": {
      "text/plain": [
       "\"['mr.', 'speaker', ',', 'i', 'rise', 'on', 'a', 'point', 'of', 'order', '.', 'i', 'believe', 'you', 'would', 'find', 'unanimous', 'consent', 'following', 'consultation', 'among', 'all', 'parties', 'to', 'further', 'defer', 'the', 'vote', 'just', 'deferred', 'until', 'monday', 'to', 'next', 'tuesday', 'at', 'the', 'end', 'of', 'government', 'orders', '.']\""
      ]
     },
     "execution_count": 13,
     "metadata": {},
     "output_type": "execute_result"
    }
   ],
   "source": [
    "content[0]"
   ]
  },
  {
   "cell_type": "code",
   "execution_count": 14,
   "metadata": {},
   "outputs": [],
   "source": [
    "import ast"
   ]
  },
  {
   "cell_type": "code",
   "execution_count": 15,
   "metadata": {},
   "outputs": [
    {
     "data": {
      "text/plain": [
       "['mr.',\n",
       " 'speaker',\n",
       " ',',\n",
       " 'i',\n",
       " 'rise',\n",
       " 'on',\n",
       " 'a',\n",
       " 'point',\n",
       " 'of',\n",
       " 'order',\n",
       " '.',\n",
       " 'i',\n",
       " 'believe',\n",
       " 'you',\n",
       " 'would',\n",
       " 'find',\n",
       " 'unanimous',\n",
       " 'consent',\n",
       " 'following',\n",
       " 'consultation',\n",
       " 'among',\n",
       " 'all',\n",
       " 'parties',\n",
       " 'to',\n",
       " 'further',\n",
       " 'defer',\n",
       " 'the',\n",
       " 'vote',\n",
       " 'just',\n",
       " 'deferred',\n",
       " 'until',\n",
       " 'monday',\n",
       " 'to',\n",
       " 'next',\n",
       " 'tuesday',\n",
       " 'at',\n",
       " 'the',\n",
       " 'end',\n",
       " 'of',\n",
       " 'government',\n",
       " 'orders',\n",
       " '.']"
      ]
     },
     "execution_count": 15,
     "metadata": {},
     "output_type": "execute_result"
    }
   ],
   "source": [
    "ast.literal_eval(content[0])"
   ]
  },
  {
   "cell_type": "markdown",
   "metadata": {},
   "source": [
    "%%time\n",
    "df['tokens'] = df.tokenized_content.apply(ast.literal_eval) "
   ]
  },
  {
   "cell_type": "code",
   "execution_count": 21,
   "metadata": {},
   "outputs": [
    {
     "name": "stdout",
     "output_type": "stream",
     "text": [
      "Wall time: 7min 39s\n"
     ]
    }
   ],
   "source": [
    "%%time\n",
    "df['reading_ease'] = df.soup.apply(textstat.flesch_reading_ease)"
   ]
  },
  {
   "cell_type": "code",
   "execution_count": 16,
   "metadata": {},
   "outputs": [
    {
     "name": "stdout",
     "output_type": "stream",
     "text": [
      "Wall time: 8min 7s\n"
     ]
    }
   ],
   "source": [
    "%%time\n",
    "df['fk_reading_ease'] = df.soup.apply(textstat.flesch_kincaid_grade)"
   ]
  },
  {
   "cell_type": "code",
   "execution_count": 17,
   "metadata": {},
   "outputs": [],
   "source": [
    "def ld (row):\n",
    "    return detect(row['soup'])"
   ]
  },
  {
   "cell_type": "raw",
   "metadata": {
    "scrolled": true
   },
   "source": [
    "%%time\n",
    "df['lang'] = df.apply(ld, axis=1)\n",
    "df['lang'] = df.pr"
   ]
  },
  {
   "cell_type": "code",
   "execution_count": 22,
   "metadata": {
    "scrolled": true
   },
   "outputs": [
    {
     "data": {
      "text/plain": [
       "count    861391.000000\n",
       "mean         14.377404\n",
       "std          11.954982\n",
       "min         -15.700000\n",
       "25%           9.500000\n",
       "50%          12.500000\n",
       "75%          16.600000\n",
       "max        1156.500000\n",
       "Name: fk_reading_ease, dtype: float64"
      ]
     },
     "execution_count": 22,
     "metadata": {},
     "output_type": "execute_result"
    }
   ],
   "source": [
    "df.fk_reading_ease.describe()"
   ]
  },
  {
   "cell_type": "code",
   "execution_count": 23,
   "metadata": {},
   "outputs": [],
   "source": [
    "maybefrench = df[df.reading_ease<-2000] "
   ]
  },
  {
   "cell_type": "code",
   "execution_count": 24,
   "metadata": {},
   "outputs": [
    {
     "data": {
      "text/html": [
       "<div>\n",
       "<style scoped>\n",
       "    .dataframe tbody tr th:only-of-type {\n",
       "        vertical-align: middle;\n",
       "    }\n",
       "\n",
       "    .dataframe tbody tr th {\n",
       "        vertical-align: top;\n",
       "    }\n",
       "\n",
       "    .dataframe thead th {\n",
       "        text-align: right;\n",
       "    }\n",
       "</style>\n",
       "<table border=\"1\" class=\"dataframe\">\n",
       "  <thead>\n",
       "    <tr style=\"text-align: right;\">\n",
       "      <th></th>\n",
       "      <th>id</th>\n",
       "      <th>politician_id</th>\n",
       "      <th>riding_id</th>\n",
       "      <th>party_id</th>\n",
       "      <th>end_date</th>\n",
       "      <th>start_date</th>\n",
       "      <th>id.1</th>\n",
       "      <th>document_id</th>\n",
       "      <th>time</th>\n",
       "      <th>h1_en</th>\n",
       "      <th>...</th>\n",
       "      <th>h3_fr</th>\n",
       "      <th>who_fr</th>\n",
       "      <th>who_context_fr</th>\n",
       "      <th>wordcount_en</th>\n",
       "      <th>tokenized_content</th>\n",
       "      <th>slug_length</th>\n",
       "      <th>soup</th>\n",
       "      <th>text_len</th>\n",
       "      <th>fk_reading_ease</th>\n",
       "      <th>reading_ease</th>\n",
       "    </tr>\n",
       "  </thead>\n",
       "  <tbody>\n",
       "  </tbody>\n",
       "</table>\n",
       "<p>0 rows × 39 columns</p>\n",
       "</div>"
      ],
      "text/plain": [
       "Empty DataFrame\n",
       "Columns: [id, politician_id, riding_id, party_id, end_date, start_date, id.1, document_id, time, h1_en, h2_en, member_id, who_en, content_en, sequence_en, wordcount, politician_id.1, procedural, h3_en, who_hocid, content_fr, statement_type, written_question, source_id, who_context_en, slug, urlcache, h1_fr, h2_fr, h3_fr, who_fr, who_context_fr, wordcount_en, tokenized_content, slug_length, soup, text_len, fk_reading_ease, reading_ease]\n",
       "Index: []\n",
       "\n",
       "[0 rows x 39 columns]"
      ]
     },
     "execution_count": 24,
     "metadata": {},
     "output_type": "execute_result"
    }
   ],
   "source": [
    "df[df.text_len<2]"
   ]
  },
  {
   "cell_type": "code",
   "execution_count": 25,
   "metadata": {},
   "outputs": [
    {
     "data": {
      "text/html": [
       "<div>\n",
       "<style scoped>\n",
       "    .dataframe tbody tr th:only-of-type {\n",
       "        vertical-align: middle;\n",
       "    }\n",
       "\n",
       "    .dataframe tbody tr th {\n",
       "        vertical-align: top;\n",
       "    }\n",
       "\n",
       "    .dataframe thead th {\n",
       "        text-align: right;\n",
       "    }\n",
       "</style>\n",
       "<table border=\"1\" class=\"dataframe\">\n",
       "  <thead>\n",
       "    <tr style=\"text-align: right;\">\n",
       "      <th></th>\n",
       "      <th>id</th>\n",
       "      <th>politician_id</th>\n",
       "      <th>riding_id</th>\n",
       "      <th>party_id</th>\n",
       "      <th>end_date</th>\n",
       "      <th>start_date</th>\n",
       "      <th>id.1</th>\n",
       "      <th>document_id</th>\n",
       "      <th>time</th>\n",
       "      <th>h1_en</th>\n",
       "      <th>...</th>\n",
       "      <th>h3_fr</th>\n",
       "      <th>who_fr</th>\n",
       "      <th>who_context_fr</th>\n",
       "      <th>wordcount_en</th>\n",
       "      <th>tokenized_content</th>\n",
       "      <th>slug_length</th>\n",
       "      <th>soup</th>\n",
       "      <th>text_len</th>\n",
       "      <th>fk_reading_ease</th>\n",
       "      <th>reading_ease</th>\n",
       "    </tr>\n",
       "  </thead>\n",
       "  <tbody>\n",
       "    <tr>\n",
       "      <th>11002</th>\n",
       "      <td>1448</td>\n",
       "      <td>295</td>\n",
       "      <td>35104</td>\n",
       "      <td>1</td>\n",
       "      <td>2018-09-30</td>\n",
       "      <td>2004-10-04</td>\n",
       "      <td>781443</td>\n",
       "      <td>3150</td>\n",
       "      <td>2012-04-30 15:15:00-04</td>\n",
       "      <td>Oral Questions</td>\n",
       "      <td>...</td>\n",
       "      <td>NaN</td>\n",
       "      <td>NaN</td>\n",
       "      <td>NaN</td>\n",
       "      <td>\\N</td>\n",
       "      <td>['yes', '.']</td>\n",
       "      <td>4</td>\n",
       "      <td>Yes.</td>\n",
       "      <td>4</td>\n",
       "      <td>-3.5</td>\n",
       "      <td>121.22</td>\n",
       "    </tr>\n",
       "    <tr>\n",
       "      <th>39677</th>\n",
       "      <td>3198</td>\n",
       "      <td>279</td>\n",
       "      <td>35050</td>\n",
       "      <td>4</td>\n",
       "      <td>2011-03-26</td>\n",
       "      <td>1994-01-17</td>\n",
       "      <td>229984</td>\n",
       "      <td>1868</td>\n",
       "      <td>2001-04-05 15:20:00-04</td>\n",
       "      <td>Government Orders</td>\n",
       "      <td>...</td>\n",
       "      <td>NaN</td>\n",
       "      <td>NaN</td>\n",
       "      <td>NaN</td>\n",
       "      <td>\\N</td>\n",
       "      <td>['why', '?']</td>\n",
       "      <td>3</td>\n",
       "      <td>Why?</td>\n",
       "      <td>4</td>\n",
       "      <td>-3.5</td>\n",
       "      <td>121.22</td>\n",
       "    </tr>\n",
       "    <tr>\n",
       "      <th>53503</th>\n",
       "      <td>2645</td>\n",
       "      <td>4405</td>\n",
       "      <td>70155</td>\n",
       "      <td>4</td>\n",
       "      <td>2000-10-22</td>\n",
       "      <td>1997-09-22</td>\n",
       "      <td>224622</td>\n",
       "      <td>1850</td>\n",
       "      <td>2001-03-12 17:00:00-05</td>\n",
       "      <td>Government Orders</td>\n",
       "      <td>...</td>\n",
       "      <td>NaN</td>\n",
       "      <td>NaN</td>\n",
       "      <td>NaN</td>\n",
       "      <td>\\N</td>\n",
       "      <td>['yes', '.']</td>\n",
       "      <td>3</td>\n",
       "      <td>Yes.</td>\n",
       "      <td>4</td>\n",
       "      <td>-3.5</td>\n",
       "      <td>121.22</td>\n",
       "    </tr>\n",
       "    <tr>\n",
       "      <th>53504</th>\n",
       "      <td>3182</td>\n",
       "      <td>4405</td>\n",
       "      <td>70213</td>\n",
       "      <td>4</td>\n",
       "      <td>1997-04-27</td>\n",
       "      <td>1994-01-17</td>\n",
       "      <td>224622</td>\n",
       "      <td>1850</td>\n",
       "      <td>2001-03-12 17:00:00-05</td>\n",
       "      <td>Government Orders</td>\n",
       "      <td>...</td>\n",
       "      <td>NaN</td>\n",
       "      <td>NaN</td>\n",
       "      <td>NaN</td>\n",
       "      <td>\\N</td>\n",
       "      <td>['yes', '.']</td>\n",
       "      <td>3</td>\n",
       "      <td>Yes.</td>\n",
       "      <td>4</td>\n",
       "      <td>-3.5</td>\n",
       "      <td>121.22</td>\n",
       "    </tr>\n",
       "    <tr>\n",
       "      <th>53505</th>\n",
       "      <td>1649</td>\n",
       "      <td>4405</td>\n",
       "      <td>70073</td>\n",
       "      <td>4</td>\n",
       "      <td>2004-02-16</td>\n",
       "      <td>2001-01-29</td>\n",
       "      <td>224622</td>\n",
       "      <td>1850</td>\n",
       "      <td>2001-03-12 17:00:00-05</td>\n",
       "      <td>Government Orders</td>\n",
       "      <td>...</td>\n",
       "      <td>NaN</td>\n",
       "      <td>NaN</td>\n",
       "      <td>NaN</td>\n",
       "      <td>\\N</td>\n",
       "      <td>['yes', '.']</td>\n",
       "      <td>3</td>\n",
       "      <td>Yes.</td>\n",
       "      <td>4</td>\n",
       "      <td>-3.5</td>\n",
       "      <td>121.22</td>\n",
       "    </tr>\n",
       "    <tr>\n",
       "      <th>...</th>\n",
       "      <td>...</td>\n",
       "      <td>...</td>\n",
       "      <td>...</td>\n",
       "      <td>...</td>\n",
       "      <td>...</td>\n",
       "      <td>...</td>\n",
       "      <td>...</td>\n",
       "      <td>...</td>\n",
       "      <td>...</td>\n",
       "      <td>...</td>\n",
       "      <td>...</td>\n",
       "      <td>...</td>\n",
       "      <td>...</td>\n",
       "      <td>...</td>\n",
       "      <td>...</td>\n",
       "      <td>...</td>\n",
       "      <td>...</td>\n",
       "      <td>...</td>\n",
       "      <td>...</td>\n",
       "      <td>...</td>\n",
       "      <td>...</td>\n",
       "    </tr>\n",
       "    <tr>\n",
       "      <th>781890</th>\n",
       "      <td>4322</td>\n",
       "      <td>409</td>\n",
       "      <td>70268</td>\n",
       "      <td>1</td>\n",
       "      <td>2019-10-21</td>\n",
       "      <td>2015-10-19</td>\n",
       "      <td>2522450</td>\n",
       "      <td>19083</td>\n",
       "      <td>2017-12-12 12:20:00-05</td>\n",
       "      <td>Government Orders</td>\n",
       "      <td>...</td>\n",
       "      <td>NaN</td>\n",
       "      <td>Mme Sylvie Boucher</td>\n",
       "      <td>Beauport—Côte-de-Beaupré—Île d'Orléans—Charlev...</td>\n",
       "      <td>0</td>\n",
       "      <td>['no', '.']</td>\n",
       "      <td>3</td>\n",
       "      <td>No.</td>\n",
       "      <td>4</td>\n",
       "      <td>8.4</td>\n",
       "      <td>36.62</td>\n",
       "    </tr>\n",
       "    <tr>\n",
       "      <th>781891</th>\n",
       "      <td>351</td>\n",
       "      <td>409</td>\n",
       "      <td>24007</td>\n",
       "      <td>1</td>\n",
       "      <td>2011-03-26</td>\n",
       "      <td>2006-04-03</td>\n",
       "      <td>2522450</td>\n",
       "      <td>19083</td>\n",
       "      <td>2017-12-12 12:20:00-05</td>\n",
       "      <td>Government Orders</td>\n",
       "      <td>...</td>\n",
       "      <td>NaN</td>\n",
       "      <td>Mme Sylvie Boucher</td>\n",
       "      <td>Beauport—Côte-de-Beaupré—Île d'Orléans—Charlev...</td>\n",
       "      <td>0</td>\n",
       "      <td>['no', '.']</td>\n",
       "      <td>3</td>\n",
       "      <td>No.</td>\n",
       "      <td>4</td>\n",
       "      <td>8.4</td>\n",
       "      <td>36.62</td>\n",
       "    </tr>\n",
       "    <tr>\n",
       "      <th>792469</th>\n",
       "      <td>4225</td>\n",
       "      <td>9547</td>\n",
       "      <td>59004</td>\n",
       "      <td>1</td>\n",
       "      <td>\\N</td>\n",
       "      <td>2015-10-19</td>\n",
       "      <td>2571350</td>\n",
       "      <td>19354</td>\n",
       "      <td>2018-04-17 13:15:00-04</td>\n",
       "      <td>Routine Proceedings</td>\n",
       "      <td>...</td>\n",
       "      <td>NaN</td>\n",
       "      <td>M. Todd Doherty</td>\n",
       "      <td>NaN</td>\n",
       "      <td>1</td>\n",
       "      <td>['wow', '.']</td>\n",
       "      <td>3</td>\n",
       "      <td>Wow.</td>\n",
       "      <td>4</td>\n",
       "      <td>-3.5</td>\n",
       "      <td>121.22</td>\n",
       "    </tr>\n",
       "    <tr>\n",
       "      <th>808527</th>\n",
       "      <td>4298</td>\n",
       "      <td>306</td>\n",
       "      <td>35022</td>\n",
       "      <td>4</td>\n",
       "      <td>2019-10-21</td>\n",
       "      <td>2015-10-19</td>\n",
       "      <td>2641742</td>\n",
       "      <td>19697</td>\n",
       "      <td>2018-09-20 17:00:00-04</td>\n",
       "      <td>Private Members' Business</td>\n",
       "      <td>...</td>\n",
       "      <td>NaN</td>\n",
       "      <td>M. Borys Wrzesnewskyj</td>\n",
       "      <td>Etobicoke-Centre, Lib.</td>\n",
       "      <td>1</td>\n",
       "      <td>['no', '.']</td>\n",
       "      <td>3</td>\n",
       "      <td>No.</td>\n",
       "      <td>3</td>\n",
       "      <td>-3.5</td>\n",
       "      <td>121.22</td>\n",
       "    </tr>\n",
       "    <tr>\n",
       "      <th>808528</th>\n",
       "      <td>1364</td>\n",
       "      <td>306</td>\n",
       "      <td>35022</td>\n",
       "      <td>4</td>\n",
       "      <td>2011-03-26</td>\n",
       "      <td>2004-10-04</td>\n",
       "      <td>2641742</td>\n",
       "      <td>19697</td>\n",
       "      <td>2018-09-20 17:00:00-04</td>\n",
       "      <td>Private Members' Business</td>\n",
       "      <td>...</td>\n",
       "      <td>NaN</td>\n",
       "      <td>M. Borys Wrzesnewskyj</td>\n",
       "      <td>Etobicoke-Centre, Lib.</td>\n",
       "      <td>1</td>\n",
       "      <td>['no', '.']</td>\n",
       "      <td>3</td>\n",
       "      <td>No.</td>\n",
       "      <td>3</td>\n",
       "      <td>-3.5</td>\n",
       "      <td>121.22</td>\n",
       "    </tr>\n",
       "  </tbody>\n",
       "</table>\n",
       "<p>79 rows × 39 columns</p>\n",
       "</div>"
      ],
      "text/plain": [
       "          id  politician_id  riding_id  party_id    end_date  start_date  \\\n",
       "11002   1448            295      35104         1  2018-09-30  2004-10-04   \n",
       "39677   3198            279      35050         4  2011-03-26  1994-01-17   \n",
       "53503   2645           4405      70155         4  2000-10-22  1997-09-22   \n",
       "53504   3182           4405      70213         4  1997-04-27  1994-01-17   \n",
       "53505   1649           4405      70073         4  2004-02-16  2001-01-29   \n",
       "...      ...            ...        ...       ...         ...         ...   \n",
       "781890  4322            409      70268         1  2019-10-21  2015-10-19   \n",
       "781891   351            409      24007         1  2011-03-26  2006-04-03   \n",
       "792469  4225           9547      59004         1          \\N  2015-10-19   \n",
       "808527  4298            306      35022         4  2019-10-21  2015-10-19   \n",
       "808528  1364            306      35022         4  2011-03-26  2004-10-04   \n",
       "\n",
       "           id.1  document_id                    time  \\\n",
       "11002    781443         3150  2012-04-30 15:15:00-04   \n",
       "39677    229984         1868  2001-04-05 15:20:00-04   \n",
       "53503    224622         1850  2001-03-12 17:00:00-05   \n",
       "53504    224622         1850  2001-03-12 17:00:00-05   \n",
       "53505    224622         1850  2001-03-12 17:00:00-05   \n",
       "...         ...          ...                     ...   \n",
       "781890  2522450        19083  2017-12-12 12:20:00-05   \n",
       "781891  2522450        19083  2017-12-12 12:20:00-05   \n",
       "792469  2571350        19354  2018-04-17 13:15:00-04   \n",
       "808527  2641742        19697  2018-09-20 17:00:00-04   \n",
       "808528  2641742        19697  2018-09-20 17:00:00-04   \n",
       "\n",
       "                            h1_en  ... h3_fr                 who_fr  \\\n",
       "11002              Oral Questions  ...   NaN                    NaN   \n",
       "39677           Government Orders  ...   NaN                    NaN   \n",
       "53503           Government Orders  ...   NaN                    NaN   \n",
       "53504           Government Orders  ...   NaN                    NaN   \n",
       "53505           Government Orders  ...   NaN                    NaN   \n",
       "...                           ...  ...   ...                    ...   \n",
       "781890          Government Orders  ...   NaN     Mme Sylvie Boucher   \n",
       "781891          Government Orders  ...   NaN     Mme Sylvie Boucher   \n",
       "792469        Routine Proceedings  ...   NaN        M. Todd Doherty   \n",
       "808527  Private Members' Business  ...   NaN  M. Borys Wrzesnewskyj   \n",
       "808528  Private Members' Business  ...   NaN  M. Borys Wrzesnewskyj   \n",
       "\n",
       "                                           who_context_fr wordcount_en  \\\n",
       "11002                                                 NaN           \\N   \n",
       "39677                                                 NaN           \\N   \n",
       "53503                                                 NaN           \\N   \n",
       "53504                                                 NaN           \\N   \n",
       "53505                                                 NaN           \\N   \n",
       "...                                                   ...          ...   \n",
       "781890  Beauport—Côte-de-Beaupré—Île d'Orléans—Charlev...            0   \n",
       "781891  Beauport—Côte-de-Beaupré—Île d'Orléans—Charlev...            0   \n",
       "792469                                                NaN            1   \n",
       "808527                             Etobicoke-Centre, Lib.            1   \n",
       "808528                             Etobicoke-Centre, Lib.            1   \n",
       "\n",
       "        tokenized_content  slug_length  soup text_len fk_reading_ease  \\\n",
       "11002        ['yes', '.']            4  Yes.        4            -3.5   \n",
       "39677        ['why', '?']            3  Why?        4            -3.5   \n",
       "53503        ['yes', '.']            3  Yes.        4            -3.5   \n",
       "53504        ['yes', '.']            3  Yes.        4            -3.5   \n",
       "53505        ['yes', '.']            3  Yes.        4            -3.5   \n",
       "...                   ...          ...   ...      ...             ...   \n",
       "781890        ['no', '.']            3   No.        4             8.4   \n",
       "781891        ['no', '.']            3   No.        4             8.4   \n",
       "792469       ['wow', '.']            3  Wow.        4            -3.5   \n",
       "808527        ['no', '.']            3   No.        3            -3.5   \n",
       "808528        ['no', '.']            3   No.        3            -3.5   \n",
       "\n",
       "       reading_ease  \n",
       "11002        121.22  \n",
       "39677        121.22  \n",
       "53503        121.22  \n",
       "53504        121.22  \n",
       "53505        121.22  \n",
       "...             ...  \n",
       "781890        36.62  \n",
       "781891        36.62  \n",
       "792469       121.22  \n",
       "808527       121.22  \n",
       "808528       121.22  \n",
       "\n",
       "[79 rows x 39 columns]"
      ]
     },
     "execution_count": 25,
     "metadata": {},
     "output_type": "execute_result"
    }
   ],
   "source": [
    "df[df.text_len<5]"
   ]
  },
  {
   "cell_type": "markdown",
   "metadata": {},
   "source": [
    "I'm assuming that if the reading ease is above 20, it's in English, for now"
   ]
  },
  {
   "cell_type": "code",
   "execution_count": 26,
   "metadata": {
    "scrolled": true
   },
   "outputs": [],
   "source": [
    "english = df[df.reading_ease>20] "
   ]
  },
  {
   "cell_type": "code",
   "execution_count": 27,
   "metadata": {},
   "outputs": [
    {
     "data": {
      "text/plain": [
       "(775410, 39)"
      ]
     },
     "execution_count": 27,
     "metadata": {},
     "output_type": "execute_result"
    }
   ],
   "source": [
    "english.shape"
   ]
  },
  {
   "cell_type": "code",
   "execution_count": 28,
   "metadata": {
    "scrolled": true
   },
   "outputs": [
    {
     "data": {
      "text/html": [
       "<div>\n",
       "<style scoped>\n",
       "    .dataframe tbody tr th:only-of-type {\n",
       "        vertical-align: middle;\n",
       "    }\n",
       "\n",
       "    .dataframe tbody tr th {\n",
       "        vertical-align: top;\n",
       "    }\n",
       "\n",
       "    .dataframe thead th {\n",
       "        text-align: right;\n",
       "    }\n",
       "</style>\n",
       "<table border=\"1\" class=\"dataframe\">\n",
       "  <thead>\n",
       "    <tr style=\"text-align: right;\">\n",
       "      <th></th>\n",
       "      <th>id</th>\n",
       "      <th>politician_id</th>\n",
       "      <th>riding_id</th>\n",
       "      <th>party_id</th>\n",
       "      <th>end_date</th>\n",
       "      <th>start_date</th>\n",
       "      <th>id.1</th>\n",
       "      <th>document_id</th>\n",
       "      <th>time</th>\n",
       "      <th>h1_en</th>\n",
       "      <th>...</th>\n",
       "      <th>h3_fr</th>\n",
       "      <th>who_fr</th>\n",
       "      <th>who_context_fr</th>\n",
       "      <th>wordcount_en</th>\n",
       "      <th>tokenized_content</th>\n",
       "      <th>slug_length</th>\n",
       "      <th>soup</th>\n",
       "      <th>text_len</th>\n",
       "      <th>fk_reading_ease</th>\n",
       "      <th>reading_ease</th>\n",
       "    </tr>\n",
       "  </thead>\n",
       "  <tbody>\n",
       "    <tr>\n",
       "      <th>781533</th>\n",
       "      <td>1071</td>\n",
       "      <td>573</td>\n",
       "      <td>35002</td>\n",
       "      <td>2</td>\n",
       "      <td>\\N</td>\n",
       "      <td>2008-11-18</td>\n",
       "      <td>2520964</td>\n",
       "      <td>19079</td>\n",
       "      <td>2017-12-11 12:00:00-05</td>\n",
       "      <td>Private Members' Business</td>\n",
       "      <td>...</td>\n",
       "      <td>Reprise de la séance</td>\n",
       "      <td>NaN</td>\n",
       "      <td>NaN</td>\n",
       "      <td>0</td>\n",
       "      <td>[]</td>\n",
       "      <td>3</td>\n",
       "      <td></td>\n",
       "      <td>3</td>\n",
       "      <td>-15.7</td>\n",
       "      <td>206.84</td>\n",
       "    </tr>\n",
       "    <tr>\n",
       "      <th>639257</th>\n",
       "      <td>610</td>\n",
       "      <td>461</td>\n",
       "      <td>48022</td>\n",
       "      <td>1</td>\n",
       "      <td>2015-10-19</td>\n",
       "      <td>2006-04-03</td>\n",
       "      <td>2006800</td>\n",
       "      <td>16295</td>\n",
       "      <td>2014-06-16 23:55:00-04</td>\n",
       "      <td>Government Orders</td>\n",
       "      <td>...</td>\n",
       "      <td>NaN</td>\n",
       "      <td>M. Chris Warkentin</td>\n",
       "      <td>Peace River, PCC</td>\n",
       "      <td>\\N</td>\n",
       "      <td>['more', '.']</td>\n",
       "      <td>3</td>\n",
       "      <td>More.</td>\n",
       "      <td>5</td>\n",
       "      <td>-3.5</td>\n",
       "      <td>121.22</td>\n",
       "    </tr>\n",
       "    <tr>\n",
       "      <th>329095</th>\n",
       "      <td>1507</td>\n",
       "      <td>23</td>\n",
       "      <td>24055</td>\n",
       "      <td>3</td>\n",
       "      <td>2014-08-25</td>\n",
       "      <td>2004-10-04</td>\n",
       "      <td>368279</td>\n",
       "      <td>1612</td>\n",
       "      <td>2005-11-22 17:00:00-05</td>\n",
       "      <td>Government Orders</td>\n",
       "      <td>...</td>\n",
       "      <td>NaN</td>\n",
       "      <td>NaN</td>\n",
       "      <td>NaN</td>\n",
       "      <td>\\N</td>\n",
       "      <td>['yes', '.']</td>\n",
       "      <td>3</td>\n",
       "      <td>Yes.</td>\n",
       "      <td>4</td>\n",
       "      <td>-3.5</td>\n",
       "      <td>121.22</td>\n",
       "    </tr>\n",
       "    <tr>\n",
       "      <th>808528</th>\n",
       "      <td>1364</td>\n",
       "      <td>306</td>\n",
       "      <td>35022</td>\n",
       "      <td>4</td>\n",
       "      <td>2011-03-26</td>\n",
       "      <td>2004-10-04</td>\n",
       "      <td>2641742</td>\n",
       "      <td>19697</td>\n",
       "      <td>2018-09-20 17:00:00-04</td>\n",
       "      <td>Private Members' Business</td>\n",
       "      <td>...</td>\n",
       "      <td>NaN</td>\n",
       "      <td>M. Borys Wrzesnewskyj</td>\n",
       "      <td>Etobicoke-Centre, Lib.</td>\n",
       "      <td>1</td>\n",
       "      <td>['no', '.']</td>\n",
       "      <td>3</td>\n",
       "      <td>No.</td>\n",
       "      <td>3</td>\n",
       "      <td>-3.5</td>\n",
       "      <td>121.22</td>\n",
       "    </tr>\n",
       "    <tr>\n",
       "      <th>177262</th>\n",
       "      <td>1640</td>\n",
       "      <td>242</td>\n",
       "      <td>12005</td>\n",
       "      <td>4</td>\n",
       "      <td>\\N</td>\n",
       "      <td>2001-01-29</td>\n",
       "      <td>263351</td>\n",
       "      <td>2006</td>\n",
       "      <td>2002-05-01 15:45:00-04</td>\n",
       "      <td>Routine Proceedings</td>\n",
       "      <td>...</td>\n",
       "      <td>NaN</td>\n",
       "      <td>NaN</td>\n",
       "      <td>NaN</td>\n",
       "      <td>\\N</td>\n",
       "      <td>['yes', '.']</td>\n",
       "      <td>3</td>\n",
       "      <td>Yes.</td>\n",
       "      <td>4</td>\n",
       "      <td>-3.5</td>\n",
       "      <td>121.22</td>\n",
       "    </tr>\n",
       "    <tr>\n",
       "      <th>...</th>\n",
       "      <td>...</td>\n",
       "      <td>...</td>\n",
       "      <td>...</td>\n",
       "      <td>...</td>\n",
       "      <td>...</td>\n",
       "      <td>...</td>\n",
       "      <td>...</td>\n",
       "      <td>...</td>\n",
       "      <td>...</td>\n",
       "      <td>...</td>\n",
       "      <td>...</td>\n",
       "      <td>...</td>\n",
       "      <td>...</td>\n",
       "      <td>...</td>\n",
       "      <td>...</td>\n",
       "      <td>...</td>\n",
       "      <td>...</td>\n",
       "      <td>...</td>\n",
       "      <td>...</td>\n",
       "      <td>...</td>\n",
       "      <td>...</td>\n",
       "    </tr>\n",
       "    <tr>\n",
       "      <th>199017</th>\n",
       "      <td>1469</td>\n",
       "      <td>36</td>\n",
       "      <td>24017</td>\n",
       "      <td>3</td>\n",
       "      <td>2011-03-26</td>\n",
       "      <td>2004-10-04</td>\n",
       "      <td>675791</td>\n",
       "      <td>500</td>\n",
       "      <td>2009-03-25 15:10:00-04</td>\n",
       "      <td>Routine Proceedings</td>\n",
       "      <td>...</td>\n",
       "      <td>NaN</td>\n",
       "      <td>NaN</td>\n",
       "      <td>NaN</td>\n",
       "      <td>\\N</td>\n",
       "      <td>['moved', 'for', 'leave', 'to', 'introduce', '...</td>\n",
       "      <td>3</td>\n",
       "      <td>moved for leave to introduce Bill C-343, An A...</td>\n",
       "      <td>928</td>\n",
       "      <td>23.1</td>\n",
       "      <td>20.01</td>\n",
       "    </tr>\n",
       "    <tr>\n",
       "      <th>852965</th>\n",
       "      <td>4476</td>\n",
       "      <td>10628</td>\n",
       "      <td>24016</td>\n",
       "      <td>1</td>\n",
       "      <td>\\N</td>\n",
       "      <td>2018-06-18</td>\n",
       "      <td>2832871</td>\n",
       "      <td>20718</td>\n",
       "      <td>2020-02-26 14:05:00-05</td>\n",
       "      <td>Statements by Members</td>\n",
       "      <td>...</td>\n",
       "      <td>NaN</td>\n",
       "      <td>M. Richard Martel (Chicoutimi—Le Fjord, PCC)</td>\n",
       "      <td>Chicoutimi—Le Fjord, PCC</td>\n",
       "      <td>0</td>\n",
       "      <td>['mr.', 'speaker', ',', 'people', 'in', 'the',...</td>\n",
       "      <td>3</td>\n",
       "      <td>Mr. Speaker, people in the Saguenay—Lac-Saint-...</td>\n",
       "      <td>1011</td>\n",
       "      <td>23.1</td>\n",
       "      <td>20.01</td>\n",
       "    </tr>\n",
       "    <tr>\n",
       "      <th>809926</th>\n",
       "      <td>4378</td>\n",
       "      <td>8491</td>\n",
       "      <td>70288</td>\n",
       "      <td>2</td>\n",
       "      <td>2019-10-21</td>\n",
       "      <td>2015-10-19</td>\n",
       "      <td>2645124</td>\n",
       "      <td>19712</td>\n",
       "      <td>2018-09-28 11:20:00-04</td>\n",
       "      <td>Oral Questions</td>\n",
       "      <td>...</td>\n",
       "      <td>NaN</td>\n",
       "      <td>M. Matthew Dubé (Beloeil—Chambly, NPD)</td>\n",
       "      <td>Beloeil—Chambly, NPD</td>\n",
       "      <td>0</td>\n",
       "      <td>['mr.', 'speaker', ',', 'we', 'know', 'that', ...</td>\n",
       "      <td>3</td>\n",
       "      <td>Mr. Speaker, we know that CSIS spied on envir...</td>\n",
       "      <td>510</td>\n",
       "      <td>16.9</td>\n",
       "      <td>20.01</td>\n",
       "    </tr>\n",
       "    <tr>\n",
       "      <th>346494</th>\n",
       "      <td>3335</td>\n",
       "      <td>121</td>\n",
       "      <td>70260</td>\n",
       "      <td>4</td>\n",
       "      <td>1997-04-27</td>\n",
       "      <td>1994-01-17</td>\n",
       "      <td>595706</td>\n",
       "      <td>210</td>\n",
       "      <td>2006-09-21 15:25:00-04</td>\n",
       "      <td>Routine Proceedings</td>\n",
       "      <td>...</td>\n",
       "      <td>NaN</td>\n",
       "      <td>NaN</td>\n",
       "      <td>NaN</td>\n",
       "      <td>\\N</td>\n",
       "      <td>['mr.', 'speaker', ',', 'if', 'i', 'could', 'd...</td>\n",
       "      <td>3</td>\n",
       "      <td>Mr. Speaker, if I could direct my point to you...</td>\n",
       "      <td>946</td>\n",
       "      <td>23.1</td>\n",
       "      <td>20.01</td>\n",
       "    </tr>\n",
       "    <tr>\n",
       "      <th>274252</th>\n",
       "      <td>1593</td>\n",
       "      <td>4156</td>\n",
       "      <td>70055</td>\n",
       "      <td>25</td>\n",
       "      <td>2004-05-23</td>\n",
       "      <td>2001-01-29</td>\n",
       "      <td>193331</td>\n",
       "      <td>2090</td>\n",
       "      <td>2000-02-24 14:10:00-05</td>\n",
       "      <td>Statements By Members</td>\n",
       "      <td>...</td>\n",
       "      <td>NaN</td>\n",
       "      <td>NaN</td>\n",
       "      <td>NaN</td>\n",
       "      <td>\\N</td>\n",
       "      <td>['mr.', 'speaker', ',', 'canadian', 'truckers'...</td>\n",
       "      <td>3</td>\n",
       "      <td>Mr. Speaker, Canadian truckers are facing a cr...</td>\n",
       "      <td>952</td>\n",
       "      <td>23.1</td>\n",
       "      <td>20.01</td>\n",
       "    </tr>\n",
       "  </tbody>\n",
       "</table>\n",
       "<p>775410 rows × 39 columns</p>\n",
       "</div>"
      ],
      "text/plain": [
       "          id  politician_id  riding_id  party_id    end_date  start_date  \\\n",
       "781533  1071            573      35002         2          \\N  2008-11-18   \n",
       "639257   610            461      48022         1  2015-10-19  2006-04-03   \n",
       "329095  1507             23      24055         3  2014-08-25  2004-10-04   \n",
       "808528  1364            306      35022         4  2011-03-26  2004-10-04   \n",
       "177262  1640            242      12005         4          \\N  2001-01-29   \n",
       "...      ...            ...        ...       ...         ...         ...   \n",
       "199017  1469             36      24017         3  2011-03-26  2004-10-04   \n",
       "852965  4476          10628      24016         1          \\N  2018-06-18   \n",
       "809926  4378           8491      70288         2  2019-10-21  2015-10-19   \n",
       "346494  3335            121      70260         4  1997-04-27  1994-01-17   \n",
       "274252  1593           4156      70055        25  2004-05-23  2001-01-29   \n",
       "\n",
       "           id.1  document_id                    time  \\\n",
       "781533  2520964        19079  2017-12-11 12:00:00-05   \n",
       "639257  2006800        16295  2014-06-16 23:55:00-04   \n",
       "329095   368279         1612  2005-11-22 17:00:00-05   \n",
       "808528  2641742        19697  2018-09-20 17:00:00-04   \n",
       "177262   263351         2006  2002-05-01 15:45:00-04   \n",
       "...         ...          ...                     ...   \n",
       "199017   675791          500  2009-03-25 15:10:00-04   \n",
       "852965  2832871        20718  2020-02-26 14:05:00-05   \n",
       "809926  2645124        19712  2018-09-28 11:20:00-04   \n",
       "346494   595706          210  2006-09-21 15:25:00-04   \n",
       "274252   193331         2090  2000-02-24 14:10:00-05   \n",
       "\n",
       "                            h1_en  ...                 h3_fr  \\\n",
       "781533  Private Members' Business  ...  Reprise de la séance   \n",
       "639257          Government Orders  ...                   NaN   \n",
       "329095          Government Orders  ...                   NaN   \n",
       "808528  Private Members' Business  ...                   NaN   \n",
       "177262        Routine Proceedings  ...                   NaN   \n",
       "...                           ...  ...                   ...   \n",
       "199017        Routine Proceedings  ...                   NaN   \n",
       "852965      Statements by Members  ...                   NaN   \n",
       "809926             Oral Questions  ...                   NaN   \n",
       "346494        Routine Proceedings  ...                   NaN   \n",
       "274252      Statements By Members  ...                   NaN   \n",
       "\n",
       "                                              who_fr  \\\n",
       "781533                                           NaN   \n",
       "639257                            M. Chris Warkentin   \n",
       "329095                                           NaN   \n",
       "808528                         M. Borys Wrzesnewskyj   \n",
       "177262                                           NaN   \n",
       "...                                              ...   \n",
       "199017                                           NaN   \n",
       "852965  M. Richard Martel (Chicoutimi—Le Fjord, PCC)   \n",
       "809926        M. Matthew Dubé (Beloeil—Chambly, NPD)   \n",
       "346494                                           NaN   \n",
       "274252                                           NaN   \n",
       "\n",
       "                  who_context_fr wordcount_en  \\\n",
       "781533                       NaN            0   \n",
       "639257          Peace River, PCC           \\N   \n",
       "329095                       NaN           \\N   \n",
       "808528    Etobicoke-Centre, Lib.            1   \n",
       "177262                       NaN           \\N   \n",
       "...                          ...          ...   \n",
       "199017                       NaN           \\N   \n",
       "852965  Chicoutimi—Le Fjord, PCC            0   \n",
       "809926      Beloeil—Chambly, NPD            0   \n",
       "346494                       NaN           \\N   \n",
       "274252                       NaN           \\N   \n",
       "\n",
       "                                        tokenized_content  slug_length  \\\n",
       "781533                                                 []            3   \n",
       "639257                                      ['more', '.']            3   \n",
       "329095                                       ['yes', '.']            3   \n",
       "808528                                        ['no', '.']            3   \n",
       "177262                                       ['yes', '.']            3   \n",
       "...                                                   ...          ...   \n",
       "199017  ['moved', 'for', 'leave', 'to', 'introduce', '...            3   \n",
       "852965  ['mr.', 'speaker', ',', 'people', 'in', 'the',...            3   \n",
       "809926  ['mr.', 'speaker', ',', 'we', 'know', 'that', ...            3   \n",
       "346494  ['mr.', 'speaker', ',', 'if', 'i', 'could', 'd...            3   \n",
       "274252  ['mr.', 'speaker', ',', 'canadian', 'truckers'...            3   \n",
       "\n",
       "                                                     soup text_len  \\\n",
       "781533                                                           3   \n",
       "639257                                              More.        5   \n",
       "329095                                               Yes.        4   \n",
       "808528                                                No.        3   \n",
       "177262                                               Yes.        4   \n",
       "...                                                   ...      ...   \n",
       "199017   moved for leave to introduce Bill C-343, An A...      928   \n",
       "852965  Mr. Speaker, people in the Saguenay—Lac-Saint-...     1011   \n",
       "809926   Mr. Speaker, we know that CSIS spied on envir...      510   \n",
       "346494  Mr. Speaker, if I could direct my point to you...      946   \n",
       "274252  Mr. Speaker, Canadian truckers are facing a cr...      952   \n",
       "\n",
       "       fk_reading_ease reading_ease  \n",
       "781533           -15.7       206.84  \n",
       "639257            -3.5       121.22  \n",
       "329095            -3.5       121.22  \n",
       "808528            -3.5       121.22  \n",
       "177262            -3.5       121.22  \n",
       "...                ...          ...  \n",
       "199017            23.1        20.01  \n",
       "852965            23.1        20.01  \n",
       "809926            16.9        20.01  \n",
       "346494            23.1        20.01  \n",
       "274252            23.1        20.01  \n",
       "\n",
       "[775410 rows x 39 columns]"
      ]
     },
     "execution_count": 28,
     "metadata": {},
     "output_type": "execute_result"
    }
   ],
   "source": [
    "english.sort_values(by='reading_ease', ascending=False)"
   ]
  },
  {
   "cell_type": "code",
   "execution_count": 29,
   "metadata": {},
   "outputs": [],
   "source": [
    "reading_ease_party = df.pivot_table(values='reading_ease', index = \"party_id\", aggfunc='mean')"
   ]
  },
  {
   "cell_type": "code",
   "execution_count": 30,
   "metadata": {},
   "outputs": [],
   "source": [
    "reading_ease_party.sort_values(by='reading_ease', ascending=False, inplace=True)"
   ]
  },
  {
   "cell_type": "code",
   "execution_count": 31,
   "metadata": {},
   "outputs": [
    {
     "data": {
      "text/html": [
       "<div>\n",
       "<style scoped>\n",
       "    .dataframe tbody tr th:only-of-type {\n",
       "        vertical-align: middle;\n",
       "    }\n",
       "\n",
       "    .dataframe tbody tr th {\n",
       "        vertical-align: top;\n",
       "    }\n",
       "\n",
       "    .dataframe thead th {\n",
       "        text-align: right;\n",
       "    }\n",
       "</style>\n",
       "<table border=\"1\" class=\"dataframe\">\n",
       "  <thead>\n",
       "    <tr style=\"text-align: right;\">\n",
       "      <th></th>\n",
       "      <th>reading_ease</th>\n",
       "    </tr>\n",
       "    <tr>\n",
       "      <th>party_id</th>\n",
       "      <th></th>\n",
       "    </tr>\n",
       "  </thead>\n",
       "  <tbody>\n",
       "    <tr>\n",
       "      <th>28</th>\n",
       "      <td>49.965355</td>\n",
       "    </tr>\n",
       "    <tr>\n",
       "      <th>25</th>\n",
       "      <td>49.170936</td>\n",
       "    </tr>\n",
       "    <tr>\n",
       "      <th>1</th>\n",
       "      <td>49.164895</td>\n",
       "    </tr>\n",
       "    <tr>\n",
       "      <th>46</th>\n",
       "      <td>49.129540</td>\n",
       "    </tr>\n",
       "    <tr>\n",
       "      <th>26</th>\n",
       "      <td>48.073650</td>\n",
       "    </tr>\n",
       "    <tr>\n",
       "      <th>2</th>\n",
       "      <td>47.864573</td>\n",
       "    </tr>\n",
       "    <tr>\n",
       "      <th>5</th>\n",
       "      <td>47.157679</td>\n",
       "    </tr>\n",
       "    <tr>\n",
       "      <th>4</th>\n",
       "      <td>46.043936</td>\n",
       "    </tr>\n",
       "    <tr>\n",
       "      <th>9</th>\n",
       "      <td>43.404443</td>\n",
       "    </tr>\n",
       "    <tr>\n",
       "      <th>3</th>\n",
       "      <td>42.163628</td>\n",
       "    </tr>\n",
       "    <tr>\n",
       "      <th>39</th>\n",
       "      <td>36.434843</td>\n",
       "    </tr>\n",
       "  </tbody>\n",
       "</table>\n",
       "</div>"
      ],
      "text/plain": [
       "          reading_ease\n",
       "party_id              \n",
       "28           49.965355\n",
       "25           49.170936\n",
       "1            49.164895\n",
       "46           49.129540\n",
       "26           48.073650\n",
       "2            47.864573\n",
       "5            47.157679\n",
       "4            46.043936\n",
       "9            43.404443\n",
       "3            42.163628\n",
       "39           36.434843"
      ]
     },
     "execution_count": 31,
     "metadata": {},
     "output_type": "execute_result"
    }
   ],
   "source": [
    "reading_ease_party"
   ]
  },
  {
   "cell_type": "code",
   "execution_count": 32,
   "metadata": {},
   "outputs": [],
   "source": [
    "party_df = pd.read_csv(r\"D:\\data\\openparliament\\core_party.csv\", sep='\\t', header=None)\n",
    "party_names = ['id', 'name_en', 'slug','short_name_en', 'name_fr', 'short_name_fr']\n",
    "party_df.columns = party_names"
   ]
  },
  {
   "cell_type": "code",
   "execution_count": null,
   "metadata": {},
   "outputs": [],
   "source": []
  },
  {
   "cell_type": "code",
   "execution_count": 33,
   "metadata": {},
   "outputs": [],
   "source": [
    "reading_ease_party = reading_ease_party.merge(party_df, how='inner', left_on='party_id', right_on='id')"
   ]
  },
  {
   "cell_type": "code",
   "execution_count": 34,
   "metadata": {},
   "outputs": [
    {
     "data": {
      "text/html": [
       "<div>\n",
       "<style scoped>\n",
       "    .dataframe tbody tr th:only-of-type {\n",
       "        vertical-align: middle;\n",
       "    }\n",
       "\n",
       "    .dataframe tbody tr th {\n",
       "        vertical-align: top;\n",
       "    }\n",
       "\n",
       "    .dataframe thead th {\n",
       "        text-align: right;\n",
       "    }\n",
       "</style>\n",
       "<table border=\"1\" class=\"dataframe\">\n",
       "  <thead>\n",
       "    <tr style=\"text-align: right;\">\n",
       "      <th></th>\n",
       "      <th>reading_ease</th>\n",
       "      <th>id</th>\n",
       "      <th>name_en</th>\n",
       "      <th>slug</th>\n",
       "      <th>short_name_en</th>\n",
       "      <th>name_fr</th>\n",
       "      <th>short_name_fr</th>\n",
       "    </tr>\n",
       "  </thead>\n",
       "  <tbody>\n",
       "    <tr>\n",
       "      <th>0</th>\n",
       "      <td>49.965355</td>\n",
       "      <td>28</td>\n",
       "      <td>Reform Party of Canada</td>\n",
       "      <td>reform</td>\n",
       "      <td>Reform</td>\n",
       "      <td>Reform Party of Canada</td>\n",
       "      <td>Reform</td>\n",
       "    </tr>\n",
       "    <tr>\n",
       "      <th>1</th>\n",
       "      <td>49.170936</td>\n",
       "      <td>25</td>\n",
       "      <td>Canadian Alliance</td>\n",
       "      <td>alliance</td>\n",
       "      <td>Canadian Alliance</td>\n",
       "      <td>Canadian Alliance</td>\n",
       "      <td>Canadian Alliance</td>\n",
       "    </tr>\n",
       "    <tr>\n",
       "      <th>2</th>\n",
       "      <td>49.164895</td>\n",
       "      <td>1</td>\n",
       "      <td>Conservative Party of Canada</td>\n",
       "      <td>cpc</td>\n",
       "      <td>Conservative</td>\n",
       "      <td>Parti conservateur du Canada</td>\n",
       "      <td>Conservateur</td>\n",
       "    </tr>\n",
       "    <tr>\n",
       "      <th>3</th>\n",
       "      <td>49.129540</td>\n",
       "      <td>46</td>\n",
       "      <td>Québec debout</td>\n",
       "      <td>NaN</td>\n",
       "      <td>Québec debout</td>\n",
       "      <td>Québec debout</td>\n",
       "      <td>Québec debout</td>\n",
       "    </tr>\n",
       "    <tr>\n",
       "      <th>4</th>\n",
       "      <td>48.073650</td>\n",
       "      <td>26</td>\n",
       "      <td>Progressive Conservative</td>\n",
       "      <td>pc</td>\n",
       "      <td>Progressive Conservative</td>\n",
       "      <td>Progressive Conservative</td>\n",
       "      <td>Progressive Conservative</td>\n",
       "    </tr>\n",
       "    <tr>\n",
       "      <th>5</th>\n",
       "      <td>47.864573</td>\n",
       "      <td>2</td>\n",
       "      <td>New Democratic Party</td>\n",
       "      <td>NDP</td>\n",
       "      <td>NDP</td>\n",
       "      <td>Nouveau Parti démocratique</td>\n",
       "      <td>NPD</td>\n",
       "    </tr>\n",
       "    <tr>\n",
       "      <th>6</th>\n",
       "      <td>47.157679</td>\n",
       "      <td>5</td>\n",
       "      <td>Independent</td>\n",
       "      <td>IND</td>\n",
       "      <td>Independent</td>\n",
       "      <td>Indépendant</td>\n",
       "      <td>Indépendant</td>\n",
       "    </tr>\n",
       "    <tr>\n",
       "      <th>7</th>\n",
       "      <td>46.043936</td>\n",
       "      <td>4</td>\n",
       "      <td>Liberal Party of Canada</td>\n",
       "      <td>liberal</td>\n",
       "      <td>Liberal</td>\n",
       "      <td>Parti libéral du Canada</td>\n",
       "      <td>Libéral</td>\n",
       "    </tr>\n",
       "    <tr>\n",
       "      <th>8</th>\n",
       "      <td>43.404443</td>\n",
       "      <td>9</td>\n",
       "      <td>Green Party of Canada</td>\n",
       "      <td>green</td>\n",
       "      <td>Green</td>\n",
       "      <td>Parti verti du Canada</td>\n",
       "      <td>Vert</td>\n",
       "    </tr>\n",
       "    <tr>\n",
       "      <th>9</th>\n",
       "      <td>42.163628</td>\n",
       "      <td>3</td>\n",
       "      <td>Bloc Québécois</td>\n",
       "      <td>bloc</td>\n",
       "      <td>Bloc</td>\n",
       "      <td>Bloc Québécois</td>\n",
       "      <td>Bloc</td>\n",
       "    </tr>\n",
       "    <tr>\n",
       "      <th>10</th>\n",
       "      <td>36.434843</td>\n",
       "      <td>39</td>\n",
       "      <td>Forces et Démocratie</td>\n",
       "      <td>forces</td>\n",
       "      <td>Forces et Démocratie</td>\n",
       "      <td>Forces et Démocratie</td>\n",
       "      <td>Forces et Démocratie</td>\n",
       "    </tr>\n",
       "  </tbody>\n",
       "</table>\n",
       "</div>"
      ],
      "text/plain": [
       "    reading_ease  id                       name_en      slug  \\\n",
       "0      49.965355  28        Reform Party of Canada    reform   \n",
       "1      49.170936  25             Canadian Alliance  alliance   \n",
       "2      49.164895   1  Conservative Party of Canada       cpc   \n",
       "3      49.129540  46                 Québec debout       NaN   \n",
       "4      48.073650  26      Progressive Conservative        pc   \n",
       "5      47.864573   2          New Democratic Party       NDP   \n",
       "6      47.157679   5                   Independent       IND   \n",
       "7      46.043936   4       Liberal Party of Canada   liberal   \n",
       "8      43.404443   9         Green Party of Canada     green   \n",
       "9      42.163628   3                Bloc Québécois      bloc   \n",
       "10     36.434843  39          Forces et Démocratie    forces   \n",
       "\n",
       "               short_name_en                       name_fr  \\\n",
       "0                     Reform        Reform Party of Canada   \n",
       "1          Canadian Alliance             Canadian Alliance   \n",
       "2               Conservative  Parti conservateur du Canada   \n",
       "3              Québec debout                 Québec debout   \n",
       "4   Progressive Conservative      Progressive Conservative   \n",
       "5                        NDP    Nouveau Parti démocratique   \n",
       "6                Independent                   Indépendant   \n",
       "7                    Liberal       Parti libéral du Canada   \n",
       "8                      Green         Parti verti du Canada   \n",
       "9                       Bloc                Bloc Québécois   \n",
       "10      Forces et Démocratie          Forces et Démocratie   \n",
       "\n",
       "               short_name_fr  \n",
       "0                     Reform  \n",
       "1          Canadian Alliance  \n",
       "2               Conservateur  \n",
       "3              Québec debout  \n",
       "4   Progressive Conservative  \n",
       "5                        NPD  \n",
       "6                Indépendant  \n",
       "7                    Libéral  \n",
       "8                       Vert  \n",
       "9                       Bloc  \n",
       "10      Forces et Démocratie  "
      ]
     },
     "execution_count": 34,
     "metadata": {},
     "output_type": "execute_result"
    }
   ],
   "source": [
    "reading_ease_party"
   ]
  },
  {
   "cell_type": "code",
   "execution_count": 35,
   "metadata": {},
   "outputs": [],
   "source": [
    "reading_ease_politician = df.pivot_table(values='reading_ease', index = \"politician_id\", aggfunc='mean')"
   ]
  },
  {
   "cell_type": "code",
   "execution_count": 36,
   "metadata": {},
   "outputs": [
    {
     "ename": "FileNotFoundError",
     "evalue": "[Errno 2] No such file or directory: 'D:\\\\data\\\\openparliament\\\\politician_full.csv'",
     "output_type": "error",
     "traceback": [
      "\u001b[1;31m---------------------------------------------------------------------------\u001b[0m",
      "\u001b[1;31mFileNotFoundError\u001b[0m                         Traceback (most recent call last)",
      "\u001b[1;32m<ipython-input-36-59111ea1dd56>\u001b[0m in \u001b[0;36m<module>\u001b[1;34m\u001b[0m\n\u001b[1;32m----> 1\u001b[1;33m \u001b[0mdf_electedmember\u001b[0m \u001b[1;33m=\u001b[0m \u001b[0mpd\u001b[0m\u001b[1;33m.\u001b[0m\u001b[0mread_csv\u001b[0m\u001b[1;33m(\u001b[0m\u001b[1;34mr\"D:\\data\\openparliament\\politician_full.csv\"\u001b[0m\u001b[1;33m)\u001b[0m\u001b[1;33m\u001b[0m\u001b[1;33m\u001b[0m\u001b[0m\n\u001b[0m",
      "\u001b[1;32m~\\Anaconda3\\envs\\gensim_env\\lib\\site-packages\\pandas\\io\\parsers.py\u001b[0m in \u001b[0;36mread_csv\u001b[1;34m(filepath_or_buffer, sep, delimiter, header, names, index_col, usecols, squeeze, prefix, mangle_dupe_cols, dtype, engine, converters, true_values, false_values, skipinitialspace, skiprows, skipfooter, nrows, na_values, keep_default_na, na_filter, verbose, skip_blank_lines, parse_dates, infer_datetime_format, keep_date_col, date_parser, dayfirst, cache_dates, iterator, chunksize, compression, thousands, decimal, lineterminator, quotechar, quoting, doublequote, escapechar, comment, encoding, dialect, error_bad_lines, warn_bad_lines, delim_whitespace, low_memory, memory_map, float_precision)\u001b[0m\n\u001b[0;32m    686\u001b[0m     )\n\u001b[0;32m    687\u001b[0m \u001b[1;33m\u001b[0m\u001b[0m\n\u001b[1;32m--> 688\u001b[1;33m     \u001b[1;32mreturn\u001b[0m \u001b[0m_read\u001b[0m\u001b[1;33m(\u001b[0m\u001b[0mfilepath_or_buffer\u001b[0m\u001b[1;33m,\u001b[0m \u001b[0mkwds\u001b[0m\u001b[1;33m)\u001b[0m\u001b[1;33m\u001b[0m\u001b[1;33m\u001b[0m\u001b[0m\n\u001b[0m\u001b[0;32m    689\u001b[0m \u001b[1;33m\u001b[0m\u001b[0m\n\u001b[0;32m    690\u001b[0m \u001b[1;33m\u001b[0m\u001b[0m\n",
      "\u001b[1;32m~\\Anaconda3\\envs\\gensim_env\\lib\\site-packages\\pandas\\io\\parsers.py\u001b[0m in \u001b[0;36m_read\u001b[1;34m(filepath_or_buffer, kwds)\u001b[0m\n\u001b[0;32m    452\u001b[0m \u001b[1;33m\u001b[0m\u001b[0m\n\u001b[0;32m    453\u001b[0m     \u001b[1;31m# Create the parser.\u001b[0m\u001b[1;33m\u001b[0m\u001b[1;33m\u001b[0m\u001b[1;33m\u001b[0m\u001b[0m\n\u001b[1;32m--> 454\u001b[1;33m     \u001b[0mparser\u001b[0m \u001b[1;33m=\u001b[0m \u001b[0mTextFileReader\u001b[0m\u001b[1;33m(\u001b[0m\u001b[0mfp_or_buf\u001b[0m\u001b[1;33m,\u001b[0m \u001b[1;33m**\u001b[0m\u001b[0mkwds\u001b[0m\u001b[1;33m)\u001b[0m\u001b[1;33m\u001b[0m\u001b[1;33m\u001b[0m\u001b[0m\n\u001b[0m\u001b[0;32m    455\u001b[0m \u001b[1;33m\u001b[0m\u001b[0m\n\u001b[0;32m    456\u001b[0m     \u001b[1;32mif\u001b[0m \u001b[0mchunksize\u001b[0m \u001b[1;32mor\u001b[0m \u001b[0miterator\u001b[0m\u001b[1;33m:\u001b[0m\u001b[1;33m\u001b[0m\u001b[1;33m\u001b[0m\u001b[0m\n",
      "\u001b[1;32m~\\Anaconda3\\envs\\gensim_env\\lib\\site-packages\\pandas\\io\\parsers.py\u001b[0m in \u001b[0;36m__init__\u001b[1;34m(self, f, engine, **kwds)\u001b[0m\n\u001b[0;32m    946\u001b[0m             \u001b[0mself\u001b[0m\u001b[1;33m.\u001b[0m\u001b[0moptions\u001b[0m\u001b[1;33m[\u001b[0m\u001b[1;34m\"has_index_names\"\u001b[0m\u001b[1;33m]\u001b[0m \u001b[1;33m=\u001b[0m \u001b[0mkwds\u001b[0m\u001b[1;33m[\u001b[0m\u001b[1;34m\"has_index_names\"\u001b[0m\u001b[1;33m]\u001b[0m\u001b[1;33m\u001b[0m\u001b[1;33m\u001b[0m\u001b[0m\n\u001b[0;32m    947\u001b[0m \u001b[1;33m\u001b[0m\u001b[0m\n\u001b[1;32m--> 948\u001b[1;33m         \u001b[0mself\u001b[0m\u001b[1;33m.\u001b[0m\u001b[0m_make_engine\u001b[0m\u001b[1;33m(\u001b[0m\u001b[0mself\u001b[0m\u001b[1;33m.\u001b[0m\u001b[0mengine\u001b[0m\u001b[1;33m)\u001b[0m\u001b[1;33m\u001b[0m\u001b[1;33m\u001b[0m\u001b[0m\n\u001b[0m\u001b[0;32m    949\u001b[0m \u001b[1;33m\u001b[0m\u001b[0m\n\u001b[0;32m    950\u001b[0m     \u001b[1;32mdef\u001b[0m \u001b[0mclose\u001b[0m\u001b[1;33m(\u001b[0m\u001b[0mself\u001b[0m\u001b[1;33m)\u001b[0m\u001b[1;33m:\u001b[0m\u001b[1;33m\u001b[0m\u001b[1;33m\u001b[0m\u001b[0m\n",
      "\u001b[1;32m~\\Anaconda3\\envs\\gensim_env\\lib\\site-packages\\pandas\\io\\parsers.py\u001b[0m in \u001b[0;36m_make_engine\u001b[1;34m(self, engine)\u001b[0m\n\u001b[0;32m   1178\u001b[0m     \u001b[1;32mdef\u001b[0m \u001b[0m_make_engine\u001b[0m\u001b[1;33m(\u001b[0m\u001b[0mself\u001b[0m\u001b[1;33m,\u001b[0m \u001b[0mengine\u001b[0m\u001b[1;33m=\u001b[0m\u001b[1;34m\"c\"\u001b[0m\u001b[1;33m)\u001b[0m\u001b[1;33m:\u001b[0m\u001b[1;33m\u001b[0m\u001b[1;33m\u001b[0m\u001b[0m\n\u001b[0;32m   1179\u001b[0m         \u001b[1;32mif\u001b[0m \u001b[0mengine\u001b[0m \u001b[1;33m==\u001b[0m \u001b[1;34m\"c\"\u001b[0m\u001b[1;33m:\u001b[0m\u001b[1;33m\u001b[0m\u001b[1;33m\u001b[0m\u001b[0m\n\u001b[1;32m-> 1180\u001b[1;33m             \u001b[0mself\u001b[0m\u001b[1;33m.\u001b[0m\u001b[0m_engine\u001b[0m \u001b[1;33m=\u001b[0m \u001b[0mCParserWrapper\u001b[0m\u001b[1;33m(\u001b[0m\u001b[0mself\u001b[0m\u001b[1;33m.\u001b[0m\u001b[0mf\u001b[0m\u001b[1;33m,\u001b[0m \u001b[1;33m**\u001b[0m\u001b[0mself\u001b[0m\u001b[1;33m.\u001b[0m\u001b[0moptions\u001b[0m\u001b[1;33m)\u001b[0m\u001b[1;33m\u001b[0m\u001b[1;33m\u001b[0m\u001b[0m\n\u001b[0m\u001b[0;32m   1181\u001b[0m         \u001b[1;32melse\u001b[0m\u001b[1;33m:\u001b[0m\u001b[1;33m\u001b[0m\u001b[1;33m\u001b[0m\u001b[0m\n\u001b[0;32m   1182\u001b[0m             \u001b[1;32mif\u001b[0m \u001b[0mengine\u001b[0m \u001b[1;33m==\u001b[0m \u001b[1;34m\"python\"\u001b[0m\u001b[1;33m:\u001b[0m\u001b[1;33m\u001b[0m\u001b[1;33m\u001b[0m\u001b[0m\n",
      "\u001b[1;32m~\\Anaconda3\\envs\\gensim_env\\lib\\site-packages\\pandas\\io\\parsers.py\u001b[0m in \u001b[0;36m__init__\u001b[1;34m(self, src, **kwds)\u001b[0m\n\u001b[0;32m   2008\u001b[0m         \u001b[0mkwds\u001b[0m\u001b[1;33m[\u001b[0m\u001b[1;34m\"usecols\"\u001b[0m\u001b[1;33m]\u001b[0m \u001b[1;33m=\u001b[0m \u001b[0mself\u001b[0m\u001b[1;33m.\u001b[0m\u001b[0musecols\u001b[0m\u001b[1;33m\u001b[0m\u001b[1;33m\u001b[0m\u001b[0m\n\u001b[0;32m   2009\u001b[0m \u001b[1;33m\u001b[0m\u001b[0m\n\u001b[1;32m-> 2010\u001b[1;33m         \u001b[0mself\u001b[0m\u001b[1;33m.\u001b[0m\u001b[0m_reader\u001b[0m \u001b[1;33m=\u001b[0m \u001b[0mparsers\u001b[0m\u001b[1;33m.\u001b[0m\u001b[0mTextReader\u001b[0m\u001b[1;33m(\u001b[0m\u001b[0msrc\u001b[0m\u001b[1;33m,\u001b[0m \u001b[1;33m**\u001b[0m\u001b[0mkwds\u001b[0m\u001b[1;33m)\u001b[0m\u001b[1;33m\u001b[0m\u001b[1;33m\u001b[0m\u001b[0m\n\u001b[0m\u001b[0;32m   2011\u001b[0m         \u001b[0mself\u001b[0m\u001b[1;33m.\u001b[0m\u001b[0munnamed_cols\u001b[0m \u001b[1;33m=\u001b[0m \u001b[0mself\u001b[0m\u001b[1;33m.\u001b[0m\u001b[0m_reader\u001b[0m\u001b[1;33m.\u001b[0m\u001b[0munnamed_cols\u001b[0m\u001b[1;33m\u001b[0m\u001b[1;33m\u001b[0m\u001b[0m\n\u001b[0;32m   2012\u001b[0m \u001b[1;33m\u001b[0m\u001b[0m\n",
      "\u001b[1;32mpandas\\_libs\\parsers.pyx\u001b[0m in \u001b[0;36mpandas._libs.parsers.TextReader.__cinit__\u001b[1;34m()\u001b[0m\n",
      "\u001b[1;32mpandas\\_libs\\parsers.pyx\u001b[0m in \u001b[0;36mpandas._libs.parsers.TextReader._setup_parser_source\u001b[1;34m()\u001b[0m\n",
      "\u001b[1;31mFileNotFoundError\u001b[0m: [Errno 2] No such file or directory: 'D:\\\\data\\\\openparliament\\\\politician_full.csv'"
     ]
    }
   ],
   "source": [
    "df_electedmember = pd.read_csv(r\"D:\\data\\openparliament\\politician_full.csv\")"
   ]
  },
  {
   "cell_type": "code",
   "execution_count": null,
   "metadata": {},
   "outputs": [],
   "source": [
    "\"D:\\data\\openparliament\\core_politician.csv\""
   ]
  },
  {
   "cell_type": "code",
   "execution_count": null,
   "metadata": {},
   "outputs": [],
   "source": [
    "reading_ease_politician = reading_ease_politician.merge(df_electedmember, how='inner', left_on='politician_id', right_on='politician_id')"
   ]
  },
  {
   "cell_type": "code",
   "execution_count": null,
   "metadata": {},
   "outputs": [],
   "source": [
    "reading_ease_politician.sort_values(by='reading_ease', ascending=False, inplace=True)"
   ]
  },
  {
   "cell_type": "code",
   "execution_count": null,
   "metadata": {},
   "outputs": [],
   "source": [
    "reading_ease_politician.head()"
   ]
  },
  {
   "cell_type": "code",
   "execution_count": null,
   "metadata": {},
   "outputs": [],
   "source": [
    "from matplotlib import pyplot as plt"
   ]
  },
  {
   "cell_type": "code",
   "execution_count": null,
   "metadata": {},
   "outputs": [],
   "source": [
    "   "
   ]
  },
  {
   "cell_type": "code",
   "execution_count": null,
   "metadata": {},
   "outputs": [],
   "source": [
    "reading_ease_party.slug.fillna('', inplace=True)"
   ]
  },
  {
   "cell_type": "code",
   "execution_count": null,
   "metadata": {},
   "outputs": [],
   "source": [
    "party_colours = ['blue', 'blue', 'blue', 'turquoise', 'blue','orange','grey',\n",
    "                'red', 'green', 'black', 'turquoise']"
   ]
  },
  {
   "cell_type": "code",
   "execution_count": null,
   "metadata": {},
   "outputs": [],
   "source": [
    "reading_ease_party.loc[3,'slug'] = 'QD'"
   ]
  },
  {
   "cell_type": "code",
   "execution_count": null,
   "metadata": {
    "scrolled": true
   },
   "outputs": [],
   "source": [
    "plt.figure(figsize=(10,5))\n",
    "plt.title('Flesch Reading Ease by Party')\n",
    "plt.xlabel('party name slug')\n",
    "plt.ylabel('Flesch Reading Ease score')\n",
    "plt.bar(reading_ease_party.slug, reading_ease_party.reading_ease, \n",
    "        color=party_colours)\n",
    "\n",
    "plt.show()\n",
    "#plt.savefig(r'C:\\Users\\alecr\\Projects\\openparliament-NLP\\word_stats\\flesch_by_party.png')"
   ]
  },
  {
   "cell_type": "code",
   "execution_count": null,
   "metadata": {},
   "outputs": [],
   "source": [
    "reading_ease_party.slug"
   ]
  },
  {
   "cell_type": "code",
   "execution_count": null,
   "metadata": {},
   "outputs": [],
   "source": [
    "reading_ease_politician['party_colour'] = reading_ease_politician.party_id.replace(party_colour_dict)"
   ]
  },
  {
   "cell_type": "code",
   "execution_count": null,
   "metadata": {},
   "outputs": [],
   "source": [
    "plt.scatter(reading_ease_politician.party_id, reading_ease_politician.reading_ease,c=reading_ease_politician.party_colour)\n",
    "plt.xlabel('party id')\n",
    "plt.show()"
   ]
  },
  {
   "cell_type": "code",
   "execution_count": null,
   "metadata": {},
   "outputs": [],
   "source": [
    "reading_ease_politician.sort_values(by='reading_ease', ascending=True)"
   ]
  },
  {
   "cell_type": "code",
   "execution_count": null,
   "metadata": {},
   "outputs": [],
   "source": [
    "df_environment = df[df.h2_en=='The Environment']"
   ]
  },
  {
   "cell_type": "code",
   "execution_count": null,
   "metadata": {},
   "outputs": [],
   "source": [
    "df_environment.shape"
   ]
  },
  {
   "cell_type": "code",
   "execution_count": null,
   "metadata": {},
   "outputs": [],
   "source": [
    "df_environment.pivot_table(values='reading_ease',index='party_id',aggfunc='mean').sort_values(by='reading_ease', ascending=False)"
   ]
  },
  {
   "cell_type": "code",
   "execution_count": null,
   "metadata": {},
   "outputs": [],
   "source": [
    "def getReadingEaseBy_h2_Topic(topic):\n",
    "    topic_pivot = df[df.h2_en==topic].pivot_table(values='reading_ease',index='party_id',aggfunc='mean')\n",
    "    topic_pivot.sort_values(by='reading_ease', ascending=False, inplace = True)\n",
    "    return topic_pivot"
   ]
  },
  {
   "cell_type": "code",
   "execution_count": null,
   "metadata": {},
   "outputs": [],
   "source": [
    "getReadingEaseBy_h2_Topic('Committees of the House')"
   ]
  },
  {
   "cell_type": "code",
   "execution_count": null,
   "metadata": {},
   "outputs": [],
   "source": [
    "df_carbon = df[df.h2_en.str.contains('Carbon')]"
   ]
  },
  {
   "cell_type": "code",
   "execution_count": null,
   "metadata": {},
   "outputs": [],
   "source": [
    "df_carbon.pivot_table(values='reading_ease', index='party_id', aggfunc='mean').sort_values(by='reading_ease', ascending=False)"
   ]
  },
  {
   "cell_type": "code",
   "execution_count": null,
   "metadata": {},
   "outputs": [],
   "source": [
    "from textblob import TextBlob"
   ]
  },
  {
   "cell_type": "code",
   "execution_count": null,
   "metadata": {},
   "outputs": [],
   "source": [
    "TextBlob(df_carbon.soup.iloc[0]).sentiment"
   ]
  },
  {
   "cell_type": "code",
   "execution_count": null,
   "metadata": {},
   "outputs": [],
   "source": [
    "df_carbon['sentiment'] = df_carbon.soup.apply(lambda x: TextBlob(x).sentiment[0])"
   ]
  },
  {
   "cell_type": "code",
   "execution_count": null,
   "metadata": {},
   "outputs": [],
   "source": [
    "df_carbon['subjectivity'] = df_carbon.soup.apply(lambda x: TextBlob(x).sentiment[1])"
   ]
  },
  {
   "cell_type": "code",
   "execution_count": null,
   "metadata": {},
   "outputs": [],
   "source": [
    "green_sentiments = df_carbon[df_carbon.party_id==9].sentiment"
   ]
  },
  {
   "cell_type": "code",
   "execution_count": null,
   "metadata": {},
   "outputs": [],
   "source": [
    "df[df.h3_en =='Cancellation of Teck Frontier Mine Project'].soup"
   ]
  },
  {
   "cell_type": "code",
   "execution_count": null,
   "metadata": {},
   "outputs": [],
   "source": [
    "df.columns"
   ]
  },
  {
   "cell_type": "code",
   "execution_count": null,
   "metadata": {},
   "outputs": [],
   "source": [
    "df['end_date'][0]"
   ]
  },
  {
   "cell_type": "code",
   "execution_count": null,
   "metadata": {},
   "outputs": [],
   "source": [
    "df['start_date'][0]"
   ]
  },
  {
   "cell_type": "code",
   "execution_count": null,
   "metadata": {},
   "outputs": [],
   "source": [
    "sentiments = df.groupby(['h2_en', 'party_id'])"
   ]
  },
  {
   "cell_type": "markdown",
   "metadata": {},
   "source": [
    "for h in df.h2_en[:50]:\n",
    "    print('\\n',h)"
   ]
  },
  {
   "cell_type": "code",
   "execution_count": null,
   "metadata": {},
   "outputs": [],
   "source": [
    "type(sentiments)"
   ]
  },
  {
   "cell_type": "code",
   "execution_count": null,
   "metadata": {},
   "outputs": [],
   "source": [
    "df = pd.DataFrame({'A':[1,2],'B':[3,4]})"
   ]
  },
  {
   "cell_type": "code",
   "execution_count": null,
   "metadata": {},
   "outputs": [],
   "source": [
    "utt = df.pivot_table(values='content_en',index='politician_id',aggfunc='count')"
   ]
  },
  {
   "cell_type": "code",
   "execution_count": null,
   "metadata": {},
   "outputs": [],
   "source": [
    " df_vocab = pd.read_csv(r\"D:\\data\\openparliament\\vocab_count_df\")"
   ]
  },
  {
   "cell_type": "code",
   "execution_count": null,
   "metadata": {},
   "outputs": [],
   "source": [
    "df_vocab.drop(['Unnamed: 0'], axis=1, inplace=True)"
   ]
  },
  {
   "cell_type": "code",
   "execution_count": null,
   "metadata": {},
   "outputs": [],
   "source": [
    "len(df[df.party_id==39].soup)"
   ]
  },
  {
   "cell_type": "code",
   "execution_count": null,
   "metadata": {},
   "outputs": [],
   "source": [
    "df.columns"
   ]
  },
  {
   "cell_type": "markdown",
   "metadata": {},
   "source": [
    "note: save with soup, eliminate unnecessary columns, processing every time is ridiculous"
   ]
  },
  {
   "cell_type": "code",
   "execution_count": null,
   "metadata": {},
   "outputs": [],
   "source": []
  }
 ],
 "metadata": {
  "kernelspec": {
   "display_name": "Python 3",
   "language": "python",
   "name": "python3"
  },
  "language_info": {
   "codemirror_mode": {
    "name": "ipython",
    "version": 3
   },
   "file_extension": ".py",
   "mimetype": "text/x-python",
   "name": "python",
   "nbconvert_exporter": "python",
   "pygments_lexer": "ipython3",
   "version": "3.6.12"
  }
 },
 "nbformat": 4,
 "nbformat_minor": 4
}
