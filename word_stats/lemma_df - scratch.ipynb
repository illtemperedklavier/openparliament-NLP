{
 "cells": [
  {
   "cell_type": "code",
   "execution_count": 1,
   "metadata": {},
   "outputs": [],
   "source": [
    "import pickle"
   ]
  },
  {
   "cell_type": "code",
   "execution_count": 2,
   "metadata": {},
   "outputs": [],
   "source": [
    "import pandas as pd\n",
    "import numpy as np"
   ]
  },
  {
   "cell_type": "code",
   "execution_count": 3,
   "metadata": {},
   "outputs": [],
   "source": [
    "import spacy\n",
    "\n",
    "nlp = spacy.load('en_core_web_sm')"
   ]
  },
  {
   "cell_type": "code",
   "execution_count": 4,
   "metadata": {},
   "outputs": [],
   "source": [
    "with open(r\"D:\\data\\openparliament\\models\\vocab_dict_large.pkl\", \"rb\") as f:\n",
    "    vocab_count_dict = pickle.load(f)"
   ]
  },
  {
   "cell_type": "code",
   "execution_count": 5,
   "metadata": {},
   "outputs": [],
   "source": [
    "max_vocab = 0\n",
    "max_s = None\n",
    "for k, v in vocab_count_dict.items():\n",
    "    if len(vocab_count_dict[k])>max_vocab:\n",
    "        max_vocab = len(v)\n",
    "        max_s = k"
   ]
  },
  {
   "cell_type": "code",
   "execution_count": 6,
   "metadata": {},
   "outputs": [
    {
     "data": {
      "text/plain": [
       "177"
      ]
     },
     "execution_count": 6,
     "metadata": {},
     "output_type": "execute_result"
    }
   ],
   "source": [
    "max_s"
   ]
  },
  {
   "cell_type": "code",
   "execution_count": 7,
   "metadata": {},
   "outputs": [
    {
     "data": {
      "text/plain": [
       "[3465, 173, 43, 216, 256, 4458, 131, 3899, 96, 14]"
      ]
     },
     "execution_count": 7,
     "metadata": {},
     "output_type": "execute_result"
    }
   ],
   "source": [
    "list(vocab_count_dict.keys())[:10]"
   ]
  },
  {
   "cell_type": "code",
   "execution_count": 8,
   "metadata": {},
   "outputs": [
    {
     "data": {
      "text/plain": [
       "4356"
      ]
     },
     "execution_count": 8,
     "metadata": {},
     "output_type": "execute_result"
    }
   ],
   "source": [
    "len(vocab_count_dict[4458])"
   ]
  },
  {
   "cell_type": "code",
   "execution_count": 9,
   "metadata": {},
   "outputs": [
    {
     "data": {
      "text/plain": [
       "{'dangerously',\n",
       " 'conventional',\n",
       " 'genie',\n",
       " 'welcome',\n",
       " 'squadron',\n",
       " 'hooked',\n",
       " 'clow',\n",
       " 'bad',\n",
       " 'shipper',\n",
       " 'repeatedly',\n",
       " 'impression',\n",
       " 'exempt',\n",
       " 'whisky',\n",
       " 'blindside',\n",
       " 'crossing',\n",
       " 'humourous',\n",
       " 'editor',\n",
       " 'dip',\n",
       " 'exhibition',\n",
       " 'doctrine',\n",
       " 'flap',\n",
       " 'intend',\n",
       " 'tuck',\n",
       " 'revolt',\n",
       " 'late',\n",
       " 'country',\n",
       " 'teenage',\n",
       " 'mill',\n",
       " 'background',\n",
       " 'dissimilar',\n",
       " 'harsh',\n",
       " 'chemical',\n",
       " 'garry',\n",
       " 'empathize',\n",
       " 'acknowledge',\n",
       " 'iconic',\n",
       " 'bribery',\n",
       " 'restructure',\n",
       " 'farmer',\n",
       " 'z',\n",
       " 'belatedly',\n",
       " 'stop',\n",
       " 'gasoline',\n",
       " 'unusual',\n",
       " 'supercluster',\n",
       " 'borrow',\n",
       " 'punishment',\n",
       " 'junior',\n",
       " 'lob',\n",
       " 'butter',\n",
       " 'curtail',\n",
       " 'get',\n",
       " 'monetary',\n",
       " 'retract',\n",
       " 'prop',\n",
       " 'impeccable',\n",
       " 'overjoy',\n",
       " 'presume',\n",
       " 'avant',\n",
       " 'vacancy',\n",
       " 'buddy',\n",
       " 'hasty',\n",
       " 'rehash',\n",
       " 'adapt',\n",
       " 'mactaquac',\n",
       " 'undo',\n",
       " 'rebuild',\n",
       " 'fine',\n",
       " 'survival',\n",
       " 'dfc',\n",
       " 'outstanding',\n",
       " 'necessity',\n",
       " 'deter',\n",
       " 'equitable',\n",
       " 'imprison',\n",
       " 'intern',\n",
       " 'caregive',\n",
       " 'plight',\n",
       " 'clearly',\n",
       " 'lax',\n",
       " 'deficiency',\n",
       " 'amateur',\n",
       " 'potential',\n",
       " 'insertion',\n",
       " 'millionaire',\n",
       " 'exploitive',\n",
       " 'deliberation',\n",
       " 'nicholson',\n",
       " 'discount',\n",
       " 'bale',\n",
       " 'relative',\n",
       " 'son',\n",
       " 'combination',\n",
       " 'intensity',\n",
       " '27th',\n",
       " 'regard',\n",
       " 'couple',\n",
       " 'rehabilitate',\n",
       " 'thoughtfully',\n",
       " 'listeriosis',\n",
       " 'weekly',\n",
       " 'mess',\n",
       " 'source',\n",
       " 'cordiality',\n",
       " 'failing',\n",
       " 'forth',\n",
       " 'baseless',\n",
       " 'agro',\n",
       " 'disturb',\n",
       " 'passenger',\n",
       " 'party',\n",
       " 'slight',\n",
       " 'amount',\n",
       " 'excellent',\n",
       " 'small',\n",
       " 'tampering',\n",
       " 'tory',\n",
       " 'trapping',\n",
       " 'dozen',\n",
       " 'moderate',\n",
       " 'authorization',\n",
       " 'quintal',\n",
       " 'stiff',\n",
       " 'document',\n",
       " 'pleased',\n",
       " 'incorrectly',\n",
       " 'albatross',\n",
       " 'far',\n",
       " 'stringent',\n",
       " 'foolishness',\n",
       " 'function',\n",
       " 'recycling',\n",
       " 'reallocated',\n",
       " 'rig',\n",
       " 'compost',\n",
       " 'pill',\n",
       " 'dock',\n",
       " 'death',\n",
       " 'standing',\n",
       " 'pat',\n",
       " 'shortcome',\n",
       " 'seasoned',\n",
       " 'incredibly',\n",
       " 'overlook',\n",
       " 'hole',\n",
       " 'sponsor',\n",
       " 'pictou',\n",
       " 'grey',\n",
       " 'voiceless',\n",
       " 'broadband',\n",
       " 'morale',\n",
       " 'ferry',\n",
       " 'possess',\n",
       " 'marry',\n",
       " 'misinformation',\n",
       " 'depletion',\n",
       " 'reek',\n",
       " 'helicopter',\n",
       " 'vqa',\n",
       " 'inconsistency',\n",
       " 'realization',\n",
       " 'repositioning',\n",
       " 'patronize',\n",
       " 'prosper',\n",
       " 'resolve',\n",
       " 'parkland',\n",
       " 'originally',\n",
       " 'sprinkle',\n",
       " 'herre',\n",
       " 'quo',\n",
       " 'backing',\n",
       " 'thoughtful',\n",
       " 'functional',\n",
       " 'unhealthy',\n",
       " 'breadwinner',\n",
       " 'tech',\n",
       " 'environmentally',\n",
       " 'revictimize',\n",
       " 'haste',\n",
       " 'commonplace',\n",
       " 'visionary',\n",
       " 'endanger',\n",
       " 'volunteer',\n",
       " 'brain',\n",
       " 'leadership',\n",
       " 'livestock',\n",
       " '30th',\n",
       " 'hey',\n",
       " 'dominate',\n",
       " 'examiner',\n",
       " 'streak',\n",
       " 'athlete',\n",
       " 'sign',\n",
       " 'fierce',\n",
       " 'weave',\n",
       " 'skipper',\n",
       " 'utilize',\n",
       " 'bestow',\n",
       " 'amendable',\n",
       " 'hq',\n",
       " 'drug',\n",
       " 'provoke',\n",
       " 'calm',\n",
       " 'wipe',\n",
       " 'achievable',\n",
       " 'solitary',\n",
       " 'treatment',\n",
       " 'hardworke',\n",
       " 'winnipeg',\n",
       " 'cycle',\n",
       " 'notice',\n",
       " 'admire',\n",
       " 't',\n",
       " 'nose',\n",
       " 'dub',\n",
       " 'inefficient',\n",
       " 'interception',\n",
       " 'gate',\n",
       " 'choice',\n",
       " 'roadblock',\n",
       " 'unaccountable',\n",
       " 'portray',\n",
       " 'graph',\n",
       " 'cooling',\n",
       " 'employee',\n",
       " 'respect',\n",
       " '73th',\n",
       " 'librarian',\n",
       " 'perceive',\n",
       " 'relay',\n",
       " 'nexen',\n",
       " 'execution',\n",
       " 'roast',\n",
       " 'warden',\n",
       " 'porn',\n",
       " 'urgent',\n",
       " 'spin',\n",
       " 'taxis',\n",
       " 'conjecture',\n",
       " 'considerable',\n",
       " 'quota',\n",
       " 'street',\n",
       " 'participation',\n",
       " 'egregious',\n",
       " 'considerate',\n",
       " 'glare',\n",
       " 'passport',\n",
       " 'girl',\n",
       " 'literature',\n",
       " 'clerk',\n",
       " 'ugly',\n",
       " 'cook',\n",
       " 'caregiver',\n",
       " 'awareness',\n",
       " 'wascana',\n",
       " 'steamroll',\n",
       " 'assessment',\n",
       " 'entry',\n",
       " 'podium',\n",
       " '11th',\n",
       " 'compliant',\n",
       " 'assistant',\n",
       " 'permission',\n",
       " 'bathurst',\n",
       " 'increased',\n",
       " 'simpli',\n",
       " 'shrimp',\n",
       " 'rephrase',\n",
       " 'corn',\n",
       " 'nancy',\n",
       " 'concurrent',\n",
       " 'discretionary',\n",
       " 'affect',\n",
       " 'industrial',\n",
       " 'willingness',\n",
       " 'aquarium',\n",
       " 'briefing',\n",
       " 'distance',\n",
       " 'help',\n",
       " 'undersell',\n",
       " 'illuminate',\n",
       " 'province',\n",
       " 'accompany',\n",
       " 'renewable',\n",
       " 'shoeshine',\n",
       " 'retaliatory',\n",
       " 'hiding',\n",
       " 'dash',\n",
       " 'weigh',\n",
       " 'clever',\n",
       " 'specify',\n",
       " 'umbrella',\n",
       " 'native',\n",
       " 'crack',\n",
       " 'shine',\n",
       " 'reporter',\n",
       " 'stalinist',\n",
       " 'staple',\n",
       " 'expound',\n",
       " 'height',\n",
       " 'iteration',\n",
       " 'limit',\n",
       " 'satisfie',\n",
       " 'monitor',\n",
       " 'clarifie',\n",
       " 'overturn',\n",
       " 'force',\n",
       " 'amalgamated',\n",
       " 'uncompetitive',\n",
       " 'recruitment',\n",
       " 'mission',\n",
       " 'ill',\n",
       " 'commendation',\n",
       " 'platform',\n",
       " 'literally',\n",
       " 'dm',\n",
       " 'constitute',\n",
       " 'pump',\n",
       " 'chilled',\n",
       " 'traditionally',\n",
       " 'derrick',\n",
       " 'usda',\n",
       " 'cautious',\n",
       " 'creditor',\n",
       " 'evenly',\n",
       " 'hopeful',\n",
       " ' ',\n",
       " 'brow',\n",
       " 'cash',\n",
       " 'marketing',\n",
       " 'pension',\n",
       " 'mend',\n",
       " 'probe',\n",
       " 'exaggerate',\n",
       " 'instance',\n",
       " 'downer',\n",
       " 'termination',\n",
       " 'effectively',\n",
       " 'fruit',\n",
       " 'transport',\n",
       " 'musical',\n",
       " 'news',\n",
       " 'intentionally',\n",
       " 'hoard',\n",
       " 'disposal',\n",
       " 'asset',\n",
       " 'ste',\n",
       " 'powerful',\n",
       " 'addiction',\n",
       " 'perk',\n",
       " 'gully',\n",
       " 'despondent',\n",
       " 'listener',\n",
       " 'worsen',\n",
       " 'hst',\n",
       " 'csec',\n",
       " 'incremental',\n",
       " 'laughter',\n",
       " 'scottie',\n",
       " 'commodity',\n",
       " 'trucking',\n",
       " 'closet',\n",
       " 'corner',\n",
       " 'reverse',\n",
       " 'pouch',\n",
       " 'tidewater',\n",
       " 'funeral',\n",
       " 'asra',\n",
       " 'vii',\n",
       " 'hotline',\n",
       " 'swiftly',\n",
       " 'symposium',\n",
       " 'bourbon',\n",
       " 'remaining',\n",
       " 'wasteful',\n",
       " 'colon',\n",
       " 'terribly',\n",
       " 'individualized',\n",
       " 'urbanite',\n",
       " 'cavendish',\n",
       " 'complex',\n",
       " 'telegraph',\n",
       " 'disposable',\n",
       " 'simple',\n",
       " 'needle',\n",
       " 'folksy',\n",
       " 'congressional',\n",
       " 'geographic',\n",
       " 'reference',\n",
       " 'afflict',\n",
       " 'reactive',\n",
       " 'life',\n",
       " 'tourist',\n",
       " 'woman',\n",
       " 'procedure',\n",
       " 'foresee',\n",
       " 'nafo',\n",
       " 'deserved',\n",
       " 'troubling',\n",
       " 'detection',\n",
       " 'untrue',\n",
       " 'budworm',\n",
       " 'bowel',\n",
       " 'nominate',\n",
       " 'omnibus',\n",
       " 'toew',\n",
       " 'ideologically',\n",
       " 'resettle',\n",
       " 'billy',\n",
       " 'addict',\n",
       " 'incidence',\n",
       " 'ingest',\n",
       " 'spring',\n",
       " 'comparable',\n",
       " 'habitat',\n",
       " 'discovery',\n",
       " 'private',\n",
       " 'cautionary',\n",
       " 'conditioning',\n",
       " 'overcome',\n",
       " 'similarity',\n",
       " 'replacement',\n",
       " 'mutual',\n",
       " 'justification',\n",
       " 'someplace',\n",
       " '2012–13',\n",
       " 'fabricate',\n",
       " 'ownership',\n",
       " 'one',\n",
       " 'flood',\n",
       " 'principle',\n",
       " 'retire',\n",
       " 'wrist',\n",
       " 'anthem',\n",
       " 'bankrupt',\n",
       " 'grandchild',\n",
       " 'dilemma',\n",
       " 'deportee',\n",
       " 'operator',\n",
       " 'hour',\n",
       " 'fraction',\n",
       " 'physician',\n",
       " 'regionalization',\n",
       " 'addressing',\n",
       " 'intervene',\n",
       " 'lucrative',\n",
       " 'consultative',\n",
       " 'pal',\n",
       " 'grocery',\n",
       " 'makeup',\n",
       " 'economics',\n",
       " 'liable',\n",
       " 'backbone',\n",
       " 'devastate',\n",
       " 'royal',\n",
       " 'group',\n",
       " 'ad',\n",
       " 'body',\n",
       " 'definitively',\n",
       " 'speculation',\n",
       " 'reinstate',\n",
       " 'pose',\n",
       " 'harass',\n",
       " 'great',\n",
       " '        ',\n",
       " 'absolute',\n",
       " 'lifestyle',\n",
       " 'galt',\n",
       " 'olive',\n",
       " 'tailor',\n",
       " 'preservation',\n",
       " 'light',\n",
       " 'essence',\n",
       " 'binocular',\n",
       " 'oppressor',\n",
       " 'coat',\n",
       " 'heat',\n",
       " 'crime',\n",
       " 'utility',\n",
       " 'ended',\n",
       " 'quilting',\n",
       " 'adopt',\n",
       " 'tranparencie',\n",
       " 'favourable',\n",
       " 'wound',\n",
       " 'odd',\n",
       " 'fraser',\n",
       " 'mine',\n",
       " 'irb',\n",
       " 'shooting',\n",
       " 'platter',\n",
       " 'filler',\n",
       " 'hotel',\n",
       " 'operative',\n",
       " 'survive',\n",
       " 'xviii',\n",
       " 'thread',\n",
       " 'deer',\n",
       " 'organize',\n",
       " 'athol',\n",
       " 'apartment',\n",
       " 'false',\n",
       " 'inflation',\n",
       " 'belittle',\n",
       " 'damn',\n",
       " 'dissension',\n",
       " 'community',\n",
       " 'grind',\n",
       " 'hydroelectric',\n",
       " 'professor',\n",
       " 'viability',\n",
       " 'www',\n",
       " 'venture',\n",
       " 'lobby',\n",
       " 'delegation',\n",
       " 'breakfast',\n",
       " 'nail',\n",
       " 'basis',\n",
       " 'eventually',\n",
       " 'possible',\n",
       " 'goodness',\n",
       " 'site',\n",
       " 'rely',\n",
       " 'unelected',\n",
       " 'nisa',\n",
       " 'caucus',\n",
       " 'map',\n",
       " 'absolve',\n",
       " 'press',\n",
       " 'bruun',\n",
       " 'disagreement',\n",
       " 'misallocation',\n",
       " 'worse',\n",
       " 'naylor',\n",
       " 'intrude',\n",
       " 'centre',\n",
       " 'rough',\n",
       " 'demonstrate',\n",
       " 'chapter',\n",
       " 'drastically',\n",
       " 'cyber',\n",
       " 'parent',\n",
       " 'meaningless',\n",
       " 'slide',\n",
       " 'flexible',\n",
       " 'unlike',\n",
       " 'softness',\n",
       " 'performance',\n",
       " 'fanfare',\n",
       " 'luxurious',\n",
       " 'hazardous',\n",
       " 'torngat',\n",
       " 'weird',\n",
       " 'overspent',\n",
       " 'fool',\n",
       " 'mechanism',\n",
       " 'alter',\n",
       " 'registrant',\n",
       " 'repudiate',\n",
       " 'protective',\n",
       " 'mla',\n",
       " 'women',\n",
       " 'diet',\n",
       " 'advisable',\n",
       " 'wildlife',\n",
       " 'company',\n",
       " 'reciprocity',\n",
       " 'culprit',\n",
       " 'debt',\n",
       " 'backbench',\n",
       " 'silting',\n",
       " 'needless',\n",
       " 'soft',\n",
       " 'preschool',\n",
       " 'reflect',\n",
       " 'maple',\n",
       " 'instinctive',\n",
       " 'embody',\n",
       " 'gunsmith',\n",
       " 'subsidized',\n",
       " 'photograph',\n",
       " 'eventual',\n",
       " 'illicit',\n",
       " 'boost',\n",
       " 'hearted',\n",
       " 'substantially',\n",
       " 'addicted',\n",
       " 'compulsory',\n",
       " 'remote',\n",
       " 'dirty',\n",
       " 'softwood',\n",
       " 'livelihood',\n",
       " 'victim',\n",
       " 'improvement',\n",
       " 'constable',\n",
       " 'cpp',\n",
       " 'voluntary',\n",
       " 'agence',\n",
       " 'splash',\n",
       " 'reoffending',\n",
       " 'gloom',\n",
       " 'conglomerate',\n",
       " 'purpose',\n",
       " 'du',\n",
       " 'commendable',\n",
       " 'apprenticeship',\n",
       " 'fiscally',\n",
       " 'intelligence',\n",
       " 'detriment',\n",
       " 'lend',\n",
       " 'brass',\n",
       " 'culture',\n",
       " 'disorder',\n",
       " 'boy',\n",
       " 'engage',\n",
       " 'unexpected',\n",
       " 'hit',\n",
       " 'wife',\n",
       " 'attend',\n",
       " 'lunatic',\n",
       " 'populous',\n",
       " 'parrish',\n",
       " 'night',\n",
       " 'storage',\n",
       " 'teach',\n",
       " 'knock',\n",
       " 'frcc',\n",
       " 'consult',\n",
       " 'safeguard',\n",
       " 'heal',\n",
       " 'agenda',\n",
       " 'big',\n",
       " 'unenviable',\n",
       " 'nurture',\n",
       " 'personnel',\n",
       " 'clean',\n",
       " 'flaw',\n",
       " 'level',\n",
       " 'lawfully',\n",
       " 'insinuate',\n",
       " 'justifiably',\n",
       " 'negatively',\n",
       " 'ridiculous',\n",
       " 'stunning',\n",
       " 'testing',\n",
       " 'classified',\n",
       " 'vein',\n",
       " 'referee',\n",
       " 'eminent',\n",
       " 'secondary',\n",
       " 'transfer',\n",
       " 'unafraid',\n",
       " 'confirmation',\n",
       " 'stabilize',\n",
       " 'lawyer',\n",
       " 'applicant',\n",
       " 'database',\n",
       " 'yell',\n",
       " 'remove',\n",
       " 'rechange',\n",
       " 'unproductive',\n",
       " 'unconstitutional',\n",
       " 'fairy',\n",
       " 'sterling',\n",
       " 'unthinkable',\n",
       " 'bubble',\n",
       " 'environment',\n",
       " 'reality',\n",
       " 'boat',\n",
       " 'live',\n",
       " 'quantitative',\n",
       " 'resurrect',\n",
       " 'totality',\n",
       " 'station',\n",
       " 'seasonality',\n",
       " 'loophole',\n",
       " 'carstair',\n",
       " 'agrirecovery',\n",
       " 'deprivation',\n",
       " 'macrae',\n",
       " 'sombre',\n",
       " 'immigrant',\n",
       " 'stateless',\n",
       " 'usurious',\n",
       " 'patently',\n",
       " 'upov',\n",
       " 'indictment',\n",
       " 'freefall',\n",
       " 'imaginary',\n",
       " 'persecute',\n",
       " 'amend',\n",
       " 'dearly',\n",
       " 'recognize',\n",
       " 'journalism',\n",
       " 'disenfranchise',\n",
       " 'terrorist',\n",
       " 'hen',\n",
       " 'regularly',\n",
       " 'transition',\n",
       " 'struggle',\n",
       " 'flexibly',\n",
       " 'examination',\n",
       " 'dependent',\n",
       " 'hurdle',\n",
       " 'subsidization',\n",
       " 'defining',\n",
       " 'liquor',\n",
       " 'cruelty',\n",
       " 'maliciously',\n",
       " 'unaccounted',\n",
       " 'solicitor',\n",
       " 'cosa',\n",
       " 'tfwp',\n",
       " 'forfeit',\n",
       " 'cellar',\n",
       " 'hastily',\n",
       " 'feeling',\n",
       " 'yesterday',\n",
       " 'anybody',\n",
       " 'practise',\n",
       " 'account',\n",
       " 'security',\n",
       " 'stun',\n",
       " 'chaff',\n",
       " 'interim',\n",
       " 'wooden',\n",
       " 'yvonne',\n",
       " 'ambassador',\n",
       " 'depth',\n",
       " 'caput',\n",
       " 'quieter',\n",
       " 'intense',\n",
       " 'breeding',\n",
       " 'pomp',\n",
       " 'count',\n",
       " 'outdoor',\n",
       " 'comprehensive',\n",
       " 'pelly',\n",
       " 'album',\n",
       " 'evident',\n",
       " 'invite',\n",
       " 'disrespect',\n",
       " 'neutrality',\n",
       " 'peanut',\n",
       " 'sidewalk',\n",
       " 'agree',\n",
       " 'lifelong',\n",
       " 'specious',\n",
       " 'vehicle',\n",
       " 'mailing',\n",
       " 'm',\n",
       " 'strongly',\n",
       " 'harvester',\n",
       " 'marking',\n",
       " 'branch',\n",
       " 'censorship',\n",
       " 'snowbird',\n",
       " 'collaborative',\n",
       " 'river',\n",
       " 'divisive',\n",
       " 'tolerate',\n",
       " 'feasible',\n",
       " 'utterly',\n",
       " 'soar',\n",
       " 'child',\n",
       " 'nest',\n",
       " 'analyst',\n",
       " 'take',\n",
       " 'bunk',\n",
       " 'owe',\n",
       " 'lasting',\n",
       " 'bar',\n",
       " 'oath',\n",
       " 'crcvc',\n",
       " 'thoroughly',\n",
       " 'narcotic',\n",
       " 'blockhouse',\n",
       " 'fossil',\n",
       " 'flemish',\n",
       " 'table',\n",
       " 'growth',\n",
       " 'contend',\n",
       " 'foundation',\n",
       " 'emphatically',\n",
       " 'disillusionment',\n",
       " 'grab',\n",
       " 'return',\n",
       " 'biomass',\n",
       " 'pace',\n",
       " 'hush',\n",
       " 'statistic',\n",
       " 'happening',\n",
       " 'fevere',\n",
       " 'dishonesty',\n",
       " 'deactivate',\n",
       " 'posting',\n",
       " 'allusion',\n",
       " 'pickpocket',\n",
       " 'inmate',\n",
       " 'paramount',\n",
       " 'brief',\n",
       " 'incur',\n",
       " 'caveat',\n",
       " 'creature',\n",
       " 'problem',\n",
       " 'unbridled',\n",
       " 'discredited',\n",
       " 'viii',\n",
       " 'ban',\n",
       " 'word',\n",
       " 'reopen',\n",
       " 'lebanese',\n",
       " 'cocaine',\n",
       " 'scream',\n",
       " 'diplomat',\n",
       " 'identity',\n",
       " 'internationally',\n",
       " 'universally',\n",
       " 'threshold',\n",
       " 'awhile',\n",
       " 'wireless',\n",
       " 'chirp',\n",
       " 'privilege',\n",
       " 'disrupt',\n",
       " 'downgrading',\n",
       " 'sky',\n",
       " 'liked',\n",
       " 'grown',\n",
       " 'unfettered',\n",
       " 'viable',\n",
       " 'instability',\n",
       " 'relation',\n",
       " 'horror',\n",
       " 'establishment',\n",
       " 'unfortunate',\n",
       " 'bruise',\n",
       " 'offensive',\n",
       " 'fiefdom',\n",
       " 'awaken',\n",
       " 'cudmore',\n",
       " 'trailblazer',\n",
       " 'coalition',\n",
       " 'equation',\n",
       " 'writer',\n",
       " 'horizon',\n",
       " 'website',\n",
       " 'plane',\n",
       " 'ignorant',\n",
       " 'blackberry',\n",
       " 'remind',\n",
       " 'calgary',\n",
       " 'nipisse',\n",
       " 'gst',\n",
       " 'tower',\n",
       " 'nationhood',\n",
       " 'hypocritical',\n",
       " 'clothe',\n",
       " 'confinement',\n",
       " 'peter',\n",
       " 'flow',\n",
       " 'invasion',\n",
       " 'claw',\n",
       " 'mental',\n",
       " 'sweet',\n",
       " 'diligence',\n",
       " 'cluster',\n",
       " 'fill',\n",
       " 'berm',\n",
       " 'harshly',\n",
       " 'grosse',\n",
       " 'categorization',\n",
       " 'kindness',\n",
       " 'charlottetown',\n",
       " 'load',\n",
       " 'unionize',\n",
       " 'tree',\n",
       " 'reintegration',\n",
       " 'distinct',\n",
       " 'unequivocal',\n",
       " 'illegally',\n",
       " 'achievement',\n",
       " 'dwell',\n",
       " 'precautionary',\n",
       " 'reside',\n",
       " 'carbon',\n",
       " 'depiction',\n",
       " 'greenhouse',\n",
       " 'mentally',\n",
       " 'cape',\n",
       " 'galvanize',\n",
       " 'springwillow',\n",
       " 'humanely',\n",
       " 'comply',\n",
       " 'landmark',\n",
       " 'progressively',\n",
       " 'perception',\n",
       " 'friendliness',\n",
       " 'insult',\n",
       " 'supervision',\n",
       " 'wait',\n",
       " 'recommendation',\n",
       " 'theory',\n",
       " 'coherence',\n",
       " '74th',\n",
       " 'seatmate',\n",
       " 'servant',\n",
       " 'component',\n",
       " 'usually',\n",
       " 'allegedly',\n",
       " 'mobility',\n",
       " 'insecurity',\n",
       " 'union',\n",
       " 'generally',\n",
       " 'theminister',\n",
       " 'college',\n",
       " 'r',\n",
       " 'zero',\n",
       " 'minority',\n",
       " 'initially',\n",
       " 'virtually',\n",
       " 'ample',\n",
       " 'instalment',\n",
       " 'epic',\n",
       " 'extremely',\n",
       " 'measurable',\n",
       " 'cartoonist',\n",
       " 'primarily',\n",
       " 'rotate',\n",
       " 'polling',\n",
       " 'quickly',\n",
       " 'srrp',\n",
       " 'picturesque',\n",
       " 'promising',\n",
       " 'remanufacture',\n",
       " 'simcoe',\n",
       " 'define',\n",
       " 'missing',\n",
       " 'generation',\n",
       " 'rbi',\n",
       " 'callous',\n",
       " 'ecosystem',\n",
       " 'crocheting',\n",
       " 'bituman',\n",
       " 'arena',\n",
       " 'hang',\n",
       " 'slowly',\n",
       " 'unnecessarily',\n",
       " 'shout',\n",
       " 'accomplishment',\n",
       " '18th',\n",
       " 'dental',\n",
       " 'indirect',\n",
       " 'peeve',\n",
       " 'govern',\n",
       " 'evidently',\n",
       " 'miner',\n",
       " 'measure',\n",
       " 'justice',\n",
       " 'intrusion',\n",
       " 'attractive',\n",
       " 'dismal',\n",
       " 'contrary',\n",
       " 'arm',\n",
       " 'steady',\n",
       " 'analyze',\n",
       " 'celebration',\n",
       " 'macphail',\n",
       " 'supply',\n",
       " 'net',\n",
       " 'poison',\n",
       " 'opinion',\n",
       " 'politic',\n",
       " 'backbencher',\n",
       " 'comparative',\n",
       " 'bringing',\n",
       " 'experiential',\n",
       " 'prorogation',\n",
       " 'thunder',\n",
       " 'guard',\n",
       " 'boomer',\n",
       " 'penitentiary',\n",
       " 'breathalyzer',\n",
       " 'demonstration',\n",
       " 'refugee',\n",
       " 'unfounded',\n",
       " 'seal',\n",
       " 'k',\n",
       " 'evade',\n",
       " 'inclination',\n",
       " 'exhibit',\n",
       " 'resumption',\n",
       " 'rump',\n",
       " 'farmyard',\n",
       " 'industrie',\n",
       " 'reclassification',\n",
       " 'misusing',\n",
       " 'emotion',\n",
       " 'cheat',\n",
       " 'shirose',\n",
       " 'differentiate',\n",
       " ...}"
      ]
     },
     "execution_count": 9,
     "metadata": {},
     "output_type": "execute_result"
    }
   ],
   "source": [
    "vocab_count_dict[96]"
   ]
  },
  {
   "cell_type": "code",
   "execution_count": 10,
   "metadata": {},
   "outputs": [],
   "source": [
    "sentence = nlp(\"This probably had understated problems with understatements\")"
   ]
  },
  {
   "cell_type": "code",
   "execution_count": 11,
   "metadata": {},
   "outputs": [
    {
     "name": "stdout",
     "output_type": "stream",
     "text": [
      "this\n",
      "probably\n",
      "have\n",
      "understate\n",
      "problem\n",
      "with\n",
      "understatement\n"
     ]
    }
   ],
   "source": [
    "for token in sentence:\n",
    "    print(token.lemma_)"
   ]
  },
  {
   "cell_type": "code",
   "execution_count": 12,
   "metadata": {},
   "outputs": [],
   "source": [
    "v_set = set()"
   ]
  },
  {
   "cell_type": "code",
   "execution_count": 13,
   "metadata": {},
   "outputs": [],
   "source": [
    "for k, v in vocab_count_dict.items():\n",
    "    v_set.update(v)"
   ]
  },
  {
   "cell_type": "code",
   "execution_count": 14,
   "metadata": {},
   "outputs": [
    {
     "data": {
      "text/plain": [
       "68464"
      ]
     },
     "execution_count": 14,
     "metadata": {},
     "output_type": "execute_result"
    }
   ],
   "source": [
    "len(v_set)"
   ]
  },
  {
   "cell_type": "code",
   "execution_count": 15,
   "metadata": {},
   "outputs": [],
   "source": [
    "di = dict.fromkeys(v_set, [1])"
   ]
  },
  {
   "cell_type": "code",
   "execution_count": 16,
   "metadata": {},
   "outputs": [],
   "source": [
    "fake = [1]*68464"
   ]
  },
  {
   "cell_type": "code",
   "execution_count": 17,
   "metadata": {},
   "outputs": [],
   "source": [
    "di = {'word1': fake}"
   ]
  },
  {
   "cell_type": "code",
   "execution_count": 18,
   "metadata": {},
   "outputs": [],
   "source": [
    "df = pd.DataFrame(di)"
   ]
  },
  {
   "cell_type": "code",
   "execution_count": 19,
   "metadata": {},
   "outputs": [],
   "source": [
    "df = pd.DataFrame([[1, 2], [3, 4]], columns=list('AB'))"
   ]
  },
  {
   "cell_type": "code",
   "execution_count": 20,
   "metadata": {},
   "outputs": [],
   "source": [
    "df2 = pd.DataFrame([[5, 6], [7, 8]], columns=list('AB'))"
   ]
  },
  {
   "cell_type": "code",
   "execution_count": 21,
   "metadata": {},
   "outputs": [
    {
     "data": {
      "text/html": [
       "<div>\n",
       "<style scoped>\n",
       "    .dataframe tbody tr th:only-of-type {\n",
       "        vertical-align: middle;\n",
       "    }\n",
       "\n",
       "    .dataframe tbody tr th {\n",
       "        vertical-align: top;\n",
       "    }\n",
       "\n",
       "    .dataframe thead th {\n",
       "        text-align: right;\n",
       "    }\n",
       "</style>\n",
       "<table border=\"1\" class=\"dataframe\">\n",
       "  <thead>\n",
       "    <tr style=\"text-align: right;\">\n",
       "      <th></th>\n",
       "      <th>A</th>\n",
       "      <th>B</th>\n",
       "    </tr>\n",
       "  </thead>\n",
       "  <tbody>\n",
       "    <tr>\n",
       "      <th>0</th>\n",
       "      <td>1</td>\n",
       "      <td>2</td>\n",
       "    </tr>\n",
       "    <tr>\n",
       "      <th>1</th>\n",
       "      <td>3</td>\n",
       "      <td>4</td>\n",
       "    </tr>\n",
       "    <tr>\n",
       "      <th>2</th>\n",
       "      <td>5</td>\n",
       "      <td>6</td>\n",
       "    </tr>\n",
       "    <tr>\n",
       "      <th>3</th>\n",
       "      <td>7</td>\n",
       "      <td>8</td>\n",
       "    </tr>\n",
       "  </tbody>\n",
       "</table>\n",
       "</div>"
      ],
      "text/plain": [
       "   A  B\n",
       "0  1  2\n",
       "1  3  4\n",
       "2  5  6\n",
       "3  7  8"
      ]
     },
     "execution_count": 21,
     "metadata": {},
     "output_type": "execute_result"
    }
   ],
   "source": [
    "df.append(df2, ignore_index=True)"
   ]
  },
  {
   "cell_type": "code",
   "execution_count": 22,
   "metadata": {},
   "outputs": [],
   "source": [
    "df = pd.DataFrame({'member_id': list(vocab_count_dict.keys())})"
   ]
  },
  {
   "cell_type": "code",
   "execution_count": 23,
   "metadata": {},
   "outputs": [
    {
     "data": {
      "text/html": [
       "<div>\n",
       "<style scoped>\n",
       "    .dataframe tbody tr th:only-of-type {\n",
       "        vertical-align: middle;\n",
       "    }\n",
       "\n",
       "    .dataframe tbody tr th {\n",
       "        vertical-align: top;\n",
       "    }\n",
       "\n",
       "    .dataframe thead th {\n",
       "        text-align: right;\n",
       "    }\n",
       "</style>\n",
       "<table border=\"1\" class=\"dataframe\">\n",
       "  <thead>\n",
       "    <tr style=\"text-align: right;\">\n",
       "      <th></th>\n",
       "      <th>member_id</th>\n",
       "    </tr>\n",
       "  </thead>\n",
       "  <tbody>\n",
       "    <tr>\n",
       "      <th>0</th>\n",
       "      <td>3465</td>\n",
       "    </tr>\n",
       "    <tr>\n",
       "      <th>1</th>\n",
       "      <td>173</td>\n",
       "    </tr>\n",
       "    <tr>\n",
       "      <th>2</th>\n",
       "      <td>43</td>\n",
       "    </tr>\n",
       "    <tr>\n",
       "      <th>3</th>\n",
       "      <td>216</td>\n",
       "    </tr>\n",
       "    <tr>\n",
       "      <th>4</th>\n",
       "      <td>256</td>\n",
       "    </tr>\n",
       "  </tbody>\n",
       "</table>\n",
       "</div>"
      ],
      "text/plain": [
       "   member_id\n",
       "0       3465\n",
       "1        173\n",
       "2         43\n",
       "3        216\n",
       "4        256"
      ]
     },
     "execution_count": 23,
     "metadata": {},
     "output_type": "execute_result"
    }
   ],
   "source": [
    "df.head()"
   ]
  },
  {
   "cell_type": "code",
   "execution_count": 24,
   "metadata": {},
   "outputs": [],
   "source": [
    "v1_set = vocab_count_dict[96]"
   ]
  },
  {
   "cell_type": "code",
   "execution_count": 25,
   "metadata": {},
   "outputs": [
    {
     "data": {
      "text/plain": [
       "set"
      ]
     },
     "execution_count": 25,
     "metadata": {},
     "output_type": "execute_result"
    }
   ],
   "source": [
    "type(v1_set)"
   ]
  },
  {
   "cell_type": "code",
   "execution_count": 26,
   "metadata": {},
   "outputs": [
    {
     "data": {
      "text/plain": [
       "False"
      ]
     },
     "execution_count": 26,
     "metadata": {},
     "output_type": "execute_result"
    }
   ],
   "source": [
    "v_set == v1_set"
   ]
  },
  {
   "cell_type": "code",
   "execution_count": 27,
   "metadata": {},
   "outputs": [],
   "source": [
    "v = list(v_set)"
   ]
  },
  {
   "cell_type": "code",
   "execution_count": 28,
   "metadata": {},
   "outputs": [],
   "source": [
    "v.sort()"
   ]
  },
  {
   "cell_type": "code",
   "execution_count": 29,
   "metadata": {},
   "outputs": [
    {
     "data": {
      "text/plain": [
       "'97b'"
      ]
     },
     "execution_count": 29,
     "metadata": {},
     "output_type": "execute_result"
    }
   ],
   "source": [
    "v[590]"
   ]
  },
  {
   "cell_type": "markdown",
   "metadata": {},
   "source": [
    "##### from PyDictionary import PyDictionary\n",
    "dictionary=PyDictionary()"
   ]
  },
  {
   "cell_type": "code",
   "execution_count": 30,
   "metadata": {},
   "outputs": [
    {
     "data": {
      "text/plain": [
       "False"
      ]
     },
     "execution_count": 30,
     "metadata": {},
     "output_type": "execute_result"
    }
   ],
   "source": [
    "any(char.isdigit() for char in 'sdb')"
   ]
  },
  {
   "cell_type": "code",
   "execution_count": null,
   "metadata": {
    "scrolled": true
   },
   "outputs": [],
   "source": []
  },
  {
   "cell_type": "code",
   "execution_count": 31,
   "metadata": {},
   "outputs": [
    {
     "data": {
      "text/plain": [
       "True"
      ]
     },
     "execution_count": 31,
     "metadata": {},
     "output_type": "execute_result"
    }
   ],
   "source": [
    "any(char.isdigit() for char in '97b')"
   ]
  },
  {
   "cell_type": "code",
   "execution_count": 32,
   "metadata": {},
   "outputs": [],
   "source": [
    "a = [1,2,3,4]"
   ]
  },
  {
   "cell_type": "code",
   "execution_count": 33,
   "metadata": {},
   "outputs": [],
   "source": [
    "b = [4]"
   ]
  },
  {
   "cell_type": "code",
   "execution_count": 34,
   "metadata": {},
   "outputs": [
    {
     "data": {
      "text/plain": [
       "array([False, False, False,  True])"
      ]
     },
     "execution_count": 34,
     "metadata": {},
     "output_type": "execute_result"
    }
   ],
   "source": [
    "np.in1d(a,b)"
   ]
  },
  {
   "cell_type": "code",
   "execution_count": 35,
   "metadata": {},
   "outputs": [],
   "source": [
    "v_in= np.in1d(list(v_set), list(v1_set))"
   ]
  },
  {
   "cell_type": "code",
   "execution_count": 36,
   "metadata": {},
   "outputs": [],
   "source": [
    "v_in = v_in.astype(int)"
   ]
  },
  {
   "cell_type": "code",
   "execution_count": 37,
   "metadata": {},
   "outputs": [
    {
     "data": {
      "text/plain": [
       "8443"
      ]
     },
     "execution_count": 37,
     "metadata": {},
     "output_type": "execute_result"
    }
   ],
   "source": [
    "sum(v_in)"
   ]
  },
  {
   "cell_type": "code",
   "execution_count": 38,
   "metadata": {},
   "outputs": [],
   "source": [
    "def wordset_to_1(member_id):\n",
    "    m_vocab = vocab_count_dict[member_id]\n",
    "    v_in= np.in1d(list(v_set), list(m_vocab))\n",
    "    v_in = v_in.astype(int)\n",
    "    df[memb]"
   ]
  },
  {
   "cell_type": "code",
   "execution_count": 39,
   "metadata": {},
   "outputs": [
    {
     "data": {
      "text/plain": [
       "['uncleared',\n",
       " 'cosmogonic',\n",
       " 'conventional',\n",
       " 'incorrigibility',\n",
       " 'photocopied',\n",
       " 'meticulon',\n",
       " 'sikaran',\n",
       " 'advising',\n",
       " 'blueblood',\n",
       " 'carbohydrate']"
      ]
     },
     "execution_count": 39,
     "metadata": {},
     "output_type": "execute_result"
    }
   ],
   "source": [
    "list(v_set)[:10]"
   ]
  },
  {
   "cell_type": "code",
   "execution_count": 40,
   "metadata": {},
   "outputs": [],
   "source": [
    "words = list(v_set)"
   ]
  },
  {
   "cell_type": "code",
   "execution_count": 41,
   "metadata": {},
   "outputs": [],
   "source": [
    "words.sort()"
   ]
  },
  {
   "cell_type": "code",
   "execution_count": 42,
   "metadata": {},
   "outputs": [
    {
     "data": {
      "text/plain": [
       "['abridge',\n",
       " 'abridged',\n",
       " 'abridgement',\n",
       " 'abridgment',\n",
       " 'abroad',\n",
       " 'abrogate',\n",
       " 'abrogating',\n",
       " 'abrogation',\n",
       " 'abrupt',\n",
       " 'abruption']"
      ]
     },
     "execution_count": 42,
     "metadata": {},
     "output_type": "execute_result"
    }
   ],
   "source": [
    "words[800:810]"
   ]
  },
  {
   "cell_type": "code",
   "execution_count": 44,
   "metadata": {},
   "outputs": [],
   "source": [
    "df = pd.DataFrame(columns = newcols)"
   ]
  },
  {
   "cell_type": "code",
   "execution_count": 45,
   "metadata": {},
   "outputs": [
    {
     "data": {
      "text/plain": [
       "['über',\n",
       " 'überminister',\n",
       " 'œuvrant',\n",
       " 'ᖁᔭᓐᓇᒦᒃ',\n",
       " '’',\n",
       " '“',\n",
       " '”',\n",
       " '•',\n",
       " '•support',\n",
       " '€']"
      ]
     },
     "execution_count": 45,
     "metadata": {},
     "output_type": "execute_result"
    }
   ],
   "source": [
    "newcols[-10:]"
   ]
  },
  {
   "cell_type": "code",
   "execution_count": 46,
   "metadata": {},
   "outputs": [],
   "source": [
    "s = newcols[-9]"
   ]
  },
  {
   "cell_type": "code",
   "execution_count": 47,
   "metadata": {},
   "outputs": [
    {
     "data": {
      "text/plain": [
       "'überminister'"
      ]
     },
     "execution_count": 47,
     "metadata": {},
     "output_type": "execute_result"
    }
   ],
   "source": [
    "s"
   ]
  },
  {
   "cell_type": "code",
   "execution_count": 48,
   "metadata": {},
   "outputs": [
    {
     "data": {
      "text/plain": [
       "b'berminister'"
      ]
     },
     "execution_count": 48,
     "metadata": {},
     "output_type": "execute_result"
    }
   ],
   "source": [
    "s.encode(\"ascii\", \"ignore\")"
   ]
  },
  {
   "cell_type": "code",
   "execution_count": 49,
   "metadata": {},
   "outputs": [],
   "source": [
    "w = newcols[-7]"
   ]
  },
  {
   "cell_type": "code",
   "execution_count": 50,
   "metadata": {},
   "outputs": [
    {
     "data": {
      "text/plain": [
       "0"
      ]
     },
     "execution_count": 50,
     "metadata": {},
     "output_type": "execute_result"
    }
   ],
   "source": [
    "len(w.encode(\"latin-1\",'ignore'))"
   ]
  },
  {
   "cell_type": "code",
   "execution_count": 51,
   "metadata": {},
   "outputs": [
    {
     "data": {
      "text/plain": [
       "6"
      ]
     },
     "execution_count": 51,
     "metadata": {},
     "output_type": "execute_result"
    }
   ],
   "source": [
    "len(w)"
   ]
  },
  {
   "cell_type": "markdown",
   "metadata": {},
   "source": [
    "if the length of the original non-latinate token is nonzero and the length of the latin-1-encoded token is zero, it it can't be represented using the latin character set #TODO later - unidecode tokens"
   ]
  },
  {
   "cell_type": "code",
   "execution_count": 52,
   "metadata": {
    "scrolled": true
   },
   "outputs": [],
   "source": [
    "from unidecode import unidecode"
   ]
  },
  {
   "cell_type": "code",
   "execution_count": 53,
   "metadata": {},
   "outputs": [
    {
     "data": {
      "text/plain": [
       "'uberminister'"
      ]
     },
     "execution_count": 53,
     "metadata": {},
     "output_type": "execute_result"
    }
   ],
   "source": [
    "unidecode(s) "
   ]
  },
  {
   "cell_type": "code",
   "execution_count": 54,
   "metadata": {},
   "outputs": [],
   "source": [
    "sa = set()\n",
    "sb = set()"
   ]
  },
  {
   "cell_type": "code",
   "execution_count": 55,
   "metadata": {},
   "outputs": [],
   "source": [
    "sa.update([1,2,3,4])\n",
    "sb.update([2,5])"
   ]
  },
  {
   "cell_type": "code",
   "execution_count": 56,
   "metadata": {},
   "outputs": [
    {
     "data": {
      "text/plain": [
       "[False, True, False, False]"
      ]
     },
     "execution_count": 56,
     "metadata": {},
     "output_type": "execute_result"
    }
   ],
   "source": [
    "[x in sb for x in sa]"
   ]
  },
  {
   "cell_type": "code",
   "execution_count": 66,
   "metadata": {},
   "outputs": [],
   "source": [
    "my_dict = {'96': list(v1_set), 'vocab': list(v_set)}"
   ]
  },
  {
   "cell_type": "code",
   "execution_count": 67,
   "metadata": {},
   "outputs": [],
   "source": [
    "df = pd.DataFrame.from_dict(my_dict, orient='index')"
   ]
  },
  {
   "cell_type": "code",
   "execution_count": 68,
   "metadata": {},
   "outputs": [
    {
     "data": {
      "text/html": [
       "<div>\n",
       "<style scoped>\n",
       "    .dataframe tbody tr th:only-of-type {\n",
       "        vertical-align: middle;\n",
       "    }\n",
       "\n",
       "    .dataframe tbody tr th {\n",
       "        vertical-align: top;\n",
       "    }\n",
       "\n",
       "    .dataframe thead th {\n",
       "        text-align: right;\n",
       "    }\n",
       "</style>\n",
       "<table border=\"1\" class=\"dataframe\">\n",
       "  <thead>\n",
       "    <tr style=\"text-align: right;\">\n",
       "      <th></th>\n",
       "      <th>0</th>\n",
       "      <th>1</th>\n",
       "      <th>2</th>\n",
       "      <th>3</th>\n",
       "      <th>4</th>\n",
       "      <th>5</th>\n",
       "      <th>6</th>\n",
       "      <th>7</th>\n",
       "      <th>8</th>\n",
       "      <th>9</th>\n",
       "      <th>...</th>\n",
       "      <th>68454</th>\n",
       "      <th>68455</th>\n",
       "      <th>68456</th>\n",
       "      <th>68457</th>\n",
       "      <th>68458</th>\n",
       "      <th>68459</th>\n",
       "      <th>68460</th>\n",
       "      <th>68461</th>\n",
       "      <th>68462</th>\n",
       "      <th>68463</th>\n",
       "    </tr>\n",
       "  </thead>\n",
       "  <tbody>\n",
       "    <tr>\n",
       "      <th>96</th>\n",
       "      <td>dangerously</td>\n",
       "      <td>conventional</td>\n",
       "      <td>genie</td>\n",
       "      <td>welcome</td>\n",
       "      <td>squadron</td>\n",
       "      <td>hooked</td>\n",
       "      <td>clow</td>\n",
       "      <td>bad</td>\n",
       "      <td>shipper</td>\n",
       "      <td>repeatedly</td>\n",
       "      <td>...</td>\n",
       "      <td>None</td>\n",
       "      <td>None</td>\n",
       "      <td>None</td>\n",
       "      <td>None</td>\n",
       "      <td>None</td>\n",
       "      <td>None</td>\n",
       "      <td>None</td>\n",
       "      <td>None</td>\n",
       "      <td>None</td>\n",
       "      <td>None</td>\n",
       "    </tr>\n",
       "    <tr>\n",
       "      <th>vocab</th>\n",
       "      <td>uncleared</td>\n",
       "      <td>cosmogonic</td>\n",
       "      <td>conventional</td>\n",
       "      <td>incorrigibility</td>\n",
       "      <td>photocopied</td>\n",
       "      <td>meticulon</td>\n",
       "      <td>sikaran</td>\n",
       "      <td>advising</td>\n",
       "      <td>blueblood</td>\n",
       "      <td>carbohydrate</td>\n",
       "      <td>...</td>\n",
       "      <td>fizzle</td>\n",
       "      <td>hulse</td>\n",
       "      <td>outlying</td>\n",
       "      <td>pluto</td>\n",
       "      <td>enviously</td>\n",
       "      <td>tunic</td>\n",
       "      <td>genuinely</td>\n",
       "      <td>saab</td>\n",
       "      <td>iowu</td>\n",
       "      <td>bloodstaine</td>\n",
       "    </tr>\n",
       "  </tbody>\n",
       "</table>\n",
       "<p>2 rows × 68464 columns</p>\n",
       "</div>"
      ],
      "text/plain": [
       "             0             1             2                3            4      \\\n",
       "96     dangerously  conventional         genie          welcome     squadron   \n",
       "vocab    uncleared    cosmogonic  conventional  incorrigibility  photocopied   \n",
       "\n",
       "           5        6         7          8             9      ...   68454  \\\n",
       "96        hooked     clow       bad    shipper    repeatedly  ...    None   \n",
       "vocab  meticulon  sikaran  advising  blueblood  carbohydrate  ...  fizzle   \n",
       "\n",
       "       68455     68456  68457      68458  68459      68460 68461 68462  \\\n",
       "96      None      None   None       None   None       None  None  None   \n",
       "vocab  hulse  outlying  pluto  enviously  tunic  genuinely  saab  iowu   \n",
       "\n",
       "             68463  \n",
       "96            None  \n",
       "vocab  bloodstaine  \n",
       "\n",
       "[2 rows x 68464 columns]"
      ]
     },
     "execution_count": 68,
     "metadata": {},
     "output_type": "execute_result"
    }
   ],
   "source": [
    "df.head()"
   ]
  },
  {
   "cell_type": "markdown",
   "metadata": {},
   "source": [
    "how to do this: \n",
    "\n",
    "    - make binary columns per sorted word\n",
    "    - make a dictionary with the key as the member id, and the values as the np array\n",
    "    - turn to dict\n",
    "    - transpose\n",
    "    - turn the index into a column, replace column names with old index values + v_set"
   ]
  },
  {
   "cell_type": "code",
   "execution_count": 69,
   "metadata": {},
   "outputs": [],
   "source": [
    "v_in= np.in1d(list(v_set), list(v1_set))"
   ]
  },
  {
   "cell_type": "code",
   "execution_count": 70,
   "metadata": {},
   "outputs": [
    {
     "data": {
      "text/plain": [
       "array([False, False,  True, False, False, False, False, False, False,\n",
       "       False])"
      ]
     },
     "execution_count": 70,
     "metadata": {},
     "output_type": "execute_result"
    }
   ],
   "source": [
    "v_in[:10]"
   ]
  },
  {
   "cell_type": "code",
   "execution_count": 84,
   "metadata": {},
   "outputs": [],
   "source": [
    "vocab_df = dict()"
   ]
  },
  {
   "cell_type": "code",
   "execution_count": 89,
   "metadata": {},
   "outputs": [
    {
     "name": "stdout",
     "output_type": "stream",
     "text": [
      "Wall time: 56.1 s\n"
     ]
    }
   ],
   "source": [
    "%%time\n",
    "for k, v in vocab_count_dict.items():\n",
    "    vocab_df[k] = np.in1d(list(v_set), list(v)).astype(int)"
   ]
  },
  {
   "cell_type": "code",
   "execution_count": 90,
   "metadata": {},
   "outputs": [
    {
     "name": "stdout",
     "output_type": "stream",
     "text": [
      "done\n"
     ]
    }
   ],
   "source": [
    "print('done')"
   ]
  },
  {
   "cell_type": "code",
   "execution_count": 91,
   "metadata": {},
   "outputs": [
    {
     "data": {
      "text/plain": [
       "array([0, 0, 1, ..., 0, 0, 0])"
      ]
     },
     "execution_count": 91,
     "metadata": {},
     "output_type": "execute_result"
    }
   ],
   "source": [
    "vocab_df[96]"
   ]
  },
  {
   "cell_type": "code",
   "execution_count": 92,
   "metadata": {},
   "outputs": [],
   "source": [
    "df = pd.DataFrame.from_dict(vocab_df)"
   ]
  },
  {
   "cell_type": "code",
   "execution_count": 96,
   "metadata": {},
   "outputs": [],
   "source": [
    "#transpose\n",
    "df = df.transpose() "
   ]
  },
  {
   "cell_type": "code",
   "execution_count": 97,
   "metadata": {},
   "outputs": [
    {
     "data": {
      "text/html": [
       "<div>\n",
       "<style scoped>\n",
       "    .dataframe tbody tr th:only-of-type {\n",
       "        vertical-align: middle;\n",
       "    }\n",
       "\n",
       "    .dataframe tbody tr th {\n",
       "        vertical-align: top;\n",
       "    }\n",
       "\n",
       "    .dataframe thead th {\n",
       "        text-align: right;\n",
       "    }\n",
       "</style>\n",
       "<table border=\"1\" class=\"dataframe\">\n",
       "  <thead>\n",
       "    <tr style=\"text-align: right;\">\n",
       "      <th></th>\n",
       "      <th>0</th>\n",
       "      <th>1</th>\n",
       "      <th>2</th>\n",
       "      <th>3</th>\n",
       "      <th>4</th>\n",
       "      <th>5</th>\n",
       "      <th>6</th>\n",
       "      <th>7</th>\n",
       "      <th>8</th>\n",
       "      <th>9</th>\n",
       "      <th>...</th>\n",
       "      <th>68454</th>\n",
       "      <th>68455</th>\n",
       "      <th>68456</th>\n",
       "      <th>68457</th>\n",
       "      <th>68458</th>\n",
       "      <th>68459</th>\n",
       "      <th>68460</th>\n",
       "      <th>68461</th>\n",
       "      <th>68462</th>\n",
       "      <th>68463</th>\n",
       "    </tr>\n",
       "  </thead>\n",
       "  <tbody>\n",
       "    <tr>\n",
       "      <th>3465</th>\n",
       "      <td>0</td>\n",
       "      <td>0</td>\n",
       "      <td>0</td>\n",
       "      <td>0</td>\n",
       "      <td>0</td>\n",
       "      <td>0</td>\n",
       "      <td>0</td>\n",
       "      <td>0</td>\n",
       "      <td>0</td>\n",
       "      <td>0</td>\n",
       "      <td>...</td>\n",
       "      <td>0</td>\n",
       "      <td>0</td>\n",
       "      <td>0</td>\n",
       "      <td>0</td>\n",
       "      <td>0</td>\n",
       "      <td>0</td>\n",
       "      <td>0</td>\n",
       "      <td>0</td>\n",
       "      <td>0</td>\n",
       "      <td>0</td>\n",
       "    </tr>\n",
       "    <tr>\n",
       "      <th>173</th>\n",
       "      <td>0</td>\n",
       "      <td>0</td>\n",
       "      <td>1</td>\n",
       "      <td>0</td>\n",
       "      <td>0</td>\n",
       "      <td>0</td>\n",
       "      <td>0</td>\n",
       "      <td>0</td>\n",
       "      <td>0</td>\n",
       "      <td>0</td>\n",
       "      <td>...</td>\n",
       "      <td>0</td>\n",
       "      <td>0</td>\n",
       "      <td>1</td>\n",
       "      <td>0</td>\n",
       "      <td>0</td>\n",
       "      <td>0</td>\n",
       "      <td>1</td>\n",
       "      <td>0</td>\n",
       "      <td>0</td>\n",
       "      <td>0</td>\n",
       "    </tr>\n",
       "    <tr>\n",
       "      <th>43</th>\n",
       "      <td>0</td>\n",
       "      <td>0</td>\n",
       "      <td>1</td>\n",
       "      <td>0</td>\n",
       "      <td>0</td>\n",
       "      <td>0</td>\n",
       "      <td>0</td>\n",
       "      <td>0</td>\n",
       "      <td>0</td>\n",
       "      <td>0</td>\n",
       "      <td>...</td>\n",
       "      <td>0</td>\n",
       "      <td>0</td>\n",
       "      <td>0</td>\n",
       "      <td>0</td>\n",
       "      <td>0</td>\n",
       "      <td>0</td>\n",
       "      <td>1</td>\n",
       "      <td>0</td>\n",
       "      <td>0</td>\n",
       "      <td>0</td>\n",
       "    </tr>\n",
       "    <tr>\n",
       "      <th>216</th>\n",
       "      <td>0</td>\n",
       "      <td>0</td>\n",
       "      <td>1</td>\n",
       "      <td>0</td>\n",
       "      <td>0</td>\n",
       "      <td>0</td>\n",
       "      <td>0</td>\n",
       "      <td>0</td>\n",
       "      <td>0</td>\n",
       "      <td>0</td>\n",
       "      <td>...</td>\n",
       "      <td>0</td>\n",
       "      <td>0</td>\n",
       "      <td>0</td>\n",
       "      <td>0</td>\n",
       "      <td>0</td>\n",
       "      <td>0</td>\n",
       "      <td>1</td>\n",
       "      <td>0</td>\n",
       "      <td>0</td>\n",
       "      <td>0</td>\n",
       "    </tr>\n",
       "    <tr>\n",
       "      <th>256</th>\n",
       "      <td>0</td>\n",
       "      <td>0</td>\n",
       "      <td>0</td>\n",
       "      <td>0</td>\n",
       "      <td>0</td>\n",
       "      <td>0</td>\n",
       "      <td>0</td>\n",
       "      <td>0</td>\n",
       "      <td>0</td>\n",
       "      <td>0</td>\n",
       "      <td>...</td>\n",
       "      <td>0</td>\n",
       "      <td>0</td>\n",
       "      <td>0</td>\n",
       "      <td>0</td>\n",
       "      <td>0</td>\n",
       "      <td>0</td>\n",
       "      <td>1</td>\n",
       "      <td>0</td>\n",
       "      <td>0</td>\n",
       "      <td>0</td>\n",
       "    </tr>\n",
       "  </tbody>\n",
       "</table>\n",
       "<p>5 rows × 68464 columns</p>\n",
       "</div>"
      ],
      "text/plain": [
       "      0      1      2      3      4      5      6      7      8      9      \\\n",
       "3465      0      0      0      0      0      0      0      0      0      0   \n",
       "173       0      0      1      0      0      0      0      0      0      0   \n",
       "43        0      0      1      0      0      0      0      0      0      0   \n",
       "216       0      0      1      0      0      0      0      0      0      0   \n",
       "256       0      0      0      0      0      0      0      0      0      0   \n",
       "\n",
       "      ...  68454  68455  68456  68457  68458  68459  68460  68461  68462  \\\n",
       "3465  ...      0      0      0      0      0      0      0      0      0   \n",
       "173   ...      0      0      1      0      0      0      1      0      0   \n",
       "43    ...      0      0      0      0      0      0      1      0      0   \n",
       "216   ...      0      0      0      0      0      0      1      0      0   \n",
       "256   ...      0      0      0      0      0      0      1      0      0   \n",
       "\n",
       "      68463  \n",
       "3465      0  \n",
       "173       0  \n",
       "43        0  \n",
       "216       0  \n",
       "256       0  \n",
       "\n",
       "[5 rows x 68464 columns]"
      ]
     },
     "execution_count": 97,
     "metadata": {},
     "output_type": "execute_result"
    }
   ],
   "source": [
    "df.head()"
   ]
  },
  {
   "cell_type": "code",
   "execution_count": 98,
   "metadata": {},
   "outputs": [],
   "source": [
    "df['member_id'] = df.index"
   ]
  },
  {
   "cell_type": "code",
   "execution_count": 100,
   "metadata": {},
   "outputs": [
    {
     "data": {
      "text/plain": [
       "(1051, 68465)"
      ]
     },
     "execution_count": 100,
     "metadata": {},
     "output_type": "execute_result"
    }
   ],
   "source": [
    "df.shape"
   ]
  },
  {
   "cell_type": "code",
   "execution_count": 102,
   "metadata": {},
   "outputs": [],
   "source": [
    "df.reset_index(level=None, drop=False, inplace=True)"
   ]
  },
  {
   "cell_type": "code",
   "execution_count": 106,
   "metadata": {},
   "outputs": [],
   "source": [
    "df.drop(['member_id'], axis=1, inplace=True)"
   ]
  },
  {
   "cell_type": "code",
   "execution_count": 107,
   "metadata": {},
   "outputs": [],
   "source": [
    "df = df.rename({'index': 'member_id'},axis=1 )"
   ]
  },
  {
   "cell_type": "code",
   "execution_count": 108,
   "metadata": {
    "scrolled": true
   },
   "outputs": [
    {
     "data": {
      "text/html": [
       "<div>\n",
       "<style scoped>\n",
       "    .dataframe tbody tr th:only-of-type {\n",
       "        vertical-align: middle;\n",
       "    }\n",
       "\n",
       "    .dataframe tbody tr th {\n",
       "        vertical-align: top;\n",
       "    }\n",
       "\n",
       "    .dataframe thead th {\n",
       "        text-align: right;\n",
       "    }\n",
       "</style>\n",
       "<table border=\"1\" class=\"dataframe\">\n",
       "  <thead>\n",
       "    <tr style=\"text-align: right;\">\n",
       "      <th></th>\n",
       "      <th>member_id</th>\n",
       "      <th>0</th>\n",
       "      <th>1</th>\n",
       "      <th>2</th>\n",
       "      <th>3</th>\n",
       "      <th>4</th>\n",
       "      <th>5</th>\n",
       "      <th>6</th>\n",
       "      <th>7</th>\n",
       "      <th>8</th>\n",
       "      <th>...</th>\n",
       "      <th>68454</th>\n",
       "      <th>68455</th>\n",
       "      <th>68456</th>\n",
       "      <th>68457</th>\n",
       "      <th>68458</th>\n",
       "      <th>68459</th>\n",
       "      <th>68460</th>\n",
       "      <th>68461</th>\n",
       "      <th>68462</th>\n",
       "      <th>68463</th>\n",
       "    </tr>\n",
       "  </thead>\n",
       "  <tbody>\n",
       "    <tr>\n",
       "      <th>0</th>\n",
       "      <td>3465</td>\n",
       "      <td>0</td>\n",
       "      <td>0</td>\n",
       "      <td>0</td>\n",
       "      <td>0</td>\n",
       "      <td>0</td>\n",
       "      <td>0</td>\n",
       "      <td>0</td>\n",
       "      <td>0</td>\n",
       "      <td>0</td>\n",
       "      <td>...</td>\n",
       "      <td>0</td>\n",
       "      <td>0</td>\n",
       "      <td>0</td>\n",
       "      <td>0</td>\n",
       "      <td>0</td>\n",
       "      <td>0</td>\n",
       "      <td>0</td>\n",
       "      <td>0</td>\n",
       "      <td>0</td>\n",
       "      <td>0</td>\n",
       "    </tr>\n",
       "    <tr>\n",
       "      <th>1</th>\n",
       "      <td>173</td>\n",
       "      <td>0</td>\n",
       "      <td>0</td>\n",
       "      <td>1</td>\n",
       "      <td>0</td>\n",
       "      <td>0</td>\n",
       "      <td>0</td>\n",
       "      <td>0</td>\n",
       "      <td>0</td>\n",
       "      <td>0</td>\n",
       "      <td>...</td>\n",
       "      <td>0</td>\n",
       "      <td>0</td>\n",
       "      <td>1</td>\n",
       "      <td>0</td>\n",
       "      <td>0</td>\n",
       "      <td>0</td>\n",
       "      <td>1</td>\n",
       "      <td>0</td>\n",
       "      <td>0</td>\n",
       "      <td>0</td>\n",
       "    </tr>\n",
       "    <tr>\n",
       "      <th>2</th>\n",
       "      <td>43</td>\n",
       "      <td>0</td>\n",
       "      <td>0</td>\n",
       "      <td>1</td>\n",
       "      <td>0</td>\n",
       "      <td>0</td>\n",
       "      <td>0</td>\n",
       "      <td>0</td>\n",
       "      <td>0</td>\n",
       "      <td>0</td>\n",
       "      <td>...</td>\n",
       "      <td>0</td>\n",
       "      <td>0</td>\n",
       "      <td>0</td>\n",
       "      <td>0</td>\n",
       "      <td>0</td>\n",
       "      <td>0</td>\n",
       "      <td>1</td>\n",
       "      <td>0</td>\n",
       "      <td>0</td>\n",
       "      <td>0</td>\n",
       "    </tr>\n",
       "    <tr>\n",
       "      <th>3</th>\n",
       "      <td>216</td>\n",
       "      <td>0</td>\n",
       "      <td>0</td>\n",
       "      <td>1</td>\n",
       "      <td>0</td>\n",
       "      <td>0</td>\n",
       "      <td>0</td>\n",
       "      <td>0</td>\n",
       "      <td>0</td>\n",
       "      <td>0</td>\n",
       "      <td>...</td>\n",
       "      <td>0</td>\n",
       "      <td>0</td>\n",
       "      <td>0</td>\n",
       "      <td>0</td>\n",
       "      <td>0</td>\n",
       "      <td>0</td>\n",
       "      <td>1</td>\n",
       "      <td>0</td>\n",
       "      <td>0</td>\n",
       "      <td>0</td>\n",
       "    </tr>\n",
       "    <tr>\n",
       "      <th>4</th>\n",
       "      <td>256</td>\n",
       "      <td>0</td>\n",
       "      <td>0</td>\n",
       "      <td>0</td>\n",
       "      <td>0</td>\n",
       "      <td>0</td>\n",
       "      <td>0</td>\n",
       "      <td>0</td>\n",
       "      <td>0</td>\n",
       "      <td>0</td>\n",
       "      <td>...</td>\n",
       "      <td>0</td>\n",
       "      <td>0</td>\n",
       "      <td>0</td>\n",
       "      <td>0</td>\n",
       "      <td>0</td>\n",
       "      <td>0</td>\n",
       "      <td>1</td>\n",
       "      <td>0</td>\n",
       "      <td>0</td>\n",
       "      <td>0</td>\n",
       "    </tr>\n",
       "  </tbody>\n",
       "</table>\n",
       "<p>5 rows × 68465 columns</p>\n",
       "</div>"
      ],
      "text/plain": [
       "   member_id  0  1  2  3  4  5  6  7  8  ...  68454  68455  68456  68457  \\\n",
       "0       3465  0  0  0  0  0  0  0  0  0  ...      0      0      0      0   \n",
       "1        173  0  0  1  0  0  0  0  0  0  ...      0      0      1      0   \n",
       "2         43  0  0  1  0  0  0  0  0  0  ...      0      0      0      0   \n",
       "3        216  0  0  1  0  0  0  0  0  0  ...      0      0      0      0   \n",
       "4        256  0  0  0  0  0  0  0  0  0  ...      0      0      0      0   \n",
       "\n",
       "   68458  68459  68460  68461  68462  68463  \n",
       "0      0      0      0      0      0      0  \n",
       "1      0      0      1      0      0      0  \n",
       "2      0      0      1      0      0      0  \n",
       "3      0      0      1      0      0      0  \n",
       "4      0      0      1      0      0      0  \n",
       "\n",
       "[5 rows x 68465 columns]"
      ]
     },
     "execution_count": 108,
     "metadata": {},
     "output_type": "execute_result"
    }
   ],
   "source": [
    "df.head()"
   ]
  },
  {
   "cell_type": "code",
   "execution_count": 109,
   "metadata": {},
   "outputs": [],
   "source": [
    "newcols = ['member_id'] + words"
   ]
  },
  {
   "cell_type": "code",
   "execution_count": 112,
   "metadata": {},
   "outputs": [],
   "source": [
    "df.columns = [unidecode(x) for x in newcols]"
   ]
  },
  {
   "cell_type": "code",
   "execution_count": 113,
   "metadata": {},
   "outputs": [
    {
     "data": {
      "text/html": [
       "<div>\n",
       "<style scoped>\n",
       "    .dataframe tbody tr th:only-of-type {\n",
       "        vertical-align: middle;\n",
       "    }\n",
       "\n",
       "    .dataframe tbody tr th {\n",
       "        vertical-align: top;\n",
       "    }\n",
       "\n",
       "    .dataframe thead th {\n",
       "        text-align: right;\n",
       "    }\n",
       "</style>\n",
       "<table border=\"1\" class=\"dataframe\">\n",
       "  <thead>\n",
       "    <tr style=\"text-align: right;\">\n",
       "      <th></th>\n",
       "      <th>member_id</th>\n",
       "      <th></th>\n",
       "      <th></th>\n",
       "      <th></th>\n",
       "      <th></th>\n",
       "      <th></th>\n",
       "      <th></th>\n",
       "      <th></th>\n",
       "      <th></th>\n",
       "      <th></th>\n",
       "      <th>...</th>\n",
       "      <th>uber</th>\n",
       "      <th>uberminister</th>\n",
       "      <th>oeuvrant</th>\n",
       "      <th>qoyannamiik</th>\n",
       "      <th>'</th>\n",
       "      <th>\"</th>\n",
       "      <th>\"</th>\n",
       "      <th>*</th>\n",
       "      <th>*support</th>\n",
       "      <th>EUR</th>\n",
       "    </tr>\n",
       "  </thead>\n",
       "  <tbody>\n",
       "    <tr>\n",
       "      <th>0</th>\n",
       "      <td>3465</td>\n",
       "      <td>0</td>\n",
       "      <td>0</td>\n",
       "      <td>0</td>\n",
       "      <td>0</td>\n",
       "      <td>0</td>\n",
       "      <td>0</td>\n",
       "      <td>0</td>\n",
       "      <td>0</td>\n",
       "      <td>0</td>\n",
       "      <td>...</td>\n",
       "      <td>0</td>\n",
       "      <td>0</td>\n",
       "      <td>0</td>\n",
       "      <td>0</td>\n",
       "      <td>0</td>\n",
       "      <td>0</td>\n",
       "      <td>0</td>\n",
       "      <td>0</td>\n",
       "      <td>0</td>\n",
       "      <td>0</td>\n",
       "    </tr>\n",
       "    <tr>\n",
       "      <th>1</th>\n",
       "      <td>173</td>\n",
       "      <td>0</td>\n",
       "      <td>0</td>\n",
       "      <td>1</td>\n",
       "      <td>0</td>\n",
       "      <td>0</td>\n",
       "      <td>0</td>\n",
       "      <td>0</td>\n",
       "      <td>0</td>\n",
       "      <td>0</td>\n",
       "      <td>...</td>\n",
       "      <td>0</td>\n",
       "      <td>0</td>\n",
       "      <td>1</td>\n",
       "      <td>0</td>\n",
       "      <td>0</td>\n",
       "      <td>0</td>\n",
       "      <td>1</td>\n",
       "      <td>0</td>\n",
       "      <td>0</td>\n",
       "      <td>0</td>\n",
       "    </tr>\n",
       "    <tr>\n",
       "      <th>2</th>\n",
       "      <td>43</td>\n",
       "      <td>0</td>\n",
       "      <td>0</td>\n",
       "      <td>1</td>\n",
       "      <td>0</td>\n",
       "      <td>0</td>\n",
       "      <td>0</td>\n",
       "      <td>0</td>\n",
       "      <td>0</td>\n",
       "      <td>0</td>\n",
       "      <td>...</td>\n",
       "      <td>0</td>\n",
       "      <td>0</td>\n",
       "      <td>0</td>\n",
       "      <td>0</td>\n",
       "      <td>0</td>\n",
       "      <td>0</td>\n",
       "      <td>1</td>\n",
       "      <td>0</td>\n",
       "      <td>0</td>\n",
       "      <td>0</td>\n",
       "    </tr>\n",
       "    <tr>\n",
       "      <th>3</th>\n",
       "      <td>216</td>\n",
       "      <td>0</td>\n",
       "      <td>0</td>\n",
       "      <td>1</td>\n",
       "      <td>0</td>\n",
       "      <td>0</td>\n",
       "      <td>0</td>\n",
       "      <td>0</td>\n",
       "      <td>0</td>\n",
       "      <td>0</td>\n",
       "      <td>...</td>\n",
       "      <td>0</td>\n",
       "      <td>0</td>\n",
       "      <td>0</td>\n",
       "      <td>0</td>\n",
       "      <td>0</td>\n",
       "      <td>0</td>\n",
       "      <td>1</td>\n",
       "      <td>0</td>\n",
       "      <td>0</td>\n",
       "      <td>0</td>\n",
       "    </tr>\n",
       "    <tr>\n",
       "      <th>4</th>\n",
       "      <td>256</td>\n",
       "      <td>0</td>\n",
       "      <td>0</td>\n",
       "      <td>0</td>\n",
       "      <td>0</td>\n",
       "      <td>0</td>\n",
       "      <td>0</td>\n",
       "      <td>0</td>\n",
       "      <td>0</td>\n",
       "      <td>0</td>\n",
       "      <td>...</td>\n",
       "      <td>0</td>\n",
       "      <td>0</td>\n",
       "      <td>0</td>\n",
       "      <td>0</td>\n",
       "      <td>0</td>\n",
       "      <td>0</td>\n",
       "      <td>1</td>\n",
       "      <td>0</td>\n",
       "      <td>0</td>\n",
       "      <td>0</td>\n",
       "    </tr>\n",
       "  </tbody>\n",
       "</table>\n",
       "<p>5 rows × 68465 columns</p>\n",
       "</div>"
      ],
      "text/plain": [
       "   member_id                                                                 \\\n",
       "0       3465  0   0    0     0      0       0        0         0          0   \n",
       "1        173  0   0    1     0      0       0        0         0          0   \n",
       "2         43  0   0    1     0      0       0        0         0          0   \n",
       "3        216  0   0    1     0      0       0        0         0          0   \n",
       "4        256  0   0    0     0      0       0        0         0          0   \n",
       "\n",
       "   ...  uber  uberminister  oeuvrant  qoyannamiik  '  \"  \"  *  *support  EUR  \n",
       "0  ...     0             0         0            0  0  0  0  0         0    0  \n",
       "1  ...     0             0         1            0  0  0  1  0         0    0  \n",
       "2  ...     0             0         0            0  0  0  1  0         0    0  \n",
       "3  ...     0             0         0            0  0  0  1  0         0    0  \n",
       "4  ...     0             0         0            0  0  0  1  0         0    0  \n",
       "\n",
       "[5 rows x 68465 columns]"
      ]
     },
     "execution_count": 113,
     "metadata": {},
     "output_type": "execute_result"
    }
   ],
   "source": [
    "df.head()"
   ]
  },
  {
   "cell_type": "code",
   "execution_count": 115,
   "metadata": {},
   "outputs": [],
   "source": [
    "df.to_csv(r\"D:\\data\\openparliament\\vocab_count_df\")"
   ]
  },
  {
   "cell_type": "code",
   "execution_count": 116,
   "metadata": {},
   "outputs": [],
   "source": [
    "df_sums = df.drop(['member_id'], axis=1).sum(axis=1)"
   ]
  },
  {
   "cell_type": "code",
   "execution_count": 117,
   "metadata": {},
   "outputs": [
    {
     "data": {
      "text/plain": [
       "0    3037\n",
       "1    6473\n",
       "2    6468\n",
       "3    7052\n",
       "4    6184\n",
       "dtype: int64"
      ]
     },
     "execution_count": 117,
     "metadata": {},
     "output_type": "execute_result"
    }
   ],
   "source": [
    "df_sums.head()"
   ]
  },
  {
   "cell_type": "code",
   "execution_count": null,
   "metadata": {},
   "outputs": [],
   "source": []
  }
 ],
 "metadata": {
  "kernelspec": {
   "display_name": "Python 3",
   "language": "python",
   "name": "python3"
  },
  "language_info": {
   "codemirror_mode": {
    "name": "ipython",
    "version": 3
   },
   "file_extension": ".py",
   "mimetype": "text/x-python",
   "name": "python",
   "nbconvert_exporter": "python",
   "pygments_lexer": "ipython3",
   "version": "3.6.12"
  }
 },
 "nbformat": 4,
 "nbformat_minor": 4
}
