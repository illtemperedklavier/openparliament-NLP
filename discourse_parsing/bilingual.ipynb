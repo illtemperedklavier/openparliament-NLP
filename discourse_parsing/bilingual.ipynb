{
 "cells": [
  {
   "cell_type": "code",
   "execution_count": 1,
   "metadata": {},
   "outputs": [],
   "source": [
    "import pandas as pd"
   ]
  },
  {
   "cell_type": "code",
   "execution_count": 2,
   "metadata": {},
   "outputs": [],
   "source": [
    "%config Completer.use_jedi = False "
   ]
  },
  {
   "cell_type": "code",
   "execution_count": 3,
   "metadata": {},
   "outputs": [
    {
     "name": "stderr",
     "output_type": "stream",
     "text": [
      "C:\\Users\\alecr\\Anaconda3\\envs\\gensim_env\\lib\\site-packages\\IPython\\core\\interactiveshell.py:3072: DtypeWarning: Columns (20,23,28,29,30,31,32,33) have mixed types.Specify dtype option on import or set low_memory=False.\n",
      "  interactivity=interactivity, compiler=compiler, result=result)\n"
     ]
    }
   ],
   "source": [
    "df = pd.read_csv(r\"D:\\data\\openparliament\\text_en.csv\", index_col='Unnamed: 0')"
   ]
  },
  {
   "cell_type": "code",
   "execution_count": 6,
   "metadata": {},
   "outputs": [],
   "source": [
    "df['len'] = df.text_en.apply(lambda x: len(x))"
   ]
  },
  {
   "cell_type": "code",
   "execution_count": 12,
   "metadata": {},
   "outputs": [],
   "source": [
    "longdf = df[df.len>10021]"
   ]
  },
  {
   "cell_type": "code",
   "execution_count": 13,
   "metadata": {},
   "outputs": [
    {
     "data": {
      "text/html": [
       "<div>\n",
       "<style scoped>\n",
       "    .dataframe tbody tr th:only-of-type {\n",
       "        vertical-align: middle;\n",
       "    }\n",
       "\n",
       "    .dataframe tbody tr th {\n",
       "        vertical-align: top;\n",
       "    }\n",
       "\n",
       "    .dataframe thead th {\n",
       "        text-align: right;\n",
       "    }\n",
       "</style>\n",
       "<table border=\"1\" class=\"dataframe\">\n",
       "  <thead>\n",
       "    <tr style=\"text-align: right;\">\n",
       "      <th></th>\n",
       "      <th>id</th>\n",
       "      <th>politician_id</th>\n",
       "      <th>riding_id</th>\n",
       "      <th>party_id</th>\n",
       "      <th>end_date</th>\n",
       "      <th>start_date</th>\n",
       "      <th>id.1</th>\n",
       "      <th>document_id</th>\n",
       "      <th>time</th>\n",
       "      <th>h1_en</th>\n",
       "      <th>...</th>\n",
       "      <th>h1_fr</th>\n",
       "      <th>h2_fr</th>\n",
       "      <th>h3_fr</th>\n",
       "      <th>who_fr</th>\n",
       "      <th>who_context_fr</th>\n",
       "      <th>wordcount_en</th>\n",
       "      <th>slug_length</th>\n",
       "      <th>tokens</th>\n",
       "      <th>text_en</th>\n",
       "      <th>len</th>\n",
       "    </tr>\n",
       "  </thead>\n",
       "  <tbody>\n",
       "    <tr>\n",
       "      <th>64</th>\n",
       "      <td>1339</td>\n",
       "      <td>151</td>\n",
       "      <td>12009</td>\n",
       "      <td>1</td>\n",
       "      <td>2015-10-19</td>\n",
       "      <td>2004-10-04</td>\n",
       "      <td>274501</td>\n",
       "      <td>1682</td>\n",
       "      <td>2002-10-21 11:50:00-04</td>\n",
       "      <td>Government Orders</td>\n",
       "      <td>...</td>\n",
       "      <td>NaN</td>\n",
       "      <td>NaN</td>\n",
       "      <td>NaN</td>\n",
       "      <td>NaN</td>\n",
       "      <td>NaN</td>\n",
       "      <td>\\N</td>\n",
       "      <td>3</td>\n",
       "      <td>['mr.', 'speaker', ',', 'pleasure', 'rise', 't...</td>\n",
       "      <td>Mr. Speaker, it is a pleasure to rise today to...</td>\n",
       "      <td>12184</td>\n",
       "    </tr>\n",
       "    <tr>\n",
       "      <th>65</th>\n",
       "      <td>2548</td>\n",
       "      <td>151</td>\n",
       "      <td>70071</td>\n",
       "      <td>26</td>\n",
       "      <td>2004-05-23</td>\n",
       "      <td>1997-09-22</td>\n",
       "      <td>274501</td>\n",
       "      <td>1682</td>\n",
       "      <td>2002-10-21 11:50:00-04</td>\n",
       "      <td>Government Orders</td>\n",
       "      <td>...</td>\n",
       "      <td>NaN</td>\n",
       "      <td>NaN</td>\n",
       "      <td>NaN</td>\n",
       "      <td>NaN</td>\n",
       "      <td>NaN</td>\n",
       "      <td>\\N</td>\n",
       "      <td>3</td>\n",
       "      <td>['mr.', 'speaker', ',', 'pleasure', 'rise', 't...</td>\n",
       "      <td>Mr. Speaker, it is a pleasure to rise today to...</td>\n",
       "      <td>12184</td>\n",
       "    </tr>\n",
       "    <tr>\n",
       "      <th>97</th>\n",
       "      <td>1444</td>\n",
       "      <td>69</td>\n",
       "      <td>35101</td>\n",
       "      <td>2</td>\n",
       "      <td>2015-10-19</td>\n",
       "      <td>2004-10-04</td>\n",
       "      <td>318623</td>\n",
       "      <td>1642</td>\n",
       "      <td>2004-03-22 13:25:00-05</td>\n",
       "      <td>Government Orders</td>\n",
       "      <td>...</td>\n",
       "      <td>NaN</td>\n",
       "      <td>NaN</td>\n",
       "      <td>NaN</td>\n",
       "      <td>NaN</td>\n",
       "      <td>NaN</td>\n",
       "      <td>\\N</td>\n",
       "      <td>3</td>\n",
       "      <td>['getting', 'support', 'one', 'members', 'winn...</td>\n",
       "      <td>I am getting some support from one of our memb...</td>\n",
       "      <td>10084</td>\n",
       "    </tr>\n",
       "    <tr>\n",
       "      <th>98</th>\n",
       "      <td>1746</td>\n",
       "      <td>69</td>\n",
       "      <td>70107</td>\n",
       "      <td>2</td>\n",
       "      <td>2004-05-23</td>\n",
       "      <td>2001-01-29</td>\n",
       "      <td>318623</td>\n",
       "      <td>1642</td>\n",
       "      <td>2004-03-22 13:25:00-05</td>\n",
       "      <td>Government Orders</td>\n",
       "      <td>...</td>\n",
       "      <td>NaN</td>\n",
       "      <td>NaN</td>\n",
       "      <td>NaN</td>\n",
       "      <td>NaN</td>\n",
       "      <td>NaN</td>\n",
       "      <td>\\N</td>\n",
       "      <td>3</td>\n",
       "      <td>['getting', 'support', 'one', 'members', 'winn...</td>\n",
       "      <td>I am getting some support from one of our memb...</td>\n",
       "      <td>10084</td>\n",
       "    </tr>\n",
       "    <tr>\n",
       "      <th>132</th>\n",
       "      <td>1241</td>\n",
       "      <td>132</td>\n",
       "      <td>48008</td>\n",
       "      <td>1</td>\n",
       "      <td>2015-10-19</td>\n",
       "      <td>2004-10-04</td>\n",
       "      <td>342492</td>\n",
       "      <td>1521</td>\n",
       "      <td>2005-02-24 10:10:00-05</td>\n",
       "      <td>Government Orders</td>\n",
       "      <td>...</td>\n",
       "      <td>NaN</td>\n",
       "      <td>NaN</td>\n",
       "      <td>NaN</td>\n",
       "      <td>NaN</td>\n",
       "      <td>NaN</td>\n",
       "      <td>\\N</td>\n",
       "      <td>3</td>\n",
       "      <td>['mr.', 'speaker', ',', '11th', 'consecutive',...</td>\n",
       "      <td>Mr. Speaker, this is the 11th consecutive Libe...</td>\n",
       "      <td>17245</td>\n",
       "    </tr>\n",
       "  </tbody>\n",
       "</table>\n",
       "<p>5 rows × 37 columns</p>\n",
       "</div>"
      ],
      "text/plain": [
       "       id  politician_id  riding_id  party_id    end_date  start_date    id.1  \\\n",
       "64   1339            151      12009         1  2015-10-19  2004-10-04  274501   \n",
       "65   2548            151      70071        26  2004-05-23  1997-09-22  274501   \n",
       "97   1444             69      35101         2  2015-10-19  2004-10-04  318623   \n",
       "98   1746             69      70107         2  2004-05-23  2001-01-29  318623   \n",
       "132  1241            132      48008         1  2015-10-19  2004-10-04  342492   \n",
       "\n",
       "     document_id                    time              h1_en  ... h1_fr  h2_fr  \\\n",
       "64          1682  2002-10-21 11:50:00-04  Government Orders  ...   NaN    NaN   \n",
       "65          1682  2002-10-21 11:50:00-04  Government Orders  ...   NaN    NaN   \n",
       "97          1642  2004-03-22 13:25:00-05  Government Orders  ...   NaN    NaN   \n",
       "98          1642  2004-03-22 13:25:00-05  Government Orders  ...   NaN    NaN   \n",
       "132         1521  2005-02-24 10:10:00-05  Government Orders  ...   NaN    NaN   \n",
       "\n",
       "    h3_fr who_fr  who_context_fr  wordcount_en  slug_length  \\\n",
       "64    NaN    NaN             NaN            \\N            3   \n",
       "65    NaN    NaN             NaN            \\N            3   \n",
       "97    NaN    NaN             NaN            \\N            3   \n",
       "98    NaN    NaN             NaN            \\N            3   \n",
       "132   NaN    NaN             NaN            \\N            3   \n",
       "\n",
       "                                                tokens  \\\n",
       "64   ['mr.', 'speaker', ',', 'pleasure', 'rise', 't...   \n",
       "65   ['mr.', 'speaker', ',', 'pleasure', 'rise', 't...   \n",
       "97   ['getting', 'support', 'one', 'members', 'winn...   \n",
       "98   ['getting', 'support', 'one', 'members', 'winn...   \n",
       "132  ['mr.', 'speaker', ',', '11th', 'consecutive',...   \n",
       "\n",
       "                                               text_en    len  \n",
       "64   Mr. Speaker, it is a pleasure to rise today to...  12184  \n",
       "65   Mr. Speaker, it is a pleasure to rise today to...  12184  \n",
       "97   I am getting some support from one of our memb...  10084  \n",
       "98   I am getting some support from one of our memb...  10084  \n",
       "132  Mr. Speaker, this is the 11th consecutive Libe...  17245  \n",
       "\n",
       "[5 rows x 37 columns]"
      ]
     },
     "execution_count": 13,
     "metadata": {},
     "output_type": "execute_result"
    }
   ],
   "source": [
    "longdf.head()"
   ]
  },
  {
   "cell_type": "code",
   "execution_count": 15,
   "metadata": {},
   "outputs": [
    {
     "data": {
      "text/plain": [
       "\"<p>I am getting some support from one of our members from Winnipeg who remembers that situation very well, as does the whole Province of Manitoba. It is unwilling to forgive that Conservative government for doing that. There was the Oerlikon affair, just outright graft in that case.</p>\\\\n<p>Also, who can ever forget Michel Cogger and his shenanigans over an extended period within the Conservative government at that time? I have to say that there is a real level of hypocrisy in this motion from the Conservative Party when one takes that history into context.</p>\\\\n<p>I could mention others. Probably the most scandal ridden government ever in this country was the Grant Devine government in Saskatchewan. More than a dozen--I think it was 15 or 16--members of that government ultimately were convicted on criminal charges and sent to prison. The list goes on.</p>\\\\n<p>I want to say a bit more about the hypocrisy of the Conservatives in this regard. I want to challenge the new leader, the leader once again of this new party growing out of the old party. There is a real hypocrisy going on there. I want to challenge the new leader on his position because of his attack this past week on our party. He took a shot at us as being some kind of a major threat to the future of this country, but then refused to engage in a debate.</p>\\\\n<p>I think my colleague from Vancouver has pointed out that there really is a level of fear on the part of the new leader, but there is hypocrisy as well. How many times during the leadership campaign did we hear him and his supporters attack Ms. Stronach for refusing to take part in a debate? I say rightfully so, because someone who is going to be involved in the politics of this country has to be prepared to have his or her policies scrutinized and debate is one of the ways of doing that.</p>\\\\n<p>So when the leader of the official opposition, elected this past weekend, refuses to debate after attacking a leader of one of the other opposition parties, it really undermines his position. It shows the level of hypocrisy of that position and it shows a real lack of appreciation of what democracy is and should be about in this country.</p>\\\\n<p>Let me turn now to the motion as it applies to this current government. It is just a standard vote on confidence that we are seeking. As I said earlier, we are quite prepared, given the conduct of the government under both the former prime minister and the current Prime Minister, to say we do not have confidence in the government to lead this country and to provide governance to this country.</p>\\\\n<p>I should say, Mr. Speaker, that I am using the full 20 minutes. I am not dividing my time.</p>\\\\n<p>We have that dynamic going on, so let me for a moment fall into the trap that has been prepared and speak about the old Liberals, the government under the former prime minister. The sponsorship scandal we are currently confronted with and which is taking up so much of the time of the House and of this Parliament, to the detriment of other major national issues that should be addressed, is one in a series. We can talk about the gross mismanagement of HRDC or the computer scandals, which we saw first with the gun registry and the amount of money we lost on that and now with what appears to be more than just mismanagement and perhaps outright corruption around computer software and computer systems in the defence department.</p>\\\\n<p>We have, in addition to that, the scandal that is going on around the Fontaine health centre in Manitoba. As well, we have pending--we are still waiting to hear from the government on it--a scandal that is potentially about to erupt around the conflict of interest, if not outright criminality, in the environmental assessment division as it affects the work that the division is responsible for doing in the Yukon. We are still waiting for that report. We have not heard from the government. I do not know how much more it can take in the way of scandals. I assume the government is sitting on the report right now.</p>\\\\n<p>On the sponsorship scandal, clearly what has happened is that the Canadian people have said this is it. We have this other list, of which I have only mentioned a few that are around mismanagement if not outright corruption, but the sponsorship scandal was the final one for the electorate in this country.</p>\\\\n<p>Last week when the House was down I spent time canvassing some of my riding. It was interesting to hear how the government is viewed. For a number of people, but not a lot, there was very high anger and there were very harsh words. Most people said that they are over the anger now, but I come from an Irish background and it is that model of not getting angry but getting even. Certainly in my riding they are at the stage where they are going to get even. They are asking us to have that election and to get even with the government for all the corruption it has perpetrated upon the country.</p>\\\\n<p>It is interesting that we are hearing, as my colleague from the Bloc mentioned earlier, some rationalizations. We heard it in the public accounts committee from the member for Toronto—Danforth. He said it was not really that bad. He said that a good deal of the $100 million that was taken from the $250 million was in products and other things; he said that there is something there. Of course as more evidence came out, we saw how lacking in credibility that position was.</p>\\\\n<p>This past weekend we heard from the current heritage minister. What did she have to say? She said that this is a tempest in a teapot, that it is not really that important, that it is being blown out of proportion, or words to that effect. I have to ask the minister, what does it take for it to be important and significant? If this is blowing it out of proportion, how bad does the situation have to get on that side of the House before Canadians are able to say the government went too far?</p>\\\\n<p>I can tell members that at this point the Canadian public has made the decision and is saying that the government has in fact gone too far, that this incident is not being blown out of proportion.</p>\\\\n<p>I will deal with one final point, again falling into this trap that the Liberal government wants us to fall into even though I think it is at the point of not even wanting to talk about being Liberal. I will talk about the current administration. We constantly hear from any number of the cabinet members, from the Prime Minister himself, and from other members and apologists for this current administration, that they have changed. They say that this will not happen anymore.</p>\\\\n<p>In that regard, I have pulled out some of the appointments of some of the people who were involved with the Prime Minister's run for the leadership of the Liberal Party, people who have now become part of the administration in the PMO. I have a list of about 12 or 15 names here. A number of these people who are now in the PMO have ties to and were registered lobbyists. Some of them have very clear conflicts in terms of their position in advising and providing services to the Prime Minister and the PMO in general.</p>\\\\n<p>For instance, there is Bruce Young, out of British Columbia, who has been registered as a lobbyist. One of his clients before he became senior special adviser to the Prime Minister was a group of private health clinics, whose position very clearly was to undermine the existing health care system in this country and move us toward a full two tiered system. That person is now in the Prime Minister's Office advising him as a senior special adviser.</p>\\\\n<p>My background as critic is the environment and now we have the deputy chief of staff who was registered as a lobbyist before she was placed in the Prime Minister's Office after he took over. What was she a lobbyist for? She was a lobbyist for the Forest Products Association of Canada, which has a great deal of interest in how this federal government develops and delivers that policy around our forests in this country. I should point out that one of those associations--I believe this is accurate--is being sued for the ads being run across the country about the fact that the forests are actually getting larger in Canada when the reality is just the opposite: that they are shrinking at quite a rapid rate.</p>\\\\n<p>The list goes on. Of eight people who are in that office, all of them were registered lobbyists before they went in. Then there are the other people who worked directly on the leadership campaign, all of whom have close ties to or were registered lobbyists while they were working for him and are now back working full time. Of course Earnscliffe is the one that comes up all the time.</p>\\\\n<p>The point of all this is that we are faced with the situation where they are pretending that it was the other government, that they were and are not part of it. I am not sure who was there at the time, but certainly some of them were. Anyway, they want us to believe they were not part of that. That is what they want the country to believe. The country has already said it does not.</p>\\\\n<p>What I want to say for Canadians and the government as a whole is that if this is the way it developed over the first 10 years of the Liberal administration after 1993, when we look at these names and the people who are around the current Prime Minister, why would we have any expectation but that a similar set of circumstances would evolve if the government were to stay in power with these people advising the Prime Minister?</p>\\\\n<p>Let me go back to one point that I find troubling as an individual member of Parliament. Again, that is the amount of time we have been forced to spend--and I do not think we had a choice--on this scandal. We have major issues confronting us. Whether it is the environment, health, defence or education, the list goes on. Any number of public policy issues have to be addressed, but so much of our time is taken up with this scandal that the country is suffering as a result. That suffering our country is going through at this point lies directly at the feet of this government, whether it is under the current Prime Minister, the former prime minister or both.</p>\""
      ]
     },
     "execution_count": 15,
     "metadata": {},
     "output_type": "execute_result"
    }
   ],
   "source": [
    "df.iloc[97]['content_en']"
   ]
  },
  {
   "cell_type": "code",
   "execution_count": null,
   "metadata": {},
   "outputs": [],
   "source": []
  }
 ],
 "metadata": {
  "kernelspec": {
   "display_name": "Python 3",
   "language": "python",
   "name": "python3"
  },
  "language_info": {
   "codemirror_mode": {
    "name": "ipython",
    "version": 3
   },
   "file_extension": ".py",
   "mimetype": "text/x-python",
   "name": "python",
   "nbconvert_exporter": "python",
   "pygments_lexer": "ipython3",
   "version": "3.6.12"
  }
 },
 "nbformat": 4,
 "nbformat_minor": 4
}
